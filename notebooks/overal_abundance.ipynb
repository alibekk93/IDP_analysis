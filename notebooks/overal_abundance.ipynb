{
  "nbformat": 4,
  "nbformat_minor": 0,
  "metadata": {
    "colab": {
      "provenance": [],
      "authorship_tag": "ABX9TyMrnc4cXQxIS9Wt1ybk1hfI",
      "include_colab_link": true
    },
    "kernelspec": {
      "name": "python3",
      "display_name": "Python 3"
    },
    "language_info": {
      "name": "python"
    }
  },
  "cells": [
    {
      "cell_type": "markdown",
      "metadata": {
        "id": "view-in-github",
        "colab_type": "text"
      },
      "source": [
        "<a href=\"https://colab.research.google.com/github/alibekk93/IDP_analysis/blob/RAPID/notebooks/overal_abundance.ipynb\" target=\"_parent\"><img src=\"https://colab.research.google.com/assets/colab-badge.svg\" alt=\"Open In Colab\"/></a>"
      ]
    },
    {
      "cell_type": "markdown",
      "source": [
        "# Getting UniProt proteomes for Tempura species"
      ],
      "metadata": {
        "id": "gCrzBW06JRvI"
      }
    },
    {
      "cell_type": "markdown",
      "source": [
        "## Setup"
      ],
      "metadata": {
        "id": "W0xJmhROJXUu"
      }
    },
    {
      "cell_type": "code",
      "source": [
        "!pip install BIO"
      ],
      "metadata": {
        "id": "2fKRquCqCOPL",
        "outputId": "f6e5105d-0d37-4fbd-df29-21c568415d44",
        "colab": {
          "base_uri": "https://localhost:8080/"
        }
      },
      "execution_count": null,
      "outputs": [
        {
          "output_type": "stream",
          "name": "stdout",
          "text": [
            "Requirement already satisfied: BIO in /usr/local/lib/python3.10/dist-packages (1.6.0)\n",
            "Requirement already satisfied: biopython>=1.80 in /usr/local/lib/python3.10/dist-packages (from BIO) (1.81)\n",
            "Requirement already satisfied: requests in /usr/local/lib/python3.10/dist-packages (from BIO) (2.31.0)\n",
            "Requirement already satisfied: tqdm in /usr/local/lib/python3.10/dist-packages (from BIO) (4.66.1)\n",
            "Requirement already satisfied: mygene in /usr/local/lib/python3.10/dist-packages (from BIO) (3.2.2)\n",
            "Requirement already satisfied: pandas in /usr/local/lib/python3.10/dist-packages (from BIO) (1.5.3)\n",
            "Requirement already satisfied: pooch in /usr/local/lib/python3.10/dist-packages (from BIO) (1.8.0)\n",
            "Requirement already satisfied: gprofiler-official in /usr/local/lib/python3.10/dist-packages (from BIO) (1.0.0)\n",
            "Requirement already satisfied: numpy in /usr/local/lib/python3.10/dist-packages (from biopython>=1.80->BIO) (1.23.5)\n",
            "Requirement already satisfied: biothings-client>=0.2.6 in /usr/local/lib/python3.10/dist-packages (from mygene->BIO) (0.3.1)\n",
            "Requirement already satisfied: python-dateutil>=2.8.1 in /usr/local/lib/python3.10/dist-packages (from pandas->BIO) (2.8.2)\n",
            "Requirement already satisfied: pytz>=2020.1 in /usr/local/lib/python3.10/dist-packages (from pandas->BIO) (2023.3.post1)\n",
            "Requirement already satisfied: platformdirs>=2.5.0 in /usr/local/lib/python3.10/dist-packages (from pooch->BIO) (4.1.0)\n",
            "Requirement already satisfied: packaging>=20.0 in /usr/local/lib/python3.10/dist-packages (from pooch->BIO) (23.2)\n",
            "Requirement already satisfied: charset-normalizer<4,>=2 in /usr/local/lib/python3.10/dist-packages (from requests->BIO) (3.3.2)\n",
            "Requirement already satisfied: idna<4,>=2.5 in /usr/local/lib/python3.10/dist-packages (from requests->BIO) (3.6)\n",
            "Requirement already satisfied: urllib3<3,>=1.21.1 in /usr/local/lib/python3.10/dist-packages (from requests->BIO) (2.0.7)\n",
            "Requirement already satisfied: certifi>=2017.4.17 in /usr/local/lib/python3.10/dist-packages (from requests->BIO) (2023.11.17)\n",
            "Requirement already satisfied: six>=1.5 in /usr/local/lib/python3.10/dist-packages (from python-dateutil>=2.8.1->pandas->BIO) (1.16.0)\n"
          ]
        }
      ]
    },
    {
      "cell_type": "code",
      "source": [
        "!git clone -b RAPID https://github.com/alibekk93/IDP_analysis\n",
        "!cd /content/IDP_analysis"
      ],
      "metadata": {
        "colab": {
          "base_uri": "https://localhost:8080/"
        },
        "id": "-LqXxeeZXAti",
        "outputId": "c837e8c6-9cb5-4b16-ace6-7720e1bf8813"
      },
      "execution_count": null,
      "outputs": [
        {
          "output_type": "stream",
          "name": "stdout",
          "text": [
            "fatal: destination path 'IDP_analysis' already exists and is not an empty directory.\n"
          ]
        }
      ]
    },
    {
      "cell_type": "code",
      "source": [
        "from IDP_analysis.packages_import import *\n",
        "from IDP_analysis.idp_in_bacteria_functions import *"
      ],
      "metadata": {
        "id": "5AZxlNK-YbZV",
        "colab": {
          "base_uri": "https://localhost:8080/"
        },
        "outputId": "1d615d5d-5b5d-40a8-b456-509306e32fd9"
      },
      "execution_count": null,
      "outputs": [
        {
          "output_type": "stream",
          "name": "stderr",
          "text": [
            "/usr/local/lib/python3.10/dist-packages/Bio/pairwise2.py:278: BiopythonDeprecationWarning: Bio.pairwise2 has been deprecated, and we intend to remove it in a future release of Biopython. As an alternative, please consider using Bio.Align.PairwiseAligner as a replacement, and contact the Biopython developers if you still need the Bio.pairwise2 module.\n",
            "  warnings.warn(\n"
          ]
        }
      ]
    },
    {
      "cell_type": "code",
      "source": [
        "sns.set_theme(context='paper', style='white',  palette='colorblind')"
      ],
      "metadata": {
        "id": "6e9O71S8kgv0"
      },
      "execution_count": null,
      "outputs": []
    },
    {
      "cell_type": "markdown",
      "source": [
        "Loading Tempura dataset"
      ],
      "metadata": {
        "id": "OrTQK2xtJqDQ"
      }
    },
    {
      "cell_type": "code",
      "source": [
        "# tempura = pd.read_csv('/content/IDP_analysis/datafiles/tempura/200617_TEMPURA.csv', index_col=0)\n",
        "# tempura = pd.read_csv('/content/IDP_analysis/datafiles/tempura/tempura_bacteria_uniprot.csv', index_col=0)\n",
        "tempura = pd.read_csv('/content/IDP_analysis/datafiles/tempura/tempura_filtered.csv', index_col=0)"
      ],
      "metadata": {
        "id": "HBbhsf-WxBFD"
      },
      "execution_count": null,
      "outputs": []
    },
    {
      "cell_type": "markdown",
      "source": [
        "Only keeping bacteria with available assembly or accession numbers"
      ],
      "metadata": {
        "id": "f74pkmUeJfVT"
      }
    },
    {
      "cell_type": "code",
      "source": [
        "# tempura = tempura[tempura['superkingdom']=='Bacteria']\n",
        "# tempura.dropna(subset='assembly_or_accession', inplace=True)\n",
        "# tempura.reset_index(drop=True, inplace=True)"
      ],
      "metadata": {
        "id": "Z8qouNgexBbA"
      },
      "execution_count": null,
      "outputs": []
    },
    {
      "cell_type": "markdown",
      "source": [
        "Classifying bacteria into groups:\n",
        "1. Psychrophile: OGT <= 20\n",
        "2. Mesophile: 20 < OGT <= 40\n",
        "2. Thermophile: 40 < OGT\n",
        "\n",
        "While this may be quite liberal, some \"psychrohiles\" with OGT = 20 have *antarctica* in their species name, so it should be fair enough"
      ],
      "metadata": {
        "id": "-VBPFVr-NIO9"
      }
    },
    {
      "cell_type": "code",
      "source": [
        "tempura['group'] = pd.cut(tempura['Topt_ave'], bins=[-float('inf'), 20, 40, float('inf')],\n",
        "                          labels=['psychrophilic', 'mesophilic', 'thermophilic'])"
      ],
      "metadata": {
        "id": "BtsjnG03fjjE"
      },
      "execution_count": null,
      "outputs": []
    },
    {
      "cell_type": "markdown",
      "source": [
        "Loading all_proteins"
      ],
      "metadata": {
        "id": "GWPvkryzFMaN"
      }
    },
    {
      "cell_type": "code",
      "source": [
        "# all_proteins = pd.read_csv('/content/all_proteins.csv', index_col=0)\n",
        "# all_proteins_filtered = pd.read_csv('/content/all_proteins_filtered.csv', index_col=0)\n",
        "all_proteins_rapid = pd.read_csv('/content/all_proteins_rapid.csv', index_col=0)"
      ],
      "metadata": {
        "id": "-i89P51dFOnU"
      },
      "execution_count": null,
      "outputs": []
    },
    {
      "cell_type": "markdown",
      "source": [
        "Merging all_proteins with temura"
      ],
      "metadata": {
        "id": "wA9HaDCVArUJ"
      }
    },
    {
      "cell_type": "code",
      "source": [
        "all_protein_tempura = all_proteins_rapid.merge(tempura, left_on='Species', right_on='genus_and_species')"
      ],
      "metadata": {
        "id": "a-NdcizdAuZR"
      },
      "execution_count": null,
      "outputs": []
    },
    {
      "cell_type": "markdown",
      "source": [
        "Loading RAPID_disorder values"
      ],
      "metadata": {
        "id": "1ycexCSdJGh8"
      }
    },
    {
      "cell_type": "code",
      "source": [
        "# rapid_disorder_values = pd.read_csv('/content/IDP_analysis/datafiles/RAPID/RAPID_disorder_values.csv', index_col=0)"
      ],
      "metadata": {
        "id": "9BGAYQdRJLEA"
      },
      "execution_count": null,
      "outputs": []
    },
    {
      "cell_type": "markdown",
      "source": [
        "## Combining partial RAPID results and loading into all_proteins"
      ],
      "metadata": {
        "id": "n5YcoFWRFb7l"
      }
    },
    {
      "cell_type": "code",
      "source": [
        "rapid_disorder_values = pd.DataFrame(columns = ['Prot. ID', 'Disorder Content %'])"
      ],
      "metadata": {
        "id": "vZ9qVCZTGV1B"
      },
      "execution_count": null,
      "outputs": []
    },
    {
      "cell_type": "code",
      "source": [
        "# set number of csv files with partial RAPID calculation results\n",
        "n = 17\n",
        "# iterate through each file and concatenate to all_proteins_filtered\n",
        "for i in tqdm(range(n)):\n",
        "  # make filename with addition of '0' if 1-9\n",
        "  if i+1 < 10:\n",
        "    filename = f'0{i+1}.csv'\n",
        "  else:\n",
        "    filename = f'{i+1}.csv'\n",
        "  # read csv with RAPID result\n",
        "  rapid_result = pd.read_csv(filename)\n",
        "  rapid_result = rapid_result[['Prot. ID', 'Disorder Content %']]\n",
        "  # append RAPID disorder prediciton to overall dataframe\n",
        "  rapid_disorder_values = pd.concat([rapid_disorder_values, rapid_result], axis=0)"
      ],
      "metadata": {
        "id": "JTisiPs8FhoP"
      },
      "execution_count": null,
      "outputs": []
    },
    {
      "cell_type": "code",
      "source": [
        "# rapid_disorder_values.to_csv('RAPID_disorder_values.csv')"
      ],
      "metadata": {
        "id": "CXn9ZJbgNZmt"
      },
      "execution_count": null,
      "outputs": []
    },
    {
      "cell_type": "markdown",
      "source": [
        "Appending RAPID disorder values to all_proteins_filtered"
      ],
      "metadata": {
        "id": "NdrwY57XIv8T"
      }
    },
    {
      "cell_type": "code",
      "source": [
        "# all_proteins_rapid = all_proteins_filtered.join(rapid_disorder_values.set_index('Prot. ID'),\n",
        "#                                                    on='ID', how='inner')"
      ],
      "metadata": {
        "id": "OI_ZUj2EI-pN"
      },
      "execution_count": null,
      "outputs": []
    },
    {
      "cell_type": "code",
      "source": [
        "all_proteins_rapid['RAPID_disorder'] = all_proteins_rapid['Disorder Content %'] / 100\n",
        "all_proteins_rapid.drop('Disorder Content %', axis=1, inplace=True)"
      ],
      "metadata": {
        "id": "dqhlrXOWI-mj"
      },
      "execution_count": null,
      "outputs": []
    },
    {
      "cell_type": "code",
      "source": [
        "# all_proteins_rapid.to_csv('all_proteins_rapid.csv')"
      ],
      "metadata": {
        "id": "MKSh5wftI-kX"
      },
      "execution_count": null,
      "outputs": []
    },
    {
      "cell_type": "markdown",
      "source": [
        "## FCR / NCPR filtering"
      ],
      "metadata": {
        "id": "EBvQOtBDczJx"
      }
    },
    {
      "cell_type": "code",
      "source": [
        "def compute_fcr(row):\n",
        "    aa_seq = row['Sequence']\n",
        "    n = len(aa_seq)\n",
        "    f_plus = sum(aa_seq.count(char) for char in ['R', 'K', 'H']) / n # Histidine?\n",
        "    f_minus = sum(aa_seq.count(char) for char in ['D', 'E']) / n\n",
        "    ncpr = abs(f_plus - f_minus)\n",
        "    fcr = (f_plus + f_minus)\n",
        "    return pd.Series([f_plus, f_minus, ncpr, fcr])"
      ],
      "metadata": {
        "id": "KT-Rk5iFc9lc"
      },
      "execution_count": null,
      "outputs": []
    },
    {
      "cell_type": "code",
      "source": [
        "all_proteins_types = all_proteins_rapid.copy()"
      ],
      "metadata": {
        "id": "KAl2m-p3955i"
      },
      "execution_count": null,
      "outputs": []
    },
    {
      "cell_type": "code",
      "source": [
        "all_proteins_types[['f_plus', 'f_minus', 'ncpr', 'fcr']] = all_proteins_types.apply(compute_fcr, axis=1)"
      ],
      "metadata": {
        "id": "MeS5Mzwnc-MU"
      },
      "execution_count": null,
      "outputs": []
    },
    {
      "cell_type": "code",
      "source": [
        "all_proteins_types['idp_type'] = None"
      ],
      "metadata": {
        "id": "A-wTIUGxc-KI"
      },
      "execution_count": null,
      "outputs": []
    },
    {
      "cell_type": "code",
      "source": [
        "all_proteins_types.loc[(all_proteins_types['fcr'] < 0.25) & (all_proteins_types['ncpr'] < 0.25), 'idp_type'] = 1\n",
        "all_proteins_types.loc[(all_proteins_types['fcr'] >= 0.25) & (all_proteins_types['fcr'] <= 0.35) &\\\n",
        "                      (all_proteins_types['ncpr'] <= 0.35), 'idp_type'] = 2\n",
        "all_proteins_types.loc[(all_proteins_types['fcr'] > 0.35) & (all_proteins_types['ncpr'] <= 0.35), 'idp_type'] = 3\n",
        "all_proteins_types.loc[(all_proteins_types['fcr'] > 0.35) & (all_proteins_types['ncpr'] > 0.35) &\\\n",
        "                      (all_proteins_types['f_minus'] > 0.35), 'idp_type'] = 4\n",
        "all_proteins_types.loc[(all_proteins_types['fcr'] > 0.35) & (all_proteins_types['ncpr'] > 0.35) &\\\n",
        "                      (all_proteins_types['f_plus'] > 0.35), 'idp_type'] = 5"
      ],
      "metadata": {
        "id": "hEiR5YUac-H3"
      },
      "execution_count": null,
      "outputs": []
    },
    {
      "cell_type": "markdown",
      "source": [
        "Filter out \"candidate IDP\" proteins - these are either:\n",
        "1. IDP type 3, 4 or 5\n",
        "2. RAPID_disorder >= 0.5\n",
        "3. Have at least 100 disordered residues as predicted by RAPID\n",
        "\n",
        "The last point is to include longer proteins that just have a section of IDR. RAPID does not provide disorder at residue level, so it's as good as we can get to having a filter for 30 consecutive disordered residues"
      ],
      "metadata": {
        "id": "2CJ31dekdiUq"
      }
    },
    {
      "cell_type": "code",
      "source": [
        "candidate_filter = (all_proteins_types['idp_type'] > 2) | \\\n",
        "                    (all_proteins_types['RAPID_disorder'] >= 0.5) | \\\n",
        "                    (all_proteins_types['RAPID_disorder'] * all_proteins_types['Length'] >= 100)\n",
        "all_proteins_types['candidate_idp'] = candidate_filter"
      ],
      "metadata": {
        "id": "fGuAptcxc-Ds"
      },
      "execution_count": null,
      "outputs": []
    },
    {
      "cell_type": "code",
      "source": [
        "# fig, ax = plt.subplots(figsize=(8,8))\n",
        "\n",
        "# sns.scatterplot(data=all_proteins_types, x='f_plus', y='f_minus',\n",
        "#                 hue='idp_type')\n",
        "\n",
        "# ax.set_xlim(0, 0.75)\n",
        "# ax.set_ylim(0, 0.75)\n",
        "\n",
        "# fig.show()"
      ],
      "metadata": {
        "id": "mTNBjYojj6xD"
      },
      "execution_count": null,
      "outputs": []
    },
    {
      "cell_type": "code",
      "source": [
        "# fig.savefig('IDP_types.svg')"
      ],
      "metadata": {
        "id": "1CBAs4TjJ10y"
      },
      "execution_count": null,
      "outputs": []
    },
    {
      "cell_type": "code",
      "source": [
        "all_proteins_types.to_csv('all_proteins_types.csv')"
      ],
      "metadata": {
        "id": "FlVmnRyD9eTO"
      },
      "execution_count": null,
      "outputs": []
    }
  ]
}