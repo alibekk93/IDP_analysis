{
  "nbformat": 4,
  "nbformat_minor": 0,
  "metadata": {
    "colab": {
      "provenance": [],
      "authorship_tag": "ABX9TyOPimr+WhdWMq8zUZBNJbbf",
      "include_colab_link": true
    },
    "kernelspec": {
      "name": "python3",
      "display_name": "Python 3"
    },
    "language_info": {
      "name": "python"
    }
  },
  "cells": [
    {
      "cell_type": "markdown",
      "metadata": {
        "id": "view-in-github",
        "colab_type": "text"
      },
      "source": [
        "<a href=\"https://colab.research.google.com/github/alibekk93/IDP_analysis/blob/RAPID/getting_proteomes.ipynb\" target=\"_parent\"><img src=\"https://colab.research.google.com/assets/colab-badge.svg\" alt=\"Open In Colab\"/></a>"
      ]
    },
    {
      "cell_type": "markdown",
      "source": [
        "# Getting UniProt proteomes for Tempura species"
      ],
      "metadata": {
        "id": "gCrzBW06JRvI"
      }
    },
    {
      "cell_type": "markdown",
      "source": [
        "## Setup"
      ],
      "metadata": {
        "id": "W0xJmhROJXUu"
      }
    },
    {
      "cell_type": "code",
      "execution_count": 8,
      "metadata": {
        "id": "qwA-LYi0wMXn"
      },
      "outputs": [],
      "source": [
        "import pandas as pd\n",
        "import numpy as np\n",
        "\n",
        "from tqdm import tqdm\n",
        "\n",
        "import matplotlib.pyplot as plt\n",
        "import seaborn as sns"
      ]
    },
    {
      "cell_type": "code",
      "source": [
        "### Read fasta ###\n",
        "\n",
        "def read_fasta(fasta_file: str) -> pd.DataFrame:\n",
        "  \"\"\"Processes raw .fasta files\n",
        "\n",
        "  Opens a .fasta file, parses the sequences and their IDs into a\n",
        "  dataframe and returns the dataframe.\n",
        "\n",
        "  Parameters\n",
        "  ----------\n",
        "  fasta_file : str\n",
        "    the raw .fasta file directory.\n",
        "\n",
        "  Returns\n",
        "  -------\n",
        "  pd.DataFrame\n",
        "    a dataframe with ID, Sequence and Length columns.\n",
        "\n",
        "  \"\"\"\n",
        "\n",
        "  # open the file\n",
        "  handle = open(fasta_file, 'r')\n",
        "  seq_list = list(SeqIO.parse(handle, 'fasta'))\n",
        "  handle.close()\n",
        "\n",
        "  # parse data into lists\n",
        "  ids = [seq_record.id.split('|')[1] for seq_record in seq_list]\n",
        "  seqs = [str(seq_record.seq) for seq_record in seq_list]\n",
        "  lens = [len(seq) for seq in seqs]\n",
        "\n",
        "  # save data into a dataframe\n",
        "  df = pd.DataFrame({'ID':ids, 'Sequence':seqs, 'Length':lens})\n",
        "\n",
        "  return df"
      ],
      "metadata": {
        "id": "M5CWrRK1yd2b"
      },
      "execution_count": 2,
      "outputs": []
    },
    {
      "cell_type": "markdown",
      "source": [
        "Loading Tempura dataset"
      ],
      "metadata": {
        "id": "OrTQK2xtJqDQ"
      }
    },
    {
      "cell_type": "code",
      "source": [
        "# tempura = pd.read_csv('/content/200617_TEMPURA.csv')\n",
        "# tempura = pd.read_csv('/content/tempura_bacteria_uniprot.csv', index_col=0)\n",
        "tempura = pd.read_csv('/content/tempura_filtered.csv', index_col=0)"
      ],
      "metadata": {
        "id": "HBbhsf-WxBFD"
      },
      "execution_count": 3,
      "outputs": []
    },
    {
      "cell_type": "markdown",
      "source": [
        "Only keeping bacteria with available assembly or accession numbers"
      ],
      "metadata": {
        "id": "f74pkmUeJfVT"
      }
    },
    {
      "cell_type": "code",
      "source": [
        "# tempura = tempura[tempura['superkingdom']=='Bacteria']\n",
        "# tempura.dropna(subset='assembly_or_accession', inplace=True)\n",
        "# tempura.reset_index(drop=True, inplace=True)"
      ],
      "metadata": {
        "id": "Z8qouNgexBbA"
      },
      "execution_count": 4,
      "outputs": []
    },
    {
      "cell_type": "markdown",
      "source": [
        "Loading all_proteins"
      ],
      "metadata": {
        "id": "GWPvkryzFMaN"
      }
    },
    {
      "cell_type": "code",
      "source": [
        "# all_proteins = pd.read_csv('/content/all_proteins.csv', index_col=0)\n",
        "# all_proteins_filtered = pd.read_csv('/content/all_proteins_filtered.csv', index_col=0)\n",
        "all_proteins_rapid = pd.read_csv('/content/all_proteins_rapid.csv', index_col=0)"
      ],
      "metadata": {
        "id": "-i89P51dFOnU"
      },
      "execution_count": 5,
      "outputs": []
    },
    {
      "cell_type": "markdown",
      "source": [
        "Loading RAPID_disorder values"
      ],
      "metadata": {
        "id": "1ycexCSdJGh8"
      }
    },
    {
      "cell_type": "code",
      "source": [
        "# rapid_disorder_values = pd.read_csv('RAPID_disorder_values.csv', index_col=0)"
      ],
      "metadata": {
        "id": "9BGAYQdRJLEA"
      },
      "execution_count": null,
      "outputs": []
    },
    {
      "cell_type": "markdown",
      "source": [
        "## Getting UniProt IDs"
      ],
      "metadata": {
        "id": "RhKK8S_2JazH"
      }
    },
    {
      "cell_type": "markdown",
      "source": [
        "Tepura has NCBI taxonomy IDs, but we need UniProt proteome IDs. We can get them using UniProt REST API search"
      ],
      "metadata": {
        "id": "eRusyqinJwYo"
      }
    },
    {
      "cell_type": "code",
      "source": [
        "uniprot_jsons = []\n",
        "failures = []\n",
        "\n",
        "# loop through the taxonomy IDs and retrieve proteome data\n",
        "for tax_id in tqdm(tempura['taxonomy_id']):\n",
        "  # define the UniProt API URL\n",
        "  url = f'https://rest.uniprot.org/proteomes/stream?format=json&query=%28%28taxonomy_id%3A{tax_id}%29%29'\n",
        "  # send an HTTP GET request to the UniProt API\n",
        "  response = requests.get(url)\n",
        "  # Check if the request was successful\n",
        "  if response.status_code == 200:\n",
        "    # save JSON\n",
        "    uniprot_jsons.append(response.json())\n",
        "  else:\n",
        "    failures.append(tax_id)\n",
        "    uniprot_jsons.append({})"
      ],
      "metadata": {
        "colab": {
          "base_uri": "https://localhost:8080/"
        },
        "id": "YUv2C0fB74hi",
        "outputId": "cde8bcff-694e-43c4-f4ea-859c06e2b47a"
      },
      "execution_count": null,
      "outputs": [
        {
          "output_type": "stream",
          "name": "stderr",
          "text": [
            "100%|██████████| 893/893 [08:24<00:00,  1.77it/s]\n"
          ]
        }
      ]
    },
    {
      "cell_type": "markdown",
      "source": [
        "In many cases we get mre than one search result for one taxonomy ID. We need to check each search result and only keep the UniProt ID that has the same taxonomy ID as Tempura"
      ],
      "metadata": {
        "id": "Mhqi7sv7KBIH"
      }
    },
    {
      "cell_type": "code",
      "source": [
        "# initiate empty list to save UniProt IDs\n",
        "uniprot_ids = []\n",
        "\n",
        "# iterate through JSON results\n",
        "for i, jsn in enumerate(uniprot_jsons):\n",
        "  # get results\n",
        "  results = jsn['results']\n",
        "  # get candidate UniProt IDs and corresponding taxonomy IDs\n",
        "  u_ids = [r['id'] for r in results]\n",
        "  t_ids = [r['taxonomy']['taxonId'] for r in results]\n",
        "  # make a dictionary of candidate IDs\n",
        "  results_dict = {k:v for k, v in zip(t_ids, u_ids)}\n",
        "  # get actual taxonomy ID\n",
        "  taxonomy_id = tempura.loc[i, 'taxonomy_id']\n",
        "  # save correct UniProt ID\n",
        "  try:\n",
        "    uniprot_ids.append(results_dict[taxonomy_id])\n",
        "  except:\n",
        "    # no correct ID found\n",
        "    uniprot_ids.append(None)"
      ],
      "metadata": {
        "id": "IfXFBMziEcq3"
      },
      "execution_count": null,
      "outputs": []
    },
    {
      "cell_type": "markdown",
      "source": [
        "We can now drop any Tempura rows with no available UniProt IDs and store the result"
      ],
      "metadata": {
        "id": "1nRNvH05KPdn"
      }
    },
    {
      "cell_type": "code",
      "source": [
        "tempura['uniprot_id'] = uniprot_ids"
      ],
      "metadata": {
        "id": "Ee6rRDqIGjXL"
      },
      "execution_count": null,
      "outputs": []
    },
    {
      "cell_type": "code",
      "source": [
        "tempura.dropna(subset='uniprot_id', inplace=True)"
      ],
      "metadata": {
        "id": "ISs1RefSGjUd"
      },
      "execution_count": null,
      "outputs": []
    },
    {
      "cell_type": "code",
      "source": [
        "tempura.reset_index(drop=True, inplace=True)"
      ],
      "metadata": {
        "id": "TC3ydi-fIc3I"
      },
      "execution_count": null,
      "outputs": []
    },
    {
      "cell_type": "code",
      "source": [
        "tempura.to_csv('tempura_bacteria_uniprot.csv')"
      ],
      "metadata": {
        "id": "R009ua3BIc09"
      },
      "execution_count": null,
      "outputs": []
    },
    {
      "cell_type": "markdown",
      "source": [
        "## Downloading UniProt proteomes"
      ],
      "metadata": {
        "id": "F2yc99UUKY7y"
      }
    },
    {
      "cell_type": "code",
      "source": [
        "!mkdir proteomes"
      ],
      "metadata": {
        "id": "4THt0_CpLwBW"
      },
      "execution_count": null,
      "outputs": []
    },
    {
      "cell_type": "code",
      "source": [
        "tempura.info()"
      ],
      "metadata": {
        "colab": {
          "base_uri": "https://localhost:8080/"
        },
        "id": "sVyK87LaIcy4",
        "outputId": "927f0ac4-9441-4025-e360-53546f963949"
      },
      "execution_count": null,
      "outputs": [
        {
          "output_type": "stream",
          "name": "stdout",
          "text": [
            "<class 'pandas.core.frame.DataFrame'>\n",
            "RangeIndex: 680 entries, 0 to 679\n",
            "Data columns (total 21 columns):\n",
            " #   Column                 Non-Null Count  Dtype  \n",
            "---  ------                 --------------  -----  \n",
            " 0   genus_and_species      680 non-null    object \n",
            " 1   taxonomy_id            680 non-null    int64  \n",
            " 2   strain                 680 non-null    object \n",
            " 3   superkingdom           680 non-null    object \n",
            " 4   phylum                 680 non-null    object \n",
            " 5   class                  678 non-null    object \n",
            " 6   order                  673 non-null    object \n",
            " 7   family                 662 non-null    object \n",
            " 8   genus                  675 non-null    object \n",
            " 9   assembly_or_accession  680 non-null    object \n",
            " 10  Genome_GC              651 non-null    float64\n",
            " 11  Genome_size            680 non-null    float64\n",
            " 12  16S_accssion           680 non-null    object \n",
            " 13  16S_GC                 680 non-null    float64\n",
            " 14  Tmin                   680 non-null    float64\n",
            " 15  Topt_ave               680 non-null    float64\n",
            " 16  Topt_low               258 non-null    float64\n",
            " 17  Topt_high              258 non-null    float64\n",
            " 18  Tmax                   680 non-null    float64\n",
            " 19  Tmax_Tmin              680 non-null    float64\n",
            " 20  uniprot_id             680 non-null    object \n",
            "dtypes: float64(9), int64(1), object(11)\n",
            "memory usage: 111.7+ KB\n"
          ]
        }
      ]
    },
    {
      "cell_type": "code",
      "source": [
        "failures = []\n",
        "\n",
        "for i in tqdm(tempura.index):\n",
        "  # make file path and get UniProt ID\n",
        "  species = tempura.loc[i, 'genus_and_species'].replace(' ', '_')\n",
        "  fasta_file_path = f'/content/proteomes/{species}.fasta'\n",
        "  id = tempura.loc[i, 'uniprot_id']\n",
        "  # define the UniProt API URL to retrieve FASTA data\n",
        "  url = f'https://rest.uniprot.org/uniprotkb/stream?format=fasta&query=%28%28proteome%3A{id}%29%29'\n",
        "  # send an HTTP GET request to the UniProt API to get FASTA data\n",
        "  response = requests.get(url)\n",
        "  # check if the request was successful\n",
        "  if response.status_code == 200:\n",
        "    # save the FASTA data to a file\n",
        "    with open(fasta_file_path, 'w') as fasta_file:\n",
        "      fasta_file.write(response.text)\n",
        "  else:\n",
        "    failures.append(id)"
      ],
      "metadata": {
        "colab": {
          "base_uri": "https://localhost:8080/"
        },
        "id": "wLhoQR5MLTNR",
        "outputId": "b22356ae-b178-4e8f-ab71-d258be86fd61"
      },
      "execution_count": null,
      "outputs": [
        {
          "output_type": "stream",
          "name": "stderr",
          "text": [
            "100%|██████████| 680/680 [56:33<00:00,  4.99s/it]\n"
          ]
        }
      ]
    },
    {
      "cell_type": "code",
      "source": [
        "failures"
      ],
      "metadata": {
        "colab": {
          "base_uri": "https://localhost:8080/"
        },
        "id": "RTXxlgftLTJ5",
        "outputId": "92cda7ed-462b-4960-97fe-e42aff9bc618"
      },
      "execution_count": null,
      "outputs": [
        {
          "output_type": "execute_result",
          "data": {
            "text/plain": [
              "[]"
            ]
          },
          "metadata": {},
          "execution_count": 166
        }
      ]
    },
    {
      "cell_type": "code",
      "source": [
        "!zip -r /content/proteomes.zip /content/proteomes -i '*.fasta'\n",
        "from google.colab import files\n",
        "files.download('/content/proteomes.zip')"
      ],
      "metadata": {
        "id": "2d0ec6lWzU5P"
      },
      "execution_count": null,
      "outputs": []
    },
    {
      "cell_type": "markdown",
      "source": [
        "## Creating a DataFrame with all sequences"
      ],
      "metadata": {
        "id": "y1SgrhJ7y4Vy"
      }
    },
    {
      "cell_type": "code",
      "source": [
        "all_proteins = pd.DataFrame(columns=['ID', 'Sequence', 'Length', 'Species'])"
      ],
      "metadata": {
        "id": "24wNr5uoy_GV"
      },
      "execution_count": null,
      "outputs": []
    },
    {
      "cell_type": "code",
      "source": [
        "for species in tqdm(tempura['genus_and_species']):\n",
        "  filename = species.replace(' ', '_') + '.fasta'\n",
        "  df = read_fasta(f'/content/proteomes/{filename}')\n",
        "  df['Species'] = species\n",
        "  all_proteins = pd.concat([all_proteins, df], ignore_index=True)"
      ],
      "metadata": {
        "colab": {
          "base_uri": "https://localhost:8080/"
        },
        "id": "aNo-CGEpwClO",
        "outputId": "752799ed-3ccc-4545-fcb4-4295e82f0182"
      },
      "execution_count": null,
      "outputs": [
        {
          "output_type": "stream",
          "name": "stderr",
          "text": [
            "100%|██████████| 680/680 [01:02<00:00, 10.87it/s]\n"
          ]
        }
      ]
    },
    {
      "cell_type": "code",
      "source": [
        "all_proteins.to_csv('all_proteins.csv')"
      ],
      "metadata": {
        "id": "av-YifuThIyl"
      },
      "execution_count": null,
      "outputs": []
    },
    {
      "cell_type": "markdown",
      "source": [
        "Filtering to only keep species with at least 1000 proteins"
      ],
      "metadata": {
        "id": "-TYts9fc1MlG"
      }
    },
    {
      "cell_type": "code",
      "source": [
        "# group the DataFrame by the 'species' column and count the number of records for each species\n",
        "species_counts = all_proteins['Species'].value_counts()\n",
        "# filter the species with more than 1000 records\n",
        "selected_species = species_counts[species_counts >= 1000].index\n",
        "# create a new DataFrame that only includes the selected species\n",
        "all_proteins_filtered = all_proteins[all_proteins['Species'].isin(selected_species)].reset_index(drop=True)"
      ],
      "metadata": {
        "id": "fJr_obyrhIwA"
      },
      "execution_count": null,
      "outputs": []
    },
    {
      "cell_type": "markdown",
      "source": [
        "Remove species that don't have 1000 records from Tempura"
      ],
      "metadata": {
        "id": "l-z2s0h38P95"
      }
    },
    {
      "cell_type": "code",
      "source": [
        "tempura = tempura[tempura['genus_and_species'].isin(selected_species)].reset_index(drop=True)"
      ],
      "metadata": {
        "id": "Isi8KdohhItV"
      },
      "execution_count": null,
      "outputs": []
    },
    {
      "cell_type": "code",
      "source": [
        "tempura.to_csv('tempura_filtered.csv')"
      ],
      "metadata": {
        "id": "yB_1pNdrGjSN"
      },
      "execution_count": null,
      "outputs": []
    },
    {
      "cell_type": "markdown",
      "source": [
        "Saving combined FASTA files for disorder calculations"
      ],
      "metadata": {
        "id": "qqW8x4sh82ZL"
      }
    },
    {
      "cell_type": "code",
      "source": [
        "!mkdir /content/combined_fastas"
      ],
      "metadata": {
        "id": "XOinz6NpNVU6"
      },
      "execution_count": null,
      "outputs": []
    },
    {
      "cell_type": "code",
      "source": [
        "# define the maximum sequences per file\n",
        "max_sequences_per_file = 75000\n",
        "\n",
        "# split the DataFrame into chunks of max_sequences_per_file and save as FASTA files\n",
        "for i, chunk in enumerate(range(0, len(all_proteins_filtered), max_sequences_per_file)):\n",
        "  chunk_df = all_proteins_filtered.iloc[chunk:chunk + max_sequences_per_file]\n",
        "  # create a FASTA file for the chunk\n",
        "  fasta_file_path = f'/content/combined_fastas/output_{i+1}.fasta'\n",
        "  with open(fasta_file_path, 'w') as fasta_file:\n",
        "    for _, row in chunk_df.iterrows():\n",
        "      id = row['ID']\n",
        "      seq = row['Sequence']\n",
        "      fasta_file.write(f'>{id}\\n{seq}\\n')"
      ],
      "metadata": {
        "id": "Zgr25_d38xA5"
      },
      "execution_count": null,
      "outputs": []
    },
    {
      "cell_type": "code",
      "source": [
        "!zip -r /content/combined_fastas.zip /content/combined_fastas -i '*.fasta'\n",
        "from google.colab import files\n",
        "files.download('/content/combined_fastas.zip')"
      ],
      "metadata": {
        "colab": {
          "base_uri": "https://localhost:8080/",
          "height": 312
        },
        "id": "xhAyELGINZpB",
        "outputId": "7104042e-0649-4dd1-dae1-0de17f4f8197"
      },
      "execution_count": null,
      "outputs": [
        {
          "output_type": "stream",
          "name": "stdout",
          "text": [
            "  adding: content/combined_fastas/output_9.fasta (deflated 43%)\n",
            "  adding: content/combined_fastas/output_12.fasta (deflated 43%)\n",
            "  adding: content/combined_fastas/output_10.fasta (deflated 43%)\n",
            "  adding: content/combined_fastas/output_4.fasta (deflated 43%)\n",
            "  adding: content/combined_fastas/output_2.fasta (deflated 43%)\n",
            "  adding: content/combined_fastas/output_5.fasta (deflated 43%)\n",
            "  adding: content/combined_fastas/output_3.fasta (deflated 43%)\n",
            "  adding: content/combined_fastas/output_8.fasta (deflated 43%)\n",
            "  adding: content/combined_fastas/output_1.fasta (deflated 43%)\n",
            "  adding: content/combined_fastas/output_6.fasta (deflated 43%)\n",
            "  adding: content/combined_fastas/output_16.fasta (deflated 43%)\n",
            "  adding: content/combined_fastas/output_7.fasta (deflated 43%)\n",
            "  adding: content/combined_fastas/output_13.fasta (deflated 43%)\n",
            "  adding: content/combined_fastas/output_17.fasta (deflated 43%)\n",
            "  adding: content/combined_fastas/output_11.fasta (deflated 43%)\n",
            "  adding: content/combined_fastas/output_15.fasta (deflated 43%)\n",
            "  adding: content/combined_fastas/output_14.fasta (deflated 43%)\n"
          ]
        },
        {
          "output_type": "display_data",
          "data": {
            "text/plain": [
              "<IPython.core.display.Javascript object>"
            ],
            "application/javascript": [
              "\n",
              "    async function download(id, filename, size) {\n",
              "      if (!google.colab.kernel.accessAllowed) {\n",
              "        return;\n",
              "      }\n",
              "      const div = document.createElement('div');\n",
              "      const label = document.createElement('label');\n",
              "      label.textContent = `Downloading \"${filename}\": `;\n",
              "      div.appendChild(label);\n",
              "      const progress = document.createElement('progress');\n",
              "      progress.max = size;\n",
              "      div.appendChild(progress);\n",
              "      document.body.appendChild(div);\n",
              "\n",
              "      const buffers = [];\n",
              "      let downloaded = 0;\n",
              "\n",
              "      const channel = await google.colab.kernel.comms.open(id);\n",
              "      // Send a message to notify the kernel that we're ready.\n",
              "      channel.send({})\n",
              "\n",
              "      for await (const message of channel.messages) {\n",
              "        // Send a message to notify the kernel that we're ready.\n",
              "        channel.send({})\n",
              "        if (message.buffers) {\n",
              "          for (const buffer of message.buffers) {\n",
              "            buffers.push(buffer);\n",
              "            downloaded += buffer.byteLength;\n",
              "            progress.value = downloaded;\n",
              "          }\n",
              "        }\n",
              "      }\n",
              "      const blob = new Blob(buffers, {type: 'application/binary'});\n",
              "      const a = document.createElement('a');\n",
              "      a.href = window.URL.createObjectURL(blob);\n",
              "      a.download = filename;\n",
              "      div.appendChild(a);\n",
              "      a.click();\n",
              "      div.remove();\n",
              "    }\n",
              "  "
            ]
          },
          "metadata": {}
        },
        {
          "output_type": "display_data",
          "data": {
            "text/plain": [
              "<IPython.core.display.Javascript object>"
            ],
            "application/javascript": [
              "download(\"download_552fd38d-0acf-4559-bb62-d3173f316719\", \"combined_fastas.zip\", 232911944)"
            ]
          },
          "metadata": {}
        }
      ]
    },
    {
      "cell_type": "markdown",
      "source": [
        "## Combining partial RAPID results and loading into all_proteins"
      ],
      "metadata": {
        "id": "n5YcoFWRFb7l"
      }
    },
    {
      "cell_type": "code",
      "source": [
        "rapid_disorder_values = pd.DataFrame(columns = ['Prot. ID', 'Disorder Content %'])"
      ],
      "metadata": {
        "id": "vZ9qVCZTGV1B"
      },
      "execution_count": null,
      "outputs": []
    },
    {
      "cell_type": "code",
      "source": [
        "# set number of csv files with partial RAPID calculation results\n",
        "n = 17\n",
        "# iterate through each file and concatenate to all_proteins_filtered\n",
        "for i in tqdm(range(n)):\n",
        "  # make filename with addition of '0' if 1-9\n",
        "  if i+1 < 10:\n",
        "    filename = f'0{i+1}.csv'\n",
        "  else:\n",
        "    filename = f'{i+1}.csv'\n",
        "  # read csv with RAPID result\n",
        "  rapid_result = pd.read_csv(filename)\n",
        "  rapid_result = rapid_result[['Prot. ID', 'Disorder Content %']]\n",
        "  # append RAPID disorder prediciton to overall dataframe\n",
        "  rapid_disorder_values = pd.concat([rapid_disorder_values, rapid_result], axis=0)"
      ],
      "metadata": {
        "id": "JTisiPs8FhoP",
        "outputId": "cf58a201-1e81-4dfc-f944-c826fe996317",
        "colab": {
          "base_uri": "https://localhost:8080/"
        }
      },
      "execution_count": null,
      "outputs": [
        {
          "output_type": "stream",
          "name": "stderr",
          "text": [
            "100%|██████████| 17/17 [00:07<00:00,  2.26it/s]\n"
          ]
        }
      ]
    },
    {
      "cell_type": "code",
      "source": [
        "rapid_disorder_values.to_csv('RAPID_disorder_values.csv')"
      ],
      "metadata": {
        "id": "CXn9ZJbgNZmt"
      },
      "execution_count": null,
      "outputs": []
    },
    {
      "cell_type": "markdown",
      "source": [
        "Appending RAPID disorder values to all_proteins_filtered"
      ],
      "metadata": {
        "id": "NdrwY57XIv8T"
      }
    },
    {
      "cell_type": "code",
      "source": [
        "rapid_disorder_values"
      ],
      "metadata": {
        "id": "fKKnYb8HK5lx",
        "outputId": "e9c1c7f5-c3a8-4399-c290-2099ce273f59",
        "colab": {
          "base_uri": "https://localhost:8080/",
          "height": 423
        }
      },
      "execution_count": null,
      "outputs": [
        {
          "output_type": "execute_result",
          "data": {
            "text/plain": [
              "         Prot. ID  Disorder Content %\n",
              "0      A0A172T110                5.91\n",
              "1      A0A172T128                7.07\n",
              "2      A0A172T1X5                1.55\n",
              "3      A0A172T2F9                1.90\n",
              "4      A0A172T439                6.52\n",
              "...           ...                 ...\n",
              "10355  A0A2K8L2B0                4.35\n",
              "10356  A0A2K8L2C4                8.43\n",
              "10357  A0A2K8L2D9               15.89\n",
              "10358  A0A2K8L2F7               10.10\n",
              "10359  A0A2K8L2H2                8.39\n",
              "\n",
              "[1210360 rows x 2 columns]"
            ],
            "text/html": [
              "\n",
              "  <div id=\"df-5c9d8198-615c-47f6-825a-def9004fce4e\" class=\"colab-df-container\">\n",
              "    <div>\n",
              "<style scoped>\n",
              "    .dataframe tbody tr th:only-of-type {\n",
              "        vertical-align: middle;\n",
              "    }\n",
              "\n",
              "    .dataframe tbody tr th {\n",
              "        vertical-align: top;\n",
              "    }\n",
              "\n",
              "    .dataframe thead th {\n",
              "        text-align: right;\n",
              "    }\n",
              "</style>\n",
              "<table border=\"1\" class=\"dataframe\">\n",
              "  <thead>\n",
              "    <tr style=\"text-align: right;\">\n",
              "      <th></th>\n",
              "      <th>Prot. ID</th>\n",
              "      <th>Disorder Content %</th>\n",
              "    </tr>\n",
              "  </thead>\n",
              "  <tbody>\n",
              "    <tr>\n",
              "      <th>0</th>\n",
              "      <td>A0A172T110</td>\n",
              "      <td>5.91</td>\n",
              "    </tr>\n",
              "    <tr>\n",
              "      <th>1</th>\n",
              "      <td>A0A172T128</td>\n",
              "      <td>7.07</td>\n",
              "    </tr>\n",
              "    <tr>\n",
              "      <th>2</th>\n",
              "      <td>A0A172T1X5</td>\n",
              "      <td>1.55</td>\n",
              "    </tr>\n",
              "    <tr>\n",
              "      <th>3</th>\n",
              "      <td>A0A172T2F9</td>\n",
              "      <td>1.90</td>\n",
              "    </tr>\n",
              "    <tr>\n",
              "      <th>4</th>\n",
              "      <td>A0A172T439</td>\n",
              "      <td>6.52</td>\n",
              "    </tr>\n",
              "    <tr>\n",
              "      <th>...</th>\n",
              "      <td>...</td>\n",
              "      <td>...</td>\n",
              "    </tr>\n",
              "    <tr>\n",
              "      <th>10355</th>\n",
              "      <td>A0A2K8L2B0</td>\n",
              "      <td>4.35</td>\n",
              "    </tr>\n",
              "    <tr>\n",
              "      <th>10356</th>\n",
              "      <td>A0A2K8L2C4</td>\n",
              "      <td>8.43</td>\n",
              "    </tr>\n",
              "    <tr>\n",
              "      <th>10357</th>\n",
              "      <td>A0A2K8L2D9</td>\n",
              "      <td>15.89</td>\n",
              "    </tr>\n",
              "    <tr>\n",
              "      <th>10358</th>\n",
              "      <td>A0A2K8L2F7</td>\n",
              "      <td>10.10</td>\n",
              "    </tr>\n",
              "    <tr>\n",
              "      <th>10359</th>\n",
              "      <td>A0A2K8L2H2</td>\n",
              "      <td>8.39</td>\n",
              "    </tr>\n",
              "  </tbody>\n",
              "</table>\n",
              "<p>1210360 rows × 2 columns</p>\n",
              "</div>\n",
              "    <div class=\"colab-df-buttons\">\n",
              "\n",
              "  <div class=\"colab-df-container\">\n",
              "    <button class=\"colab-df-convert\" onclick=\"convertToInteractive('df-5c9d8198-615c-47f6-825a-def9004fce4e')\"\n",
              "            title=\"Convert this dataframe to an interactive table.\"\n",
              "            style=\"display:none;\">\n",
              "\n",
              "  <svg xmlns=\"http://www.w3.org/2000/svg\" height=\"24px\" viewBox=\"0 -960 960 960\">\n",
              "    <path d=\"M120-120v-720h720v720H120Zm60-500h600v-160H180v160Zm220 220h160v-160H400v160Zm0 220h160v-160H400v160ZM180-400h160v-160H180v160Zm440 0h160v-160H620v160ZM180-180h160v-160H180v160Zm440 0h160v-160H620v160Z\"/>\n",
              "  </svg>\n",
              "    </button>\n",
              "\n",
              "  <style>\n",
              "    .colab-df-container {\n",
              "      display:flex;\n",
              "      gap: 12px;\n",
              "    }\n",
              "\n",
              "    .colab-df-convert {\n",
              "      background-color: #E8F0FE;\n",
              "      border: none;\n",
              "      border-radius: 50%;\n",
              "      cursor: pointer;\n",
              "      display: none;\n",
              "      fill: #1967D2;\n",
              "      height: 32px;\n",
              "      padding: 0 0 0 0;\n",
              "      width: 32px;\n",
              "    }\n",
              "\n",
              "    .colab-df-convert:hover {\n",
              "      background-color: #E2EBFA;\n",
              "      box-shadow: 0px 1px 2px rgba(60, 64, 67, 0.3), 0px 1px 3px 1px rgba(60, 64, 67, 0.15);\n",
              "      fill: #174EA6;\n",
              "    }\n",
              "\n",
              "    .colab-df-buttons div {\n",
              "      margin-bottom: 4px;\n",
              "    }\n",
              "\n",
              "    [theme=dark] .colab-df-convert {\n",
              "      background-color: #3B4455;\n",
              "      fill: #D2E3FC;\n",
              "    }\n",
              "\n",
              "    [theme=dark] .colab-df-convert:hover {\n",
              "      background-color: #434B5C;\n",
              "      box-shadow: 0px 1px 3px 1px rgba(0, 0, 0, 0.15);\n",
              "      filter: drop-shadow(0px 1px 2px rgba(0, 0, 0, 0.3));\n",
              "      fill: #FFFFFF;\n",
              "    }\n",
              "  </style>\n",
              "\n",
              "    <script>\n",
              "      const buttonEl =\n",
              "        document.querySelector('#df-5c9d8198-615c-47f6-825a-def9004fce4e button.colab-df-convert');\n",
              "      buttonEl.style.display =\n",
              "        google.colab.kernel.accessAllowed ? 'block' : 'none';\n",
              "\n",
              "      async function convertToInteractive(key) {\n",
              "        const element = document.querySelector('#df-5c9d8198-615c-47f6-825a-def9004fce4e');\n",
              "        const dataTable =\n",
              "          await google.colab.kernel.invokeFunction('convertToInteractive',\n",
              "                                                    [key], {});\n",
              "        if (!dataTable) return;\n",
              "\n",
              "        const docLinkHtml = 'Like what you see? Visit the ' +\n",
              "          '<a target=\"_blank\" href=https://colab.research.google.com/notebooks/data_table.ipynb>data table notebook</a>'\n",
              "          + ' to learn more about interactive tables.';\n",
              "        element.innerHTML = '';\n",
              "        dataTable['output_type'] = 'display_data';\n",
              "        await google.colab.output.renderOutput(dataTable, element);\n",
              "        const docLink = document.createElement('div');\n",
              "        docLink.innerHTML = docLinkHtml;\n",
              "        element.appendChild(docLink);\n",
              "      }\n",
              "    </script>\n",
              "  </div>\n",
              "\n",
              "\n",
              "<div id=\"df-051f653f-d354-4791-adeb-a8d72ca16a27\">\n",
              "  <button class=\"colab-df-quickchart\" onclick=\"quickchart('df-051f653f-d354-4791-adeb-a8d72ca16a27')\"\n",
              "            title=\"Suggest charts.\"\n",
              "            style=\"display:none;\">\n",
              "\n",
              "<svg xmlns=\"http://www.w3.org/2000/svg\" height=\"24px\"viewBox=\"0 0 24 24\"\n",
              "     width=\"24px\">\n",
              "    <g>\n",
              "        <path d=\"M19 3H5c-1.1 0-2 .9-2 2v14c0 1.1.9 2 2 2h14c1.1 0 2-.9 2-2V5c0-1.1-.9-2-2-2zM9 17H7v-7h2v7zm4 0h-2V7h2v10zm4 0h-2v-4h2v4z\"/>\n",
              "    </g>\n",
              "</svg>\n",
              "  </button>\n",
              "\n",
              "<style>\n",
              "  .colab-df-quickchart {\n",
              "      --bg-color: #E8F0FE;\n",
              "      --fill-color: #1967D2;\n",
              "      --hover-bg-color: #E2EBFA;\n",
              "      --hover-fill-color: #174EA6;\n",
              "      --disabled-fill-color: #AAA;\n",
              "      --disabled-bg-color: #DDD;\n",
              "  }\n",
              "\n",
              "  [theme=dark] .colab-df-quickchart {\n",
              "      --bg-color: #3B4455;\n",
              "      --fill-color: #D2E3FC;\n",
              "      --hover-bg-color: #434B5C;\n",
              "      --hover-fill-color: #FFFFFF;\n",
              "      --disabled-bg-color: #3B4455;\n",
              "      --disabled-fill-color: #666;\n",
              "  }\n",
              "\n",
              "  .colab-df-quickchart {\n",
              "    background-color: var(--bg-color);\n",
              "    border: none;\n",
              "    border-radius: 50%;\n",
              "    cursor: pointer;\n",
              "    display: none;\n",
              "    fill: var(--fill-color);\n",
              "    height: 32px;\n",
              "    padding: 0;\n",
              "    width: 32px;\n",
              "  }\n",
              "\n",
              "  .colab-df-quickchart:hover {\n",
              "    background-color: var(--hover-bg-color);\n",
              "    box-shadow: 0 1px 2px rgba(60, 64, 67, 0.3), 0 1px 3px 1px rgba(60, 64, 67, 0.15);\n",
              "    fill: var(--button-hover-fill-color);\n",
              "  }\n",
              "\n",
              "  .colab-df-quickchart-complete:disabled,\n",
              "  .colab-df-quickchart-complete:disabled:hover {\n",
              "    background-color: var(--disabled-bg-color);\n",
              "    fill: var(--disabled-fill-color);\n",
              "    box-shadow: none;\n",
              "  }\n",
              "\n",
              "  .colab-df-spinner {\n",
              "    border: 2px solid var(--fill-color);\n",
              "    border-color: transparent;\n",
              "    border-bottom-color: var(--fill-color);\n",
              "    animation:\n",
              "      spin 1s steps(1) infinite;\n",
              "  }\n",
              "\n",
              "  @keyframes spin {\n",
              "    0% {\n",
              "      border-color: transparent;\n",
              "      border-bottom-color: var(--fill-color);\n",
              "      border-left-color: var(--fill-color);\n",
              "    }\n",
              "    20% {\n",
              "      border-color: transparent;\n",
              "      border-left-color: var(--fill-color);\n",
              "      border-top-color: var(--fill-color);\n",
              "    }\n",
              "    30% {\n",
              "      border-color: transparent;\n",
              "      border-left-color: var(--fill-color);\n",
              "      border-top-color: var(--fill-color);\n",
              "      border-right-color: var(--fill-color);\n",
              "    }\n",
              "    40% {\n",
              "      border-color: transparent;\n",
              "      border-right-color: var(--fill-color);\n",
              "      border-top-color: var(--fill-color);\n",
              "    }\n",
              "    60% {\n",
              "      border-color: transparent;\n",
              "      border-right-color: var(--fill-color);\n",
              "    }\n",
              "    80% {\n",
              "      border-color: transparent;\n",
              "      border-right-color: var(--fill-color);\n",
              "      border-bottom-color: var(--fill-color);\n",
              "    }\n",
              "    90% {\n",
              "      border-color: transparent;\n",
              "      border-bottom-color: var(--fill-color);\n",
              "    }\n",
              "  }\n",
              "</style>\n",
              "\n",
              "  <script>\n",
              "    async function quickchart(key) {\n",
              "      const quickchartButtonEl =\n",
              "        document.querySelector('#' + key + ' button');\n",
              "      quickchartButtonEl.disabled = true;  // To prevent multiple clicks.\n",
              "      quickchartButtonEl.classList.add('colab-df-spinner');\n",
              "      try {\n",
              "        const charts = await google.colab.kernel.invokeFunction(\n",
              "            'suggestCharts', [key], {});\n",
              "      } catch (error) {\n",
              "        console.error('Error during call to suggestCharts:', error);\n",
              "      }\n",
              "      quickchartButtonEl.classList.remove('colab-df-spinner');\n",
              "      quickchartButtonEl.classList.add('colab-df-quickchart-complete');\n",
              "    }\n",
              "    (() => {\n",
              "      let quickchartButtonEl =\n",
              "        document.querySelector('#df-051f653f-d354-4791-adeb-a8d72ca16a27 button');\n",
              "      quickchartButtonEl.style.display =\n",
              "        google.colab.kernel.accessAllowed ? 'block' : 'none';\n",
              "    })();\n",
              "  </script>\n",
              "</div>\n",
              "    </div>\n",
              "  </div>\n"
            ]
          },
          "metadata": {},
          "execution_count": 27
        }
      ]
    },
    {
      "cell_type": "code",
      "source": [
        "all_proteins_rapid = all_proteins_filtered.join(rapid_disorder_values.set_index('Prot. ID'),\n",
        "                                                   on='ID', how='inner')"
      ],
      "metadata": {
        "id": "OI_ZUj2EI-pN"
      },
      "execution_count": null,
      "outputs": []
    },
    {
      "cell_type": "code",
      "source": [
        "all_proteins_rapid['RAPID_disorder'] = all_proteins_rapid['Disorder Content %'] / 100\n",
        "all_proteins_rapid.drop('Disorder Content %', axis=1, inplace=True)\n",
        "\n",
        "all_proteins_rapid['RAPID_fully_disordered'] = all_proteins_rapid['RAPID_disorder'] >= 0.5\n",
        "all_proteins_rapid['RAPID_n_disordered_residues'] = all_proteins_rapid['RAPID_disorder'] * all_proteins_rapid['Length']"
      ],
      "metadata": {
        "id": "dqhlrXOWI-mj"
      },
      "execution_count": null,
      "outputs": []
    },
    {
      "cell_type": "code",
      "source": [
        "all_proteins_rapid.to_csv('all_proteins_rapid.csv')"
      ],
      "metadata": {
        "id": "MKSh5wftI-kX"
      },
      "execution_count": 41,
      "outputs": []
    },
    {
      "cell_type": "markdown",
      "source": [
        "## NEXT"
      ],
      "metadata": {
        "id": "p5uUl8AKMwA1"
      }
    },
    {
      "cell_type": "code",
      "source": [
        "all_proteins_rapid.columns"
      ],
      "metadata": {
        "id": "k-VWmGZMQ8Wv",
        "outputId": "2d611fd8-e43a-48a0-f62f-efc6dc072eaa",
        "colab": {
          "base_uri": "https://localhost:8080/"
        }
      },
      "execution_count": 40,
      "outputs": [
        {
          "output_type": "execute_result",
          "data": {
            "text/plain": [
              "Index(['ID', 'Sequence', 'Length', 'Species', 'RAPID_disorder',\n",
              "       'RAPID_fully_disordered', 'RAPID_n_disordered_residues'],\n",
              "      dtype='object')"
            ]
          },
          "metadata": {},
          "execution_count": 40
        }
      ]
    },
    {
      "cell_type": "code",
      "source": [
        "fig, ax = plt.subplots(figsize=(15, 8))\n",
        "\n",
        "sns.kdeplot(data=all_proteins_rapid[all_proteins_rapid['RAPID_fully_disordered']],\n",
        "                x='Length', y='RAPID_disorder', alpha=0.5, fill=True, ax=ax)\n",
        "ax.set_xlim(0, 500)\n",
        "fig.show()"
      ],
      "metadata": {
        "id": "MtwiRtlINZkB",
        "outputId": "2557e5b2-684d-4ef1-e498-105c286fe8c7",
        "colab": {
          "base_uri": "https://localhost:8080/",
          "height": 479
        }
      },
      "execution_count": 21,
      "outputs": [
        {
          "output_type": "display_data",
          "data": {
            "text/plain": [
              "<Figure size 1500x800 with 1 Axes>"
            ],
            "image/png": "[encoded data removed]"
          },
          "metadata": {}
        }
      ]
    },
    {
      "cell_type": "code",
      "source": [
        "species_rapid_disorder = all_proteins_rapid.groupby('Species').mean()[['RAPID_disorder', 'RAPID_fully_disordered']]"
      ],
      "metadata": {
        "id": "t4DS4pP_GbF2",
        "outputId": "f2daa346-59d5-45e2-aeba-9c6d10ff83b4",
        "colab": {
          "base_uri": "https://localhost:8080/"
        }
      },
      "execution_count": 46,
      "outputs": [
        {
          "output_type": "stream",
          "name": "stderr",
          "text": [
            "<ipython-input-46-ba1d37d7f8ba>:1: FutureWarning: The default value of numeric_only in DataFrameGroupBy.mean is deprecated. In a future version, numeric_only will default to False. Either specify numeric_only or select only columns which should be valid for the function.\n",
            "  species_rapid_disorder = all_proteins_rapid.groupby('Species').mean()[['RAPID_disorder', 'RAPID_fully_disordered']]\n"
          ]
        }
      ]
    },
    {
      "cell_type": "code",
      "source": [
        "tempura = tempura.join(species_rapid_disorder, how='inner', on='genus_and_species', )"
      ],
      "metadata": {
        "id": "w-QjF_HB8w8M"
      },
      "execution_count": 51,
      "outputs": []
    },
    {
      "cell_type": "code",
      "source": [
        "fig, ax = plt.subplots(figsize=(15, 8))\n",
        "\n",
        "sns.scatterplot(data=tempura, x='Topt_ave', y='RAPID_fully_disordered', ax=ax)\n",
        "\n",
        "fig.show()"
      ],
      "metadata": {
        "id": "HR0Tb7TV8w56",
        "outputId": "4ca5c818-d158-47de-9b30-4b186002db2e",
        "colab": {
          "base_uri": "https://localhost:8080/",
          "height": 482
        }
      },
      "execution_count": 58,
      "outputs": [
        {
          "output_type": "display_data",
          "data": {
            "text/plain": [
              "<Figure size 1500x800 with 1 Axes>"
            ],
            "image/png": "[encoded data removed]"
          },
          "metadata": {}
        }
      ]
    },
    {
      "cell_type": "code",
      "source": [],
      "metadata": {
        "id": "pSZRDT2IxCFi"
      },
      "execution_count": null,
      "outputs": []
    },
    {
      "cell_type": "code",
      "source": [],
      "metadata": {
        "id": "o8eaDqVKJmtD"
      },
      "execution_count": null,
      "outputs": []
    },
    {
      "cell_type": "code",
      "source": [],
      "metadata": {
        "id": "nTroFV-LJmqc"
      },
      "execution_count": null,
      "outputs": []
    },
    {
      "cell_type": "code",
      "source": [],
      "metadata": {
        "id": "VxbZIs6bJmoM"
      },
      "execution_count": null,
      "outputs": []
    }
  ]
}