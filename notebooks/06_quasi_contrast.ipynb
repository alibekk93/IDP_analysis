{
  "nbformat": 4,
  "nbformat_minor": 0,
  "metadata": {
    "colab": {
      "provenance": [],
      "authorship_tag": "ABX9TyMn1TW/vkZtVCd7m0d7Gdz6",
      "include_colab_link": true
    },
    "kernelspec": {
      "name": "python3",
      "display_name": "Python 3"
    },
    "language_info": {
      "name": "python"
    }
  },
  "cells": [
    {
      "cell_type": "markdown",
      "metadata": {
        "id": "view-in-github",
        "colab_type": "text"
      },
      "source": [
        "<a href=\"https://colab.research.google.com/github/alibekk93/IDP_analysis/blob/RAPID/notebooks/06_quasi_contrast.ipynb\" target=\"_parent\"><img src=\"https://colab.research.google.com/assets/colab-badge.svg\" alt=\"Open In Colab\"/></a>"
      ]
    },
    {
      "cell_type": "markdown",
      "source": [
        "# LS quasi-contrast study"
      ],
      "metadata": {
        "id": "gCrzBW06JRvI"
      }
    },
    {
      "cell_type": "markdown",
      "source": [
        "## Setup"
      ],
      "metadata": {
        "id": "W0xJmhROJXUu"
      }
    },
    {
      "cell_type": "code",
      "source": [
        "!pip install BIO\n",
        "!sudo apt install clustalw\n",
        "# !pip install toytree toyplot\n",
        "!git clone -b RAPID https://github.com/alibekk93/IDP_analysis\n",
        "!cd /content/IDP_analysis"
      ],
      "metadata": {
        "colab": {
          "base_uri": "https://localhost:8080/"
        },
        "id": "-LqXxeeZXAti",
        "outputId": "f12a888d-19b4-407f-eefa-e2fe48e6e591"
      },
      "execution_count": null,
      "outputs": [
        {
          "output_type": "stream",
          "name": "stdout",
          "text": [
            "Collecting BIO\n",
            "  Downloading bio-1.6.0-py3-none-any.whl (279 kB)\n",
            "\u001b[2K     \u001b[90m━━━━━━━━━━━━━━━━━━━━━━━━━━━━━━━━━━━━━━━━\u001b[0m \u001b[32m279.4/279.4 kB\u001b[0m \u001b[31m5.0 MB/s\u001b[0m eta \u001b[36m0:00:00\u001b[0m\n",
            "\u001b[?25hCollecting biopython>=1.80 (from BIO)\n",
            "  Downloading biopython-1.81-cp310-cp310-manylinux_2_17_x86_64.manylinux2014_x86_64.whl (3.1 MB)\n",
            "\u001b[2K     \u001b[90m━━━━━━━━━━━━━━━━━━━━━━━━━━━━━━━━━━━━━━━━\u001b[0m \u001b[32m3.1/3.1 MB\u001b[0m \u001b[31m15.3 MB/s\u001b[0m eta \u001b[36m0:00:00\u001b[0m\n",
            "\u001b[?25hRequirement already satisfied: requests in /usr/local/lib/python3.10/dist-packages (from BIO) (2.31.0)\n",
            "Requirement already satisfied: tqdm in /usr/local/lib/python3.10/dist-packages (from BIO) (4.66.1)\n",
            "Collecting mygene (from BIO)\n",
            "  Downloading mygene-3.2.2-py2.py3-none-any.whl (5.4 kB)\n",
            "Requirement already satisfied: pandas in /usr/local/lib/python3.10/dist-packages (from BIO) (1.5.3)\n",
            "Requirement already satisfied: pooch in /usr/local/lib/python3.10/dist-packages (from BIO) (1.8.0)\n",
            "Collecting gprofiler-official (from BIO)\n",
            "  Downloading gprofiler_official-1.0.0-py3-none-any.whl (9.3 kB)\n",
            "Requirement already satisfied: numpy in /usr/local/lib/python3.10/dist-packages (from biopython>=1.80->BIO) (1.23.5)\n",
            "Collecting biothings-client>=0.2.6 (from mygene->BIO)\n",
            "  Downloading biothings_client-0.3.1-py2.py3-none-any.whl (29 kB)\n",
            "Requirement already satisfied: python-dateutil>=2.8.1 in /usr/local/lib/python3.10/dist-packages (from pandas->BIO) (2.8.2)\n",
            "Requirement already satisfied: pytz>=2020.1 in /usr/local/lib/python3.10/dist-packages (from pandas->BIO) (2023.3.post1)\n",
            "Requirement already satisfied: platformdirs>=2.5.0 in /usr/local/lib/python3.10/dist-packages (from pooch->BIO) (4.0.0)\n",
            "Requirement already satisfied: packaging>=20.0 in /usr/local/lib/python3.10/dist-packages (from pooch->BIO) (23.2)\n",
            "Requirement already satisfied: charset-normalizer<4,>=2 in /usr/local/lib/python3.10/dist-packages (from requests->BIO) (3.3.2)\n",
            "Requirement already satisfied: idna<4,>=2.5 in /usr/local/lib/python3.10/dist-packages (from requests->BIO) (3.6)\n",
            "Requirement already satisfied: urllib3<3,>=1.21.1 in /usr/local/lib/python3.10/dist-packages (from requests->BIO) (2.0.7)\n",
            "Requirement already satisfied: certifi>=2017.4.17 in /usr/local/lib/python3.10/dist-packages (from requests->BIO) (2023.11.17)\n",
            "Requirement already satisfied: six>=1.5 in /usr/local/lib/python3.10/dist-packages (from python-dateutil>=2.8.1->pandas->BIO) (1.16.0)\n",
            "Installing collected packages: biopython, gprofiler-official, biothings-client, mygene, BIO\n",
            "Successfully installed BIO-1.6.0 biopython-1.81 biothings-client-0.3.1 gprofiler-official-1.0.0 mygene-3.2.2\n",
            "Reading package lists... Done\n",
            "Building dependency tree... Done\n",
            "Reading state information... Done\n",
            "Suggested packages:\n",
            "  clustalx seaview\n",
            "The following NEW packages will be installed:\n",
            "  clustalw\n",
            "0 upgraded, 1 newly installed, 0 to remove and 15 not upgraded.\n",
            "Need to get 275 kB of archives.\n",
            "After this operation, 818 kB of additional disk space will be used.\n",
            "Get:1 http://archive.ubuntu.com/ubuntu jammy/universe amd64 clustalw amd64 2.1+lgpl-7 [275 kB]\n",
            "Fetched 275 kB in 1s (268 kB/s)\n",
            "debconf: unable to initialize frontend: Dialog\n",
            "debconf: (No usable dialog-like program is installed, so the dialog based frontend cannot be used. at /usr/share/perl5/Debconf/FrontEnd/Dialog.pm line 78, <> line 1.)\n",
            "debconf: falling back to frontend: Readline\n",
            "debconf: unable to initialize frontend: Readline\n",
            "debconf: (This frontend requires a controlling tty.)\n",
            "debconf: falling back to frontend: Teletype\n",
            "dpkg-preconfigure: unable to re-open stdin: \n",
            "Selecting previously unselected package clustalw.\n",
            "(Reading database ... 120882 files and directories currently installed.)\n",
            "Preparing to unpack .../clustalw_2.1+lgpl-7_amd64.deb ...\n",
            "Unpacking clustalw (2.1+lgpl-7) ...\n",
            "Setting up clustalw (2.1+lgpl-7) ...\n",
            "Processing triggers for man-db (2.10.2-1) ...\n",
            "Cloning into 'IDP_analysis'...\n",
            "remote: Enumerating objects: 2419, done.\u001b[K\n",
            "remote: Counting objects: 100% (835/835), done.\u001b[K\n",
            "remote: Compressing objects: 100% (654/654), done.\u001b[K\n",
            "remote: Total 2419 (delta 242), reused 689 (delta 179), pack-reused 1584\u001b[K\n",
            "Receiving objects: 100% (2419/2419), 2.10 GiB | 22.24 MiB/s, done.\n",
            "Resolving deltas: 100% (1034/1034), done.\n",
            "Updating files: 100% (729/729), done.\n"
          ]
        }
      ]
    },
    {
      "cell_type": "code",
      "source": [
        "from IDP_analysis.packages_import import *\n",
        "from IDP_analysis.idp_in_bacteria_functions import *"
      ],
      "metadata": {
        "id": "5AZxlNK-YbZV",
        "colab": {
          "base_uri": "https://localhost:8080/"
        },
        "outputId": "2239a8f4-d106-45b0-cb53-d1f7bb13dc5d"
      },
      "execution_count": null,
      "outputs": [
        {
          "output_type": "stream",
          "name": "stderr",
          "text": [
            "/usr/local/lib/python3.10/dist-packages/Bio/pairwise2.py:278: BiopythonDeprecationWarning: Bio.pairwise2 has been deprecated, and we intend to remove it in a future release of Biopython. As an alternative, please consider using Bio.Align.PairwiseAligner as a replacement, and contact the Biopython developers if you still need the Bio.pairwise2 module.\n",
            "  warnings.warn(\n"
          ]
        }
      ]
    },
    {
      "cell_type": "code",
      "source": [
        "sns.set_theme(context='paper', style='white',  palette='colorblind')"
      ],
      "metadata": {
        "id": "6e9O71S8kgv0"
      },
      "execution_count": null,
      "outputs": []
    },
    {
      "cell_type": "markdown",
      "source": [
        "Loading Tempura dataset"
      ],
      "metadata": {
        "id": "OrTQK2xtJqDQ"
      }
    },
    {
      "cell_type": "code",
      "source": [
        "# tempura = pd.read_csv('/content/IDP_analysis/datafiles/tempura/200617_TEMPURA.csv', index_col=0)\n",
        "# tempura = pd.read_csv('/content/IDP_analysis/datafiles/tempura/tempura_bacteria_uniprot.csv', index_col=0)\n",
        "tempura = pd.read_csv('/content/IDP_analysis/datafiles/tempura/tempura_filtered.csv', index_col=0)"
      ],
      "metadata": {
        "id": "HBbhsf-WxBFD"
      },
      "execution_count": null,
      "outputs": []
    },
    {
      "cell_type": "markdown",
      "source": [
        "Only keeping bacteria with available assembly or accession numbers"
      ],
      "metadata": {
        "id": "f74pkmUeJfVT"
      }
    },
    {
      "cell_type": "code",
      "source": [
        "# tempura = tempura[tempura['superkingdom']=='Bacteria']\n",
        "# tempura.dropna(subset='assembly_or_accession', inplace=True)\n",
        "# tempura.reset_index(drop=True, inplace=True)"
      ],
      "metadata": {
        "id": "Z8qouNgexBbA"
      },
      "execution_count": null,
      "outputs": []
    },
    {
      "cell_type": "markdown",
      "source": [
        "Classifying bacteria into groups:\n",
        "1. Psychrophile: OGT <= 20\n",
        "2. Mesophile: 20 < OGT <= 40\n",
        "2. Thermophile: 40 < OGT\n",
        "\n",
        "While this may be quite liberal, some \"psychrohiles\" with OGT = 20 have *antarctica* in their species name, so it should be fair enough"
      ],
      "metadata": {
        "id": "-VBPFVr-NIO9"
      }
    },
    {
      "cell_type": "code",
      "source": [
        "tempura['group'] = pd.cut(tempura['Topt_ave'], bins=[-float('inf'), 20, 40, float('inf')],\n",
        "                          labels=['psychrophilic', 'mesophilic', 'thermophilic'])"
      ],
      "metadata": {
        "id": "BtsjnG03fjjE"
      },
      "execution_count": null,
      "outputs": []
    },
    {
      "cell_type": "markdown",
      "source": [
        "Loading all_proteins"
      ],
      "metadata": {
        "id": "GWPvkryzFMaN"
      }
    },
    {
      "cell_type": "code",
      "source": [
        "%cd /content/IDP_analysis/datafiles/split_files/\n",
        "!cat all_proteins.zip.001 all_proteins.zip.002 all_proteins.zip.003 > all_proteins.zip\n",
        "!unzip all_proteins.zip\n",
        "!cat all_proteins_filtered.zip.001 all_proteins_filtered.zip.002 all_proteins_filtered.zip.003 > all_proteins_filtered.zip\n",
        "!unzip all_proteins_filtered.zip\n",
        "!cat all_proteins_rapid.zip.001 all_proteins_rapid.zip.002 all_proteins_rapid.zip.003 > all_proteins_rapid.zip\n",
        "!unzip all_proteins_rapid.zip\n",
        "!cat all_proteins_types.zip.001 all_proteins_types.zip.002 all_proteins_types.zip.003 > all_proteins_types.zip\n",
        "!unzip all_proteins_types.zip\n",
        "%cd ../../.."
      ],
      "metadata": {
        "id": "90oYdPGCnDFB"
      },
      "execution_count": null,
      "outputs": []
    },
    {
      "cell_type": "code",
      "source": [
        "# all_proteins = pd.read_csv('IDP_analysis/datafiles/split_files/all_proteins.csv', index_col=0)\n",
        "# all_proteins = pd.read_csv('IDP_analysis/datafiles/split_files/all_proteins_filtered.csv', index_col=0)\n",
        "# all_proteins = pd.read_csv('IDP_analysis/datafiles/split_files/all_proteins_rapid.csv', index_col=0)\n",
        "all_proteins = pd.read_csv('IDP_analysis/datafiles/split_files/all_proteins_types.csv', index_col=0)"
      ],
      "metadata": {
        "id": "-i89P51dFOnU"
      },
      "execution_count": null,
      "outputs": []
    },
    {
      "cell_type": "markdown",
      "source": [
        "Merging all_proteins with temura"
      ],
      "metadata": {
        "id": "wA9HaDCVArUJ"
      }
    },
    {
      "cell_type": "code",
      "source": [
        "all_protein_tempura = all_proteins_rapid.merge(tempura, left_on='Species', right_on='genus_and_species')\n",
        "all_protein_tempura_idp = all_proteins_disordered.merge(tempura, left_on='Species', right_on='genus_and_species')"
      ],
      "metadata": {
        "id": "a-NdcizdAuZR"
      },
      "execution_count": null,
      "outputs": []
    },
    {
      "cell_type": "markdown",
      "source": [
        "Loading cluster dataframes"
      ],
      "metadata": {
        "id": "G_0gyDTZfABh"
      }
    },
    {
      "cell_type": "code",
      "source": [
        "interesting_clusters = pd.read_csv('/content/IDP_analysis/datafiles/clusters/interesting_clusters.csv', index_col=0)\n",
        "disordered_clusters = pd.read_csv('/content/IDP_analysis/datafiles/clusters/disordered_clusters.csv', index_col=0)"
      ],
      "metadata": {
        "id": "7zAjdsule_e3"
      },
      "execution_count": null,
      "outputs": []
    },
    {
      "cell_type": "markdown",
      "source": [
        "Loading RAPID_disorder values"
      ],
      "metadata": {
        "id": "1ycexCSdJGh8"
      }
    },
    {
      "cell_type": "code",
      "source": [
        "# rapid_disorder_values = pd.read_csv('/content/IDP_analysis/datafiles/RAPID/RAPID_disorder_values.csv', index_col=0)"
      ],
      "metadata": {
        "id": "9BGAYQdRJLEA"
      },
      "execution_count": null,
      "outputs": []
    },
    {
      "cell_type": "markdown",
      "source": [
        "## Getting 16s sequences"
      ],
      "metadata": {
        "id": "fNrpgxW7DYwQ"
      }
    },
    {
      "cell_type": "markdown",
      "source": [
        "Download nt sequences for 16s genes of all species and save as `fasta` files"
      ],
      "metadata": {
        "id": "hGtSCAMO_Gll"
      }
    },
    {
      "cell_type": "code",
      "source": [
        "# # Set your email address\n",
        "# Entrez.email = 'akrug104@uottawa.ca'\n",
        "\n",
        "# # Get the list of accession numbers and species names\n",
        "# accession_list = tempura['16S_accssion'].tolist()\n",
        "# species_list = tempura['genus_and_species'].tolist()\n",
        "\n",
        "# # Add outgroup\n",
        "# accession_list.append('NG_046384.1')\n",
        "# species_list.append('Pyrobaculum ferrireducens')\n",
        "\n",
        "# # Fetch the sequences from NCBI\n",
        "# handle = Entrez.efetch(db='nucleotide', id=accession_list, rettype='fasta', retmode='text')\n",
        "# records = list(SeqIO.parse(handle, 'fasta'))\n",
        "\n",
        "# # Filter the records to only allow sequences up to 5000 nt long\n",
        "# records = [r for r in  records if len(r.seq) <= 5000]\n",
        "\n",
        "# # Save the sequences to a single fasta file\n",
        "# with open('16S_all.fasta', 'w') as output_handle:\n",
        "#     SeqIO.write(records, output_handle, 'fasta')"
      ],
      "metadata": {
        "id": "RpVW9erFDkc7"
      },
      "execution_count": null,
      "outputs": []
    },
    {
      "cell_type": "markdown",
      "source": [
        "A sequence from an archaea was added as outgroup (NG_046384.1 of *Pyrobaculum ferrireducens*)\n",
        "\n",
        "Alignment of sequences was done externally using MAFFT with default parameters except for specification for nucleotide sequences"
      ],
      "metadata": {
        "id": "TeRb5cOA_X9C"
      }
    },
    {
      "cell_type": "markdown",
      "source": [
        "## Tree building"
      ],
      "metadata": {
        "id": "t-BVV_rWRkAL"
      }
    },
    {
      "cell_type": "code",
      "source": [
        "# # Read the fasta file\n",
        "# records = SeqIO.parse('/content/16S_aligned.fasta', 'fasta')\n",
        "\n",
        "# # Create a multiple sequence alignment object\n",
        "# alignment = MultipleSeqAlignment(records)\n",
        "\n",
        "# # Calculate the p-distance matrix\n",
        "# calculator = DistanceCalculator('identity')\n",
        "# distance_matrix = calculator.get_distance(alignment)\n",
        "\n",
        "# with open('distance_matrix.txt', 'w') as f:\n",
        "#   distance_matrix.format_phylip(f)"
      ],
      "metadata": {
        "id": "U9NiAAcgpE85"
      },
      "execution_count": null,
      "outputs": []
    },
    {
      "cell_type": "markdown",
      "source": [
        "Tree has been constructed using UPGMA and saved in `Newick` format"
      ],
      "metadata": {
        "id": "k4kKzxoyAZpD"
      }
    },
    {
      "cell_type": "code",
      "source": [
        "# # Construct the tree\n",
        "# constructor = DistanceTreeConstructor()\n",
        "# tree = constructor.upgma(distance_matrix)\n",
        "# # Reroot the tree\n",
        "# tree.root_with_outgroup({'name':'NG_046384.1'})\n",
        "# # Save the tree in Newick format\n",
        "# Phylo.write(tree, 'tree.nwk', format='newick')"
      ],
      "metadata": {
        "id": "O-pR9yDXpE5g",
        "colab": {
          "base_uri": "https://localhost:8080/"
        },
        "outputId": "ff569771-0a67-4049-c27c-5fb580101ccf"
      },
      "execution_count": null,
      "outputs": [
        {
          "output_type": "execute_result",
          "data": {
            "text/plain": [
              "1"
            ]
          },
          "metadata": {},
          "execution_count": 329
        }
      ]
    },
    {
      "cell_type": "markdown",
      "source": [
        "## Function minimization"
      ],
      "metadata": {
        "id": "TOFqTptbRrTH"
      }
    },
    {
      "cell_type": "markdown",
      "source": [
        "Reading the tree if it has been created before"
      ],
      "metadata": {
        "id": "uUIfTI1XCRYk"
      }
    },
    {
      "cell_type": "code",
      "source": [
        "# Load the tree from a file\n",
        "tree = Phylo.read('/content/IDP_analysis/datafiles/phylogenetics/tree.nwk', 'newick')"
      ],
      "metadata": {
        "id": "-dnNyCiIdc74"
      },
      "execution_count": null,
      "outputs": []
    },
    {
      "cell_type": "code",
      "source": [
        "tree.root_with_outgroup({'name':'NG_046384.1'})"
      ],
      "metadata": {
        "id": "7L4piCqhCh8T"
      },
      "execution_count": null,
      "outputs": []
    },
    {
      "cell_type": "code",
      "source": [
        "for t in tqdm(tree.get_terminals()):\n",
        "  accession = t.name.split('.')[0]\n",
        "  tempura_data = tempura[tempura['16S_accssion']==accession]\n",
        "  t.OGT_contrast = 0\n",
        "  t.FOD_contrast = 0\n",
        "  t.is_leaf = True\n",
        "  try:\n",
        "    t.species = tempura_data['genus_and_species'].iloc[0]\n",
        "    disorder_data = all_proteins_rapid[all_proteins_rapid['Species']==t.species]\n",
        "    t.OGT = tempura_data['Topt_ave'].iloc[0]\n",
        "    t.FOD = disorder_data['RAPID_disorder'].mean()\n",
        "    if t.FOD == np.nan:\n",
        "      print(t)\n",
        "  except:\n",
        "    t.species = 'OUTGROUP (Pyrobaculum ferrireducens)'\n",
        "    t.OGT = 100\n",
        "    t.FOD = 0.1184798938"
      ],
      "metadata": {
        "colab": {
          "base_uri": "https://localhost:8080/"
        },
        "id": "fNIlzrHsDV0d",
        "outputId": "a7c709f6-bf8a-488f-89ef-7651a20436d0"
      },
      "execution_count": null,
      "outputs": [
        {
          "output_type": "stream",
          "name": "stderr",
          "text": [
            "100%|██████████| 311/311 [00:31<00:00,  9.83it/s]\n"
          ]
        }
      ]
    },
    {
      "cell_type": "code",
      "source": [
        "for t in tqdm(tree.get_terminals()):\n",
        "  accession = t.name.split('.')[0]\n",
        "  tempura_data = tempura[tempura['16S_accssion']==accession]\n",
        "  t.OGT_contrast = 0\n",
        "  t.FOD_contrast = 0\n",
        "  t.is_leaf = True\n",
        "  try:\n",
        "    t.species = tempura_data['genus_and_species'].iloc[0]\n",
        "    disorder_data = all_proteins_rapid[all_proteins_rapid['Species']==t.species]\n",
        "    t.OGT = tempura_data['Topt_ave'].iloc[0]\n",
        "    t.FOD = disorder_data['RAPID_disorder'].mean()\n",
        "    if t.FOD == np.nan:\n",
        "      print(t)\n",
        "  except:\n",
        "    t.species = 'OUTGROUP (Pyrobaculum ferrireducens)'\n",
        "    t.OGT = 100\n",
        "    t.FOD = 0.1184798938"
      ],
      "metadata": {
        "id": "SQIpJZjTBb_M"
      },
      "execution_count": null,
      "outputs": []
    },
    {
      "cell_type": "code",
      "source": [
        "for n in tqdm(tree.get_nonterminals()):\n",
        "  n.species = n.name\n",
        "  n.OGT = tempura['Topt_ave'].mean()\n",
        "  n.FOD = all_proteins_rapid['RAPID_disorder'].mean()\n",
        "  n.OGT_contrast = 0\n",
        "  n.FOD_contrast = 0\n",
        "  n.is_leaf = False"
      ],
      "metadata": {
        "colab": {
          "base_uri": "https://localhost:8080/"
        },
        "id": "nza2lxEiT-1n",
        "outputId": "3ad47aec-8258-4776-ce5f-bc84355138e2"
      },
      "execution_count": null,
      "outputs": [
        {
          "output_type": "stream",
          "name": "stderr",
          "text": [
            "100%|██████████| 310/310 [00:00<00:00, 393.01it/s]\n"
          ]
        }
      ]
    },
    {
      "cell_type": "markdown",
      "source": [
        "We will use LS minimization for quazi-independent contrasts to estimate OGT and MDS of internal nodes"
      ],
      "metadata": {
        "id": "NWrSxZgmdtTw"
      }
    },
    {
      "cell_type": "code",
      "source": [
        "def RSS_single(node, attribute, m=1):\n",
        "  rss = 0.0\n",
        "  distances = [c.branch_length for c in node.clades]\n",
        "  for child, distance in zip(node.clades, distances):\n",
        "    value_p = getattr(node, attribute)\n",
        "    value_c = getattr(child, attribute)\n",
        "    rss += ((value_p - value_c)**2) / distance**m\n",
        "  return rss\n",
        "\n",
        "def RSS_sum(nodes, attribute, m=1):\n",
        "  return sum(RSS_single(node, attribute, m) for node in nodes)\n",
        "\n",
        "def node_optimization(x0, nodes, attribute, m=1):\n",
        "  # Assign values from the optimization parameters to internal nodes\n",
        "  for i, node in enumerate(nodes):\n",
        "    if not node.is_leaf:\n",
        "      setattr(node, attribute, x0[i])\n",
        "\n",
        "  # Calculate the total RSS for the tree\n",
        "  total_rss = RSS_sum(nodes, attribute, m=m)\n",
        "\n",
        "  return total_rss"
      ],
      "metadata": {
        "id": "QAqcroqKImVJ"
      },
      "execution_count": null,
      "outputs": []
    },
    {
      "cell_type": "code",
      "source": [
        "nodes = [node for node in tree.get_nonterminals() + tree.get_terminals()][1:]\n",
        "\n",
        "initial_guesses_OGT = [node.OGT for node in nodes]\n",
        "initial_guesses_FOD = [node.FOD for node in nodes]"
      ],
      "metadata": {
        "id": "Qz-HL6yaTw0S"
      },
      "execution_count": null,
      "outputs": []
    },
    {
      "cell_type": "code",
      "source": [
        "node_optimization(initial_guesses_OGT, nodes, 'OGT', m=1)\n",
        "OGT_result = scipy.optimize.minimize(node_optimization, initial_guesses_OGT, args=(nodes, 'OGT', 1))\n",
        "# print(f'RSS = {OGT_result.fun} with OGT:\\n{OGT_result.x}')"
      ],
      "metadata": {
        "id": "Saou9zyXdrS_"
      },
      "execution_count": null,
      "outputs": []
    },
    {
      "cell_type": "code",
      "source": [
        "node_optimization(initial_guesses_FOD, nodes, 'FOD', m=1)\n",
        "FOD_result = scipy.optimize.minimize(node_optimization, initial_guesses_FOD, args=(nodes, 'FOD', 1))\n",
        "# print(f'RSS = {FOD_result.fun} with FOD:\\n{FOD_result.x}')"
      ],
      "metadata": {
        "id": "3R6eo-OcdrQa"
      },
      "execution_count": null,
      "outputs": []
    },
    {
      "cell_type": "code",
      "source": [
        "def calc_contrast(child_values:list):\n",
        "  total_difference = sum(child_values[j] - child_values[i] for i in range(len(child_values)) \\\n",
        "                         for j in range(i+1, len(child_values)))\n",
        "  contrast = total_difference/(len(child_values)*(len(child_values) - 1)/2)\n",
        "  return contrast"
      ],
      "metadata": {
        "id": "D71fybIrTwjs"
      },
      "execution_count": null,
      "outputs": []
    },
    {
      "cell_type": "code",
      "source": [
        "# contrast calculation\n",
        "for node in nodes:\n",
        "  if not node.is_leaf:\n",
        "    node.OGT_contrast = calc_contrast([child.OGT for child in node.clades])\n",
        "    node.FOD_contrast = calc_contrast([child.FOD for child in node.clades])"
      ],
      "metadata": {
        "id": "UF1xvJKbd2Ji"
      },
      "execution_count": null,
      "outputs": []
    },
    {
      "cell_type": "code",
      "source": [
        "OGTvsFOD = pd.DataFrame({'FOD':[node.FOD for node in nodes if not node.is_leaf],\n",
        "                         'OGT':[node.OGT for node in nodes if not node.is_leaf],\n",
        "                         'FOD_contrast':[node.FOD_contrast for node in nodes if not node.is_leaf],\n",
        "                         'OGT_contrast':[node.OGT_contrast for node in nodes if not node.is_leaf]},\n",
        "                        index=[node.name for node in nodes if not node.is_leaf])"
      ],
      "metadata": {
        "id": "Juhg5cyGd2G3"
      },
      "execution_count": null,
      "outputs": []
    },
    {
      "cell_type": "code",
      "source": [
        "# OGTvsFOD.to_csv('OGTvsFOD.csv')"
      ],
      "metadata": {
        "id": "JTYwK4SnR9y-"
      },
      "execution_count": null,
      "outputs": []
    },
    {
      "cell_type": "markdown",
      "source": [
        "## Analysis"
      ],
      "metadata": {
        "id": "XeXtXxUfR5lE"
      }
    },
    {
      "cell_type": "code",
      "source": [
        "OGTvsFOD = pd.read_csv('/content/IDP_analysis/datafiles/phylogenetics/OGTvsFOD.csv', index_col=0)"
      ],
      "metadata": {
        "id": "EpgR7Ve1SOQW"
      },
      "execution_count": null,
      "outputs": []
    },
    {
      "cell_type": "code",
      "source": [
        "sns.histplot(data=OGTvsFOD, x='OGT_contrast', y='FOD_contrast')\n",
        "plt.show()"
      ],
      "metadata": {
        "colab": {
          "base_uri": "https://localhost:8080/",
          "height": 449
        },
        "id": "WFY7YzwBccgB",
        "outputId": "1c73a688-1cdc-400f-bf02-a2b3ff621bd2"
      },
      "execution_count": null,
      "outputs": [
        {
          "output_type": "display_data",
          "data": {
            "text/plain": [
              "<Figure size 640x480 with 1 Axes>"
            ],
            "image/png": "[encoded data removed]"
          },
          "metadata": {}
        }
      ]
    },
    {
      "cell_type": "code",
      "source": [
        "sns.kdeplot(data=OGTvsFOD, x='OGT_contrast', y='FOD_contrast', fill=True)"
      ],
      "metadata": {
        "colab": {
          "base_uri": "https://localhost:8080/",
          "height": 466
        },
        "id": "F2TbQQD_ImR7",
        "outputId": "b479dac9-9c94-4ffa-d1b9-c00a9d4e825c"
      },
      "execution_count": null,
      "outputs": [
        {
          "output_type": "execute_result",
          "data": {
            "text/plain": [
              "<Axes: xlabel='OGT_contrast', ylabel='FOD_contrast'>"
            ]
          },
          "metadata": {},
          "execution_count": 189
        },
        {
          "output_type": "display_data",
          "data": {
            "text/plain": [
              "<Figure size 640x480 with 1 Axes>"
            ],
            "image/png": "[encoded data removed]"
          },
          "metadata": {}
        }
      ]
    },
    {
      "cell_type": "code",
      "source": [
        "sns.scatterplot(data=OGTvsFOD, x='OGT_contrast', y='FOD_contrast', alpha=0.25)"
      ],
      "metadata": {
        "colab": {
          "base_uri": "https://localhost:8080/",
          "height": 466
        },
        "id": "AF__DbTH23hz",
        "outputId": "2305917b-eade-462f-d08b-6fdc6177b6c1"
      },
      "execution_count": null,
      "outputs": [
        {
          "output_type": "execute_result",
          "data": {
            "text/plain": [
              "<Axes: xlabel='OGT_contrast', ylabel='FOD_contrast'>"
            ]
          },
          "metadata": {},
          "execution_count": 190
        },
        {
          "output_type": "display_data",
          "data": {
            "text/plain": [
              "<Figure size 640x480 with 1 Axes>"
            ],
            "image/png": "[encoded data removed]"
          },
          "metadata": {}
        }
      ]
    },
    {
      "cell_type": "code",
      "source": [
        "OGTvsFOD_stats = scipy.stats.linregress(OGTvsFOD['OGT_contrast'], OGTvsFOD['FOD_contrast'])\n",
        "OGTvsFOD_stats, OGTvsFOD_stats.rvalue**2"
      ],
      "metadata": {
        "id": "IHR-Ic6Ldc4o",
        "colab": {
          "base_uri": "https://localhost:8080/"
        },
        "outputId": "15d9f03d-8591-4a66-baef-a4e5e1d9b59d"
      },
      "execution_count": null,
      "outputs": [
        {
          "output_type": "execute_result",
          "data": {
            "text/plain": [
              "(LinregressResult(slope=-1.0672715514517473e-05, intercept=0.0016655289710560922, rvalue=-0.0045130203651971654, pvalue=0.9370242390411343, stderr=0.00013496899979209402, intercept_stderr=0.0009373171210907114),\n",
              " 2.0367352816684356e-05)"
            ]
          },
          "metadata": {},
          "execution_count": 191
        }
      ]
    },
    {
      "cell_type": "markdown",
      "source": [
        "Seems like when phylogeny is controlled for, there is no relationship between OGT and FOD"
      ],
      "metadata": {
        "id": "T7pQPl835JXt"
      }
    },
    {
      "cell_type": "code",
      "source": [
        "df = pd.DataFrame({'X':OGTvsFOD['OGT_contrast'],\n",
        "                  'Y':OGTvsFOD['FOD_contrast']})\n",
        "\n",
        "num_iterations = 10000\n",
        "observed_corr, _ = scipy.stats.spearmanr(df['X'], df['Y'])\n",
        "\n",
        "# Initialize an array to store resampled correlations\n",
        "resampled_correlations = []\n",
        "\n",
        "# Perform permutation testing (resampling)\n",
        "for i in range(num_iterations):\n",
        "    permuted_Y = np.random.permutation(df['Y'])  # Permute the Y values\n",
        "    resampled_corr, _ = scipy.stats.spearmanr(df['X'], permuted_Y)\n",
        "    resampled_correlations.append(resampled_corr)\n",
        "\n",
        "# Calculate the p-value based on the resampled correlations\n",
        "p_value = (np.abs(resampled_correlations) >= np.abs(observed_corr)).mean()\n",
        "print(\"p-value:\", p_value)"
      ],
      "metadata": {
        "id": "fq7Kj90T3N9G",
        "colab": {
          "base_uri": "https://localhost:8080/"
        },
        "outputId": "232566a0-22cf-4804-fd30-3e7e89ea9ad6"
      },
      "execution_count": null,
      "outputs": [
        {
          "output_type": "stream",
          "name": "stdout",
          "text": [
            "p-value: 0.6251\n"
          ]
        }
      ]
    },
    {
      "cell_type": "code",
      "source": [
        "X = OGTvsFOD['OGT_contrast']\n",
        "y = OGTvsFOD['FOD_contrast']\n",
        "\n",
        "linear_model = sm.OLS(y, X).fit()"
      ],
      "metadata": {
        "id": "1qSRuO9H-xBj"
      },
      "execution_count": null,
      "outputs": []
    },
    {
      "cell_type": "code",
      "source": [
        "print(linear_model.summary())"
      ],
      "metadata": {
        "colab": {
          "base_uri": "https://localhost:8080/"
        },
        "id": "cPaeM-Mv_XrB",
        "outputId": "e936e23d-b373-47e7-d074-ec301aed8a26"
      },
      "execution_count": null,
      "outputs": [
        {
          "output_type": "stream",
          "name": "stdout",
          "text": [
            "                                 OLS Regression Results                                \n",
            "=======================================================================================\n",
            "Dep. Variable:           FOD_contrast   R-squared (uncentered):                   0.002\n",
            "Model:                            OLS   Adj. R-squared (uncentered):             -0.002\n",
            "Method:                 Least Squares   F-statistic:                             0.4751\n",
            "Date:                Mon, 04 Dec 2023   Prob (F-statistic):                       0.491\n",
            "Time:                        00:26:39   Log-Likelihood:                          856.76\n",
            "No. Observations:                 309   AIC:                                     -1712.\n",
            "Df Residuals:                     308   BIC:                                     -1708.\n",
            "Df Model:                           1                                                  \n",
            "Covariance Type:            nonrobust                                                  \n",
            "================================================================================\n",
            "                   coef    std err          t      P>|t|      [0.025      0.975]\n",
            "--------------------------------------------------------------------------------\n",
            "OGT_contrast  8.552e-05      0.000      0.689      0.491      -0.000       0.000\n",
            "==============================================================================\n",
            "Omnibus:                       31.113   Durbin-Watson:                   2.091\n",
            "Prob(Omnibus):                  0.000   Jarque-Bera (JB):              109.732\n",
            "Skew:                           0.328   Prob(JB):                     1.49e-24\n",
            "Kurtosis:                       5.845   Cond. No.                         1.00\n",
            "==============================================================================\n",
            "\n",
            "Notes:\n",
            "[1] R² is computed without centering (uncentered) since the model does not contain a constant.\n",
            "[2] Standard Errors assume that the covariance matrix of the errors is correctly specified.\n"
          ]
        }
      ]
    },
    {
      "cell_type": "code",
      "source": [
        "predictions = linear_model.predict([-30, 50])\n",
        "sns.scatterplot(data=OGTvsFOD, x='OGT_contrast', y='FOD_contrast', alpha=0.25)\n",
        "sns.lineplot(x=[-30, 50], y=predictions)"
      ],
      "metadata": {
        "colab": {
          "base_uri": "https://localhost:8080/",
          "height": 466
        },
        "id": "23tpfQAa7E_N",
        "outputId": "7c789bae-6451-46d8-a845-5ff2e2761637"
      },
      "execution_count": null,
      "outputs": [
        {
          "output_type": "execute_result",
          "data": {
            "text/plain": [
              "<Axes: xlabel='OGT_contrast', ylabel='FOD_contrast'>"
            ]
          },
          "metadata": {},
          "execution_count": 195
        },
        {
          "output_type": "display_data",
          "data": {
            "text/plain": [
              "<Figure size 640x480 with 1 Axes>"
            ],
            "image/png": "[encoded data removed]"
          },
          "metadata": {}
        }
      ]
    },
    {
      "cell_type": "code",
      "source": [
        "polynomial_model = sm.OLS(y, X**2).fit()\n",
        "print(polynomial_model.summary())"
      ],
      "metadata": {
        "colab": {
          "base_uri": "https://localhost:8080/"
        },
        "id": "gHPNsy4a-w--",
        "outputId": "3d650fcc-f0e3-4c94-e07a-5f556e0d8535"
      },
      "execution_count": null,
      "outputs": [
        {
          "output_type": "stream",
          "name": "stdout",
          "text": [
            "                                 OLS Regression Results                                \n",
            "=======================================================================================\n",
            "Dep. Variable:           FOD_contrast   R-squared (uncentered):                   0.007\n",
            "Model:                            OLS   Adj. R-squared (uncentered):              0.004\n",
            "Method:                 Least Squares   F-statistic:                              2.139\n",
            "Date:                Mon, 04 Dec 2023   Prob (F-statistic):                       0.145\n",
            "Time:                        00:27:03   Log-Likelihood:                          857.60\n",
            "No. Observations:                 309   AIC:                                     -1713.\n",
            "Df Residuals:                     308   BIC:                                     -1709.\n",
            "Df Model:                           1                                                  \n",
            "Covariance Type:            nonrobust                                                  \n",
            "================================================================================\n",
            "                   coef    std err          t      P>|t|      [0.025      0.975]\n",
            "--------------------------------------------------------------------------------\n",
            "OGT_contrast  7.284e-06   4.98e-06      1.462      0.145   -2.52e-06    1.71e-05\n",
            "==============================================================================\n",
            "Omnibus:                       30.517   Durbin-Watson:                   2.079\n",
            "Prob(Omnibus):                  0.000   Jarque-Bera (JB):              109.697\n",
            "Skew:                           0.307   Prob(JB):                     1.51e-24\n",
            "Kurtosis:                       5.854   Cond. No.                         1.00\n",
            "==============================================================================\n",
            "\n",
            "Notes:\n",
            "[1] R² is computed without centering (uncentered) since the model does not contain a constant.\n",
            "[2] Standard Errors assume that the covariance matrix of the errors is correctly specified.\n"
          ]
        }
      ]
    },
    {
      "cell_type": "code",
      "source": [
        "predictions = polynomial_model.predict(np.arange(-30, 50))\n",
        "sns.scatterplot(data=OGTvsFOD, x='OGT_contrast', y='FOD_contrast', alpha=0.25)\n",
        "sns.lineplot(x=np.arange(-30, 50), y=predictions)"
      ],
      "metadata": {
        "colab": {
          "base_uri": "https://localhost:8080/",
          "height": 466
        },
        "id": "0L8wm968_-hK",
        "outputId": "185468c7-0217-4f2f-c695-391c1daf1780"
      },
      "execution_count": null,
      "outputs": [
        {
          "output_type": "execute_result",
          "data": {
            "text/plain": [
              "<Axes: xlabel='OGT_contrast', ylabel='FOD_contrast'>"
            ]
          },
          "metadata": {},
          "execution_count": 197
        },
        {
          "output_type": "display_data",
          "data": {
            "text/plain": [
              "<Figure size 640x480 with 1 Axes>"
            ],
            "image/png": "[encoded data removed]"
          },
          "metadata": {}
        }
      ]
    },
    {
      "cell_type": "code",
      "source": [
        "predictions = linear_model.predict([-30, 50])\n",
        "\n",
        "fig, ax = plt.subplots(figsize=(8, 5))\n",
        "\n",
        "plt.ylabel('FOD contrast')\n",
        "plt.xlabel('OGT contrast')\n",
        "sns.scatterplot(data=OGTvsFOD, x='OGT_contrast', y='FOD_contrast', alpha=0.35, color='black')\n",
        "sns.lineplot(x=[-30, 50], y=predictions, color='red')\n",
        "plt.show()"
      ],
      "metadata": {
        "colab": {
          "base_uri": "https://localhost:8080/",
          "height": 465
        },
        "id": "GQZG0gpz_-et",
        "outputId": "cc8e68b6-7b0d-4d82-9d66-70104697bef0"
      },
      "execution_count": null,
      "outputs": [
        {
          "output_type": "display_data",
          "data": {
            "text/plain": [
              "<Figure size 800x500 with 1 Axes>"
            ],
            "image/png": "[encoded data removed]"
          },
          "metadata": {}
        }
      ]
    },
    {
      "cell_type": "code",
      "source": [
        "# fig.savefig('contrast.svg')"
      ],
      "metadata": {
        "id": "3-nn9uEA_-cR"
      },
      "execution_count": null,
      "outputs": []
    }
  ]
}