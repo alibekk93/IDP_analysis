{
  "nbformat": 4,
  "nbformat_minor": 0,
  "metadata": {
    "colab": {
      "provenance": [],
      "authorship_tag": "ABX9TyMJa6IWicXNS5ZpFtzNhUE8",
      "include_colab_link": true
    },
    "kernelspec": {
      "name": "python3",
      "display_name": "Python 3"
    },
    "language_info": {
      "name": "python"
    }
  },
  "cells": [
    {
      "cell_type": "markdown",
      "metadata": {
        "id": "view-in-github",
        "colab_type": "text"
      },
      "source": [
        "<a href=\"https://colab.research.google.com/github/alibekk93/IDP_analysis/blob/RAPID/getting_proteomes.ipynb\" target=\"_parent\"><img src=\"https://colab.research.google.com/assets/colab-badge.svg\" alt=\"Open In Colab\"/></a>"
      ]
    },
    {
      "cell_type": "markdown",
      "source": [
        "# Getting UniProt proteomes for Tempura species"
      ],
      "metadata": {
        "id": "gCrzBW06JRvI"
      }
    },
    {
      "cell_type": "markdown",
      "source": [
        "## Setup"
      ],
      "metadata": {
        "id": "W0xJmhROJXUu"
      }
    },
    {
      "cell_type": "code",
      "execution_count": 49,
      "metadata": {
        "id": "qwA-LYi0wMXn"
      },
      "outputs": [],
      "source": [
        "import pandas as pd\n",
        "import numpy as np\n",
        "from tqdm import tqdm"
      ]
    },
    {
      "cell_type": "markdown",
      "source": [
        "Loading Tempura dataset"
      ],
      "metadata": {
        "id": "OrTQK2xtJqDQ"
      }
    },
    {
      "cell_type": "code",
      "source": [
        "# tempura = pd.read_csv('/content/200617_TEMPURA.csv')\n",
        "tempura = pd.read_csv('/content/tempura_bacteria_uniprot.csv', index_col=0)"
      ],
      "metadata": {
        "id": "HBbhsf-WxBFD"
      },
      "execution_count": 140,
      "outputs": []
    },
    {
      "cell_type": "markdown",
      "source": [
        "Only keeping bacteria with available assembly or accession numbers"
      ],
      "metadata": {
        "id": "f74pkmUeJfVT"
      }
    },
    {
      "cell_type": "code",
      "source": [
        "tempura = tempura[tempura['superkingdom']=='Bacteria']\n",
        "tempura.dropna(subset='assembly_or_accession', inplace=True)\n",
        "tempura.reset_index(drop=True, inplace=True)"
      ],
      "metadata": {
        "id": "Z8qouNgexBbA"
      },
      "execution_count": 141,
      "outputs": []
    },
    {
      "cell_type": "markdown",
      "source": [
        "## Getting UniProt IDs"
      ],
      "metadata": {
        "id": "RhKK8S_2JazH"
      }
    },
    {
      "cell_type": "markdown",
      "source": [
        "Tepura has NCBI taxonomy IDs, but we need UniProt proteome IDs. We can get them using UniProt REST API search"
      ],
      "metadata": {
        "id": "eRusyqinJwYo"
      }
    },
    {
      "cell_type": "code",
      "source": [
        "uniprot_jsons = []\n",
        "failures = []\n",
        "\n",
        "# loop through the taxonomy IDs and retrieve proteome data\n",
        "for tax_id in tqdm(tempura['taxonomy_id']):\n",
        "  # define the UniProt API URL\n",
        "  url = f'https://rest.uniprot.org/proteomes/stream?format=json&query=%28%28taxonomy_id%3A{tax_id}%29%29'\n",
        "  # send an HTTP GET request to the UniProt API\n",
        "  response = requests.get(url)\n",
        "  # Check if the request was successful\n",
        "  if response.status_code == 200:\n",
        "    # save JSON\n",
        "    uniprot_jsons.append(response.json())\n",
        "  else:\n",
        "    failures.append(tax_id)\n",
        "    uniprot_jsons.append({})"
      ],
      "metadata": {
        "colab": {
          "base_uri": "https://localhost:8080/"
        },
        "id": "YUv2C0fB74hi",
        "outputId": "cde8bcff-694e-43c4-f4ea-859c06e2b47a"
      },
      "execution_count": 50,
      "outputs": [
        {
          "output_type": "stream",
          "name": "stderr",
          "text": [
            "100%|██████████| 893/893 [08:24<00:00,  1.77it/s]\n"
          ]
        }
      ]
    },
    {
      "cell_type": "markdown",
      "source": [
        "In many cases we get mre than one search result for one taxonomy ID. We need to check each search result and only keep the UniProt ID that has the same taxonomy ID as Tempura"
      ],
      "metadata": {
        "id": "Mhqi7sv7KBIH"
      }
    },
    {
      "cell_type": "code",
      "source": [
        "# initiate empty list to save UniProt IDs\n",
        "uniprot_ids = []\n",
        "\n",
        "# iterate through JSON results\n",
        "for i, jsn in enumerate(uniprot_jsons):\n",
        "  # get results\n",
        "  results = jsn['results']\n",
        "  # get candidate UniProt IDs and corresponding taxonomy IDs\n",
        "  u_ids = [r['id'] for r in results]\n",
        "  t_ids = [r['taxonomy']['taxonId'] for r in results]\n",
        "  # make a dictionary of candidate IDs\n",
        "  results_dict = {k:v for k, v in zip(t_ids, u_ids)}\n",
        "  # get actual taxonomy ID\n",
        "  taxonomy_id = tempura.loc[i, 'taxonomy_id']\n",
        "  # save correct UniProt ID\n",
        "  try:\n",
        "    uniprot_ids.append(results_dict[taxonomy_id])\n",
        "  except:\n",
        "    # no correct ID found\n",
        "    uniprot_ids.append(None)"
      ],
      "metadata": {
        "id": "IfXFBMziEcq3"
      },
      "execution_count": 91,
      "outputs": []
    },
    {
      "cell_type": "markdown",
      "source": [
        "We can now drop any Tempura rows with no available UniProt IDs and store the result"
      ],
      "metadata": {
        "id": "1nRNvH05KPdn"
      }
    },
    {
      "cell_type": "code",
      "source": [
        "tempura['uniprot_id'] = uniprot_ids"
      ],
      "metadata": {
        "id": "Ee6rRDqIGjXL"
      },
      "execution_count": 103,
      "outputs": []
    },
    {
      "cell_type": "code",
      "source": [
        "tempura.dropna(subset='uniprot_id', inplace=True)"
      ],
      "metadata": {
        "id": "ISs1RefSGjUd"
      },
      "execution_count": 115,
      "outputs": []
    },
    {
      "cell_type": "code",
      "source": [
        "tempura.reset_index(drop=True, inplace=True)"
      ],
      "metadata": {
        "id": "TC3ydi-fIc3I"
      },
      "execution_count": 117,
      "outputs": []
    },
    {
      "cell_type": "code",
      "source": [
        "tempura.to_csv('tempura_bacteria_uniprot.csv')"
      ],
      "metadata": {
        "id": "R009ua3BIc09"
      },
      "execution_count": 137,
      "outputs": []
    },
    {
      "cell_type": "markdown",
      "source": [
        "## Downloading UniProt proteomes"
      ],
      "metadata": {
        "id": "F2yc99UUKY7y"
      }
    },
    {
      "cell_type": "code",
      "source": [
        "!mkdir proteomes"
      ],
      "metadata": {
        "id": "4THt0_CpLwBW"
      },
      "execution_count": 143,
      "outputs": []
    },
    {
      "cell_type": "code",
      "source": [
        "tempura.info()"
      ],
      "metadata": {
        "colab": {
          "base_uri": "https://localhost:8080/"
        },
        "id": "sVyK87LaIcy4",
        "outputId": "927f0ac4-9441-4025-e360-53546f963949"
      },
      "execution_count": 146,
      "outputs": [
        {
          "output_type": "stream",
          "name": "stdout",
          "text": [
            "<class 'pandas.core.frame.DataFrame'>\n",
            "RangeIndex: 680 entries, 0 to 679\n",
            "Data columns (total 21 columns):\n",
            " #   Column                 Non-Null Count  Dtype  \n",
            "---  ------                 --------------  -----  \n",
            " 0   genus_and_species      680 non-null    object \n",
            " 1   taxonomy_id            680 non-null    int64  \n",
            " 2   strain                 680 non-null    object \n",
            " 3   superkingdom           680 non-null    object \n",
            " 4   phylum                 680 non-null    object \n",
            " 5   class                  678 non-null    object \n",
            " 6   order                  673 non-null    object \n",
            " 7   family                 662 non-null    object \n",
            " 8   genus                  675 non-null    object \n",
            " 9   assembly_or_accession  680 non-null    object \n",
            " 10  Genome_GC              651 non-null    float64\n",
            " 11  Genome_size            680 non-null    float64\n",
            " 12  16S_accssion           680 non-null    object \n",
            " 13  16S_GC                 680 non-null    float64\n",
            " 14  Tmin                   680 non-null    float64\n",
            " 15  Topt_ave               680 non-null    float64\n",
            " 16  Topt_low               258 non-null    float64\n",
            " 17  Topt_high              258 non-null    float64\n",
            " 18  Tmax                   680 non-null    float64\n",
            " 19  Tmax_Tmin              680 non-null    float64\n",
            " 20  uniprot_id             680 non-null    object \n",
            "dtypes: float64(9), int64(1), object(11)\n",
            "memory usage: 111.7+ KB\n"
          ]
        }
      ]
    },
    {
      "cell_type": "code",
      "source": [
        "failures = []\n",
        "\n",
        "for i in tqdm(tempura.index):\n",
        "  # make file path and get UniProt ID\n",
        "  species = tempura.loc[i, 'genus_and_species'].replace(' ', '_')\n",
        "  fasta_file_path = f'/content/proteomes/{species}.fasta'\n",
        "  id = tempura.loc[i, 'uniprot_id']\n",
        "  # define the UniProt API URL to retrieve FASTA data\n",
        "  url = f'https://rest.uniprot.org/uniprotkb/stream?format=fasta&query=%28%28proteome%3A{id}%29%29'\n",
        "  # send an HTTP GET request to the UniProt API to get FASTA data\n",
        "  response = requests.get(url)\n",
        "  # check if the request was successful\n",
        "  if response.status_code == 200:\n",
        "    # save the FASTA data to a file\n",
        "    with open(fasta_file_path, 'w') as fasta_file:\n",
        "      fasta_file.write(response.text)\n",
        "  else:\n",
        "    failures.append(id)"
      ],
      "metadata": {
        "colab": {
          "base_uri": "https://localhost:8080/"
        },
        "id": "wLhoQR5MLTNR",
        "outputId": "b22356ae-b178-4e8f-ab71-d258be86fd61"
      },
      "execution_count": 165,
      "outputs": [
        {
          "output_type": "stream",
          "name": "stderr",
          "text": [
            "100%|██████████| 680/680 [56:33<00:00,  4.99s/it]\n"
          ]
        }
      ]
    },
    {
      "cell_type": "code",
      "source": [
        "failures"
      ],
      "metadata": {
        "colab": {
          "base_uri": "https://localhost:8080/"
        },
        "id": "RTXxlgftLTJ5",
        "outputId": "92cda7ed-462b-4960-97fe-e42aff9bc618"
      },
      "execution_count": 166,
      "outputs": [
        {
          "output_type": "execute_result",
          "data": {
            "text/plain": [
              "[]"
            ]
          },
          "metadata": {},
          "execution_count": 166
        }
      ]
    },
    {
      "cell_type": "code",
      "source": [
        "!zip -r /content/proteomes.zip /content/proteomes -i '*.fasta'\n",
        "from google.colab import files\n",
        "files.download('/content/proteomes.zip')"
      ],
      "metadata": {
        "id": "ZPfUXFgwLTHj"
      },
      "execution_count": null,
      "outputs": []
    },
    {
      "cell_type": "markdown",
      "source": [
        "## Filter to remove empty / short FASTA files"
      ],
      "metadata": {
        "id": "2qV-58jtkoGL"
      }
    },
    {
      "cell_type": "code",
      "source": [],
      "metadata": {
        "id": "av-YifuThIyl"
      },
      "execution_count": null,
      "outputs": []
    },
    {
      "cell_type": "code",
      "source": [],
      "metadata": {
        "id": "fJr_obyrhIwA"
      },
      "execution_count": null,
      "outputs": []
    },
    {
      "cell_type": "code",
      "source": [],
      "metadata": {
        "id": "Isi8KdohhItV"
      },
      "execution_count": null,
      "outputs": []
    },
    {
      "cell_type": "code",
      "source": [],
      "metadata": {
        "id": "4OrPvv8AIcxB"
      },
      "execution_count": null,
      "outputs": []
    },
    {
      "cell_type": "code",
      "source": [],
      "metadata": {
        "id": "yB_1pNdrGjSN"
      },
      "execution_count": null,
      "outputs": []
    },
    {
      "cell_type": "code",
      "source": [],
      "metadata": {
        "colab": {
          "base_uri": "https://localhost:8080/"
        },
        "id": "Ib637haY74X1",
        "outputId": "e1eabdb9-586a-40e1-86a9-2473a016b03c"
      },
      "execution_count": 73,
      "outputs": [
        {
          "output_type": "execute_result",
          "data": {
            "text/plain": [
              "[771875, 93466]"
            ]
          },
          "metadata": {},
          "execution_count": 73
        }
      ]
    },
    {
      "cell_type": "code",
      "source": [
        "failures = []\n",
        "species = []\n",
        "\n",
        "for id in tempura.loc[10:30, 'taxonomy_id']:\n",
        "  try:\n",
        "    Entrez.email = 'arkug@uottawa.ca'\n",
        "    taxonomy_id = id\n",
        "    handle = Entrez.efetch(db=\"taxonomy\", id=taxonomy_id, retmode=\"xml\")\n",
        "    record = Entrez.read(handle)\n",
        "    organism_name = record[0][\"ScientificName\"].replace(' ', '_')\n",
        "    species.append(organism_name)\n",
        "    handle.close()\n",
        "    handle = Entrez.esearch(db='protein', term=f'txid{taxonomy_id}[Organism]', retmax=100000)\n",
        "    record = Entrez.read(handle)\n",
        "    handle.close()\n",
        "    id_list = record['IdList']\n",
        "    handle = Entrez.efetch(db='protein', id=id_list, rettype='fasta', retmode='text')\n",
        "    records = SeqIO.parse(handle, 'fasta')\n",
        "    SeqIO.write(records, f'{organism_name}.fasta', 'fasta')\n",
        "    handle.close()\n",
        "  except:\n",
        "    failures.append(id)\n",
        "    pass"
      ],
      "metadata": {
        "id": "VZgH4uVB3BBj"
      },
      "execution_count": 51,
      "outputs": []
    },
    {
      "cell_type": "code",
      "source": [
        "taxonomy_id = '526'\n",
        "url = f'https://rest.uniprot.org/proteomes/search?compressed=true&format=list&query=%28%28taxonomy_id%3A1609559%29%29&size=5'\n",
        "response = requests.get(url)"
      ],
      "metadata": {
        "id": "5dnEBwZe_1Z1"
      },
      "execution_count": 67,
      "outputs": []
    },
    {
      "cell_type": "code",
      "source": [
        "response.content"
      ],
      "metadata": {
        "colab": {
          "base_uri": "https://localhost:8080/"
        },
        "id": "zexJ87iFAvA7",
        "outputId": "02c65973-0ed4-445d-8425-98eeb8bfc529"
      },
      "execution_count": 70,
      "outputs": [
        {
          "output_type": "execute_result",
          "data": {
            "text/plain": [
              "b'\\x1f\\x8b\\x08\\x00\\x00\\x00\\x00\\x00\\x00\\x00\\x0b\\r0\\x00\\x02s\\x03S\\x0bs.\\x00\\x90\\xf8\\xde\\xe9\\x0c\\x00\\x00\\x00'"
            ]
          },
          "metadata": {},
          "execution_count": 70
        }
      ]
    },
    {
      "cell_type": "code",
      "source": [
        "with open(f\"{taxonomy_id}.txt\", \"wb\") as f:\n",
        "    f.write(response.content)"
      ],
      "metadata": {
        "id": "cwPmRR32AEhJ"
      },
      "execution_count": 68,
      "outputs": []
    },
    {
      "cell_type": "code",
      "source": [
        "import requests\n",
        "\n",
        "# List of taxonomy IDs\n",
        "taxonomy_ids = [562, 1609559]  # Add your taxonomy IDs here\n",
        "\n",
        "# Initialize an empty DataFrame to store the proteome data\n",
        "proteome_data = pd.DataFrame(columns=['Entry', 'Entry name', 'Protein names', 'Gene names', 'Organism'])\n",
        "\n",
        "# Loop through the taxonomy IDs and retrieve proteome data\n",
        "for tax_id in taxonomy_ids:\n",
        "    # Define the UniProt API URL\n",
        "    url = f'https://rest.uniprot.org/proteomes/stream?format=json&query=%28%28taxonomy_id%3A{tax_id}%29%29'\n",
        "\n",
        "    # Send an HTTP GET request to the UniProt API\n",
        "    response = requests.get(url)\n",
        "\n",
        "#     # Check if the request was successful\n",
        "#     if response.status_code == 200:\n",
        "#         # Parse the response text and append it to the DataFrame\n",
        "#         data = response.text.strip().split('\\n')\n",
        "#         data = [line.split('\\t') for line in data]\n",
        "#         proteome_data = proteome_data.append(pd.DataFrame(data, columns=proteome_data.columns))\n",
        "#     else:\n",
        "#         print(f\"Failed to retrieve data for taxonomy ID {tax_id}\")\n",
        "\n",
        "# # Save the proteome data to a CSV file\n",
        "# proteome_data.to_csv('proteome_data.csv', index=False)\n"
      ],
      "metadata": {
        "id": "FrLUaO8h-VQa"
      },
      "execution_count": 18,
      "outputs": []
    },
    {
      "cell_type": "code",
      "source": [
        "json = response.json()"
      ],
      "metadata": {
        "id": "j_nmlEJw4nDs"
      },
      "execution_count": 30,
      "outputs": []
    },
    {
      "cell_type": "code",
      "source": [
        "json['results'][0]['id']"
      ],
      "metadata": {
        "colab": {
          "base_uri": "https://localhost:8080/",
          "height": 35
        },
        "id": "TJmdVDib7bx9",
        "outputId": "0dbf4d0d-953f-43a3-b10b-f6caab31a07f"
      },
      "execution_count": 34,
      "outputs": [
        {
          "output_type": "execute_result",
          "data": {
            "text/plain": [
              "'UP000070587'"
            ],
            "application/vnd.google.colaboratory.intrinsic+json": {
              "type": "string"
            }
          },
          "metadata": {},
          "execution_count": 34
        }
      ]
    },
    {
      "cell_type": "code",
      "source": [
        "json['results'][0]['taxonomy']['scientificName']"
      ],
      "metadata": {
        "colab": {
          "base_uri": "https://localhost:8080/",
          "height": 35
        },
        "id": "ybkgBg3F7bvZ",
        "outputId": "35aabf2c-95a4-4eec-a537-cd039235c304"
      },
      "execution_count": 37,
      "outputs": [
        {
          "output_type": "execute_result",
          "data": {
            "text/plain": [
              "'Pyrococcus kukulkanii'"
            ],
            "application/vnd.google.colaboratory.intrinsic+json": {
              "type": "string"
            }
          },
          "metadata": {},
          "execution_count": 37
        }
      ]
    },
    {
      "cell_type": "code",
      "source": [
        "json['results'][0]"
      ],
      "metadata": {
        "colab": {
          "base_uri": "https://localhost:8080/"
        },
        "id": "DcwSHPOW7bs9",
        "outputId": "0e2684ec-11c9-48bf-e56b-fc594f4b31f0"
      },
      "execution_count": 42,
      "outputs": [
        {
          "output_type": "execute_result",
          "data": {
            "text/plain": [
              "{'id': 'UP000070587',\n",
              " 'taxonomy': {'scientificName': 'Pyrococcus kukulkanii', 'taxonId': 1609559},\n",
              " 'modified': '2022-06-23',\n",
              " 'proteomeType': 'Other proteome',\n",
              " 'strain': 'NCB100',\n",
              " 'components': [{'name': 'Chromosome',\n",
              "   'description': 'Pyrococcus sp. NCB100',\n",
              "   'proteinCount': 1997,\n",
              "   'genomeAnnotation': {'source': 'ENA/EMBL'},\n",
              "   'proteomeCrossReferences': [{'database': 'GenomeAccession',\n",
              "     'id': 'CP010835'},\n",
              "    {'database': 'Biosample', 'id': 'SAMN03323778'}]}],\n",
              " 'citations': [{'id': '27189596',\n",
              "   'citationType': 'journal article',\n",
              "   'authors': ['Callac N.',\n",
              "    'Oger P.',\n",
              "    'Lesongeur F.',\n",
              "    'Rattray J.E.',\n",
              "    'Vannier P.',\n",
              "    'Michoud G.',\n",
              "    'Beauverger M.',\n",
              "    'Gayet N.',\n",
              "    'Rouxel O.',\n",
              "    'Jebbar M.',\n",
              "    'Godfroy A.'],\n",
              "   'citationCrossReferences': [{'database': 'PubMed', 'id': '27189596'},\n",
              "    {'database': 'DOI', 'id': '10.1099/ijsem.0.001160'}],\n",
              "   'title': 'Pyrococcus kukulkanii sp. nov., a hyperthermophilic, piezophilic archaeon isolated from a deep-sea hydrothermal vent.',\n",
              "   'publicationDate': '2016',\n",
              "   'journal': 'Int. J. Syst. Evol. Microbiol.',\n",
              "   'firstPage': '3142',\n",
              "   'lastPage': '3149',\n",
              "   'volume': '66'},\n",
              "  {'id': 'CI-7T7VTSAD8SB2N',\n",
              "   'citationType': 'submission',\n",
              "   'authors': ['Oger P.M.', 'Callac N.', 'Jebbar M.', 'Godfroy A.'],\n",
              "   'title': 'Pyrococcus kukulkanii sp. nov., a novel hyperthermophilic archaeon isolated from a deep-sea hydrothermal vent at the Guaymas Basin.',\n",
              "   'publicationDate': 'FEB-2015',\n",
              "   'submissionDatabase': 'EMBL/GenBank/DDBJ databases'}],\n",
              " 'panproteome': 'UP000001013',\n",
              " 'annotationScore': 2,\n",
              " 'superkingdom': 'archaea',\n",
              " 'proteomeCompletenessReport': {'buscoReport': {'complete': 229,\n",
              "   'completeSingle': 229,\n",
              "   'completeDuplicated': 0,\n",
              "   'fragmented': 0,\n",
              "   'missing': 5,\n",
              "   'total': 234,\n",
              "   'lineageDb': 'euryarchaeota_odb10',\n",
              "   'score': 97},\n",
              "  'cpdReport': {'proteomeCount': 83,\n",
              "   'stdCdss': 0.0,\n",
              "   'averageCdss': 0,\n",
              "   'confidence': 0,\n",
              "   'status': 'Standard'}},\n",
              " 'genomeAssembly': {'assemblyId': 'GCA_001577775.1',\n",
              "  'genomeAssemblyUrl': 'https://www.ebi.ac.uk/ena/browser/view/GCA_001577775.1',\n",
              "  'level': 'full',\n",
              "  'source': 'ENA/EMBL'},\n",
              " 'geneCount': 0,\n",
              " 'proteinCount': 1997,\n",
              " 'genomeAnnotation': {'source': 'ENA/EMBL',\n",
              "  'url': 'https://www.ebi.ac.uk/ena/browser/view/GCA_001577775.1'},\n",
              " 'taxonLineage': [{'scientificName': 'Archaea',\n",
              "   'taxonId': 2157,\n",
              "   'rank': 'superkingdom',\n",
              "   'hidden': False},\n",
              "  {'scientificName': 'Euryarchaeota',\n",
              "   'taxonId': 28890,\n",
              "   'rank': 'phylum',\n",
              "   'hidden': False},\n",
              "  {'scientificName': 'Thermococci',\n",
              "   'taxonId': 183968,\n",
              "   'rank': 'class',\n",
              "   'hidden': False},\n",
              "  {'scientificName': 'Thermococcales',\n",
              "   'taxonId': 2258,\n",
              "   'rank': 'order',\n",
              "   'hidden': False},\n",
              "  {'scientificName': 'Thermococcaceae',\n",
              "   'taxonId': 2259,\n",
              "   'rank': 'family',\n",
              "   'hidden': False},\n",
              "  {'scientificName': 'Pyrococcus',\n",
              "   'taxonId': 2260,\n",
              "   'rank': 'genus',\n",
              "   'hidden': False}]}"
            ]
          },
          "metadata": {},
          "execution_count": 42
        }
      ]
    },
    {
      "cell_type": "code",
      "source": [],
      "metadata": {
        "id": "3R0L0PT27bqH"
      },
      "execution_count": null,
      "outputs": []
    },
    {
      "cell_type": "code",
      "source": [
        "failures"
      ],
      "metadata": {
        "colab": {
          "base_uri": "https://localhost:8080/"
        },
        "id": "Hyruv6y-xBrp",
        "outputId": "af2da7ae-3519-4a1e-950c-307a798dbfd9"
      },
      "execution_count": 52,
      "outputs": [
        {
          "output_type": "execute_result",
          "data": {
            "text/plain": [
              "[2265, 1104324, 985052, 229980, 2180, 1273541, 94694, 2271, 187880, 187878]"
            ]
          },
          "metadata": {},
          "execution_count": 52
        }
      ]
    },
    {
      "cell_type": "code",
      "source": [
        "!zip -r /content/fasta_files.zip /content -i '*.fasta'\n",
        "from google.colab import files\n",
        "files.download('/content/fasta_files.zip')"
      ],
      "metadata": {
        "colab": {
          "base_uri": "https://localhost:8080/",
          "height": 225
        },
        "id": "MEhKOsN6xB26",
        "outputId": "f58a75e3-31db-451c-9231-067cc883673b"
      },
      "execution_count": 50,
      "outputs": [
        {
          "output_type": "stream",
          "name": "stdout",
          "text": [
            "  adding: content/Pyrobaculum_aerophilum.fasta (deflated 53%)\n",
            "  adding: content/Pyrococcus_furiosus.fasta (deflated 54%)\n",
            "  adding: content/Pyrolobus_fumarii.fasta (deflated 48%)\n",
            "  adding: content/Pyrococcus_yayanosii.fasta (deflated 48%)\n",
            "  adding: content/Pyrobaculum_islandicum.fasta (deflated 50%)\n",
            "  adding: content/Pyrococcus_abyssi.fasta (deflated 51%)\n",
            "  adding: content/Hyperthermus_butylicus.fasta (deflated 49%)\n",
            "  adding: content/Pyrococcus_horikoshii.fasta (deflated 59%)\n",
            "  adding: content/Pyrococcus_kukulkanii.fasta (deflated 48%)\n",
            "  adding: content/Escherichia_coli.fasta (deflated 45%)\n",
            "  adding: content/Thermoproteus_uzoniensis.fasta (deflated 50%)\n",
            "  adding: content/Methanopyrus_kandleri.fasta (deflated 52%)\n"
          ]
        },
        {
          "output_type": "display_data",
          "data": {
            "text/plain": [
              "<IPython.core.display.Javascript object>"
            ],
            "application/javascript": [
              "\n",
              "    async function download(id, filename, size) {\n",
              "      if (!google.colab.kernel.accessAllowed) {\n",
              "        return;\n",
              "      }\n",
              "      const div = document.createElement('div');\n",
              "      const label = document.createElement('label');\n",
              "      label.textContent = `Downloading \"${filename}\": `;\n",
              "      div.appendChild(label);\n",
              "      const progress = document.createElement('progress');\n",
              "      progress.max = size;\n",
              "      div.appendChild(progress);\n",
              "      document.body.appendChild(div);\n",
              "\n",
              "      const buffers = [];\n",
              "      let downloaded = 0;\n",
              "\n",
              "      const channel = await google.colab.kernel.comms.open(id);\n",
              "      // Send a message to notify the kernel that we're ready.\n",
              "      channel.send({})\n",
              "\n",
              "      for await (const message of channel.messages) {\n",
              "        // Send a message to notify the kernel that we're ready.\n",
              "        channel.send({})\n",
              "        if (message.buffers) {\n",
              "          for (const buffer of message.buffers) {\n",
              "            buffers.push(buffer);\n",
              "            downloaded += buffer.byteLength;\n",
              "            progress.value = downloaded;\n",
              "          }\n",
              "        }\n",
              "      }\n",
              "      const blob = new Blob(buffers, {type: 'application/binary'});\n",
              "      const a = document.createElement('a');\n",
              "      a.href = window.URL.createObjectURL(blob);\n",
              "      a.download = filename;\n",
              "      div.appendChild(a);\n",
              "      a.click();\n",
              "      div.remove();\n",
              "    }\n",
              "  "
            ]
          },
          "metadata": {}
        },
        {
          "output_type": "display_data",
          "data": {
            "text/plain": [
              "<IPython.core.display.Javascript object>"
            ],
            "application/javascript": [
              "download(\"download_6ff46ff0-cf64-44df-8d45-d678f3a1d0a2\", \"fasta_files.zip\", 11746217)"
            ]
          },
          "metadata": {}
        }
      ]
    },
    {
      "cell_type": "code",
      "source": [],
      "metadata": {
        "id": "zHjPiDVAxB-A"
      },
      "execution_count": null,
      "outputs": []
    },
    {
      "cell_type": "code",
      "source": [],
      "metadata": {
        "id": "pSZRDT2IxCFi"
      },
      "execution_count": null,
      "outputs": []
    }
  ]
}