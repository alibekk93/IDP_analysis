{
  "nbformat": 4,
  "nbformat_minor": 0,
  "metadata": {
    "colab": {
      "name": "OMA_search.ipynb",
      "provenance": [],
      "authorship_tag": "ABX9TyOl/I9bR3Fo+iv2BN7s+G+8",
      "include_colab_link": true
    },
    "kernelspec": {
      "name": "python3",
      "display_name": "Python 3"
    },
    "language_info": {
      "name": "python"
    }
  },
  "cells": [
    {
      "cell_type": "markdown",
      "metadata": {
        "id": "view-in-github",
        "colab_type": "text"
      },
      "source": [
        "<a href=\"https://colab.research.google.com/github/alibekk93/IDP_analysis/blob/main/OMA_search/OMA_search.ipynb\" target=\"_parent\"><img src=\"https://colab.research.google.com/assets/colab-badge.svg\" alt=\"Open In Colab\"/></a>"
      ]
    },
    {
      "cell_type": "code",
      "source": [
        "# copy repo to get available datafiles\n",
        "\n",
        "!git clone https://github.com/alibekk93/IDP_analysis.git"
      ],
      "metadata": {
        "id": "EeiPWL3ikCcN",
        "outputId": "7eef20dc-e512-479a-e0cd-f1dd9fe94f90",
        "colab": {
          "base_uri": "https://localhost:8080/"
        }
      },
      "execution_count": 1,
      "outputs": [
        {
          "output_type": "stream",
          "name": "stdout",
          "text": [
            "Cloning into 'IDP_analysis'...\n",
            "remote: Enumerating objects: 604, done.\u001b[K\n",
            "remote: Counting objects: 100% (219/219), done.\u001b[K\n",
            "remote: Compressing objects: 100% (168/168), done.\u001b[K\n",
            "remote: Total 604 (delta 96), reused 133 (delta 50), pack-reused 385\u001b[K\n",
            "Receiving objects: 100% (604/604), 223.38 MiB | 23.56 MiB/s, done.\n",
            "Resolving deltas: 100% (207/207), done.\n",
            "Checking out files: 100% (50/50), done.\n"
          ]
        }
      ]
    },
    {
      "cell_type": "code",
      "source": [
        "import pandas as pd\n",
        "import numpy as np\n",
        "import matplotlib.pyplot as plt\n",
        "import seaborn as sns\n",
        "import pickle"
      ],
      "metadata": {
        "id": "_UvdQXCyFrnG"
      },
      "execution_count": 6,
      "outputs": []
    },
    {
      "cell_type": "code",
      "source": [
        "oma = pd.read_csv('/content/IDP_analysis/OMA_search/OMA_allSpecies.csv')\n",
        "tempura = pd.read_excel('/content/IDP_analysis/OMA_search/200617_TEMPURA.xlsx')"
      ],
      "metadata": {
        "id": "I5t5nBw9kCYm"
      },
      "execution_count": null,
      "outputs": []
    },
    {
      "cell_type": "code",
      "source": [
        ""
      ],
      "metadata": {
        "id": "Rw4AR_ZnkCXV"
      },
      "execution_count": null,
      "outputs": []
    },
    {
      "cell_type": "code",
      "source": [
        ""
      ],
      "metadata": {
        "id": "z90tH9PMkCV1"
      },
      "execution_count": null,
      "outputs": []
    },
    {
      "cell_type": "code",
      "source": [
        ""
      ],
      "metadata": {
        "id": "iCZKXCVxkCSK"
      },
      "execution_count": null,
      "outputs": []
    },
    {
      "cell_type": "code",
      "execution_count": null,
      "metadata": {
        "id": "vvLSPLMejYHc"
      },
      "outputs": [],
      "source": [
        ""
      ]
    }
  ]
}