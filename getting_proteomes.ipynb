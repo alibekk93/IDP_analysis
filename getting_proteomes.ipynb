{
  "nbformat": 4,
  "nbformat_minor": 0,
  "metadata": {
    "colab": {
      "provenance": [],
      "authorship_tag": "ABX9TyPv4+KPSUz+x3zjaRfeKdDx",
      "include_colab_link": true
    },
    "kernelspec": {
      "name": "python3",
      "display_name": "Python 3"
    },
    "language_info": {
      "name": "python"
    }
  },
  "cells": [
    {
      "cell_type": "markdown",
      "metadata": {
        "id": "view-in-github",
        "colab_type": "text"
      },
      "source": [
        "<a href=\"https://colab.research.google.com/github/alibekk93/IDP_analysis/blob/RAPID/getting_proteomes.ipynb\" target=\"_parent\"><img src=\"https://colab.research.google.com/assets/colab-badge.svg\" alt=\"Open In Colab\"/></a>"
      ]
    },
    {
      "cell_type": "markdown",
      "source": [
        "# Getting UniProt proteomes for Tempura species"
      ],
      "metadata": {
        "id": "gCrzBW06JRvI"
      }
    },
    {
      "cell_type": "markdown",
      "source": [
        "## Setup"
      ],
      "metadata": {
        "id": "W0xJmhROJXUu"
      }
    },
    {
      "cell_type": "code",
      "execution_count": null,
      "metadata": {
        "id": "qwA-LYi0wMXn"
      },
      "outputs": [],
      "source": [
        "import pandas as pd\n",
        "import numpy as np\n",
        "\n",
        "from tqdm import tqdm\n",
        "\n",
        "import matplotlib.pyplot as plt\n",
        "import seaborn as sns"
      ]
    },
    {
      "cell_type": "code",
      "source": [
        "### Read fasta ###\n",
        "\n",
        "def read_fasta(fasta_file: str) -> pd.DataFrame:\n",
        "  \"\"\"Processes raw .fasta files\n",
        "\n",
        "  Opens a .fasta file, parses the sequences and their IDs into a\n",
        "  dataframe and returns the dataframe.\n",
        "\n",
        "  Parameters\n",
        "  ----------\n",
        "  fasta_file : str\n",
        "    the raw .fasta file directory.\n",
        "\n",
        "  Returns\n",
        "  -------\n",
        "  pd.DataFrame\n",
        "    a dataframe with ID, Sequence and Length columns.\n",
        "\n",
        "  \"\"\"\n",
        "\n",
        "  # open the file\n",
        "  handle = open(fasta_file, 'r')\n",
        "  seq_list = list(SeqIO.parse(handle, 'fasta'))\n",
        "  handle.close()\n",
        "\n",
        "  # parse data into lists\n",
        "  ids = [seq_record.id.split('|')[1] for seq_record in seq_list]\n",
        "  seqs = [str(seq_record.seq) for seq_record in seq_list]\n",
        "  lens = [len(seq) for seq in seqs]\n",
        "\n",
        "  # save data into a dataframe\n",
        "  df = pd.DataFrame({'ID':ids, 'Sequence':seqs, 'Length':lens})\n",
        "\n",
        "  return df"
      ],
      "metadata": {
        "id": "M5CWrRK1yd2b"
      },
      "execution_count": null,
      "outputs": []
    },
    {
      "cell_type": "markdown",
      "source": [
        "Loading Tempura dataset"
      ],
      "metadata": {
        "id": "OrTQK2xtJqDQ"
      }
    },
    {
      "cell_type": "code",
      "source": [
        "# tempura = pd.read_csv('/content/200617_TEMPURA.csv')\n",
        "# tempura = pd.read_csv('/content/tempura_bacteria_uniprot.csv', index_col=0)\n",
        "tempura = pd.read_csv('/content/tempura_filtered.csv', index_col=0)"
      ],
      "metadata": {
        "id": "HBbhsf-WxBFD"
      },
      "execution_count": null,
      "outputs": []
    },
    {
      "cell_type": "markdown",
      "source": [
        "Only keeping bacteria with available assembly or accession numbers"
      ],
      "metadata": {
        "id": "f74pkmUeJfVT"
      }
    },
    {
      "cell_type": "code",
      "source": [
        "# tempura = tempura[tempura['superkingdom']=='Bacteria']\n",
        "# tempura.dropna(subset='assembly_or_accession', inplace=True)\n",
        "# tempura.reset_index(drop=True, inplace=True)"
      ],
      "metadata": {
        "id": "Z8qouNgexBbA"
      },
      "execution_count": null,
      "outputs": []
    },
    {
      "cell_type": "markdown",
      "source": [
        "Loading all_proteins"
      ],
      "metadata": {
        "id": "GWPvkryzFMaN"
      }
    },
    {
      "cell_type": "code",
      "source": [
        "# all_proteins = pd.read_csv('/content/all_proteins.csv', index_col=0)\n",
        "# all_proteins_filtered = pd.read_csv('/content/all_proteins_filtered.csv', index_col=0)\n",
        "all_proteins_rapid = pd.read_csv('/content/all_proteins_rapid.csv', index_col=0)\n",
        "all_proteins_disordered = pd.read_csv('/content/all_proteins_disordered.csv', index_col=0)\n",
        "interesting_clusters = pd.read_csv('/content/interesting_clusters.csv', index_col=0)"
      ],
      "metadata": {
        "id": "-i89P51dFOnU"
      },
      "execution_count": null,
      "outputs": []
    },
    {
      "cell_type": "markdown",
      "source": [
        "Loading RAPID_disorder values"
      ],
      "metadata": {
        "id": "1ycexCSdJGh8"
      }
    },
    {
      "cell_type": "code",
      "source": [
        "# rapid_disorder_values = pd.read_csv('RAPID_disorder_values.csv', index_col=0)"
      ],
      "metadata": {
        "id": "9BGAYQdRJLEA"
      },
      "execution_count": null,
      "outputs": []
    },
    {
      "cell_type": "markdown",
      "source": [
        "## Getting UniProt IDs"
      ],
      "metadata": {
        "id": "RhKK8S_2JazH"
      }
    },
    {
      "cell_type": "markdown",
      "source": [
        "Tepura has NCBI taxonomy IDs, but we need UniProt proteome IDs. We can get them using UniProt REST API search"
      ],
      "metadata": {
        "id": "eRusyqinJwYo"
      }
    },
    {
      "cell_type": "code",
      "source": [
        "uniprot_jsons = []\n",
        "failures = []\n",
        "\n",
        "# loop through the taxonomy IDs and retrieve proteome data\n",
        "for tax_id in tqdm(tempura['taxonomy_id']):\n",
        "  # define the UniProt API URL\n",
        "  url = f'https://rest.uniprot.org/proteomes/stream?format=json&query=%28%28taxonomy_id%3A{tax_id}%29%29'\n",
        "  # send an HTTP GET request to the UniProt API\n",
        "  response = requests.get(url)\n",
        "  # Check if the request was successful\n",
        "  if response.status_code == 200:\n",
        "    # save JSON\n",
        "    uniprot_jsons.append(response.json())\n",
        "  else:\n",
        "    failures.append(tax_id)\n",
        "    uniprot_jsons.append({})"
      ],
      "metadata": {
        "colab": {
          "base_uri": "https://localhost:8080/"
        },
        "id": "YUv2C0fB74hi",
        "outputId": "cde8bcff-694e-43c4-f4ea-859c06e2b47a"
      },
      "execution_count": null,
      "outputs": [
        {
          "output_type": "stream",
          "name": "stderr",
          "text": [
            "100%|██████████| 893/893 [08:24<00:00,  1.77it/s]\n"
          ]
        }
      ]
    },
    {
      "cell_type": "markdown",
      "source": [
        "In many cases we get mre than one search result for one taxonomy ID. We need to check each search result and only keep the UniProt ID that has the same taxonomy ID as Tempura"
      ],
      "metadata": {
        "id": "Mhqi7sv7KBIH"
      }
    },
    {
      "cell_type": "code",
      "source": [
        "# initiate empty list to save UniProt IDs\n",
        "uniprot_ids = []\n",
        "\n",
        "# iterate through JSON results\n",
        "for i, jsn in enumerate(uniprot_jsons):\n",
        "  # get results\n",
        "  results = jsn['results']\n",
        "  # get candidate UniProt IDs and corresponding taxonomy IDs\n",
        "  u_ids = [r['id'] for r in results]\n",
        "  t_ids = [r['taxonomy']['taxonId'] for r in results]\n",
        "  # make a dictionary of candidate IDs\n",
        "  results_dict = {k:v for k, v in zip(t_ids, u_ids)}\n",
        "  # get actual taxonomy ID\n",
        "  taxonomy_id = tempura.loc[i, 'taxonomy_id']\n",
        "  # save correct UniProt ID\n",
        "  try:\n",
        "    uniprot_ids.append(results_dict[taxonomy_id])\n",
        "  except:\n",
        "    # no correct ID found\n",
        "    uniprot_ids.append(None)"
      ],
      "metadata": {
        "id": "IfXFBMziEcq3"
      },
      "execution_count": null,
      "outputs": []
    },
    {
      "cell_type": "markdown",
      "source": [
        "We can now drop any Tempura rows with no available UniProt IDs and store the result"
      ],
      "metadata": {
        "id": "1nRNvH05KPdn"
      }
    },
    {
      "cell_type": "code",
      "source": [
        "tempura['uniprot_id'] = uniprot_ids"
      ],
      "metadata": {
        "id": "Ee6rRDqIGjXL"
      },
      "execution_count": null,
      "outputs": []
    },
    {
      "cell_type": "code",
      "source": [
        "tempura.dropna(subset='uniprot_id', inplace=True)"
      ],
      "metadata": {
        "id": "ISs1RefSGjUd"
      },
      "execution_count": null,
      "outputs": []
    },
    {
      "cell_type": "code",
      "source": [
        "tempura.reset_index(drop=True, inplace=True)"
      ],
      "metadata": {
        "id": "TC3ydi-fIc3I"
      },
      "execution_count": null,
      "outputs": []
    },
    {
      "cell_type": "code",
      "source": [
        "tempura.to_csv('tempura_bacteria_uniprot.csv')"
      ],
      "metadata": {
        "id": "R009ua3BIc09"
      },
      "execution_count": null,
      "outputs": []
    },
    {
      "cell_type": "markdown",
      "source": [
        "## Downloading UniProt proteomes"
      ],
      "metadata": {
        "id": "F2yc99UUKY7y"
      }
    },
    {
      "cell_type": "code",
      "source": [
        "!mkdir proteomes"
      ],
      "metadata": {
        "id": "4THt0_CpLwBW"
      },
      "execution_count": null,
      "outputs": []
    },
    {
      "cell_type": "code",
      "source": [
        "tempura.info()"
      ],
      "metadata": {
        "colab": {
          "base_uri": "https://localhost:8080/"
        },
        "id": "sVyK87LaIcy4",
        "outputId": "927f0ac4-9441-4025-e360-53546f963949"
      },
      "execution_count": null,
      "outputs": [
        {
          "output_type": "stream",
          "name": "stdout",
          "text": [
            "<class 'pandas.core.frame.DataFrame'>\n",
            "RangeIndex: 680 entries, 0 to 679\n",
            "Data columns (total 21 columns):\n",
            " #   Column                 Non-Null Count  Dtype  \n",
            "---  ------                 --------------  -----  \n",
            " 0   genus_and_species      680 non-null    object \n",
            " 1   taxonomy_id            680 non-null    int64  \n",
            " 2   strain                 680 non-null    object \n",
            " 3   superkingdom           680 non-null    object \n",
            " 4   phylum                 680 non-null    object \n",
            " 5   class                  678 non-null    object \n",
            " 6   order                  673 non-null    object \n",
            " 7   family                 662 non-null    object \n",
            " 8   genus                  675 non-null    object \n",
            " 9   assembly_or_accession  680 non-null    object \n",
            " 10  Genome_GC              651 non-null    float64\n",
            " 11  Genome_size            680 non-null    float64\n",
            " 12  16S_accssion           680 non-null    object \n",
            " 13  16S_GC                 680 non-null    float64\n",
            " 14  Tmin                   680 non-null    float64\n",
            " 15  Topt_ave               680 non-null    float64\n",
            " 16  Topt_low               258 non-null    float64\n",
            " 17  Topt_high              258 non-null    float64\n",
            " 18  Tmax                   680 non-null    float64\n",
            " 19  Tmax_Tmin              680 non-null    float64\n",
            " 20  uniprot_id             680 non-null    object \n",
            "dtypes: float64(9), int64(1), object(11)\n",
            "memory usage: 111.7+ KB\n"
          ]
        }
      ]
    },
    {
      "cell_type": "code",
      "source": [
        "failures = []\n",
        "\n",
        "for i in tqdm(tempura.index):\n",
        "  # make file path and get UniProt ID\n",
        "  species = tempura.loc[i, 'genus_and_species'].replace(' ', '_')\n",
        "  fasta_file_path = f'/content/proteomes/{species}.fasta'\n",
        "  id = tempura.loc[i, 'uniprot_id']\n",
        "  # define the UniProt API URL to retrieve FASTA data\n",
        "  url = f'https://rest.uniprot.org/uniprotkb/stream?format=fasta&query=%28%28proteome%3A{id}%29%29'\n",
        "  # send an HTTP GET request to the UniProt API to get FASTA data\n",
        "  response = requests.get(url)\n",
        "  # check if the request was successful\n",
        "  if response.status_code == 200:\n",
        "    # save the FASTA data to a file\n",
        "    with open(fasta_file_path, 'w') as fasta_file:\n",
        "      fasta_file.write(response.text)\n",
        "  else:\n",
        "    failures.append(id)"
      ],
      "metadata": {
        "colab": {
          "base_uri": "https://localhost:8080/"
        },
        "id": "wLhoQR5MLTNR",
        "outputId": "b22356ae-b178-4e8f-ab71-d258be86fd61"
      },
      "execution_count": null,
      "outputs": [
        {
          "output_type": "stream",
          "name": "stderr",
          "text": [
            "100%|██████████| 680/680 [56:33<00:00,  4.99s/it]\n"
          ]
        }
      ]
    },
    {
      "cell_type": "code",
      "source": [
        "failures"
      ],
      "metadata": {
        "colab": {
          "base_uri": "https://localhost:8080/"
        },
        "id": "RTXxlgftLTJ5",
        "outputId": "92cda7ed-462b-4960-97fe-e42aff9bc618"
      },
      "execution_count": null,
      "outputs": [
        {
          "output_type": "execute_result",
          "data": {
            "text/plain": [
              "[]"
            ]
          },
          "metadata": {},
          "execution_count": 166
        }
      ]
    },
    {
      "cell_type": "code",
      "source": [
        "!zip -r /content/proteomes.zip /content/proteomes -i '*.fasta'\n",
        "from google.colab import files\n",
        "files.download('/content/proteomes.zip')"
      ],
      "metadata": {
        "id": "2d0ec6lWzU5P"
      },
      "execution_count": null,
      "outputs": []
    },
    {
      "cell_type": "markdown",
      "source": [
        "## Creating a DataFrame with all sequences"
      ],
      "metadata": {
        "id": "y1SgrhJ7y4Vy"
      }
    },
    {
      "cell_type": "code",
      "source": [
        "all_proteins = pd.DataFrame(columns=['ID', 'Sequence', 'Length', 'Species'])"
      ],
      "metadata": {
        "id": "24wNr5uoy_GV"
      },
      "execution_count": null,
      "outputs": []
    },
    {
      "cell_type": "code",
      "source": [
        "for species in tqdm(tempura['genus_and_species']):\n",
        "  filename = species.replace(' ', '_') + '.fasta'\n",
        "  df = read_fasta(f'/content/proteomes/{filename}')\n",
        "  df['Species'] = species\n",
        "  all_proteins = pd.concat([all_proteins, df], ignore_index=True)"
      ],
      "metadata": {
        "colab": {
          "base_uri": "https://localhost:8080/"
        },
        "id": "aNo-CGEpwClO",
        "outputId": "752799ed-3ccc-4545-fcb4-4295e82f0182"
      },
      "execution_count": null,
      "outputs": [
        {
          "output_type": "stream",
          "name": "stderr",
          "text": [
            "100%|██████████| 680/680 [01:02<00:00, 10.87it/s]\n"
          ]
        }
      ]
    },
    {
      "cell_type": "code",
      "source": [
        "all_proteins.to_csv('all_proteins.csv')"
      ],
      "metadata": {
        "id": "av-YifuThIyl"
      },
      "execution_count": null,
      "outputs": []
    },
    {
      "cell_type": "markdown",
      "source": [
        "Filtering to only keep species with at least 1000 proteins"
      ],
      "metadata": {
        "id": "-TYts9fc1MlG"
      }
    },
    {
      "cell_type": "code",
      "source": [
        "# group the DataFrame by the 'species' column and count the number of records for each species\n",
        "species_counts = all_proteins['Species'].value_counts()\n",
        "# filter the species with more than 1000 records\n",
        "selected_species = species_counts[species_counts >= 1000].index\n",
        "# create a new DataFrame that only includes the selected species\n",
        "all_proteins_filtered = all_proteins[all_proteins['Species'].isin(selected_species)].reset_index(drop=True)"
      ],
      "metadata": {
        "id": "fJr_obyrhIwA"
      },
      "execution_count": null,
      "outputs": []
    },
    {
      "cell_type": "markdown",
      "source": [
        "Remove species that don't have 1000 records from Tempura"
      ],
      "metadata": {
        "id": "l-z2s0h38P95"
      }
    },
    {
      "cell_type": "code",
      "source": [
        "tempura = tempura[tempura['genus_and_species'].isin(selected_species)].reset_index(drop=True)"
      ],
      "metadata": {
        "id": "Isi8KdohhItV"
      },
      "execution_count": null,
      "outputs": []
    },
    {
      "cell_type": "code",
      "source": [
        "tempura.to_csv('tempura_filtered.csv')"
      ],
      "metadata": {
        "id": "yB_1pNdrGjSN"
      },
      "execution_count": null,
      "outputs": []
    },
    {
      "cell_type": "markdown",
      "source": [
        "Saving combined FASTA files for disorder calculations"
      ],
      "metadata": {
        "id": "qqW8x4sh82ZL"
      }
    },
    {
      "cell_type": "code",
      "source": [
        "!mkdir /content/combined_fastas"
      ],
      "metadata": {
        "id": "XOinz6NpNVU6"
      },
      "execution_count": null,
      "outputs": []
    },
    {
      "cell_type": "code",
      "source": [
        "# define the maximum sequences per file\n",
        "max_sequences_per_file = 75000\n",
        "\n",
        "# split the DataFrame into chunks of max_sequences_per_file and save as FASTA files\n",
        "for i, chunk in enumerate(range(0, len(all_proteins_filtered), max_sequences_per_file)):\n",
        "  chunk_df = all_proteins_filtered.iloc[chunk:chunk + max_sequences_per_file]\n",
        "  # create a FASTA file for the chunk\n",
        "  fasta_file_path = f'/content/combined_fastas/output_{i+1}.fasta'\n",
        "  with open(fasta_file_path, 'w') as fasta_file:\n",
        "    for _, row in chunk_df.iterrows():\n",
        "      id = row['ID']\n",
        "      seq = row['Sequence']\n",
        "      fasta_file.write(f'>{id}\\n{seq}\\n')"
      ],
      "metadata": {
        "id": "Zgr25_d38xA5"
      },
      "execution_count": null,
      "outputs": []
    },
    {
      "cell_type": "code",
      "source": [
        "!zip -r /content/combined_fastas.zip /content/combined_fastas -i '*.fasta'\n",
        "from google.colab import files\n",
        "files.download('/content/combined_fastas.zip')"
      ],
      "metadata": {
        "colab": {
          "base_uri": "https://localhost:8080/",
          "height": 312
        },
        "id": "xhAyELGINZpB",
        "outputId": "7104042e-0649-4dd1-dae1-0de17f4f8197"
      },
      "execution_count": null,
      "outputs": [
        {
          "output_type": "stream",
          "name": "stdout",
          "text": [
            "  adding: content/combined_fastas/output_9.fasta (deflated 43%)\n",
            "  adding: content/combined_fastas/output_12.fasta (deflated 43%)\n",
            "  adding: content/combined_fastas/output_10.fasta (deflated 43%)\n",
            "  adding: content/combined_fastas/output_4.fasta (deflated 43%)\n",
            "  adding: content/combined_fastas/output_2.fasta (deflated 43%)\n",
            "  adding: content/combined_fastas/output_5.fasta (deflated 43%)\n",
            "  adding: content/combined_fastas/output_3.fasta (deflated 43%)\n",
            "  adding: content/combined_fastas/output_8.fasta (deflated 43%)\n",
            "  adding: content/combined_fastas/output_1.fasta (deflated 43%)\n",
            "  adding: content/combined_fastas/output_6.fasta (deflated 43%)\n",
            "  adding: content/combined_fastas/output_16.fasta (deflated 43%)\n",
            "  adding: content/combined_fastas/output_7.fasta (deflated 43%)\n",
            "  adding: content/combined_fastas/output_13.fasta (deflated 43%)\n",
            "  adding: content/combined_fastas/output_17.fasta (deflated 43%)\n",
            "  adding: content/combined_fastas/output_11.fasta (deflated 43%)\n",
            "  adding: content/combined_fastas/output_15.fasta (deflated 43%)\n",
            "  adding: content/combined_fastas/output_14.fasta (deflated 43%)\n"
          ]
        },
        {
          "output_type": "display_data",
          "data": {
            "text/plain": [
              "<IPython.core.display.Javascript object>"
            ],
            "application/javascript": [
              "\n",
              "    async function download(id, filename, size) {\n",
              "      if (!google.colab.kernel.accessAllowed) {\n",
              "        return;\n",
              "      }\n",
              "      const div = document.createElement('div');\n",
              "      const label = document.createElement('label');\n",
              "      label.textContent = `Downloading \"${filename}\": `;\n",
              "      div.appendChild(label);\n",
              "      const progress = document.createElement('progress');\n",
              "      progress.max = size;\n",
              "      div.appendChild(progress);\n",
              "      document.body.appendChild(div);\n",
              "\n",
              "      const buffers = [];\n",
              "      let downloaded = 0;\n",
              "\n",
              "      const channel = await google.colab.kernel.comms.open(id);\n",
              "      // Send a message to notify the kernel that we're ready.\n",
              "      channel.send({})\n",
              "\n",
              "      for await (const message of channel.messages) {\n",
              "        // Send a message to notify the kernel that we're ready.\n",
              "        channel.send({})\n",
              "        if (message.buffers) {\n",
              "          for (const buffer of message.buffers) {\n",
              "            buffers.push(buffer);\n",
              "            downloaded += buffer.byteLength;\n",
              "            progress.value = downloaded;\n",
              "          }\n",
              "        }\n",
              "      }\n",
              "      const blob = new Blob(buffers, {type: 'application/binary'});\n",
              "      const a = document.createElement('a');\n",
              "      a.href = window.URL.createObjectURL(blob);\n",
              "      a.download = filename;\n",
              "      div.appendChild(a);\n",
              "      a.click();\n",
              "      div.remove();\n",
              "    }\n",
              "  "
            ]
          },
          "metadata": {}
        },
        {
          "output_type": "display_data",
          "data": {
            "text/plain": [
              "<IPython.core.display.Javascript object>"
            ],
            "application/javascript": [
              "download(\"download_552fd38d-0acf-4559-bb62-d3173f316719\", \"combined_fastas.zip\", 232911944)"
            ]
          },
          "metadata": {}
        }
      ]
    },
    {
      "cell_type": "markdown",
      "source": [
        "## Combining partial RAPID results and loading into all_proteins"
      ],
      "metadata": {
        "id": "n5YcoFWRFb7l"
      }
    },
    {
      "cell_type": "code",
      "source": [
        "rapid_disorder_values = pd.DataFrame(columns = ['Prot. ID', 'Disorder Content %'])"
      ],
      "metadata": {
        "id": "vZ9qVCZTGV1B"
      },
      "execution_count": null,
      "outputs": []
    },
    {
      "cell_type": "code",
      "source": [
        "# set number of csv files with partial RAPID calculation results\n",
        "n = 17\n",
        "# iterate through each file and concatenate to all_proteins_filtered\n",
        "for i in tqdm(range(n)):\n",
        "  # make filename with addition of '0' if 1-9\n",
        "  if i+1 < 10:\n",
        "    filename = f'0{i+1}.csv'\n",
        "  else:\n",
        "    filename = f'{i+1}.csv'\n",
        "  # read csv with RAPID result\n",
        "  rapid_result = pd.read_csv(filename)\n",
        "  rapid_result = rapid_result[['Prot. ID', 'Disorder Content %']]\n",
        "  # append RAPID disorder prediciton to overall dataframe\n",
        "  rapid_disorder_values = pd.concat([rapid_disorder_values, rapid_result], axis=0)"
      ],
      "metadata": {
        "id": "JTisiPs8FhoP",
        "outputId": "a2a941f0-da01-4e00-df17-a951fe581f28",
        "colab": {
          "base_uri": "https://localhost:8080/",
          "height": 425
        }
      },
      "execution_count": null,
      "outputs": [
        {
          "output_type": "stream",
          "name": "stderr",
          "text": [
            "  0%|          | 0/17 [00:00<?, ?it/s]\n"
          ]
        },
        {
          "output_type": "error",
          "ename": "FileNotFoundError",
          "evalue": "ignored",
          "traceback": [
            "\u001b[0;31m---------------------------------------------------------------------------\u001b[0m",
            "\u001b[0;31mFileNotFoundError\u001b[0m                         Traceback (most recent call last)",
            "\u001b[0;32m<ipython-input-30-da1fe66b4f87>\u001b[0m in \u001b[0;36m<cell line: 4>\u001b[0;34m()\u001b[0m\n\u001b[1;32m      9\u001b[0m     \u001b[0mfilename\u001b[0m \u001b[0;34m=\u001b[0m \u001b[0;34mf'{i+1}.csv'\u001b[0m\u001b[0;34m\u001b[0m\u001b[0;34m\u001b[0m\u001b[0m\n\u001b[1;32m     10\u001b[0m   \u001b[0;31m# read csv with RAPID result\u001b[0m\u001b[0;34m\u001b[0m\u001b[0;34m\u001b[0m\u001b[0m\n\u001b[0;32m---> 11\u001b[0;31m   \u001b[0mrapid_result\u001b[0m \u001b[0;34m=\u001b[0m \u001b[0mpd\u001b[0m\u001b[0;34m.\u001b[0m\u001b[0mread_csv\u001b[0m\u001b[0;34m(\u001b[0m\u001b[0mfilename\u001b[0m\u001b[0;34m)\u001b[0m\u001b[0;34m\u001b[0m\u001b[0;34m\u001b[0m\u001b[0m\n\u001b[0m\u001b[1;32m     12\u001b[0m   \u001b[0mrapid_result\u001b[0m \u001b[0;34m=\u001b[0m \u001b[0mrapid_result\u001b[0m\u001b[0;34m[\u001b[0m\u001b[0;34m[\u001b[0m\u001b[0;34m'Prot. ID'\u001b[0m\u001b[0;34m,\u001b[0m \u001b[0;34m'Disorder Content %'\u001b[0m\u001b[0;34m]\u001b[0m\u001b[0;34m]\u001b[0m\u001b[0;34m\u001b[0m\u001b[0;34m\u001b[0m\u001b[0m\n\u001b[1;32m     13\u001b[0m   \u001b[0;31m# append RAPID disorder prediciton to overall dataframe\u001b[0m\u001b[0;34m\u001b[0m\u001b[0;34m\u001b[0m\u001b[0m\n",
            "\u001b[0;32m/usr/local/lib/python3.10/dist-packages/pandas/util/_decorators.py\u001b[0m in \u001b[0;36mwrapper\u001b[0;34m(*args, **kwargs)\u001b[0m\n\u001b[1;32m    209\u001b[0m                 \u001b[0;32melse\u001b[0m\u001b[0;34m:\u001b[0m\u001b[0;34m\u001b[0m\u001b[0;34m\u001b[0m\u001b[0m\n\u001b[1;32m    210\u001b[0m                     \u001b[0mkwargs\u001b[0m\u001b[0;34m[\u001b[0m\u001b[0mnew_arg_name\u001b[0m\u001b[0;34m]\u001b[0m \u001b[0;34m=\u001b[0m \u001b[0mnew_arg_value\u001b[0m\u001b[0;34m\u001b[0m\u001b[0;34m\u001b[0m\u001b[0m\n\u001b[0;32m--> 211\u001b[0;31m             \u001b[0;32mreturn\u001b[0m \u001b[0mfunc\u001b[0m\u001b[0;34m(\u001b[0m\u001b[0;34m*\u001b[0m\u001b[0margs\u001b[0m\u001b[0;34m,\u001b[0m \u001b[0;34m**\u001b[0m\u001b[0mkwargs\u001b[0m\u001b[0;34m)\u001b[0m\u001b[0;34m\u001b[0m\u001b[0;34m\u001b[0m\u001b[0m\n\u001b[0m\u001b[1;32m    212\u001b[0m \u001b[0;34m\u001b[0m\u001b[0m\n\u001b[1;32m    213\u001b[0m         \u001b[0;32mreturn\u001b[0m \u001b[0mcast\u001b[0m\u001b[0;34m(\u001b[0m\u001b[0mF\u001b[0m\u001b[0;34m,\u001b[0m \u001b[0mwrapper\u001b[0m\u001b[0;34m)\u001b[0m\u001b[0;34m\u001b[0m\u001b[0;34m\u001b[0m\u001b[0m\n",
            "\u001b[0;32m/usr/local/lib/python3.10/dist-packages/pandas/util/_decorators.py\u001b[0m in \u001b[0;36mwrapper\u001b[0;34m(*args, **kwargs)\u001b[0m\n\u001b[1;32m    329\u001b[0m                     \u001b[0mstacklevel\u001b[0m\u001b[0;34m=\u001b[0m\u001b[0mfind_stack_level\u001b[0m\u001b[0;34m(\u001b[0m\u001b[0;34m)\u001b[0m\u001b[0;34m,\u001b[0m\u001b[0;34m\u001b[0m\u001b[0;34m\u001b[0m\u001b[0m\n\u001b[1;32m    330\u001b[0m                 )\n\u001b[0;32m--> 331\u001b[0;31m             \u001b[0;32mreturn\u001b[0m \u001b[0mfunc\u001b[0m\u001b[0;34m(\u001b[0m\u001b[0;34m*\u001b[0m\u001b[0margs\u001b[0m\u001b[0;34m,\u001b[0m \u001b[0;34m**\u001b[0m\u001b[0mkwargs\u001b[0m\u001b[0;34m)\u001b[0m\u001b[0;34m\u001b[0m\u001b[0;34m\u001b[0m\u001b[0m\n\u001b[0m\u001b[1;32m    332\u001b[0m \u001b[0;34m\u001b[0m\u001b[0m\n\u001b[1;32m    333\u001b[0m         \u001b[0;31m# error: \"Callable[[VarArg(Any), KwArg(Any)], Any]\" has no\u001b[0m\u001b[0;34m\u001b[0m\u001b[0;34m\u001b[0m\u001b[0m\n",
            "\u001b[0;32m/usr/local/lib/python3.10/dist-packages/pandas/io/parsers/readers.py\u001b[0m in \u001b[0;36mread_csv\u001b[0;34m(filepath_or_buffer, sep, delimiter, header, names, index_col, usecols, squeeze, prefix, mangle_dupe_cols, dtype, engine, converters, true_values, false_values, skipinitialspace, skiprows, skipfooter, nrows, na_values, keep_default_na, na_filter, verbose, skip_blank_lines, parse_dates, infer_datetime_format, keep_date_col, date_parser, dayfirst, cache_dates, iterator, chunksize, compression, thousands, decimal, lineterminator, quotechar, quoting, doublequote, escapechar, comment, encoding, encoding_errors, dialect, error_bad_lines, warn_bad_lines, on_bad_lines, delim_whitespace, low_memory, memory_map, float_precision, storage_options)\u001b[0m\n\u001b[1;32m    948\u001b[0m     \u001b[0mkwds\u001b[0m\u001b[0;34m.\u001b[0m\u001b[0mupdate\u001b[0m\u001b[0;34m(\u001b[0m\u001b[0mkwds_defaults\u001b[0m\u001b[0;34m)\u001b[0m\u001b[0;34m\u001b[0m\u001b[0;34m\u001b[0m\u001b[0m\n\u001b[1;32m    949\u001b[0m \u001b[0;34m\u001b[0m\u001b[0m\n\u001b[0;32m--> 950\u001b[0;31m     \u001b[0;32mreturn\u001b[0m \u001b[0m_read\u001b[0m\u001b[0;34m(\u001b[0m\u001b[0mfilepath_or_buffer\u001b[0m\u001b[0;34m,\u001b[0m \u001b[0mkwds\u001b[0m\u001b[0;34m)\u001b[0m\u001b[0;34m\u001b[0m\u001b[0;34m\u001b[0m\u001b[0m\n\u001b[0m\u001b[1;32m    951\u001b[0m \u001b[0;34m\u001b[0m\u001b[0m\n\u001b[1;32m    952\u001b[0m \u001b[0;34m\u001b[0m\u001b[0m\n",
            "\u001b[0;32m/usr/local/lib/python3.10/dist-packages/pandas/io/parsers/readers.py\u001b[0m in \u001b[0;36m_read\u001b[0;34m(filepath_or_buffer, kwds)\u001b[0m\n\u001b[1;32m    603\u001b[0m \u001b[0;34m\u001b[0m\u001b[0m\n\u001b[1;32m    604\u001b[0m     \u001b[0;31m# Create the parser.\u001b[0m\u001b[0;34m\u001b[0m\u001b[0;34m\u001b[0m\u001b[0m\n\u001b[0;32m--> 605\u001b[0;31m     \u001b[0mparser\u001b[0m \u001b[0;34m=\u001b[0m \u001b[0mTextFileReader\u001b[0m\u001b[0;34m(\u001b[0m\u001b[0mfilepath_or_buffer\u001b[0m\u001b[0;34m,\u001b[0m \u001b[0;34m**\u001b[0m\u001b[0mkwds\u001b[0m\u001b[0;34m)\u001b[0m\u001b[0;34m\u001b[0m\u001b[0;34m\u001b[0m\u001b[0m\n\u001b[0m\u001b[1;32m    606\u001b[0m \u001b[0;34m\u001b[0m\u001b[0m\n\u001b[1;32m    607\u001b[0m     \u001b[0;32mif\u001b[0m \u001b[0mchunksize\u001b[0m \u001b[0;32mor\u001b[0m \u001b[0miterator\u001b[0m\u001b[0;34m:\u001b[0m\u001b[0;34m\u001b[0m\u001b[0;34m\u001b[0m\u001b[0m\n",
            "\u001b[0;32m/usr/local/lib/python3.10/dist-packages/pandas/io/parsers/readers.py\u001b[0m in \u001b[0;36m__init__\u001b[0;34m(self, f, engine, **kwds)\u001b[0m\n\u001b[1;32m   1440\u001b[0m \u001b[0;34m\u001b[0m\u001b[0m\n\u001b[1;32m   1441\u001b[0m         \u001b[0mself\u001b[0m\u001b[0;34m.\u001b[0m\u001b[0mhandles\u001b[0m\u001b[0;34m:\u001b[0m \u001b[0mIOHandles\u001b[0m \u001b[0;34m|\u001b[0m \u001b[0;32mNone\u001b[0m \u001b[0;34m=\u001b[0m \u001b[0;32mNone\u001b[0m\u001b[0;34m\u001b[0m\u001b[0;34m\u001b[0m\u001b[0m\n\u001b[0;32m-> 1442\u001b[0;31m         \u001b[0mself\u001b[0m\u001b[0;34m.\u001b[0m\u001b[0m_engine\u001b[0m \u001b[0;34m=\u001b[0m \u001b[0mself\u001b[0m\u001b[0;34m.\u001b[0m\u001b[0m_make_engine\u001b[0m\u001b[0;34m(\u001b[0m\u001b[0mf\u001b[0m\u001b[0;34m,\u001b[0m \u001b[0mself\u001b[0m\u001b[0;34m.\u001b[0m\u001b[0mengine\u001b[0m\u001b[0;34m)\u001b[0m\u001b[0;34m\u001b[0m\u001b[0;34m\u001b[0m\u001b[0m\n\u001b[0m\u001b[1;32m   1443\u001b[0m \u001b[0;34m\u001b[0m\u001b[0m\n\u001b[1;32m   1444\u001b[0m     \u001b[0;32mdef\u001b[0m \u001b[0mclose\u001b[0m\u001b[0;34m(\u001b[0m\u001b[0mself\u001b[0m\u001b[0;34m)\u001b[0m \u001b[0;34m->\u001b[0m \u001b[0;32mNone\u001b[0m\u001b[0;34m:\u001b[0m\u001b[0;34m\u001b[0m\u001b[0;34m\u001b[0m\u001b[0m\n",
            "\u001b[0;32m/usr/local/lib/python3.10/dist-packages/pandas/io/parsers/readers.py\u001b[0m in \u001b[0;36m_make_engine\u001b[0;34m(self, f, engine)\u001b[0m\n\u001b[1;32m   1733\u001b[0m                 \u001b[0;32mif\u001b[0m \u001b[0;34m\"b\"\u001b[0m \u001b[0;32mnot\u001b[0m \u001b[0;32min\u001b[0m \u001b[0mmode\u001b[0m\u001b[0;34m:\u001b[0m\u001b[0;34m\u001b[0m\u001b[0;34m\u001b[0m\u001b[0m\n\u001b[1;32m   1734\u001b[0m                     \u001b[0mmode\u001b[0m \u001b[0;34m+=\u001b[0m \u001b[0;34m\"b\"\u001b[0m\u001b[0;34m\u001b[0m\u001b[0;34m\u001b[0m\u001b[0m\n\u001b[0;32m-> 1735\u001b[0;31m             self.handles = get_handle(\n\u001b[0m\u001b[1;32m   1736\u001b[0m                 \u001b[0mf\u001b[0m\u001b[0;34m,\u001b[0m\u001b[0;34m\u001b[0m\u001b[0;34m\u001b[0m\u001b[0m\n\u001b[1;32m   1737\u001b[0m                 \u001b[0mmode\u001b[0m\u001b[0;34m,\u001b[0m\u001b[0;34m\u001b[0m\u001b[0;34m\u001b[0m\u001b[0m\n",
            "\u001b[0;32m/usr/local/lib/python3.10/dist-packages/pandas/io/common.py\u001b[0m in \u001b[0;36mget_handle\u001b[0;34m(path_or_buf, mode, encoding, compression, memory_map, is_text, errors, storage_options)\u001b[0m\n\u001b[1;32m    854\u001b[0m         \u001b[0;32mif\u001b[0m \u001b[0mioargs\u001b[0m\u001b[0;34m.\u001b[0m\u001b[0mencoding\u001b[0m \u001b[0;32mand\u001b[0m \u001b[0;34m\"b\"\u001b[0m \u001b[0;32mnot\u001b[0m \u001b[0;32min\u001b[0m \u001b[0mioargs\u001b[0m\u001b[0;34m.\u001b[0m\u001b[0mmode\u001b[0m\u001b[0;34m:\u001b[0m\u001b[0;34m\u001b[0m\u001b[0;34m\u001b[0m\u001b[0m\n\u001b[1;32m    855\u001b[0m             \u001b[0;31m# Encoding\u001b[0m\u001b[0;34m\u001b[0m\u001b[0;34m\u001b[0m\u001b[0m\n\u001b[0;32m--> 856\u001b[0;31m             handle = open(\n\u001b[0m\u001b[1;32m    857\u001b[0m                 \u001b[0mhandle\u001b[0m\u001b[0;34m,\u001b[0m\u001b[0;34m\u001b[0m\u001b[0;34m\u001b[0m\u001b[0m\n\u001b[1;32m    858\u001b[0m                 \u001b[0mioargs\u001b[0m\u001b[0;34m.\u001b[0m\u001b[0mmode\u001b[0m\u001b[0;34m,\u001b[0m\u001b[0;34m\u001b[0m\u001b[0;34m\u001b[0m\u001b[0m\n",
            "\u001b[0;31mFileNotFoundError\u001b[0m: [Errno 2] No such file or directory: '01.csv'"
          ]
        }
      ]
    },
    {
      "cell_type": "code",
      "source": [
        "rapid_disorder_values.to_csv('RAPID_disorder_values.csv')"
      ],
      "metadata": {
        "id": "CXn9ZJbgNZmt"
      },
      "execution_count": null,
      "outputs": []
    },
    {
      "cell_type": "markdown",
      "source": [
        "Appending RAPID disorder values to all_proteins_filtered"
      ],
      "metadata": {
        "id": "NdrwY57XIv8T"
      }
    },
    {
      "cell_type": "code",
      "source": [
        "rapid_disorder_values"
      ],
      "metadata": {
        "id": "fKKnYb8HK5lx"
      },
      "execution_count": null,
      "outputs": []
    },
    {
      "cell_type": "code",
      "source": [
        "all_proteins_rapid = all_proteins_filtered.join(rapid_disorder_values.set_index('Prot. ID'),\n",
        "                                                   on='ID', how='inner')"
      ],
      "metadata": {
        "id": "OI_ZUj2EI-pN"
      },
      "execution_count": null,
      "outputs": []
    },
    {
      "cell_type": "code",
      "source": [
        "all_proteins_rapid['RAPID_disorder'] = all_proteins_rapid['Disorder Content %'] / 100\n",
        "all_proteins_rapid.drop('Disorder Content %', axis=1, inplace=True)\n",
        "\n",
        "# all_proteins_rapid['RAPID_fully_disordered'] = all_proteins_rapid['RAPID_disorder'] >= 0.5\n",
        "# all_proteins_rapid['RAPID_n_disordered_residues'] = all_proteins_rapid['RAPID_disorder'] * all_proteins_rapid['Length']"
      ],
      "metadata": {
        "id": "dqhlrXOWI-mj"
      },
      "execution_count": null,
      "outputs": []
    },
    {
      "cell_type": "code",
      "source": [
        "all_proteins_rapid.to_csv('all_proteins_rapid.csv')"
      ],
      "metadata": {
        "id": "MKSh5wftI-kX"
      },
      "execution_count": null,
      "outputs": []
    },
    {
      "cell_type": "markdown",
      "source": [
        "## FCR / NCPR filtering"
      ],
      "metadata": {
        "id": "EBvQOtBDczJx"
      }
    },
    {
      "cell_type": "code",
      "source": [
        "def compute_fcr(row):\n",
        "    aa_seq = row['Sequence']\n",
        "    n = len(aa_seq)\n",
        "    f_plus = sum(aa_seq.count(char) for char in ['R', 'K', 'H']) / n # Histidine?\n",
        "    f_minus = sum(aa_seq.count(char) for char in ['D', 'E']) / n\n",
        "    ncpr = abs(f_plus - f_minus)\n",
        "    fcr = (f_plus + f_minus)\n",
        "    return pd.Series([f_plus, f_minus, ncpr, fcr])"
      ],
      "metadata": {
        "id": "KT-Rk5iFc9lc"
      },
      "execution_count": null,
      "outputs": []
    },
    {
      "cell_type": "code",
      "source": [
        "all_proteins_rapid[['f_plus', 'f_minus', 'ncpr', 'fcr']] = all_proteins_rapid.apply(compute_fcr, axis=1)"
      ],
      "metadata": {
        "id": "MeS5Mzwnc-MU"
      },
      "execution_count": null,
      "outputs": []
    },
    {
      "cell_type": "code",
      "source": [
        "all_proteins_rapid['idp_type'] = None"
      ],
      "metadata": {
        "id": "A-wTIUGxc-KI"
      },
      "execution_count": null,
      "outputs": []
    },
    {
      "cell_type": "code",
      "source": [
        "all_proteins_rapid.loc[(all_proteins_rapid['fcr'] < 0.25) & (all_proteins_rapid['ncpr'] < 0.25), 'idp_type'] = 1\n",
        "all_proteins_rapid.loc[(all_proteins_rapid['fcr'] >= 0.25) & (all_proteins_rapid['fcr'] <= 0.35) &\\\n",
        "                      (all_proteins_rapid['ncpr'] <= 0.35), 'idp_type'] = 2\n",
        "all_proteins_rapid.loc[(all_proteins_rapid['fcr'] > 0.35) & (all_proteins_rapid['ncpr'] <= 0.35), 'idp_type'] = 3\n",
        "all_proteins_rapid.loc[(all_proteins_rapid['fcr'] > 0.35) & (all_proteins_rapid['ncpr'] > 0.35) &\\\n",
        "                      (all_proteins_rapid['f_minus'] > 0.35), 'idp_type'] = 4\n",
        "all_proteins_rapid.loc[(all_proteins_rapid['fcr'] > 0.35) & (all_proteins_rapid['ncpr'] > 0.35) &\\\n",
        "                      (all_proteins_rapid['f_plus'] > 0.35), 'idp_type'] = 5"
      ],
      "metadata": {
        "id": "hEiR5YUac-H3"
      },
      "execution_count": null,
      "outputs": []
    },
    {
      "cell_type": "markdown",
      "source": [
        "Filter out \"disordered\" proteins - these are either:\n",
        "1. IDP type 3, 4 or 5\n",
        "2. RAPID_disorder >= 0.5\n",
        "3. Have at least 100 disordered residues as predicted by RAPID\n",
        "\n",
        "The last point is to include longer proteins that just have a section of IDR. RAPID does not provide disorder at residue level, so it's as good as we can get to having a filter for 30 consecutive disordered residues"
      ],
      "metadata": {
        "id": "2CJ31dekdiUq"
      }
    },
    {
      "cell_type": "code",
      "source": [
        "disordered_filter = (all_proteins_rapid['idp_type'] > 2) | \\\n",
        "                    (all_proteins_rapid['RAPID_disorder'] >= 0.5) | \\\n",
        "                    (all_proteins_rapid['RAPID_disorder'] * all_proteins_rapid['Length'] >= 100)\n",
        "all_proteins_rapid['disordered'] = disordered_filter\n",
        "all_proteins_disordered = all_proteins_rapid[disordered_filter]"
      ],
      "metadata": {
        "id": "fGuAptcxc-Ds"
      },
      "execution_count": null,
      "outputs": []
    },
    {
      "cell_type": "code",
      "source": [
        "# all_proteins_disordered.to_csv('all_proteins_disordered.csv')"
      ],
      "metadata": {
        "id": "FjEuWskKc-Bj"
      },
      "execution_count": null,
      "outputs": []
    },
    {
      "cell_type": "code",
      "source": [
        "# fig, ax = plt.subplots(figsize=(8,8))\n",
        "\n",
        "# sns.scatterplot(data=all_proteins_rapid, x='f_plus', y='f_minus',\n",
        "#                 hue='idp_type', palette='colorblind')\n",
        "\n",
        "# ax.set_xlim(0, 0.75)\n",
        "# ax.set_ylim(0, 0.75)\n",
        "\n",
        "# fig.show()"
      ],
      "metadata": {
        "id": "mTNBjYojj6xD"
      },
      "execution_count": null,
      "outputs": []
    },
    {
      "cell_type": "code",
      "source": [
        "# all_proteins_disordered.groupby('idp_type').mean()"
      ],
      "metadata": {
        "id": "9v8n02Thj6vJ"
      },
      "execution_count": null,
      "outputs": []
    },
    {
      "cell_type": "markdown",
      "source": [
        "## EDA for Overall IDP abundance ~ optimal temerature relationship"
      ],
      "metadata": {
        "id": "Dbaue63h_USL"
      }
    },
    {
      "cell_type": "code",
      "source": [
        "# fig, ax = plt.subplots(figsize=(15, 8))\n",
        "\n",
        "# sns.kdeplot(data=all_proteins_rapid[all_proteins_rapid['RAPID_fully_disordered']],\n",
        "#                 x='Length', y='RAPID_disorder', alpha=0.5, fill=True, ax=ax)\n",
        "# ax.set_xlim(0, 500)\n",
        "# fig.show()"
      ],
      "metadata": {
        "id": "RGNkxpaQ_gD0"
      },
      "execution_count": null,
      "outputs": []
    },
    {
      "cell_type": "code",
      "source": [
        "tempura = pd.read_csv('/content/tempura_filtered.csv', index_col=0)"
      ],
      "metadata": {
        "id": "a-urGX8diIUk"
      },
      "execution_count": null,
      "outputs": []
    },
    {
      "cell_type": "code",
      "source": [
        "species_rapid_disorder = all_proteins_rapid.groupby('Species').mean()[['RAPID_disorder']]\n",
        "tempura = tempura.join(species_rapid_disorder, how='inner', on='genus_and_species')\n",
        "\n",
        "species_rapid_idp_count = all_proteins_disordered.groupby('Species').count()[['RAPID_disorder']]\n",
        "species_rapid_idp_count.columns = ['IDP_count']\n",
        "tempura = tempura.join(species_rapid_idp_count, how='inner', on='genus_and_species')\n",
        "\n",
        "species_rapid_protein_count = all_proteins_rapid.groupby('Species').count()[['RAPID_disorder']]\n",
        "species_rapid_protein_count.columns = ['protein_count']\n",
        "tempura = tempura.join(species_rapid_protein_count, how='inner', on='genus_and_species')\n",
        "tempura['IDP_percentage'] = tempura['IDP_count'] / tempura['protein_count']"
      ],
      "metadata": {
        "id": "4rs-_UdBpOMf",
        "outputId": "742aaa4b-2f0d-4584-b58e-d13644b37264",
        "colab": {
          "base_uri": "https://localhost:8080/"
        }
      },
      "execution_count": null,
      "outputs": [
        {
          "output_type": "stream",
          "name": "stderr",
          "text": [
            "<ipython-input-146-1d0640aecf3f>:1: FutureWarning: The default value of numeric_only in DataFrameGroupBy.mean is deprecated. In a future version, numeric_only will default to False. Either specify numeric_only or select only columns which should be valid for the function.\n",
            "  species_rapid_disorder = all_proteins_rapid.groupby('Species').mean()[['RAPID_disorder']]\n"
          ]
        }
      ]
    },
    {
      "cell_type": "code",
      "source": [
        "fig, ax = plt.subplots(figsize=(15, 8))\n",
        "\n",
        "sns.scatterplot(data=tempura, x='Topt_ave', y='RAPID_disorder', ax=ax)\n",
        "\n",
        "fig.show()"
      ],
      "metadata": {
        "id": "ApjehU2S_fiA",
        "colab": {
          "base_uri": "https://localhost:8080/"
        },
        "outputId": "08e2d71c-4ee7-4d85-9287-033ee003f5cd"
      },
      "execution_count": null,
      "outputs": [
        {
          "output_type": "display_data",
          "data": {
            "text/plain": [
              "<Figure size 1500x800 with 1 Axes>"
            ],
            "image/png": "[encoded data removed]"
          },
          "metadata": {}
        }
      ]
    },
    {
      "cell_type": "code",
      "source": [
        "fig, ax = plt.subplots(figsize=(15, 8))\n",
        "\n",
        "sns.scatterplot(data=tempura, x='Topt_ave', y='IDP_count', ax=ax)\n",
        "\n",
        "fig.show()"
      ],
      "metadata": {
        "id": "4dAw2BFiE_09",
        "colab": {
          "base_uri": "https://localhost:8080/"
        },
        "outputId": "77e5fc16-ab96-469f-fc22-dcf121eeb5c4"
      },
      "execution_count": null,
      "outputs": [
        {
          "output_type": "display_data",
          "data": {
            "text/plain": [
              "<Figure size 1500x800 with 1 Axes>"
            ],
            "image/png": "[encoded data removed]"
          },
          "metadata": {}
        }
      ]
    },
    {
      "cell_type": "code",
      "source": [
        "fig, ax = plt.subplots(figsize=(15, 8))\n",
        "\n",
        "sns.scatterplot(data=tempura, x='Topt_ave', y='IDP_percentage', ax=ax)\n",
        "\n",
        "fig.show()"
      ],
      "metadata": {
        "id": "5oC7DFZ_E_uF",
        "colab": {
          "base_uri": "https://localhost:8080/"
        },
        "outputId": "952b41ee-6f85-4c7e-f400-94be8e642bfc"
      },
      "execution_count": null,
      "outputs": [
        {
          "output_type": "display_data",
          "data": {
            "text/plain": [
              "<Figure size 1500x800 with 1 Axes>"
            ],
            "image/png": "[encoded data removed]"
          },
          "metadata": {}
        }
      ]
    },
    {
      "cell_type": "markdown",
      "source": [
        "## Clustering all proteins using CD-HIT"
      ],
      "metadata": {
        "id": "o4D-THTlkIX6"
      }
    },
    {
      "cell_type": "code",
      "source": [
        "# # saving all proteins to a single fasta file\n",
        "# with open('/content/all_proteins.fasta', 'w') as fasta_file:\n",
        "#   for _, row in all_proteins_rapid.iterrows():\n",
        "#     id = row['ID']\n",
        "#     seq = row['Sequence']\n",
        "#     fasta_file.write(f'>{id}\\n{seq}\\n')"
      ],
      "metadata": {
        "id": "MrP3cpo7kNi_"
      },
      "execution_count": null,
      "outputs": []
    },
    {
      "cell_type": "markdown",
      "source": [
        "CH-HIT ran on local system using command:\n",
        "```\n",
        "cd-hit -i all_proteins.fasta -o all_proteins_70 -c 0.7\n",
        "```"
      ],
      "metadata": {
        "id": "cqY2yc1VmvrU"
      }
    },
    {
      "cell_type": "code",
      "source": [
        "# importing CD-HIT results"
      ],
      "metadata": {
        "id": "ciSiSDZ1kNgh"
      },
      "execution_count": null,
      "outputs": []
    },
    {
      "cell_type": "code",
      "source": [
        "clustered_proteins_file = '/content/all_proteins_70.clstr'\n",
        "\n",
        "all_proteins_rapid['cluster'] = '0'\n",
        "clusters = {}\n",
        "\n",
        "# Read the clustered proteins file and store clusters\n",
        "with open(clustered_proteins_file ,'r') as f:\n",
        "  for line in f:\n",
        "    if line.startswith('>Cluster'):\n",
        "      cluster_id = line.strip().split()[1]\n",
        "      clusters[cluster_id] = []\n",
        "    else:\n",
        "      protein_id = line.strip().split('>')[1].split('...')[0]\n",
        "      clusters[cluster_id].append(protein_id)"
      ],
      "metadata": {
        "id": "5G2ZHCmGkNeH"
      },
      "execution_count": null,
      "outputs": []
    },
    {
      "cell_type": "code",
      "source": [
        "protein_cluster_mapping = {cid: proteins for cid, proteins in clusters.items()}\n",
        "# Reverse cluster dictionary to have ID:cluster\n",
        "protein_cluster_mapping = {protein_id: cluster for cluster, proteins in protein_cluster_mapping.items() for protein_id in proteins}\n",
        "# Map clusters to df\n",
        "all_proteins_rapid['cluster'] = all_proteins_rapid['ID'].map(protein_cluster_mapping)"
      ],
      "metadata": {
        "id": "OWdWoaAmKejS"
      },
      "execution_count": null,
      "outputs": []
    },
    {
      "cell_type": "markdown",
      "source": [
        "We will filter to find clusters that:\n",
        "\n",
        "1. Have at least 10 proteins\n",
        "2. Have at least 1 disordered protein\n",
        "2. Have at least 1 non-disordered protein\n",
        "\n",
        "We will call these clusters `interesting_clusters` because they are, well, interesting\n",
        "\n",
        "We will store clusters with only disordered proteins as `disordered_clusters`"
      ],
      "metadata": {
        "id": "avRdZytASCFi"
      }
    },
    {
      "cell_type": "code",
      "source": [
        "cluster_groups = all_proteins_rapid.groupby('cluster').agg({'disordered':['max', 'min'], 'ID':'count'})"
      ],
      "metadata": {
        "id": "veux-YI3PSs6"
      },
      "execution_count": null,
      "outputs": []
    },
    {
      "cell_type": "code",
      "source": [
        "min_cluster_size = 10\n",
        "\n",
        "only_disordered = cluster_groups[(cluster_groups['disordered']['min']) & (cluster_groups['ID']['count']>=min_cluster_size)].index\n",
        "mixed_clusters = cluster_groups[(cluster_groups['disordered']['max']) & (~cluster_groups['disordered']['min']) & \\\n",
        "                                (cluster_groups['ID']['count']>=min_cluster_size)].index"
      ],
      "metadata": {
        "id": "RRcMgIADPSrH"
      },
      "execution_count": null,
      "outputs": []
    },
    {
      "cell_type": "code",
      "source": [
        "len(only_disordered)"
      ],
      "metadata": {
        "colab": {
          "base_uri": "https://localhost:8080/"
        },
        "id": "3crf6g3ET7r6",
        "outputId": "90d2d978-e61f-43ad-c2b1-3d393a510a56"
      },
      "execution_count": null,
      "outputs": [
        {
          "output_type": "execute_result",
          "data": {
            "text/plain": [
              "95"
            ]
          },
          "metadata": {},
          "execution_count": 173
        }
      ]
    },
    {
      "cell_type": "code",
      "source": [
        "interesting_clusters = all_proteins_rapid[all_proteins_rapid['cluster'].isin(mixed_clusters)]"
      ],
      "metadata": {
        "id": "kUooZZMOPSnv"
      },
      "execution_count": null,
      "outputs": []
    },
    {
      "cell_type": "code",
      "source": [
        "# interesting_clusters.to_csv('interesting_clusters.csv')"
      ],
      "metadata": {
        "id": "YESlwCyRPSlW"
      },
      "execution_count": null,
      "outputs": []
    },
    {
      "cell_type": "code",
      "source": [
        "disordered_clusters = all_proteins_rapid[all_proteins_rapid['cluster'].isin(only_disordered)]\n",
        "# disordered_clusters.to_csv('disordered_clusters.csv')"
      ],
      "metadata": {
        "id": "9spxb-FqkMwx"
      },
      "execution_count": null,
      "outputs": []
    },
    {
      "cell_type": "markdown",
      "source": [
        "## Cluster vizualisations"
      ],
      "metadata": {
        "id": "KgGFuhbtjzBA"
      }
    },
    {
      "cell_type": "code",
      "source": [
        "interesting_clusters.groupby('cluster').std()['RAPID_disorder'].sort_values(ascending=False)[:10]"
      ],
      "metadata": {
        "id": "rfOQS1iAj3uz",
        "outputId": "e1a93ad9-dd58-41f6-dbe0-e7d9961325fd",
        "colab": {
          "base_uri": "https://localhost:8080/"
        }
      },
      "execution_count": null,
      "outputs": [
        {
          "output_type": "stream",
          "name": "stderr",
          "text": [
            "<ipython-input-166-c9c9ae405284>:1: FutureWarning: The default value of numeric_only in DataFrameGroupBy.std is deprecated. In a future version, numeric_only will default to False. Either specify numeric_only or select only columns which should be valid for the function.\n",
            "  interesting_clusters.groupby('cluster').std()['RAPID_disorder'].sort_values(ascending=False)[:10]\n"
          ]
        },
        {
          "output_type": "execute_result",
          "data": {
            "text/plain": [
              "cluster\n",
              "207030    0.318319\n",
              "46504     0.294450\n",
              "900878    0.263818\n",
              "133217    0.254680\n",
              "316086    0.253645\n",
              "147816    0.250248\n",
              "426708    0.232290\n",
              "162959    0.223509\n",
              "849025    0.219221\n",
              "784912    0.217289\n",
              "Name: RAPID_disorder, dtype: float64"
            ]
          },
          "metadata": {},
          "execution_count": 166
        }
      ]
    },
    {
      "cell_type": "code",
      "source": [
        "def plot_cluster(cluster):\n",
        "  cluster_df = all_proteins_rapid[all_proteins_rapid['cluster']==cluster].sort_values('RAPID_disorder')\n",
        "\n",
        "  cluster_df_topt = cluster_df.join(tempura[['genus_and_species', 'Topt_ave']].set_index('genus_and_species'), on='Species')\n",
        "\n",
        "  sns.scatterplot(data=cluster_df_topt, x='Topt_ave', y='RAPID_disorder')\n",
        "  plt.show()"
      ],
      "metadata": {
        "id": "uH8f3VcAj3sc"
      },
      "execution_count": null,
      "outputs": []
    },
    {
      "cell_type": "code",
      "source": [
        "plot_cluster('125601')"
      ],
      "metadata": {
        "id": "GN4cyqpAj3qD",
        "outputId": "94125c4e-8169-4777-d4a4-97f491708737",
        "colab": {
          "base_uri": "https://localhost:8080/",
          "height": 449
        }
      },
      "execution_count": null,
      "outputs": [
        {
          "output_type": "display_data",
          "data": {
            "text/plain": [
              "<Figure size 640x480 with 1 Axes>"
            ],
            "image/png": "[encoded data removed]"
          },
          "metadata": {}
        }
      ]
    },
    {
      "cell_type": "code",
      "source": [
        "all_proteins_rapid[all_proteins_rapid['cluster']=='125601']"
      ],
      "metadata": {
        "id": "3GunWLnHj3nx",
        "outputId": "8396c560-06dc-4d86-cbaf-ec04f45d741d",
        "colab": {
          "base_uri": "https://localhost:8080/",
          "height": 1000
        }
      },
      "execution_count": null,
      "outputs": [
        {
          "output_type": "execute_result",
          "data": {
            "text/plain": [
              "                 ID                                           Sequence  \\\n",
              "21824    A0A0D8BQM5  MGSIIISALLALVIGAVVGFFVRKSIAEAKIGGAKAAAKQLIEEAK...   \n",
              "31098        M5QPR2  MGETIISALLALVVGAVVGFFVRKSIAEAKIGGAQAAAKQMIEEAK...   \n",
              "51458    A0A1U9K9S0  MIGSLGEILILLATAAVSAGIGYFVRKRLAEAKISSAEEAAERIID...   \n",
              "54640    A0A1D7QVT1  MDLIYQILALLLVAVIGILIGYFIRKSLAEAKISSAEALAKQTVEE...   \n",
              "91887    A0A0B5ALP4  MGAFEITFILAGIIVGVVVGYLIHKFMMDAKVGGAKGTVEQILANG...   \n",
              "99667    A0A3E0WKA5  MDSLMLISILLVILIVGIVVGYLIRKSIAEAKISSAETLAKQIVDE...   \n",
              "124667   A0A3S8RXC5  MHDGVWVALVAAALFFGFVIGYFIRKSLAEAKISSAEHAASQILES...   \n",
              "128854   A0A1W5ZVT3  MDLISSLIFILLALIVGSVVGYLIRKSIAEAKISSAEELAKQIVEE...   \n",
              "168788   A0A0U4F4D2  MDNPLIISILLAVILIVGIVVGYLIRKSIGEAKITSAENLAKQIVD...   \n",
              "204166   A0A223D2A0  MDSLLPILLSVIFLAVGLVGGYLVRRNIAEGKLAAAELRAEQILDT...   \n",
              "207998   A0A3Q9QY97  MDPITIISILLGLIVGAVVGYFVHKSIAEAKVTGAKNAAEQIIEDA...   \n",
              "213522   A0A0D5NNR7  MTPGLWILWILIVLVVGAVFFGIGYFIRKSIAEAKISSAEQAAVQI...   \n",
              "257122   A0A410X0P2  MNPIIWVLIILVVGVICLGIGYFIRKSLAEAKISSAETAAAQIVEN...   \n",
              "295329   A0A222WPM9  MMTAIWFVLVAVAALFFGFWIGYFIRKSIAEAKISSAEEAAAQIVE...   \n",
              "311600   A0A075LPM7  MELFYLIISILLALIVGGVVGYLVRKSIAEKKISSAEELAKQIVEE...   \n",
              "416333   A0A514LFZ6  MDGTLILTISILLVVVAVLSGFIGYVIRRKIAEAKISSAEYTAKKM...   \n",
              "461055   A0A248TCF3  MELGYIISILLGLIVAAFVGYFFRKSVTEAKIAGARGAADQILEDA...   \n",
              "477537   A0A0D7XA37  MMTAIWFVLVAVAALFFGFGIGYFIRKSIAEAKISSAEEAAAQIVE...   \n",
              "482475   A0A2X4WN27  MDSIHIISILLALIAGVVVGYFIFKKIAEVKVTGAKHAAEHIIEDA...   \n",
              "509154   A0A172ZG08  MGYLWVIILVVAALFFGFGIGYFIRKSLAEAKISSAETAAAQIVEN...   \n",
              "517567   A0A221MDB2  MDIITIIISALLALIVGIVVGYLIRKSIAEAKISSAEKLAKQIVDE...   \n",
              "635924   A0A1C7E6Y7  MGITEFIFALLGIIVGVVVGYFALKKANDSKMAGAKHSAEQVIEDA...   \n",
              "715524   A0A1R0YIX9  MVTAIWVIIVLVVAALFFGFGYFIRKSLAEAKISSAEKEAVVIVEN...   \n",
              "725673   A0A4Y6V2S2  MPNFWVAILVAAALFFGFVIGYFIRKSLAEAKISSAEQAAEQIVEN...   \n",
              "746244   A0A1C7DPT9  MGINEFIFALLGIIVGVVVGYFALKKANDSNIAGAKNSAEQIVEDA...   \n",
              "749734   A0A4Y7WQH7  MPSIELNLLVLSLIVLAFSVVFAVVGYLVRKSIAERKISSAEQAAK...   \n",
              "810765   A0A1C7EH00  MGINEFIFALLGIIVGVVVGYFALKKANDSNIAGAKNSAEQIVEDA...   \n",
              "846654   A0A160ILZ9  MPSLAVFISSLLVSLGVGAIVGYLVRKSIAEAKISSAERAAAQIVE...   \n",
              "972208   A0A168MZ57  MNTLIWVLIVLFVAVIFGFAGYFIRKSIAEAKISSAEEAAVQIVES...   \n",
              "979013   A0A220U5Q9  MDIITLIISILLTLIVGIVVGYLIRKSIAEAKISSAEKLAKQIVDE...   \n",
              "1005272  A0A172TLF1  MEWIITILVALVVGVLGFGIGYFIRKSIAEAKISSAEQAATQIVES...   \n",
              "1021652  A0A1B1S486  MDNVIIFTLLGIIVGVVVGYFVMKKSNESKMAGARNSAEQIIEDAK...   \n",
              "1027397  A0A3T1D8E6  MIDSWIWIVIILVVGVLCFGIGYVARKSIAEAKISSAEAAAIQIVE...   \n",
              "1142163  A0A2Z2K9S3  MEYLIWVLIILVVAALFFWLGYSIRKSIAEAKISSAEKEAVVIVDN...   \n",
              "\n",
              "         Length                          Species  RAPID_disorder cluster  \\\n",
              "21824       518         Geobacillus kaustophilus          0.1988  125601   \n",
              "31098       518           Anoxybacillus gonensis          0.1931  125601   \n",
              "51458       514        Novibacillus thermophilus          0.1809  125601   \n",
              "54640       520              Bacillus beveridgei          0.2096  125601   \n",
              "91887       519    Jeotgalibacillus malaysiensis          0.1657  125601   \n",
              "99667       520        Virgibacillus dokdonensis          0.1769  125601   \n",
              "124667      513             Paenibacillus lentus          0.1287  125601   \n",
              "128854      520            Halobacillus mangrovi          0.1827  125601   \n",
              "168788      521  Lentibacillus amyloliquefaciens          0.1766  125601   \n",
              "204166      513          Tumebacillus algifaecis          0.1988  125601   \n",
              "207998      519                 Bacillus mesonae          0.2139  125601   \n",
              "213522      516       Paenibacillus beijingensis          0.1240  125601   \n",
              "257122      513     Paenibacillus chitinolyticus          0.1423  125601   \n",
              "295329      514         Paenibacillus kribbensis          0.1732  125601   \n",
              "311600      520          Terribacillus goriensis          0.1712  125601   \n",
              "416333      523        Salicibibacter halophilus          0.1969  125601   \n",
              "461055      519                  Bacillus kochii          0.1753  125601   \n",
              "477537      514             Paenibacillus terrae          0.1732  125601   \n",
              "482475      519                  Bacillus lentus          0.1484  125601   \n",
              "509154      513              Paenibacillus bovis          0.1559  125601   \n",
              "517567      520         Virgibacillus necropolis          0.1788  125601   \n",
              "635924      519          Planococcus plakortidis          0.2062  125601   \n",
              "715524      513           Paenibacillus borealis          0.1501  125601   \n",
              "725673      513       Saccharibacillus brassicae          0.1852  125601   \n",
              "746244      519       Planococcus halocryophilus          0.1811  125601   \n",
              "749734      525                Bacillus lehensis          0.1657  125601   \n",
              "810765      519          Planococcus donghaensis          0.1908  125601   \n",
              "846654      521    Fictibacillus phosphorivorans          0.2092  125601   \n",
              "972208      513        Paenibacillus antarcticus          0.1813  125601   \n",
              "979013      520        Virgibacillus phasianinus          0.1577  125601   \n",
              "1005272     513           Paenibacillus swuensis          0.1306  125601   \n",
              "1021652     518             Planococcus versutus          0.1834  125601   \n",
              "1027397     514                 Cohnella abietis          0.1284  125601   \n",
              "1142163     513        Paenibacillus donghaensis          0.1832  125601   \n",
              "\n",
              "           f_plus   f_minus      ncpr       fcr idp_type  disordered  \n",
              "21824    0.191120  0.193050  0.001931  0.384170        3        True  \n",
              "31098    0.193050  0.200772  0.007722  0.393822        3        True  \n",
              "51458    0.188716  0.198444  0.009728  0.387160        3        True  \n",
              "54640    0.188462  0.201923  0.013462  0.390385        3        True  \n",
              "91887    0.184971  0.192678  0.007707  0.377649        3        True  \n",
              "99667    0.180769  0.196154  0.015385  0.376923        3        True  \n",
              "124667   0.185185  0.189084  0.003899  0.374269        3        True  \n",
              "128854   0.173077  0.196154  0.023077  0.369231        3        True  \n",
              "168788   0.166987  0.195777  0.028791  0.362764        3        True  \n",
              "204166   0.189084  0.189084  0.000000  0.378168        3        True  \n",
              "207998   0.188825  0.194605  0.005780  0.383430        3        True  \n",
              "213522   0.182171  0.187984  0.005814  0.370155        3        True  \n",
              "257122   0.187135  0.187135  0.000000  0.374269        3        True  \n",
              "295329   0.182879  0.186770  0.003891  0.369650        3        True  \n",
              "311600   0.180769  0.194231  0.013462  0.375000        3        True  \n",
              "416333   0.183556  0.200765  0.017208  0.384321        3        True  \n",
              "461055   0.192678  0.198459  0.005780  0.391137        3        True  \n",
              "477537   0.182879  0.186770  0.003891  0.369650        3        True  \n",
              "482475   0.192678  0.198459  0.005780  0.391137        3        True  \n",
              "509154   0.179337  0.183236  0.003899  0.362573        3        True  \n",
              "517567   0.182692  0.192308  0.009615  0.375000        3        True  \n",
              "635924   0.183044  0.190751  0.007707  0.373796        3        True  \n",
              "715524   0.183236  0.189084  0.005848  0.372320        3        True  \n",
              "725673   0.185185  0.185185  0.000000  0.370370        3        True  \n",
              "746244   0.181118  0.194605  0.013487  0.375723        3        True  \n",
              "749734   0.188571  0.190476  0.001905  0.379048        3        True  \n",
              "810765   0.181118  0.194605  0.013487  0.375723        3        True  \n",
              "846654   0.188100  0.197697  0.009597  0.385797        3        True  \n",
              "972208   0.183236  0.187135  0.003899  0.370370        3        True  \n",
              "979013   0.182692  0.190385  0.007692  0.373077        3        True  \n",
              "1005272  0.181287  0.189084  0.007797  0.370370        3        True  \n",
              "1021652  0.183398  0.193050  0.009653  0.376448        3        True  \n",
              "1027397  0.186770  0.188716  0.001946  0.375486        3        True  \n",
              "1142163  0.187135  0.191033  0.003899  0.378168        3        True  "
            ],
            "text/html": [
              "\n",
              "  <div id=\"df-41a3e8ab-e214-4fed-9126-1eb847ab88b0\" class=\"colab-df-container\">\n",
              "    <div>\n",
              "<style scoped>\n",
              "    .dataframe tbody tr th:only-of-type {\n",
              "        vertical-align: middle;\n",
              "    }\n",
              "\n",
              "    .dataframe tbody tr th {\n",
              "        vertical-align: top;\n",
              "    }\n",
              "\n",
              "    .dataframe thead th {\n",
              "        text-align: right;\n",
              "    }\n",
              "</style>\n",
              "<table border=\"1\" class=\"dataframe\">\n",
              "  <thead>\n",
              "    <tr style=\"text-align: right;\">\n",
              "      <th></th>\n",
              "      <th>ID</th>\n",
              "      <th>Sequence</th>\n",
              "      <th>Length</th>\n",
              "      <th>Species</th>\n",
              "      <th>RAPID_disorder</th>\n",
              "      <th>cluster</th>\n",
              "      <th>f_plus</th>\n",
              "      <th>f_minus</th>\n",
              "      <th>ncpr</th>\n",
              "      <th>fcr</th>\n",
              "      <th>idp_type</th>\n",
              "      <th>disordered</th>\n",
              "    </tr>\n",
              "  </thead>\n",
              "  <tbody>\n",
              "    <tr>\n",
              "      <th>21824</th>\n",
              "      <td>A0A0D8BQM5</td>\n",
              "      <td>MGSIIISALLALVIGAVVGFFVRKSIAEAKIGGAKAAAKQLIEEAK...</td>\n",
              "      <td>518</td>\n",
              "      <td>Geobacillus kaustophilus</td>\n",
              "      <td>0.1988</td>\n",
              "      <td>125601</td>\n",
              "      <td>0.191120</td>\n",
              "      <td>0.193050</td>\n",
              "      <td>0.001931</td>\n",
              "      <td>0.384170</td>\n",
              "      <td>3</td>\n",
              "      <td>True</td>\n",
              "    </tr>\n",
              "    <tr>\n",
              "      <th>31098</th>\n",
              "      <td>M5QPR2</td>\n",
              "      <td>MGETIISALLALVVGAVVGFFVRKSIAEAKIGGAQAAAKQMIEEAK...</td>\n",
              "      <td>518</td>\n",
              "      <td>Anoxybacillus gonensis</td>\n",
              "      <td>0.1931</td>\n",
              "      <td>125601</td>\n",
              "      <td>0.193050</td>\n",
              "      <td>0.200772</td>\n",
              "      <td>0.007722</td>\n",
              "      <td>0.393822</td>\n",
              "      <td>3</td>\n",
              "      <td>True</td>\n",
              "    </tr>\n",
              "    <tr>\n",
              "      <th>51458</th>\n",
              "      <td>A0A1U9K9S0</td>\n",
              "      <td>MIGSLGEILILLATAAVSAGIGYFVRKRLAEAKISSAEEAAERIID...</td>\n",
              "      <td>514</td>\n",
              "      <td>Novibacillus thermophilus</td>\n",
              "      <td>0.1809</td>\n",
              "      <td>125601</td>\n",
              "      <td>0.188716</td>\n",
              "      <td>0.198444</td>\n",
              "      <td>0.009728</td>\n",
              "      <td>0.387160</td>\n",
              "      <td>3</td>\n",
              "      <td>True</td>\n",
              "    </tr>\n",
              "    <tr>\n",
              "      <th>54640</th>\n",
              "      <td>A0A1D7QVT1</td>\n",
              "      <td>MDLIYQILALLLVAVIGILIGYFIRKSLAEAKISSAEALAKQTVEE...</td>\n",
              "      <td>520</td>\n",
              "      <td>Bacillus beveridgei</td>\n",
              "      <td>0.2096</td>\n",
              "      <td>125601</td>\n",
              "      <td>0.188462</td>\n",
              "      <td>0.201923</td>\n",
              "      <td>0.013462</td>\n",
              "      <td>0.390385</td>\n",
              "      <td>3</td>\n",
              "      <td>True</td>\n",
              "    </tr>\n",
              "    <tr>\n",
              "      <th>91887</th>\n",
              "      <td>A0A0B5ALP4</td>\n",
              "      <td>MGAFEITFILAGIIVGVVVGYLIHKFMMDAKVGGAKGTVEQILANG...</td>\n",
              "      <td>519</td>\n",
              "      <td>Jeotgalibacillus malaysiensis</td>\n",
              "      <td>0.1657</td>\n",
              "      <td>125601</td>\n",
              "      <td>0.184971</td>\n",
              "      <td>0.192678</td>\n",
              "      <td>0.007707</td>\n",
              "      <td>0.377649</td>\n",
              "      <td>3</td>\n",
              "      <td>True</td>\n",
              "    </tr>\n",
              "    <tr>\n",
              "      <th>99667</th>\n",
              "      <td>A0A3E0WKA5</td>\n",
              "      <td>MDSLMLISILLVILIVGIVVGYLIRKSIAEAKISSAETLAKQIVDE...</td>\n",
              "      <td>520</td>\n",
              "      <td>Virgibacillus dokdonensis</td>\n",
              "      <td>0.1769</td>\n",
              "      <td>125601</td>\n",
              "      <td>0.180769</td>\n",
              "      <td>0.196154</td>\n",
              "      <td>0.015385</td>\n",
              "      <td>0.376923</td>\n",
              "      <td>3</td>\n",
              "      <td>True</td>\n",
              "    </tr>\n",
              "    <tr>\n",
              "      <th>124667</th>\n",
              "      <td>A0A3S8RXC5</td>\n",
              "      <td>MHDGVWVALVAAALFFGFVIGYFIRKSLAEAKISSAEHAASQILES...</td>\n",
              "      <td>513</td>\n",
              "      <td>Paenibacillus lentus</td>\n",
              "      <td>0.1287</td>\n",
              "      <td>125601</td>\n",
              "      <td>0.185185</td>\n",
              "      <td>0.189084</td>\n",
              "      <td>0.003899</td>\n",
              "      <td>0.374269</td>\n",
              "      <td>3</td>\n",
              "      <td>True</td>\n",
              "    </tr>\n",
              "    <tr>\n",
              "      <th>128854</th>\n",
              "      <td>A0A1W5ZVT3</td>\n",
              "      <td>MDLISSLIFILLALIVGSVVGYLIRKSIAEAKISSAEELAKQIVEE...</td>\n",
              "      <td>520</td>\n",
              "      <td>Halobacillus mangrovi</td>\n",
              "      <td>0.1827</td>\n",
              "      <td>125601</td>\n",
              "      <td>0.173077</td>\n",
              "      <td>0.196154</td>\n",
              "      <td>0.023077</td>\n",
              "      <td>0.369231</td>\n",
              "      <td>3</td>\n",
              "      <td>True</td>\n",
              "    </tr>\n",
              "    <tr>\n",
              "      <th>168788</th>\n",
              "      <td>A0A0U4F4D2</td>\n",
              "      <td>MDNPLIISILLAVILIVGIVVGYLIRKSIGEAKITSAENLAKQIVD...</td>\n",
              "      <td>521</td>\n",
              "      <td>Lentibacillus amyloliquefaciens</td>\n",
              "      <td>0.1766</td>\n",
              "      <td>125601</td>\n",
              "      <td>0.166987</td>\n",
              "      <td>0.195777</td>\n",
              "      <td>0.028791</td>\n",
              "      <td>0.362764</td>\n",
              "      <td>3</td>\n",
              "      <td>True</td>\n",
              "    </tr>\n",
              "    <tr>\n",
              "      <th>204166</th>\n",
              "      <td>A0A223D2A0</td>\n",
              "      <td>MDSLLPILLSVIFLAVGLVGGYLVRRNIAEGKLAAAELRAEQILDT...</td>\n",
              "      <td>513</td>\n",
              "      <td>Tumebacillus algifaecis</td>\n",
              "      <td>0.1988</td>\n",
              "      <td>125601</td>\n",
              "      <td>0.189084</td>\n",
              "      <td>0.189084</td>\n",
              "      <td>0.000000</td>\n",
              "      <td>0.378168</td>\n",
              "      <td>3</td>\n",
              "      <td>True</td>\n",
              "    </tr>\n",
              "    <tr>\n",
              "      <th>207998</th>\n",
              "      <td>A0A3Q9QY97</td>\n",
              "      <td>MDPITIISILLGLIVGAVVGYFVHKSIAEAKVTGAKNAAEQIIEDA...</td>\n",
              "      <td>519</td>\n",
              "      <td>Bacillus mesonae</td>\n",
              "      <td>0.2139</td>\n",
              "      <td>125601</td>\n",
              "      <td>0.188825</td>\n",
              "      <td>0.194605</td>\n",
              "      <td>0.005780</td>\n",
              "      <td>0.383430</td>\n",
              "      <td>3</td>\n",
              "      <td>True</td>\n",
              "    </tr>\n",
              "    <tr>\n",
              "      <th>213522</th>\n",
              "      <td>A0A0D5NNR7</td>\n",
              "      <td>MTPGLWILWILIVLVVGAVFFGIGYFIRKSIAEAKISSAEQAAVQI...</td>\n",
              "      <td>516</td>\n",
              "      <td>Paenibacillus beijingensis</td>\n",
              "      <td>0.1240</td>\n",
              "      <td>125601</td>\n",
              "      <td>0.182171</td>\n",
              "      <td>0.187984</td>\n",
              "      <td>0.005814</td>\n",
              "      <td>0.370155</td>\n",
              "      <td>3</td>\n",
              "      <td>True</td>\n",
              "    </tr>\n",
              "    <tr>\n",
              "      <th>257122</th>\n",
              "      <td>A0A410X0P2</td>\n",
              "      <td>MNPIIWVLIILVVGVICLGIGYFIRKSLAEAKISSAETAAAQIVEN...</td>\n",
              "      <td>513</td>\n",
              "      <td>Paenibacillus chitinolyticus</td>\n",
              "      <td>0.1423</td>\n",
              "      <td>125601</td>\n",
              "      <td>0.187135</td>\n",
              "      <td>0.187135</td>\n",
              "      <td>0.000000</td>\n",
              "      <td>0.374269</td>\n",
              "      <td>3</td>\n",
              "      <td>True</td>\n",
              "    </tr>\n",
              "    <tr>\n",
              "      <th>295329</th>\n",
              "      <td>A0A222WPM9</td>\n",
              "      <td>MMTAIWFVLVAVAALFFGFWIGYFIRKSIAEAKISSAEEAAAQIVE...</td>\n",
              "      <td>514</td>\n",
              "      <td>Paenibacillus kribbensis</td>\n",
              "      <td>0.1732</td>\n",
              "      <td>125601</td>\n",
              "      <td>0.182879</td>\n",
              "      <td>0.186770</td>\n",
              "      <td>0.003891</td>\n",
              "      <td>0.369650</td>\n",
              "      <td>3</td>\n",
              "      <td>True</td>\n",
              "    </tr>\n",
              "    <tr>\n",
              "      <th>311600</th>\n",
              "      <td>A0A075LPM7</td>\n",
              "      <td>MELFYLIISILLALIVGGVVGYLVRKSIAEKKISSAEELAKQIVEE...</td>\n",
              "      <td>520</td>\n",
              "      <td>Terribacillus goriensis</td>\n",
              "      <td>0.1712</td>\n",
              "      <td>125601</td>\n",
              "      <td>0.180769</td>\n",
              "      <td>0.194231</td>\n",
              "      <td>0.013462</td>\n",
              "      <td>0.375000</td>\n",
              "      <td>3</td>\n",
              "      <td>True</td>\n",
              "    </tr>\n",
              "    <tr>\n",
              "      <th>416333</th>\n",
              "      <td>A0A514LFZ6</td>\n",
              "      <td>MDGTLILTISILLVVVAVLSGFIGYVIRRKIAEAKISSAEYTAKKM...</td>\n",
              "      <td>523</td>\n",
              "      <td>Salicibibacter halophilus</td>\n",
              "      <td>0.1969</td>\n",
              "      <td>125601</td>\n",
              "      <td>0.183556</td>\n",
              "      <td>0.200765</td>\n",
              "      <td>0.017208</td>\n",
              "      <td>0.384321</td>\n",
              "      <td>3</td>\n",
              "      <td>True</td>\n",
              "    </tr>\n",
              "    <tr>\n",
              "      <th>461055</th>\n",
              "      <td>A0A248TCF3</td>\n",
              "      <td>MELGYIISILLGLIVAAFVGYFFRKSVTEAKIAGARGAADQILEDA...</td>\n",
              "      <td>519</td>\n",
              "      <td>Bacillus kochii</td>\n",
              "      <td>0.1753</td>\n",
              "      <td>125601</td>\n",
              "      <td>0.192678</td>\n",
              "      <td>0.198459</td>\n",
              "      <td>0.005780</td>\n",
              "      <td>0.391137</td>\n",
              "      <td>3</td>\n",
              "      <td>True</td>\n",
              "    </tr>\n",
              "    <tr>\n",
              "      <th>477537</th>\n",
              "      <td>A0A0D7XA37</td>\n",
              "      <td>MMTAIWFVLVAVAALFFGFGIGYFIRKSIAEAKISSAEEAAAQIVE...</td>\n",
              "      <td>514</td>\n",
              "      <td>Paenibacillus terrae</td>\n",
              "      <td>0.1732</td>\n",
              "      <td>125601</td>\n",
              "      <td>0.182879</td>\n",
              "      <td>0.186770</td>\n",
              "      <td>0.003891</td>\n",
              "      <td>0.369650</td>\n",
              "      <td>3</td>\n",
              "      <td>True</td>\n",
              "    </tr>\n",
              "    <tr>\n",
              "      <th>482475</th>\n",
              "      <td>A0A2X4WN27</td>\n",
              "      <td>MDSIHIISILLALIAGVVVGYFIFKKIAEVKVTGAKHAAEHIIEDA...</td>\n",
              "      <td>519</td>\n",
              "      <td>Bacillus lentus</td>\n",
              "      <td>0.1484</td>\n",
              "      <td>125601</td>\n",
              "      <td>0.192678</td>\n",
              "      <td>0.198459</td>\n",
              "      <td>0.005780</td>\n",
              "      <td>0.391137</td>\n",
              "      <td>3</td>\n",
              "      <td>True</td>\n",
              "    </tr>\n",
              "    <tr>\n",
              "      <th>509154</th>\n",
              "      <td>A0A172ZG08</td>\n",
              "      <td>MGYLWVIILVVAALFFGFGIGYFIRKSLAEAKISSAETAAAQIVEN...</td>\n",
              "      <td>513</td>\n",
              "      <td>Paenibacillus bovis</td>\n",
              "      <td>0.1559</td>\n",
              "      <td>125601</td>\n",
              "      <td>0.179337</td>\n",
              "      <td>0.183236</td>\n",
              "      <td>0.003899</td>\n",
              "      <td>0.362573</td>\n",
              "      <td>3</td>\n",
              "      <td>True</td>\n",
              "    </tr>\n",
              "    <tr>\n",
              "      <th>517567</th>\n",
              "      <td>A0A221MDB2</td>\n",
              "      <td>MDIITIIISALLALIVGIVVGYLIRKSIAEAKISSAEKLAKQIVDE...</td>\n",
              "      <td>520</td>\n",
              "      <td>Virgibacillus necropolis</td>\n",
              "      <td>0.1788</td>\n",
              "      <td>125601</td>\n",
              "      <td>0.182692</td>\n",
              "      <td>0.192308</td>\n",
              "      <td>0.009615</td>\n",
              "      <td>0.375000</td>\n",
              "      <td>3</td>\n",
              "      <td>True</td>\n",
              "    </tr>\n",
              "    <tr>\n",
              "      <th>635924</th>\n",
              "      <td>A0A1C7E6Y7</td>\n",
              "      <td>MGITEFIFALLGIIVGVVVGYFALKKANDSKMAGAKHSAEQVIEDA...</td>\n",
              "      <td>519</td>\n",
              "      <td>Planococcus plakortidis</td>\n",
              "      <td>0.2062</td>\n",
              "      <td>125601</td>\n",
              "      <td>0.183044</td>\n",
              "      <td>0.190751</td>\n",
              "      <td>0.007707</td>\n",
              "      <td>0.373796</td>\n",
              "      <td>3</td>\n",
              "      <td>True</td>\n",
              "    </tr>\n",
              "    <tr>\n",
              "      <th>715524</th>\n",
              "      <td>A0A1R0YIX9</td>\n",
              "      <td>MVTAIWVIIVLVVAALFFGFGYFIRKSLAEAKISSAEKEAVVIVEN...</td>\n",
              "      <td>513</td>\n",
              "      <td>Paenibacillus borealis</td>\n",
              "      <td>0.1501</td>\n",
              "      <td>125601</td>\n",
              "      <td>0.183236</td>\n",
              "      <td>0.189084</td>\n",
              "      <td>0.005848</td>\n",
              "      <td>0.372320</td>\n",
              "      <td>3</td>\n",
              "      <td>True</td>\n",
              "    </tr>\n",
              "    <tr>\n",
              "      <th>725673</th>\n",
              "      <td>A0A4Y6V2S2</td>\n",
              "      <td>MPNFWVAILVAAALFFGFVIGYFIRKSLAEAKISSAEQAAEQIVEN...</td>\n",
              "      <td>513</td>\n",
              "      <td>Saccharibacillus brassicae</td>\n",
              "      <td>0.1852</td>\n",
              "      <td>125601</td>\n",
              "      <td>0.185185</td>\n",
              "      <td>0.185185</td>\n",
              "      <td>0.000000</td>\n",
              "      <td>0.370370</td>\n",
              "      <td>3</td>\n",
              "      <td>True</td>\n",
              "    </tr>\n",
              "    <tr>\n",
              "      <th>746244</th>\n",
              "      <td>A0A1C7DPT9</td>\n",
              "      <td>MGINEFIFALLGIIVGVVVGYFALKKANDSNIAGAKNSAEQIVEDA...</td>\n",
              "      <td>519</td>\n",
              "      <td>Planococcus halocryophilus</td>\n",
              "      <td>0.1811</td>\n",
              "      <td>125601</td>\n",
              "      <td>0.181118</td>\n",
              "      <td>0.194605</td>\n",
              "      <td>0.013487</td>\n",
              "      <td>0.375723</td>\n",
              "      <td>3</td>\n",
              "      <td>True</td>\n",
              "    </tr>\n",
              "    <tr>\n",
              "      <th>749734</th>\n",
              "      <td>A0A4Y7WQH7</td>\n",
              "      <td>MPSIELNLLVLSLIVLAFSVVFAVVGYLVRKSIAERKISSAEQAAK...</td>\n",
              "      <td>525</td>\n",
              "      <td>Bacillus lehensis</td>\n",
              "      <td>0.1657</td>\n",
              "      <td>125601</td>\n",
              "      <td>0.188571</td>\n",
              "      <td>0.190476</td>\n",
              "      <td>0.001905</td>\n",
              "      <td>0.379048</td>\n",
              "      <td>3</td>\n",
              "      <td>True</td>\n",
              "    </tr>\n",
              "    <tr>\n",
              "      <th>810765</th>\n",
              "      <td>A0A1C7EH00</td>\n",
              "      <td>MGINEFIFALLGIIVGVVVGYFALKKANDSNIAGAKNSAEQIVEDA...</td>\n",
              "      <td>519</td>\n",
              "      <td>Planococcus donghaensis</td>\n",
              "      <td>0.1908</td>\n",
              "      <td>125601</td>\n",
              "      <td>0.181118</td>\n",
              "      <td>0.194605</td>\n",
              "      <td>0.013487</td>\n",
              "      <td>0.375723</td>\n",
              "      <td>3</td>\n",
              "      <td>True</td>\n",
              "    </tr>\n",
              "    <tr>\n",
              "      <th>846654</th>\n",
              "      <td>A0A160ILZ9</td>\n",
              "      <td>MPSLAVFISSLLVSLGVGAIVGYLVRKSIAEAKISSAERAAAQIVE...</td>\n",
              "      <td>521</td>\n",
              "      <td>Fictibacillus phosphorivorans</td>\n",
              "      <td>0.2092</td>\n",
              "      <td>125601</td>\n",
              "      <td>0.188100</td>\n",
              "      <td>0.197697</td>\n",
              "      <td>0.009597</td>\n",
              "      <td>0.385797</td>\n",
              "      <td>3</td>\n",
              "      <td>True</td>\n",
              "    </tr>\n",
              "    <tr>\n",
              "      <th>972208</th>\n",
              "      <td>A0A168MZ57</td>\n",
              "      <td>MNTLIWVLIVLFVAVIFGFAGYFIRKSIAEAKISSAEEAAVQIVES...</td>\n",
              "      <td>513</td>\n",
              "      <td>Paenibacillus antarcticus</td>\n",
              "      <td>0.1813</td>\n",
              "      <td>125601</td>\n",
              "      <td>0.183236</td>\n",
              "      <td>0.187135</td>\n",
              "      <td>0.003899</td>\n",
              "      <td>0.370370</td>\n",
              "      <td>3</td>\n",
              "      <td>True</td>\n",
              "    </tr>\n",
              "    <tr>\n",
              "      <th>979013</th>\n",
              "      <td>A0A220U5Q9</td>\n",
              "      <td>MDIITLIISILLTLIVGIVVGYLIRKSIAEAKISSAEKLAKQIVDE...</td>\n",
              "      <td>520</td>\n",
              "      <td>Virgibacillus phasianinus</td>\n",
              "      <td>0.1577</td>\n",
              "      <td>125601</td>\n",
              "      <td>0.182692</td>\n",
              "      <td>0.190385</td>\n",
              "      <td>0.007692</td>\n",
              "      <td>0.373077</td>\n",
              "      <td>3</td>\n",
              "      <td>True</td>\n",
              "    </tr>\n",
              "    <tr>\n",
              "      <th>1005272</th>\n",
              "      <td>A0A172TLF1</td>\n",
              "      <td>MEWIITILVALVVGVLGFGIGYFIRKSIAEAKISSAEQAATQIVES...</td>\n",
              "      <td>513</td>\n",
              "      <td>Paenibacillus swuensis</td>\n",
              "      <td>0.1306</td>\n",
              "      <td>125601</td>\n",
              "      <td>0.181287</td>\n",
              "      <td>0.189084</td>\n",
              "      <td>0.007797</td>\n",
              "      <td>0.370370</td>\n",
              "      <td>3</td>\n",
              "      <td>True</td>\n",
              "    </tr>\n",
              "    <tr>\n",
              "      <th>1021652</th>\n",
              "      <td>A0A1B1S486</td>\n",
              "      <td>MDNVIIFTLLGIIVGVVVGYFVMKKSNESKMAGARNSAEQIIEDAK...</td>\n",
              "      <td>518</td>\n",
              "      <td>Planococcus versutus</td>\n",
              "      <td>0.1834</td>\n",
              "      <td>125601</td>\n",
              "      <td>0.183398</td>\n",
              "      <td>0.193050</td>\n",
              "      <td>0.009653</td>\n",
              "      <td>0.376448</td>\n",
              "      <td>3</td>\n",
              "      <td>True</td>\n",
              "    </tr>\n",
              "    <tr>\n",
              "      <th>1027397</th>\n",
              "      <td>A0A3T1D8E6</td>\n",
              "      <td>MIDSWIWIVIILVVGVLCFGIGYVARKSIAEAKISSAEAAAIQIVE...</td>\n",
              "      <td>514</td>\n",
              "      <td>Cohnella abietis</td>\n",
              "      <td>0.1284</td>\n",
              "      <td>125601</td>\n",
              "      <td>0.186770</td>\n",
              "      <td>0.188716</td>\n",
              "      <td>0.001946</td>\n",
              "      <td>0.375486</td>\n",
              "      <td>3</td>\n",
              "      <td>True</td>\n",
              "    </tr>\n",
              "    <tr>\n",
              "      <th>1142163</th>\n",
              "      <td>A0A2Z2K9S3</td>\n",
              "      <td>MEYLIWVLIILVVAALFFWLGYSIRKSIAEAKISSAEKEAVVIVDN...</td>\n",
              "      <td>513</td>\n",
              "      <td>Paenibacillus donghaensis</td>\n",
              "      <td>0.1832</td>\n",
              "      <td>125601</td>\n",
              "      <td>0.187135</td>\n",
              "      <td>0.191033</td>\n",
              "      <td>0.003899</td>\n",
              "      <td>0.378168</td>\n",
              "      <td>3</td>\n",
              "      <td>True</td>\n",
              "    </tr>\n",
              "  </tbody>\n",
              "</table>\n",
              "</div>\n",
              "    <div class=\"colab-df-buttons\">\n",
              "\n",
              "  <div class=\"colab-df-container\">\n",
              "    <button class=\"colab-df-convert\" onclick=\"convertToInteractive('df-41a3e8ab-e214-4fed-9126-1eb847ab88b0')\"\n",
              "            title=\"Convert this dataframe to an interactive table.\"\n",
              "            style=\"display:none;\">\n",
              "\n",
              "  <svg xmlns=\"http://www.w3.org/2000/svg\" height=\"24px\" viewBox=\"0 -960 960 960\">\n",
              "    <path d=\"M120-120v-720h720v720H120Zm60-500h600v-160H180v160Zm220 220h160v-160H400v160Zm0 220h160v-160H400v160ZM180-400h160v-160H180v160Zm440 0h160v-160H620v160ZM180-180h160v-160H180v160Zm440 0h160v-160H620v160Z\"/>\n",
              "  </svg>\n",
              "    </button>\n",
              "\n",
              "  <style>\n",
              "    .colab-df-container {\n",
              "      display:flex;\n",
              "      gap: 12px;\n",
              "    }\n",
              "\n",
              "    .colab-df-convert {\n",
              "      background-color: #E8F0FE;\n",
              "      border: none;\n",
              "      border-radius: 50%;\n",
              "      cursor: pointer;\n",
              "      display: none;\n",
              "      fill: #1967D2;\n",
              "      height: 32px;\n",
              "      padding: 0 0 0 0;\n",
              "      width: 32px;\n",
              "    }\n",
              "\n",
              "    .colab-df-convert:hover {\n",
              "      background-color: #E2EBFA;\n",
              "      box-shadow: 0px 1px 2px rgba(60, 64, 67, 0.3), 0px 1px 3px 1px rgba(60, 64, 67, 0.15);\n",
              "      fill: #174EA6;\n",
              "    }\n",
              "\n",
              "    .colab-df-buttons div {\n",
              "      margin-bottom: 4px;\n",
              "    }\n",
              "\n",
              "    [theme=dark] .colab-df-convert {\n",
              "      background-color: #3B4455;\n",
              "      fill: #D2E3FC;\n",
              "    }\n",
              "\n",
              "    [theme=dark] .colab-df-convert:hover {\n",
              "      background-color: #434B5C;\n",
              "      box-shadow: 0px 1px 3px 1px rgba(0, 0, 0, 0.15);\n",
              "      filter: drop-shadow(0px 1px 2px rgba(0, 0, 0, 0.3));\n",
              "      fill: #FFFFFF;\n",
              "    }\n",
              "  </style>\n",
              "\n",
              "    <script>\n",
              "      const buttonEl =\n",
              "        document.querySelector('#df-41a3e8ab-e214-4fed-9126-1eb847ab88b0 button.colab-df-convert');\n",
              "      buttonEl.style.display =\n",
              "        google.colab.kernel.accessAllowed ? 'block' : 'none';\n",
              "\n",
              "      async function convertToInteractive(key) {\n",
              "        const element = document.querySelector('#df-41a3e8ab-e214-4fed-9126-1eb847ab88b0');\n",
              "        const dataTable =\n",
              "          await google.colab.kernel.invokeFunction('convertToInteractive',\n",
              "                                                    [key], {});\n",
              "        if (!dataTable) return;\n",
              "\n",
              "        const docLinkHtml = 'Like what you see? Visit the ' +\n",
              "          '<a target=\"_blank\" href=https://colab.research.google.com/notebooks/data_table.ipynb>data table notebook</a>'\n",
              "          + ' to learn more about interactive tables.';\n",
              "        element.innerHTML = '';\n",
              "        dataTable['output_type'] = 'display_data';\n",
              "        await google.colab.output.renderOutput(dataTable, element);\n",
              "        const docLink = document.createElement('div');\n",
              "        docLink.innerHTML = docLinkHtml;\n",
              "        element.appendChild(docLink);\n",
              "      }\n",
              "    </script>\n",
              "  </div>\n",
              "\n",
              "\n",
              "<div id=\"df-3f0eccfe-f3c1-4c47-be20-115b3f397dd4\">\n",
              "  <button class=\"colab-df-quickchart\" onclick=\"quickchart('df-3f0eccfe-f3c1-4c47-be20-115b3f397dd4')\"\n",
              "            title=\"Suggest charts\"\n",
              "            style=\"display:none;\">\n",
              "\n",
              "<svg xmlns=\"http://www.w3.org/2000/svg\" height=\"24px\"viewBox=\"0 0 24 24\"\n",
              "     width=\"24px\">\n",
              "    <g>\n",
              "        <path d=\"M19 3H5c-1.1 0-2 .9-2 2v14c0 1.1.9 2 2 2h14c1.1 0 2-.9 2-2V5c0-1.1-.9-2-2-2zM9 17H7v-7h2v7zm4 0h-2V7h2v10zm4 0h-2v-4h2v4z\"/>\n",
              "    </g>\n",
              "</svg>\n",
              "  </button>\n",
              "\n",
              "<style>\n",
              "  .colab-df-quickchart {\n",
              "      --bg-color: #E8F0FE;\n",
              "      --fill-color: #1967D2;\n",
              "      --hover-bg-color: #E2EBFA;\n",
              "      --hover-fill-color: #174EA6;\n",
              "      --disabled-fill-color: #AAA;\n",
              "      --disabled-bg-color: #DDD;\n",
              "  }\n",
              "\n",
              "  [theme=dark] .colab-df-quickchart {\n",
              "      --bg-color: #3B4455;\n",
              "      --fill-color: #D2E3FC;\n",
              "      --hover-bg-color: #434B5C;\n",
              "      --hover-fill-color: #FFFFFF;\n",
              "      --disabled-bg-color: #3B4455;\n",
              "      --disabled-fill-color: #666;\n",
              "  }\n",
              "\n",
              "  .colab-df-quickchart {\n",
              "    background-color: var(--bg-color);\n",
              "    border: none;\n",
              "    border-radius: 50%;\n",
              "    cursor: pointer;\n",
              "    display: none;\n",
              "    fill: var(--fill-color);\n",
              "    height: 32px;\n",
              "    padding: 0;\n",
              "    width: 32px;\n",
              "  }\n",
              "\n",
              "  .colab-df-quickchart:hover {\n",
              "    background-color: var(--hover-bg-color);\n",
              "    box-shadow: 0 1px 2px rgba(60, 64, 67, 0.3), 0 1px 3px 1px rgba(60, 64, 67, 0.15);\n",
              "    fill: var(--button-hover-fill-color);\n",
              "  }\n",
              "\n",
              "  .colab-df-quickchart-complete:disabled,\n",
              "  .colab-df-quickchart-complete:disabled:hover {\n",
              "    background-color: var(--disabled-bg-color);\n",
              "    fill: var(--disabled-fill-color);\n",
              "    box-shadow: none;\n",
              "  }\n",
              "\n",
              "  .colab-df-spinner {\n",
              "    border: 2px solid var(--fill-color);\n",
              "    border-color: transparent;\n",
              "    border-bottom-color: var(--fill-color);\n",
              "    animation:\n",
              "      spin 1s steps(1) infinite;\n",
              "  }\n",
              "\n",
              "  @keyframes spin {\n",
              "    0% {\n",
              "      border-color: transparent;\n",
              "      border-bottom-color: var(--fill-color);\n",
              "      border-left-color: var(--fill-color);\n",
              "    }\n",
              "    20% {\n",
              "      border-color: transparent;\n",
              "      border-left-color: var(--fill-color);\n",
              "      border-top-color: var(--fill-color);\n",
              "    }\n",
              "    30% {\n",
              "      border-color: transparent;\n",
              "      border-left-color: var(--fill-color);\n",
              "      border-top-color: var(--fill-color);\n",
              "      border-right-color: var(--fill-color);\n",
              "    }\n",
              "    40% {\n",
              "      border-color: transparent;\n",
              "      border-right-color: var(--fill-color);\n",
              "      border-top-color: var(--fill-color);\n",
              "    }\n",
              "    60% {\n",
              "      border-color: transparent;\n",
              "      border-right-color: var(--fill-color);\n",
              "    }\n",
              "    80% {\n",
              "      border-color: transparent;\n",
              "      border-right-color: var(--fill-color);\n",
              "      border-bottom-color: var(--fill-color);\n",
              "    }\n",
              "    90% {\n",
              "      border-color: transparent;\n",
              "      border-bottom-color: var(--fill-color);\n",
              "    }\n",
              "  }\n",
              "</style>\n",
              "\n",
              "  <script>\n",
              "    async function quickchart(key) {\n",
              "      const quickchartButtonEl =\n",
              "        document.querySelector('#' + key + ' button');\n",
              "      quickchartButtonEl.disabled = true;  // To prevent multiple clicks.\n",
              "      quickchartButtonEl.classList.add('colab-df-spinner');\n",
              "      try {\n",
              "        const charts = await google.colab.kernel.invokeFunction(\n",
              "            'suggestCharts', [key], {});\n",
              "      } catch (error) {\n",
              "        console.error('Error during call to suggestCharts:', error);\n",
              "      }\n",
              "      quickchartButtonEl.classList.remove('colab-df-spinner');\n",
              "      quickchartButtonEl.classList.add('colab-df-quickchart-complete');\n",
              "    }\n",
              "    (() => {\n",
              "      let quickchartButtonEl =\n",
              "        document.querySelector('#df-3f0eccfe-f3c1-4c47-be20-115b3f397dd4 button');\n",
              "      quickchartButtonEl.style.display =\n",
              "        google.colab.kernel.accessAllowed ? 'block' : 'none';\n",
              "    })();\n",
              "  </script>\n",
              "</div>\n",
              "    </div>\n",
              "  </div>\n"
            ]
          },
          "metadata": {},
          "execution_count": 169
        }
      ]
    },
    {
      "cell_type": "code",
      "source": [
        "disordered_clusters"
      ],
      "metadata": {
        "id": "0PUPbbyoj3lO",
        "outputId": "1c640f28-6c74-4a36-c514-e32c07cae8ac",
        "colab": {
          "base_uri": "https://localhost:8080/"
        }
      },
      "execution_count": null,
      "outputs": [
        {
          "output_type": "execute_result",
          "data": {
            "text/plain": [
              "Index(['10993', '125601', '21185', '256609', '26238', '271650', '30171',\n",
              "       '32854', '3668', '3937', '42821', '59287', '626703', '63075', '640904',\n",
              "       '671888', '694889', '699154', '701735', '722729', '733288', '745774',\n",
              "       '75175', '769449', '787794', '80057', '801625', '809653', '820723',\n",
              "       '82811', '841048', '841942', '849424', '850436', '852438', '858691',\n",
              "       '865713', '875461', '877979', '878547', '878751', '880068', '880586',\n",
              "       '896611', '899840', '902759', '908020', '908537', '912778', '916902',\n",
              "       '917427', '918342', '918431', '918593', '919163', '919459', '920723',\n",
              "       '922188', '926110', '926220', '927359', '927763', '927918', '928080',\n",
              "       '929392', '930952', '935329', '935470', '935727', '936233', '936264',\n",
              "       '936540', '936946', '937224', '937473', '939786', '940053', '940238',\n",
              "       '940781', '940941', '941189', '941621', '942037', '942201', '942581',\n",
              "       '942702', '943359', '943393', '943888', '946791', '946899', '946903',\n",
              "       '946977', '947413', '948341'],\n",
              "      dtype='object', name='cluster')"
            ]
          },
          "metadata": {},
          "execution_count": 170
        }
      ]
    },
    {
      "cell_type": "markdown",
      "source": [
        "Saving all proteins from `interesting_clusters` as `fasta` to predict their disorder using **fIDPnn**\n"
      ],
      "metadata": {
        "id": "uH6xhrBxkhfQ"
      }
    },
    {
      "cell_type": "code",
      "source": [
        "interesting_clusters = interesting_clusters[interesting_clusters['Length'] >= 20]"
      ],
      "metadata": {
        "id": "yOOOPgevot2i"
      },
      "execution_count": 179,
      "outputs": []
    },
    {
      "cell_type": "code",
      "source": [
        "!mkdir /content/clustered_fastas/"
      ],
      "metadata": {
        "id": "8Z597iSVo8TY"
      },
      "execution_count": 183,
      "outputs": []
    },
    {
      "cell_type": "code",
      "source": [
        "# define the maximum sequences per file\n",
        "max_sequences_per_file = 500\n",
        "\n",
        "# split the DataFrame into chunks of max_sequences_per_file and save as FASTA files\n",
        "for i, chunk in enumerate(range(0, len(interesting_clusters), max_sequences_per_file)):\n",
        "  chunk_df = interesting_clusters.iloc[chunk:chunk + max_sequences_per_file]\n",
        "  # create a FASTA file for the chunk\n",
        "  fasta_file_path = f'/content/clustered_fastas/clustered_proteins_{i+1}.fasta'\n",
        "  with open(fasta_file_path, 'w') as fasta_file:\n",
        "    for _, row in chunk_df.iterrows():\n",
        "      id = row['ID']\n",
        "      seq = row['Sequence']\n",
        "      fasta_file.write(f'>{id}\\n{seq}\\n')"
      ],
      "metadata": {
        "id": "znSaUA0Sj_In"
      },
      "execution_count": 184,
      "outputs": []
    },
    {
      "cell_type": "code",
      "source": [
        "!zip -r /content/clustered_fastas.zip /content/clustered_fastas -i '*.fasta'\n",
        "from google.colab import files\n",
        "files.download('/content/clustered_fastas.zip')"
      ],
      "metadata": {
        "id": "5b4Nh581j_GF",
        "colab": {
          "base_uri": "https://localhost:8080/",
          "height": 416
        },
        "outputId": "ea6ec634-2d9b-4530-b680-0766d7c36651"
      },
      "execution_count": 185,
      "outputs": [
        {
          "output_type": "stream",
          "name": "stdout",
          "text": [
            "  adding: content/clustered_fastas/clustered_proteins_11.fasta (deflated 46%)\n",
            "  adding: content/clustered_fastas/clustered_proteins_3.fasta (deflated 47%)\n",
            "  adding: content/clustered_fastas/clustered_proteins_12.fasta (deflated 46%)\n",
            "  adding: content/clustered_fastas/clustered_proteins_18.fasta (deflated 48%)\n",
            "  adding: content/clustered_fastas/clustered_proteins_23.fasta (deflated 52%)\n",
            "  adding: content/clustered_fastas/clustered_proteins_4.fasta (deflated 49%)\n",
            "  adding: content/clustered_fastas/clustered_proteins_6.fasta (deflated 45%)\n",
            "  adding: content/clustered_fastas/clustered_proteins_1.fasta (deflated 59%)\n",
            "  adding: content/clustered_fastas/clustered_proteins_19.fasta (deflated 46%)\n",
            "  adding: content/clustered_fastas/clustered_proteins_2.fasta (deflated 44%)\n",
            "  adding: content/clustered_fastas/clustered_proteins_9.fasta (deflated 47%)\n",
            "  adding: content/clustered_fastas/clustered_proteins_7.fasta (deflated 48%)\n",
            "  adding: content/clustered_fastas/clustered_proteins_21.fasta (deflated 47%)\n",
            "  adding: content/clustered_fastas/clustered_proteins_8.fasta (deflated 48%)\n",
            "  adding: content/clustered_fastas/clustered_proteins_14.fasta (deflated 46%)\n",
            "  adding: content/clustered_fastas/clustered_proteins_17.fasta (deflated 46%)\n",
            "  adding: content/clustered_fastas/clustered_proteins_5.fasta (deflated 48%)\n",
            "  adding: content/clustered_fastas/clustered_proteins_10.fasta (deflated 47%)\n",
            "  adding: content/clustered_fastas/clustered_proteins_16.fasta (deflated 48%)\n",
            "  adding: content/clustered_fastas/clustered_proteins_20.fasta (deflated 44%)\n",
            "  adding: content/clustered_fastas/clustered_proteins_22.fasta (deflated 46%)\n",
            "  adding: content/clustered_fastas/clustered_proteins_15.fasta (deflated 47%)\n",
            "  adding: content/clustered_fastas/clustered_proteins_13.fasta (deflated 46%)\n"
          ]
        },
        {
          "output_type": "display_data",
          "data": {
            "text/plain": [
              "<IPython.core.display.Javascript object>"
            ],
            "application/javascript": [
              "\n",
              "    async function download(id, filename, size) {\n",
              "      if (!google.colab.kernel.accessAllowed) {\n",
              "        return;\n",
              "      }\n",
              "      const div = document.createElement('div');\n",
              "      const label = document.createElement('label');\n",
              "      label.textContent = `Downloading \"${filename}\": `;\n",
              "      div.appendChild(label);\n",
              "      const progress = document.createElement('progress');\n",
              "      progress.max = size;\n",
              "      div.appendChild(progress);\n",
              "      document.body.appendChild(div);\n",
              "\n",
              "      const buffers = [];\n",
              "      let downloaded = 0;\n",
              "\n",
              "      const channel = await google.colab.kernel.comms.open(id);\n",
              "      // Send a message to notify the kernel that we're ready.\n",
              "      channel.send({})\n",
              "\n",
              "      for await (const message of channel.messages) {\n",
              "        // Send a message to notify the kernel that we're ready.\n",
              "        channel.send({})\n",
              "        if (message.buffers) {\n",
              "          for (const buffer of message.buffers) {\n",
              "            buffers.push(buffer);\n",
              "            downloaded += buffer.byteLength;\n",
              "            progress.value = downloaded;\n",
              "          }\n",
              "        }\n",
              "      }\n",
              "      const blob = new Blob(buffers, {type: 'application/binary'});\n",
              "      const a = document.createElement('a');\n",
              "      a.href = window.URL.createObjectURL(blob);\n",
              "      a.download = filename;\n",
              "      div.appendChild(a);\n",
              "      a.click();\n",
              "      div.remove();\n",
              "    }\n",
              "  "
            ]
          },
          "metadata": {}
        },
        {
          "output_type": "display_data",
          "data": {
            "text/plain": [
              "<IPython.core.display.Javascript object>"
            ],
            "application/javascript": [
              "download(\"download_4694bfb9-f07b-4a8c-a077-4ae09d3b8261\", \"clustered_fastas.zip\", 2258835)"
            ]
          },
          "metadata": {}
        }
      ]
    },
    {
      "cell_type": "code",
      "source": [],
      "metadata": {
        "id": "QpxoHnt0j3Ps"
      },
      "execution_count": null,
      "outputs": []
    },
    {
      "cell_type": "markdown",
      "source": [
        "## NEXT"
      ],
      "metadata": {
        "id": "p5uUl8AKMwA1"
      }
    },
    {
      "cell_type": "code",
      "source": [],
      "metadata": {
        "id": "nTroFV-LJmqc"
      },
      "execution_count": null,
      "outputs": []
    },
    {
      "cell_type": "code",
      "source": [],
      "metadata": {
        "id": "ui2WzCnwkAnC"
      },
      "execution_count": null,
      "outputs": []
    },
    {
      "cell_type": "code",
      "source": [],
      "metadata": {
        "id": "0AgxeS3SkAkR"
      },
      "execution_count": null,
      "outputs": []
    },
    {
      "cell_type": "code",
      "source": [],
      "metadata": {
        "id": "d90xMlf3kAh1"
      },
      "execution_count": null,
      "outputs": []
    },
    {
      "cell_type": "code",
      "source": [],
      "metadata": {
        "id": "jEy24s4UkAfT"
      },
      "execution_count": null,
      "outputs": []
    },
    {
      "cell_type": "code",
      "source": [],
      "metadata": {
        "id": "vq8Qqq_PkAco"
      },
      "execution_count": null,
      "outputs": []
    },
    {
      "cell_type": "code",
      "source": [],
      "metadata": {
        "id": "VxbZIs6bJmoM"
      },
      "execution_count": null,
      "outputs": []
    }
  ]
}