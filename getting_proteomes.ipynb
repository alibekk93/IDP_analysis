{
  "nbformat": 4,
  "nbformat_minor": 0,
  "metadata": {
    "colab": {
      "provenance": [],
      "authorship_tag": "ABX9TyO6H7D8+FK5pG7R9EJ+YaCb",
      "include_colab_link": true
    },
    "kernelspec": {
      "name": "python3",
      "display_name": "Python 3"
    },
    "language_info": {
      "name": "python"
    }
  },
  "cells": [
    {
      "cell_type": "markdown",
      "metadata": {
        "id": "view-in-github",
        "colab_type": "text"
      },
      "source": [
        "<a href=\"https://colab.research.google.com/github/alibekk93/IDP_analysis/blob/RAPID/getting_proteomes.ipynb\" target=\"_parent\"><img src=\"https://colab.research.google.com/assets/colab-badge.svg\" alt=\"Open In Colab\"/></a>"
      ]
    },
    {
      "cell_type": "markdown",
      "source": [
        "# Getting UniProt proteomes for Tempura species"
      ],
      "metadata": {
        "id": "gCrzBW06JRvI"
      }
    },
    {
      "cell_type": "markdown",
      "source": [
        "## Setup"
      ],
      "metadata": {
        "id": "W0xJmhROJXUu"
      }
    },
    {
      "cell_type": "code",
      "source": [
        "!pip install BIO"
      ],
      "metadata": {
        "colab": {
          "base_uri": "https://localhost:8080/"
        },
        "id": "-LqXxeeZXAti",
        "outputId": "0d9dd588-6dbe-4514-f057-f3e1292bf27e"
      },
      "execution_count": 1,
      "outputs": [
        {
          "output_type": "stream",
          "name": "stdout",
          "text": [
            "Requirement already satisfied: BIO in /usr/local/lib/python3.10/dist-packages (1.6.0)\n",
            "Requirement already satisfied: biopython>=1.80 in /usr/local/lib/python3.10/dist-packages (from BIO) (1.81)\n",
            "Requirement already satisfied: requests in /usr/local/lib/python3.10/dist-packages (from BIO) (2.31.0)\n",
            "Requirement already satisfied: tqdm in /usr/local/lib/python3.10/dist-packages (from BIO) (4.66.1)\n",
            "Requirement already satisfied: mygene in /usr/local/lib/python3.10/dist-packages (from BIO) (3.2.2)\n",
            "Requirement already satisfied: pandas in /usr/local/lib/python3.10/dist-packages (from BIO) (1.5.3)\n",
            "Requirement already satisfied: pooch in /usr/local/lib/python3.10/dist-packages (from BIO) (1.8.0)\n",
            "Requirement already satisfied: gprofiler-official in /usr/local/lib/python3.10/dist-packages (from BIO) (1.0.0)\n",
            "Requirement already satisfied: numpy in /usr/local/lib/python3.10/dist-packages (from biopython>=1.80->BIO) (1.23.5)\n",
            "Requirement already satisfied: biothings-client>=0.2.6 in /usr/local/lib/python3.10/dist-packages (from mygene->BIO) (0.3.1)\n",
            "Requirement already satisfied: python-dateutil>=2.8.1 in /usr/local/lib/python3.10/dist-packages (from pandas->BIO) (2.8.2)\n",
            "Requirement already satisfied: pytz>=2020.1 in /usr/local/lib/python3.10/dist-packages (from pandas->BIO) (2023.3.post1)\n",
            "Requirement already satisfied: platformdirs>=2.5.0 in /usr/local/lib/python3.10/dist-packages (from pooch->BIO) (4.0.0)\n",
            "Requirement already satisfied: packaging>=20.0 in /usr/local/lib/python3.10/dist-packages (from pooch->BIO) (23.2)\n",
            "Requirement already satisfied: charset-normalizer<4,>=2 in /usr/local/lib/python3.10/dist-packages (from requests->BIO) (3.3.2)\n",
            "Requirement already satisfied: idna<4,>=2.5 in /usr/local/lib/python3.10/dist-packages (from requests->BIO) (3.4)\n",
            "Requirement already satisfied: urllib3<3,>=1.21.1 in /usr/local/lib/python3.10/dist-packages (from requests->BIO) (2.0.7)\n",
            "Requirement already satisfied: certifi>=2017.4.17 in /usr/local/lib/python3.10/dist-packages (from requests->BIO) (2023.7.22)\n",
            "Requirement already satisfied: six>=1.5 in /usr/local/lib/python3.10/dist-packages (from python-dateutil>=2.8.1->pandas->BIO) (1.16.0)\n"
          ]
        }
      ]
    },
    {
      "cell_type": "code",
      "source": [
        "!pip install toytree toyplot"
      ],
      "metadata": {
        "colab": {
          "base_uri": "https://localhost:8080/"
        },
        "id": "G673R7xz-Kih",
        "outputId": "a4b6bfb0-564f-405b-c1ff-90abf2f5cfe2"
      },
      "execution_count": 2,
      "outputs": [
        {
          "output_type": "stream",
          "name": "stdout",
          "text": [
            "Requirement already satisfied: toytree in /usr/local/lib/python3.10/dist-packages (2.0.1)\n",
            "Requirement already satisfied: toyplot in /usr/local/lib/python3.10/dist-packages (1.0.3)\n",
            "Requirement already satisfied: numpy in /usr/local/lib/python3.10/dist-packages (from toytree) (1.23.5)\n",
            "Requirement already satisfied: requests in /usr/local/lib/python3.10/dist-packages (from toytree) (2.31.0)\n",
            "Requirement already satisfied: future in /usr/local/lib/python3.10/dist-packages (from toytree) (0.18.3)\n",
            "Requirement already satisfied: arrow>=1.0 in /usr/local/lib/python3.10/dist-packages (from toyplot) (1.3.0)\n",
            "Requirement already satisfied: custom-inherit in /usr/local/lib/python3.10/dist-packages (from toyplot) (2.4.1)\n",
            "Requirement already satisfied: multipledispatch in /usr/local/lib/python3.10/dist-packages (from toyplot) (1.0.0)\n",
            "Requirement already satisfied: pypng in /usr/local/lib/python3.10/dist-packages (from toyplot) (0.20220715.0)\n",
            "Requirement already satisfied: reportlab in /usr/local/lib/python3.10/dist-packages (from toyplot) (4.0.7)\n",
            "Requirement already satisfied: python-dateutil>=2.7.0 in /usr/local/lib/python3.10/dist-packages (from arrow>=1.0->toyplot) (2.8.2)\n",
            "Requirement already satisfied: types-python-dateutil>=2.8.10 in /usr/local/lib/python3.10/dist-packages (from arrow>=1.0->toyplot) (2.8.19.14)\n",
            "Requirement already satisfied: pillow>=9.0.0 in /usr/local/lib/python3.10/dist-packages (from reportlab->toyplot) (9.4.0)\n",
            "Requirement already satisfied: charset-normalizer<4,>=2 in /usr/local/lib/python3.10/dist-packages (from requests->toytree) (3.3.2)\n",
            "Requirement already satisfied: idna<4,>=2.5 in /usr/local/lib/python3.10/dist-packages (from requests->toytree) (3.4)\n",
            "Requirement already satisfied: urllib3<3,>=1.21.1 in /usr/local/lib/python3.10/dist-packages (from requests->toytree) (2.0.7)\n",
            "Requirement already satisfied: certifi>=2017.4.17 in /usr/local/lib/python3.10/dist-packages (from requests->toytree) (2023.7.22)\n",
            "Requirement already satisfied: six>=1.5 in /usr/local/lib/python3.10/dist-packages (from python-dateutil>=2.7.0->arrow>=1.0->toyplot) (1.16.0)\n"
          ]
        }
      ]
    },
    {
      "cell_type": "code",
      "execution_count": 3,
      "metadata": {
        "id": "qwA-LYi0wMXn"
      },
      "outputs": [],
      "source": [
        "import pandas as pd\n",
        "import numpy as np\n",
        "\n",
        "from Bio import SeqIO\n",
        "\n",
        "from tqdm import tqdm\n",
        "\n",
        "import matplotlib.pyplot as plt\n",
        "import seaborn as sns"
      ]
    },
    {
      "cell_type": "code",
      "source": [
        "### Read fasta ###\n",
        "\n",
        "def read_fasta(fasta_file: str) -> pd.DataFrame:\n",
        "  \"\"\"Processes raw .fasta files\n",
        "\n",
        "  Opens a .fasta file, parses the sequences and their IDs into a\n",
        "  dataframe and returns the dataframe.\n",
        "\n",
        "  Parameters\n",
        "  ----------\n",
        "  fasta_file : str\n",
        "    the raw .fasta file directory.\n",
        "\n",
        "  Returns\n",
        "  -------\n",
        "  pd.DataFrame\n",
        "    a dataframe with ID, Sequence and Length columns.\n",
        "\n",
        "  \"\"\"\n",
        "\n",
        "  # open the file\n",
        "  handle = open(fasta_file, 'r')\n",
        "  seq_list = list(SeqIO.parse(handle, 'fasta'))\n",
        "  handle.close()\n",
        "\n",
        "  # parse data into lists\n",
        "  ids = [seq_record.id.split('|')[1] for seq_record in seq_list]\n",
        "  seqs = [str(seq_record.seq) for seq_record in seq_list]\n",
        "  lens = [len(seq) for seq in seqs]\n",
        "\n",
        "  # save data into a dataframe\n",
        "  df = pd.DataFrame({'ID':ids, 'Sequence':seqs, 'Length':lens})\n",
        "\n",
        "  return df"
      ],
      "metadata": {
        "id": "M5CWrRK1yd2b"
      },
      "execution_count": 4,
      "outputs": []
    },
    {
      "cell_type": "markdown",
      "source": [
        "Loading Tempura dataset"
      ],
      "metadata": {
        "id": "OrTQK2xtJqDQ"
      }
    },
    {
      "cell_type": "code",
      "source": [
        "# tempura = pd.read_csv('/content/200617_TEMPURA.csv')\n",
        "# tempura = pd.read_csv('/content/tempura_bacteria_uniprot.csv', index_col=0)\n",
        "tempura = pd.read_csv('/content/tempura_filtered.csv', index_col=0)"
      ],
      "metadata": {
        "id": "HBbhsf-WxBFD"
      },
      "execution_count": 5,
      "outputs": []
    },
    {
      "cell_type": "markdown",
      "source": [
        "Only keeping bacteria with available assembly or accession numbers"
      ],
      "metadata": {
        "id": "f74pkmUeJfVT"
      }
    },
    {
      "cell_type": "code",
      "source": [
        "# tempura = tempura[tempura['superkingdom']=='Bacteria']\n",
        "# tempura.dropna(subset='assembly_or_accession', inplace=True)\n",
        "# tempura.reset_index(drop=True, inplace=True)"
      ],
      "metadata": {
        "id": "Z8qouNgexBbA"
      },
      "execution_count": 6,
      "outputs": []
    },
    {
      "cell_type": "markdown",
      "source": [
        "Loading all_proteins"
      ],
      "metadata": {
        "id": "GWPvkryzFMaN"
      }
    },
    {
      "cell_type": "code",
      "source": [
        "# all_proteins = pd.read_csv('/content/all_proteins.csv', index_col=0)\n",
        "# all_proteins_filtered = pd.read_csv('/content/all_proteins_filtered.csv', index_col=0)\n",
        "all_proteins_rapid = pd.read_csv('/content/all_proteins_rapid.csv', index_col=0)\n",
        "all_proteins_disordered = pd.read_csv('/content/all_proteins_disordered.csv', index_col=0)"
      ],
      "metadata": {
        "id": "-i89P51dFOnU"
      },
      "execution_count": 7,
      "outputs": []
    },
    {
      "cell_type": "markdown",
      "source": [
        "Loading cluster dataframes"
      ],
      "metadata": {
        "id": "G_0gyDTZfABh"
      }
    },
    {
      "cell_type": "code",
      "source": [
        "interesting_clusters = pd.read_csv('/content/interesting_clusters.csv', index_col=0)\n",
        "disordered_clusters = pd.read_csv('/content/disordered_clusters.csv', index_col=0)"
      ],
      "metadata": {
        "id": "7zAjdsule_e3"
      },
      "execution_count": 8,
      "outputs": []
    },
    {
      "cell_type": "markdown",
      "source": [
        "Loading RAPID_disorder values"
      ],
      "metadata": {
        "id": "1ycexCSdJGh8"
      }
    },
    {
      "cell_type": "code",
      "source": [
        "# rapid_disorder_values = pd.read_csv('RAPID_disorder_values.csv', index_col=0)"
      ],
      "metadata": {
        "id": "9BGAYQdRJLEA"
      },
      "execution_count": 9,
      "outputs": []
    },
    {
      "cell_type": "markdown",
      "source": [
        "## Getting UniProt IDs"
      ],
      "metadata": {
        "id": "RhKK8S_2JazH"
      }
    },
    {
      "cell_type": "markdown",
      "source": [
        "Tepura has NCBI taxonomy IDs, but we need UniProt proteome IDs. We can get them using UniProt REST API search"
      ],
      "metadata": {
        "id": "eRusyqinJwYo"
      }
    },
    {
      "cell_type": "code",
      "source": [
        "uniprot_jsons = []\n",
        "failures = []\n",
        "\n",
        "# loop through the taxonomy IDs and retrieve proteome data\n",
        "for tax_id in tqdm(tempura['taxonomy_id']):\n",
        "  # define the UniProt API URL\n",
        "  url = f'https://rest.uniprot.org/proteomes/stream?format=json&query=%28%28taxonomy_id%3A{tax_id}%29%29'\n",
        "  # send an HTTP GET request to the UniProt API\n",
        "  response = requests.get(url)\n",
        "  # Check if the request was successful\n",
        "  if response.status_code == 200:\n",
        "    # save JSON\n",
        "    uniprot_jsons.append(response.json())\n",
        "  else:\n",
        "    failures.append(tax_id)\n",
        "    uniprot_jsons.append({})"
      ],
      "metadata": {
        "colab": {
          "base_uri": "https://localhost:8080/"
        },
        "id": "YUv2C0fB74hi",
        "outputId": "cde8bcff-694e-43c4-f4ea-859c06e2b47a"
      },
      "execution_count": null,
      "outputs": [
        {
          "output_type": "stream",
          "name": "stderr",
          "text": [
            "100%|██████████| 893/893 [08:24<00:00,  1.77it/s]\n"
          ]
        }
      ]
    },
    {
      "cell_type": "markdown",
      "source": [
        "In many cases we get mre than one search result for one taxonomy ID. We need to check each search result and only keep the UniProt ID that has the same taxonomy ID as Tempura"
      ],
      "metadata": {
        "id": "Mhqi7sv7KBIH"
      }
    },
    {
      "cell_type": "code",
      "source": [
        "# initiate empty list to save UniProt IDs\n",
        "uniprot_ids = []\n",
        "\n",
        "# iterate through JSON results\n",
        "for i, jsn in enumerate(uniprot_jsons):\n",
        "  # get results\n",
        "  results = jsn['results']\n",
        "  # get candidate UniProt IDs and corresponding taxonomy IDs\n",
        "  u_ids = [r['id'] for r in results]\n",
        "  t_ids = [r['taxonomy']['taxonId'] for r in results]\n",
        "  # make a dictionary of candidate IDs\n",
        "  results_dict = {k:v for k, v in zip(t_ids, u_ids)}\n",
        "  # get actual taxonomy ID\n",
        "  taxonomy_id = tempura.loc[i, 'taxonomy_id']\n",
        "  # save correct UniProt ID\n",
        "  try:\n",
        "    uniprot_ids.append(results_dict[taxonomy_id])\n",
        "  except:\n",
        "    # no correct ID found\n",
        "    uniprot_ids.append(None)"
      ],
      "metadata": {
        "id": "IfXFBMziEcq3"
      },
      "execution_count": null,
      "outputs": []
    },
    {
      "cell_type": "markdown",
      "source": [
        "We can now drop any Tempura rows with no available UniProt IDs and store the result"
      ],
      "metadata": {
        "id": "1nRNvH05KPdn"
      }
    },
    {
      "cell_type": "code",
      "source": [
        "tempura['uniprot_id'] = uniprot_ids"
      ],
      "metadata": {
        "id": "Ee6rRDqIGjXL"
      },
      "execution_count": null,
      "outputs": []
    },
    {
      "cell_type": "code",
      "source": [
        "tempura.dropna(subset='uniprot_id', inplace=True)"
      ],
      "metadata": {
        "id": "ISs1RefSGjUd"
      },
      "execution_count": null,
      "outputs": []
    },
    {
      "cell_type": "code",
      "source": [
        "tempura.reset_index(drop=True, inplace=True)"
      ],
      "metadata": {
        "id": "TC3ydi-fIc3I"
      },
      "execution_count": null,
      "outputs": []
    },
    {
      "cell_type": "code",
      "source": [
        "tempura.to_csv('tempura_bacteria_uniprot.csv')"
      ],
      "metadata": {
        "id": "R009ua3BIc09"
      },
      "execution_count": null,
      "outputs": []
    },
    {
      "cell_type": "markdown",
      "source": [
        "## Downloading UniProt proteomes"
      ],
      "metadata": {
        "id": "F2yc99UUKY7y"
      }
    },
    {
      "cell_type": "code",
      "source": [
        "!mkdir proteomes"
      ],
      "metadata": {
        "id": "4THt0_CpLwBW"
      },
      "execution_count": null,
      "outputs": []
    },
    {
      "cell_type": "code",
      "source": [
        "tempura.info()"
      ],
      "metadata": {
        "colab": {
          "base_uri": "https://localhost:8080/"
        },
        "id": "sVyK87LaIcy4",
        "outputId": "927f0ac4-9441-4025-e360-53546f963949"
      },
      "execution_count": null,
      "outputs": [
        {
          "output_type": "stream",
          "name": "stdout",
          "text": [
            "<class 'pandas.core.frame.DataFrame'>\n",
            "RangeIndex: 680 entries, 0 to 679\n",
            "Data columns (total 21 columns):\n",
            " #   Column                 Non-Null Count  Dtype  \n",
            "---  ------                 --------------  -----  \n",
            " 0   genus_and_species      680 non-null    object \n",
            " 1   taxonomy_id            680 non-null    int64  \n",
            " 2   strain                 680 non-null    object \n",
            " 3   superkingdom           680 non-null    object \n",
            " 4   phylum                 680 non-null    object \n",
            " 5   class                  678 non-null    object \n",
            " 6   order                  673 non-null    object \n",
            " 7   family                 662 non-null    object \n",
            " 8   genus                  675 non-null    object \n",
            " 9   assembly_or_accession  680 non-null    object \n",
            " 10  Genome_GC              651 non-null    float64\n",
            " 11  Genome_size            680 non-null    float64\n",
            " 12  16S_accssion           680 non-null    object \n",
            " 13  16S_GC                 680 non-null    float64\n",
            " 14  Tmin                   680 non-null    float64\n",
            " 15  Topt_ave               680 non-null    float64\n",
            " 16  Topt_low               258 non-null    float64\n",
            " 17  Topt_high              258 non-null    float64\n",
            " 18  Tmax                   680 non-null    float64\n",
            " 19  Tmax_Tmin              680 non-null    float64\n",
            " 20  uniprot_id             680 non-null    object \n",
            "dtypes: float64(9), int64(1), object(11)\n",
            "memory usage: 111.7+ KB\n"
          ]
        }
      ]
    },
    {
      "cell_type": "code",
      "source": [
        "failures = []\n",
        "\n",
        "for i in tqdm(tempura.index):\n",
        "  # make file path and get UniProt ID\n",
        "  species = tempura.loc[i, 'genus_and_species'].replace(' ', '_')\n",
        "  fasta_file_path = f'/content/proteomes/{species}.fasta'\n",
        "  id = tempura.loc[i, 'uniprot_id']\n",
        "  # define the UniProt API URL to retrieve FASTA data\n",
        "  url = f'https://rest.uniprot.org/uniprotkb/stream?format=fasta&query=%28%28proteome%3A{id}%29%29'\n",
        "  # send an HTTP GET request to the UniProt API to get FASTA data\n",
        "  response = requests.get(url)\n",
        "  # check if the request was successful\n",
        "  if response.status_code == 200:\n",
        "    # save the FASTA data to a file\n",
        "    with open(fasta_file_path, 'w') as fasta_file:\n",
        "      fasta_file.write(response.text)\n",
        "  else:\n",
        "    failures.append(id)"
      ],
      "metadata": {
        "colab": {
          "base_uri": "https://localhost:8080/"
        },
        "id": "wLhoQR5MLTNR",
        "outputId": "b22356ae-b178-4e8f-ab71-d258be86fd61"
      },
      "execution_count": null,
      "outputs": [
        {
          "output_type": "stream",
          "name": "stderr",
          "text": [
            "100%|██████████| 680/680 [56:33<00:00,  4.99s/it]\n"
          ]
        }
      ]
    },
    {
      "cell_type": "code",
      "source": [
        "failures"
      ],
      "metadata": {
        "colab": {
          "base_uri": "https://localhost:8080/"
        },
        "id": "RTXxlgftLTJ5",
        "outputId": "92cda7ed-462b-4960-97fe-e42aff9bc618"
      },
      "execution_count": null,
      "outputs": [
        {
          "output_type": "execute_result",
          "data": {
            "text/plain": [
              "[]"
            ]
          },
          "metadata": {},
          "execution_count": 166
        }
      ]
    },
    {
      "cell_type": "code",
      "source": [
        "!zip -r /content/proteomes.zip /content/proteomes -i '*.fasta'\n",
        "from google.colab import files\n",
        "files.download('/content/proteomes.zip')"
      ],
      "metadata": {
        "id": "2d0ec6lWzU5P"
      },
      "execution_count": null,
      "outputs": []
    },
    {
      "cell_type": "markdown",
      "source": [
        "## Creating a DataFrame with all sequences"
      ],
      "metadata": {
        "id": "y1SgrhJ7y4Vy"
      }
    },
    {
      "cell_type": "code",
      "source": [
        "all_proteins = pd.DataFrame(columns=['ID', 'Sequence', 'Length', 'Species'])"
      ],
      "metadata": {
        "id": "24wNr5uoy_GV"
      },
      "execution_count": null,
      "outputs": []
    },
    {
      "cell_type": "code",
      "source": [
        "for species in tqdm(tempura['genus_and_species']):\n",
        "  filename = species.replace(' ', '_') + '.fasta'\n",
        "  df = read_fasta(f'/content/proteomes/{filename}')\n",
        "  df['Species'] = species\n",
        "  all_proteins = pd.concat([all_proteins, df], ignore_index=True)"
      ],
      "metadata": {
        "colab": {
          "base_uri": "https://localhost:8080/"
        },
        "id": "aNo-CGEpwClO",
        "outputId": "752799ed-3ccc-4545-fcb4-4295e82f0182"
      },
      "execution_count": null,
      "outputs": [
        {
          "output_type": "stream",
          "name": "stderr",
          "text": [
            "100%|██████████| 680/680 [01:02<00:00, 10.87it/s]\n"
          ]
        }
      ]
    },
    {
      "cell_type": "code",
      "source": [
        "all_proteins.to_csv('all_proteins.csv')"
      ],
      "metadata": {
        "id": "av-YifuThIyl"
      },
      "execution_count": null,
      "outputs": []
    },
    {
      "cell_type": "markdown",
      "source": [
        "Filtering to only keep species with at least 1000 proteins"
      ],
      "metadata": {
        "id": "-TYts9fc1MlG"
      }
    },
    {
      "cell_type": "code",
      "source": [
        "# group the DataFrame by the 'species' column and count the number of records for each species\n",
        "species_counts = all_proteins['Species'].value_counts()\n",
        "# filter the species with more than 1000 records\n",
        "selected_species = species_counts[species_counts >= 1000].index\n",
        "# create a new DataFrame that only includes the selected species\n",
        "all_proteins_filtered = all_proteins[all_proteins['Species'].isin(selected_species)].reset_index(drop=True)"
      ],
      "metadata": {
        "id": "fJr_obyrhIwA"
      },
      "execution_count": null,
      "outputs": []
    },
    {
      "cell_type": "markdown",
      "source": [
        "Remove species that don't have 1000 records from Tempura"
      ],
      "metadata": {
        "id": "l-z2s0h38P95"
      }
    },
    {
      "cell_type": "code",
      "source": [
        "tempura = tempura[tempura['genus_and_species'].isin(selected_species)].reset_index(drop=True)"
      ],
      "metadata": {
        "id": "Isi8KdohhItV"
      },
      "execution_count": null,
      "outputs": []
    },
    {
      "cell_type": "code",
      "source": [
        "tempura.to_csv('tempura_filtered.csv')"
      ],
      "metadata": {
        "id": "yB_1pNdrGjSN"
      },
      "execution_count": null,
      "outputs": []
    },
    {
      "cell_type": "markdown",
      "source": [
        "Saving combined FASTA files for disorder calculations"
      ],
      "metadata": {
        "id": "qqW8x4sh82ZL"
      }
    },
    {
      "cell_type": "code",
      "source": [
        "!mkdir /content/combined_fastas"
      ],
      "metadata": {
        "id": "XOinz6NpNVU6"
      },
      "execution_count": null,
      "outputs": []
    },
    {
      "cell_type": "code",
      "source": [
        "# define the maximum sequences per file\n",
        "max_sequences_per_file = 75000\n",
        "\n",
        "# split the DataFrame into chunks of max_sequences_per_file and save as FASTA files\n",
        "for i, chunk in enumerate(range(0, len(all_proteins_filtered), max_sequences_per_file)):\n",
        "  chunk_df = all_proteins_filtered.iloc[chunk:chunk + max_sequences_per_file]\n",
        "  # create a FASTA file for the chunk\n",
        "  fasta_file_path = f'/content/combined_fastas/output_{i+1}.fasta'\n",
        "  with open(fasta_file_path, 'w') as fasta_file:\n",
        "    for _, row in chunk_df.iterrows():\n",
        "      id = row['ID']\n",
        "      seq = row['Sequence']\n",
        "      fasta_file.write(f'>{id}\\n{seq}\\n')"
      ],
      "metadata": {
        "id": "Zgr25_d38xA5"
      },
      "execution_count": null,
      "outputs": []
    },
    {
      "cell_type": "code",
      "source": [
        "!zip -r /content/combined_fastas.zip /content/combined_fastas -i '*.fasta'\n",
        "from google.colab import files\n",
        "files.download('/content/combined_fastas.zip')"
      ],
      "metadata": {
        "colab": {
          "base_uri": "https://localhost:8080/",
          "height": 312
        },
        "id": "xhAyELGINZpB",
        "outputId": "7104042e-0649-4dd1-dae1-0de17f4f8197"
      },
      "execution_count": null,
      "outputs": [
        {
          "output_type": "stream",
          "name": "stdout",
          "text": [
            "  adding: content/combined_fastas/output_9.fasta (deflated 43%)\n",
            "  adding: content/combined_fastas/output_12.fasta (deflated 43%)\n",
            "  adding: content/combined_fastas/output_10.fasta (deflated 43%)\n",
            "  adding: content/combined_fastas/output_4.fasta (deflated 43%)\n",
            "  adding: content/combined_fastas/output_2.fasta (deflated 43%)\n",
            "  adding: content/combined_fastas/output_5.fasta (deflated 43%)\n",
            "  adding: content/combined_fastas/output_3.fasta (deflated 43%)\n",
            "  adding: content/combined_fastas/output_8.fasta (deflated 43%)\n",
            "  adding: content/combined_fastas/output_1.fasta (deflated 43%)\n",
            "  adding: content/combined_fastas/output_6.fasta (deflated 43%)\n",
            "  adding: content/combined_fastas/output_16.fasta (deflated 43%)\n",
            "  adding: content/combined_fastas/output_7.fasta (deflated 43%)\n",
            "  adding: content/combined_fastas/output_13.fasta (deflated 43%)\n",
            "  adding: content/combined_fastas/output_17.fasta (deflated 43%)\n",
            "  adding: content/combined_fastas/output_11.fasta (deflated 43%)\n",
            "  adding: content/combined_fastas/output_15.fasta (deflated 43%)\n",
            "  adding: content/combined_fastas/output_14.fasta (deflated 43%)\n"
          ]
        },
        {
          "output_type": "display_data",
          "data": {
            "text/plain": [
              "<IPython.core.display.Javascript object>"
            ],
            "application/javascript": [
              "\n",
              "    async function download(id, filename, size) {\n",
              "      if (!google.colab.kernel.accessAllowed) {\n",
              "        return;\n",
              "      }\n",
              "      const div = document.createElement('div');\n",
              "      const label = document.createElement('label');\n",
              "      label.textContent = `Downloading \"${filename}\": `;\n",
              "      div.appendChild(label);\n",
              "      const progress = document.createElement('progress');\n",
              "      progress.max = size;\n",
              "      div.appendChild(progress);\n",
              "      document.body.appendChild(div);\n",
              "\n",
              "      const buffers = [];\n",
              "      let downloaded = 0;\n",
              "\n",
              "      const channel = await google.colab.kernel.comms.open(id);\n",
              "      // Send a message to notify the kernel that we're ready.\n",
              "      channel.send({})\n",
              "\n",
              "      for await (const message of channel.messages) {\n",
              "        // Send a message to notify the kernel that we're ready.\n",
              "        channel.send({})\n",
              "        if (message.buffers) {\n",
              "          for (const buffer of message.buffers) {\n",
              "            buffers.push(buffer);\n",
              "            downloaded += buffer.byteLength;\n",
              "            progress.value = downloaded;\n",
              "          }\n",
              "        }\n",
              "      }\n",
              "      const blob = new Blob(buffers, {type: 'application/binary'});\n",
              "      const a = document.createElement('a');\n",
              "      a.href = window.URL.createObjectURL(blob);\n",
              "      a.download = filename;\n",
              "      div.appendChild(a);\n",
              "      a.click();\n",
              "      div.remove();\n",
              "    }\n",
              "  "
            ]
          },
          "metadata": {}
        },
        {
          "output_type": "display_data",
          "data": {
            "text/plain": [
              "<IPython.core.display.Javascript object>"
            ],
            "application/javascript": [
              "download(\"download_552fd38d-0acf-4559-bb62-d3173f316719\", \"combined_fastas.zip\", 232911944)"
            ]
          },
          "metadata": {}
        }
      ]
    },
    {
      "cell_type": "markdown",
      "source": [
        "## Combining partial RAPID results and loading into all_proteins"
      ],
      "metadata": {
        "id": "n5YcoFWRFb7l"
      }
    },
    {
      "cell_type": "code",
      "source": [
        "rapid_disorder_values = pd.DataFrame(columns = ['Prot. ID', 'Disorder Content %'])"
      ],
      "metadata": {
        "id": "vZ9qVCZTGV1B"
      },
      "execution_count": 9,
      "outputs": []
    },
    {
      "cell_type": "code",
      "source": [
        "# set number of csv files with partial RAPID calculation results\n",
        "n = 17\n",
        "# iterate through each file and concatenate to all_proteins_filtered\n",
        "for i in tqdm(range(n)):\n",
        "  # make filename with addition of '0' if 1-9\n",
        "  if i+1 < 10:\n",
        "    filename = f'0{i+1}.csv'\n",
        "  else:\n",
        "    filename = f'{i+1}.csv'\n",
        "  # read csv with RAPID result\n",
        "  rapid_result = pd.read_csv(filename)\n",
        "  rapid_result = rapid_result[['Prot. ID', 'Disorder Content %']]\n",
        "  # append RAPID disorder prediciton to overall dataframe\n",
        "  rapid_disorder_values = pd.concat([rapid_disorder_values, rapid_result], axis=0)"
      ],
      "metadata": {
        "id": "JTisiPs8FhoP",
        "outputId": "b6de2d41-2e3c-4278-f0ef-6d182d6af6e7",
        "colab": {
          "base_uri": "https://localhost:8080/",
          "height": 425
        }
      },
      "execution_count": 10,
      "outputs": [
        {
          "output_type": "stream",
          "name": "stderr",
          "text": [
            "  0%|          | 0/17 [00:00<?, ?it/s]\n"
          ]
        },
        {
          "output_type": "error",
          "ename": "FileNotFoundError",
          "evalue": "ignored",
          "traceback": [
            "\u001b[0;31m---------------------------------------------------------------------------\u001b[0m",
            "\u001b[0;31mFileNotFoundError\u001b[0m                         Traceback (most recent call last)",
            "\u001b[0;32m<ipython-input-10-da1fe66b4f87>\u001b[0m in \u001b[0;36m<cell line: 4>\u001b[0;34m()\u001b[0m\n\u001b[1;32m      9\u001b[0m     \u001b[0mfilename\u001b[0m \u001b[0;34m=\u001b[0m \u001b[0;34mf'{i+1}.csv'\u001b[0m\u001b[0;34m\u001b[0m\u001b[0;34m\u001b[0m\u001b[0m\n\u001b[1;32m     10\u001b[0m   \u001b[0;31m# read csv with RAPID result\u001b[0m\u001b[0;34m\u001b[0m\u001b[0;34m\u001b[0m\u001b[0m\n\u001b[0;32m---> 11\u001b[0;31m   \u001b[0mrapid_result\u001b[0m \u001b[0;34m=\u001b[0m \u001b[0mpd\u001b[0m\u001b[0;34m.\u001b[0m\u001b[0mread_csv\u001b[0m\u001b[0;34m(\u001b[0m\u001b[0mfilename\u001b[0m\u001b[0;34m)\u001b[0m\u001b[0;34m\u001b[0m\u001b[0;34m\u001b[0m\u001b[0m\n\u001b[0m\u001b[1;32m     12\u001b[0m   \u001b[0mrapid_result\u001b[0m \u001b[0;34m=\u001b[0m \u001b[0mrapid_result\u001b[0m\u001b[0;34m[\u001b[0m\u001b[0;34m[\u001b[0m\u001b[0;34m'Prot. ID'\u001b[0m\u001b[0;34m,\u001b[0m \u001b[0;34m'Disorder Content %'\u001b[0m\u001b[0;34m]\u001b[0m\u001b[0;34m]\u001b[0m\u001b[0;34m\u001b[0m\u001b[0;34m\u001b[0m\u001b[0m\n\u001b[1;32m     13\u001b[0m   \u001b[0;31m# append RAPID disorder prediciton to overall dataframe\u001b[0m\u001b[0;34m\u001b[0m\u001b[0;34m\u001b[0m\u001b[0m\n",
            "\u001b[0;32m/usr/local/lib/python3.10/dist-packages/pandas/util/_decorators.py\u001b[0m in \u001b[0;36mwrapper\u001b[0;34m(*args, **kwargs)\u001b[0m\n\u001b[1;32m    209\u001b[0m                 \u001b[0;32melse\u001b[0m\u001b[0;34m:\u001b[0m\u001b[0;34m\u001b[0m\u001b[0;34m\u001b[0m\u001b[0m\n\u001b[1;32m    210\u001b[0m                     \u001b[0mkwargs\u001b[0m\u001b[0;34m[\u001b[0m\u001b[0mnew_arg_name\u001b[0m\u001b[0;34m]\u001b[0m \u001b[0;34m=\u001b[0m \u001b[0mnew_arg_value\u001b[0m\u001b[0;34m\u001b[0m\u001b[0;34m\u001b[0m\u001b[0m\n\u001b[0;32m--> 211\u001b[0;31m             \u001b[0;32mreturn\u001b[0m \u001b[0mfunc\u001b[0m\u001b[0;34m(\u001b[0m\u001b[0;34m*\u001b[0m\u001b[0margs\u001b[0m\u001b[0;34m,\u001b[0m \u001b[0;34m**\u001b[0m\u001b[0mkwargs\u001b[0m\u001b[0;34m)\u001b[0m\u001b[0;34m\u001b[0m\u001b[0;34m\u001b[0m\u001b[0m\n\u001b[0m\u001b[1;32m    212\u001b[0m \u001b[0;34m\u001b[0m\u001b[0m\n\u001b[1;32m    213\u001b[0m         \u001b[0;32mreturn\u001b[0m \u001b[0mcast\u001b[0m\u001b[0;34m(\u001b[0m\u001b[0mF\u001b[0m\u001b[0;34m,\u001b[0m \u001b[0mwrapper\u001b[0m\u001b[0;34m)\u001b[0m\u001b[0;34m\u001b[0m\u001b[0;34m\u001b[0m\u001b[0m\n",
            "\u001b[0;32m/usr/local/lib/python3.10/dist-packages/pandas/util/_decorators.py\u001b[0m in \u001b[0;36mwrapper\u001b[0;34m(*args, **kwargs)\u001b[0m\n\u001b[1;32m    329\u001b[0m                     \u001b[0mstacklevel\u001b[0m\u001b[0;34m=\u001b[0m\u001b[0mfind_stack_level\u001b[0m\u001b[0;34m(\u001b[0m\u001b[0;34m)\u001b[0m\u001b[0;34m,\u001b[0m\u001b[0;34m\u001b[0m\u001b[0;34m\u001b[0m\u001b[0m\n\u001b[1;32m    330\u001b[0m                 )\n\u001b[0;32m--> 331\u001b[0;31m             \u001b[0;32mreturn\u001b[0m \u001b[0mfunc\u001b[0m\u001b[0;34m(\u001b[0m\u001b[0;34m*\u001b[0m\u001b[0margs\u001b[0m\u001b[0;34m,\u001b[0m \u001b[0;34m**\u001b[0m\u001b[0mkwargs\u001b[0m\u001b[0;34m)\u001b[0m\u001b[0;34m\u001b[0m\u001b[0;34m\u001b[0m\u001b[0m\n\u001b[0m\u001b[1;32m    332\u001b[0m \u001b[0;34m\u001b[0m\u001b[0m\n\u001b[1;32m    333\u001b[0m         \u001b[0;31m# error: \"Callable[[VarArg(Any), KwArg(Any)], Any]\" has no\u001b[0m\u001b[0;34m\u001b[0m\u001b[0;34m\u001b[0m\u001b[0m\n",
            "\u001b[0;32m/usr/local/lib/python3.10/dist-packages/pandas/io/parsers/readers.py\u001b[0m in \u001b[0;36mread_csv\u001b[0;34m(filepath_or_buffer, sep, delimiter, header, names, index_col, usecols, squeeze, prefix, mangle_dupe_cols, dtype, engine, converters, true_values, false_values, skipinitialspace, skiprows, skipfooter, nrows, na_values, keep_default_na, na_filter, verbose, skip_blank_lines, parse_dates, infer_datetime_format, keep_date_col, date_parser, dayfirst, cache_dates, iterator, chunksize, compression, thousands, decimal, lineterminator, quotechar, quoting, doublequote, escapechar, comment, encoding, encoding_errors, dialect, error_bad_lines, warn_bad_lines, on_bad_lines, delim_whitespace, low_memory, memory_map, float_precision, storage_options)\u001b[0m\n\u001b[1;32m    948\u001b[0m     \u001b[0mkwds\u001b[0m\u001b[0;34m.\u001b[0m\u001b[0mupdate\u001b[0m\u001b[0;34m(\u001b[0m\u001b[0mkwds_defaults\u001b[0m\u001b[0;34m)\u001b[0m\u001b[0;34m\u001b[0m\u001b[0;34m\u001b[0m\u001b[0m\n\u001b[1;32m    949\u001b[0m \u001b[0;34m\u001b[0m\u001b[0m\n\u001b[0;32m--> 950\u001b[0;31m     \u001b[0;32mreturn\u001b[0m \u001b[0m_read\u001b[0m\u001b[0;34m(\u001b[0m\u001b[0mfilepath_or_buffer\u001b[0m\u001b[0;34m,\u001b[0m \u001b[0mkwds\u001b[0m\u001b[0;34m)\u001b[0m\u001b[0;34m\u001b[0m\u001b[0;34m\u001b[0m\u001b[0m\n\u001b[0m\u001b[1;32m    951\u001b[0m \u001b[0;34m\u001b[0m\u001b[0m\n\u001b[1;32m    952\u001b[0m \u001b[0;34m\u001b[0m\u001b[0m\n",
            "\u001b[0;32m/usr/local/lib/python3.10/dist-packages/pandas/io/parsers/readers.py\u001b[0m in \u001b[0;36m_read\u001b[0;34m(filepath_or_buffer, kwds)\u001b[0m\n\u001b[1;32m    603\u001b[0m \u001b[0;34m\u001b[0m\u001b[0m\n\u001b[1;32m    604\u001b[0m     \u001b[0;31m# Create the parser.\u001b[0m\u001b[0;34m\u001b[0m\u001b[0;34m\u001b[0m\u001b[0m\n\u001b[0;32m--> 605\u001b[0;31m     \u001b[0mparser\u001b[0m \u001b[0;34m=\u001b[0m \u001b[0mTextFileReader\u001b[0m\u001b[0;34m(\u001b[0m\u001b[0mfilepath_or_buffer\u001b[0m\u001b[0;34m,\u001b[0m \u001b[0;34m**\u001b[0m\u001b[0mkwds\u001b[0m\u001b[0;34m)\u001b[0m\u001b[0;34m\u001b[0m\u001b[0;34m\u001b[0m\u001b[0m\n\u001b[0m\u001b[1;32m    606\u001b[0m \u001b[0;34m\u001b[0m\u001b[0m\n\u001b[1;32m    607\u001b[0m     \u001b[0;32mif\u001b[0m \u001b[0mchunksize\u001b[0m \u001b[0;32mor\u001b[0m \u001b[0miterator\u001b[0m\u001b[0;34m:\u001b[0m\u001b[0;34m\u001b[0m\u001b[0;34m\u001b[0m\u001b[0m\n",
            "\u001b[0;32m/usr/local/lib/python3.10/dist-packages/pandas/io/parsers/readers.py\u001b[0m in \u001b[0;36m__init__\u001b[0;34m(self, f, engine, **kwds)\u001b[0m\n\u001b[1;32m   1440\u001b[0m \u001b[0;34m\u001b[0m\u001b[0m\n\u001b[1;32m   1441\u001b[0m         \u001b[0mself\u001b[0m\u001b[0;34m.\u001b[0m\u001b[0mhandles\u001b[0m\u001b[0;34m:\u001b[0m \u001b[0mIOHandles\u001b[0m \u001b[0;34m|\u001b[0m \u001b[0;32mNone\u001b[0m \u001b[0;34m=\u001b[0m \u001b[0;32mNone\u001b[0m\u001b[0;34m\u001b[0m\u001b[0;34m\u001b[0m\u001b[0m\n\u001b[0;32m-> 1442\u001b[0;31m         \u001b[0mself\u001b[0m\u001b[0;34m.\u001b[0m\u001b[0m_engine\u001b[0m \u001b[0;34m=\u001b[0m \u001b[0mself\u001b[0m\u001b[0;34m.\u001b[0m\u001b[0m_make_engine\u001b[0m\u001b[0;34m(\u001b[0m\u001b[0mf\u001b[0m\u001b[0;34m,\u001b[0m \u001b[0mself\u001b[0m\u001b[0;34m.\u001b[0m\u001b[0mengine\u001b[0m\u001b[0;34m)\u001b[0m\u001b[0;34m\u001b[0m\u001b[0;34m\u001b[0m\u001b[0m\n\u001b[0m\u001b[1;32m   1443\u001b[0m \u001b[0;34m\u001b[0m\u001b[0m\n\u001b[1;32m   1444\u001b[0m     \u001b[0;32mdef\u001b[0m \u001b[0mclose\u001b[0m\u001b[0;34m(\u001b[0m\u001b[0mself\u001b[0m\u001b[0;34m)\u001b[0m \u001b[0;34m->\u001b[0m \u001b[0;32mNone\u001b[0m\u001b[0;34m:\u001b[0m\u001b[0;34m\u001b[0m\u001b[0;34m\u001b[0m\u001b[0m\n",
            "\u001b[0;32m/usr/local/lib/python3.10/dist-packages/pandas/io/parsers/readers.py\u001b[0m in \u001b[0;36m_make_engine\u001b[0;34m(self, f, engine)\u001b[0m\n\u001b[1;32m   1733\u001b[0m                 \u001b[0;32mif\u001b[0m \u001b[0;34m\"b\"\u001b[0m \u001b[0;32mnot\u001b[0m \u001b[0;32min\u001b[0m \u001b[0mmode\u001b[0m\u001b[0;34m:\u001b[0m\u001b[0;34m\u001b[0m\u001b[0;34m\u001b[0m\u001b[0m\n\u001b[1;32m   1734\u001b[0m                     \u001b[0mmode\u001b[0m \u001b[0;34m+=\u001b[0m \u001b[0;34m\"b\"\u001b[0m\u001b[0;34m\u001b[0m\u001b[0;34m\u001b[0m\u001b[0m\n\u001b[0;32m-> 1735\u001b[0;31m             self.handles = get_handle(\n\u001b[0m\u001b[1;32m   1736\u001b[0m                 \u001b[0mf\u001b[0m\u001b[0;34m,\u001b[0m\u001b[0;34m\u001b[0m\u001b[0;34m\u001b[0m\u001b[0m\n\u001b[1;32m   1737\u001b[0m                 \u001b[0mmode\u001b[0m\u001b[0;34m,\u001b[0m\u001b[0;34m\u001b[0m\u001b[0;34m\u001b[0m\u001b[0m\n",
            "\u001b[0;32m/usr/local/lib/python3.10/dist-packages/pandas/io/common.py\u001b[0m in \u001b[0;36mget_handle\u001b[0;34m(path_or_buf, mode, encoding, compression, memory_map, is_text, errors, storage_options)\u001b[0m\n\u001b[1;32m    854\u001b[0m         \u001b[0;32mif\u001b[0m \u001b[0mioargs\u001b[0m\u001b[0;34m.\u001b[0m\u001b[0mencoding\u001b[0m \u001b[0;32mand\u001b[0m \u001b[0;34m\"b\"\u001b[0m \u001b[0;32mnot\u001b[0m \u001b[0;32min\u001b[0m \u001b[0mioargs\u001b[0m\u001b[0;34m.\u001b[0m\u001b[0mmode\u001b[0m\u001b[0;34m:\u001b[0m\u001b[0;34m\u001b[0m\u001b[0;34m\u001b[0m\u001b[0m\n\u001b[1;32m    855\u001b[0m             \u001b[0;31m# Encoding\u001b[0m\u001b[0;34m\u001b[0m\u001b[0;34m\u001b[0m\u001b[0m\n\u001b[0;32m--> 856\u001b[0;31m             handle = open(\n\u001b[0m\u001b[1;32m    857\u001b[0m                 \u001b[0mhandle\u001b[0m\u001b[0;34m,\u001b[0m\u001b[0;34m\u001b[0m\u001b[0;34m\u001b[0m\u001b[0m\n\u001b[1;32m    858\u001b[0m                 \u001b[0mioargs\u001b[0m\u001b[0;34m.\u001b[0m\u001b[0mmode\u001b[0m\u001b[0;34m,\u001b[0m\u001b[0;34m\u001b[0m\u001b[0;34m\u001b[0m\u001b[0m\n",
            "\u001b[0;31mFileNotFoundError\u001b[0m: [Errno 2] No such file or directory: '01.csv'"
          ]
        }
      ]
    },
    {
      "cell_type": "code",
      "source": [
        "rapid_disorder_values.to_csv('RAPID_disorder_values.csv')"
      ],
      "metadata": {
        "id": "CXn9ZJbgNZmt"
      },
      "execution_count": null,
      "outputs": []
    },
    {
      "cell_type": "markdown",
      "source": [
        "Appending RAPID disorder values to all_proteins_filtered"
      ],
      "metadata": {
        "id": "NdrwY57XIv8T"
      }
    },
    {
      "cell_type": "code",
      "source": [
        "rapid_disorder_values"
      ],
      "metadata": {
        "id": "fKKnYb8HK5lx"
      },
      "execution_count": null,
      "outputs": []
    },
    {
      "cell_type": "code",
      "source": [
        "all_proteins_rapid = all_proteins_filtered.join(rapid_disorder_values.set_index('Prot. ID'),\n",
        "                                                   on='ID', how='inner')"
      ],
      "metadata": {
        "id": "OI_ZUj2EI-pN"
      },
      "execution_count": null,
      "outputs": []
    },
    {
      "cell_type": "code",
      "source": [
        "all_proteins_rapid['RAPID_disorder'] = all_proteins_rapid['Disorder Content %'] / 100\n",
        "all_proteins_rapid.drop('Disorder Content %', axis=1, inplace=True)\n",
        "\n",
        "# all_proteins_rapid['RAPID_fully_disordered'] = all_proteins_rapid['RAPID_disorder'] >= 0.5\n",
        "# all_proteins_rapid['RAPID_n_disordered_residues'] = all_proteins_rapid['RAPID_disorder'] * all_proteins_rapid['Length']"
      ],
      "metadata": {
        "id": "dqhlrXOWI-mj"
      },
      "execution_count": null,
      "outputs": []
    },
    {
      "cell_type": "code",
      "source": [
        "all_proteins_rapid.to_csv('all_proteins_rapid.csv')"
      ],
      "metadata": {
        "id": "MKSh5wftI-kX"
      },
      "execution_count": null,
      "outputs": []
    },
    {
      "cell_type": "markdown",
      "source": [
        "## FCR / NCPR filtering"
      ],
      "metadata": {
        "id": "EBvQOtBDczJx"
      }
    },
    {
      "cell_type": "code",
      "source": [
        "def compute_fcr(row):\n",
        "    aa_seq = row['Sequence']\n",
        "    n = len(aa_seq)\n",
        "    f_plus = sum(aa_seq.count(char) for char in ['R', 'K', 'H']) / n # Histidine?\n",
        "    f_minus = sum(aa_seq.count(char) for char in ['D', 'E']) / n\n",
        "    ncpr = abs(f_plus - f_minus)\n",
        "    fcr = (f_plus + f_minus)\n",
        "    return pd.Series([f_plus, f_minus, ncpr, fcr])"
      ],
      "metadata": {
        "id": "KT-Rk5iFc9lc"
      },
      "execution_count": 11,
      "outputs": []
    },
    {
      "cell_type": "code",
      "source": [
        "all_proteins_rapid[['f_plus', 'f_minus', 'ncpr', 'fcr']] = all_proteins_rapid.apply(compute_fcr, axis=1)"
      ],
      "metadata": {
        "id": "MeS5Mzwnc-MU"
      },
      "execution_count": 12,
      "outputs": []
    },
    {
      "cell_type": "code",
      "source": [
        "all_proteins_rapid['idp_type'] = None"
      ],
      "metadata": {
        "id": "A-wTIUGxc-KI"
      },
      "execution_count": 13,
      "outputs": []
    },
    {
      "cell_type": "code",
      "source": [
        "all_proteins_rapid.loc[(all_proteins_rapid['fcr'] < 0.25) & (all_proteins_rapid['ncpr'] < 0.25), 'idp_type'] = 1\n",
        "all_proteins_rapid.loc[(all_proteins_rapid['fcr'] >= 0.25) & (all_proteins_rapid['fcr'] <= 0.35) &\\\n",
        "                      (all_proteins_rapid['ncpr'] <= 0.35), 'idp_type'] = 2\n",
        "all_proteins_rapid.loc[(all_proteins_rapid['fcr'] > 0.35) & (all_proteins_rapid['ncpr'] <= 0.35), 'idp_type'] = 3\n",
        "all_proteins_rapid.loc[(all_proteins_rapid['fcr'] > 0.35) & (all_proteins_rapid['ncpr'] > 0.35) &\\\n",
        "                      (all_proteins_rapid['f_minus'] > 0.35), 'idp_type'] = 4\n",
        "all_proteins_rapid.loc[(all_proteins_rapid['fcr'] > 0.35) & (all_proteins_rapid['ncpr'] > 0.35) &\\\n",
        "                      (all_proteins_rapid['f_plus'] > 0.35), 'idp_type'] = 5"
      ],
      "metadata": {
        "id": "hEiR5YUac-H3"
      },
      "execution_count": 14,
      "outputs": []
    },
    {
      "cell_type": "markdown",
      "source": [
        "Filter out \"disordered\" proteins - these are either:\n",
        "1. IDP type 3, 4 or 5\n",
        "2. RAPID_disorder >= 0.5\n",
        "3. Have at least 100 disordered residues as predicted by RAPID\n",
        "\n",
        "The last point is to include longer proteins that just have a section of IDR. RAPID does not provide disorder at residue level, so it's as good as we can get to having a filter for 30 consecutive disordered residues"
      ],
      "metadata": {
        "id": "2CJ31dekdiUq"
      }
    },
    {
      "cell_type": "code",
      "source": [
        "disordered_filter = (all_proteins_rapid['idp_type'] > 2) | \\\n",
        "                    (all_proteins_rapid['RAPID_disorder'] >= 0.5) | \\\n",
        "                    (all_proteins_rapid['RAPID_disorder'] * all_proteins_rapid['Length'] >= 100)\n",
        "all_proteins_rapid['disordered'] = disordered_filter\n",
        "all_proteins_disordered = all_proteins_rapid[disordered_filter]"
      ],
      "metadata": {
        "id": "fGuAptcxc-Ds"
      },
      "execution_count": 15,
      "outputs": []
    },
    {
      "cell_type": "code",
      "source": [
        "# all_proteins_disordered.to_csv('all_proteins_disordered.csv')"
      ],
      "metadata": {
        "id": "FjEuWskKc-Bj"
      },
      "execution_count": 16,
      "outputs": []
    },
    {
      "cell_type": "code",
      "source": [
        "# fig, ax = plt.subplots(figsize=(8,8))\n",
        "\n",
        "# sns.scatterplot(data=all_proteins_rapid, x='f_plus', y='f_minus',\n",
        "#                 hue='idp_type', palette='colorblind')\n",
        "\n",
        "# ax.set_xlim(0, 0.75)\n",
        "# ax.set_ylim(0, 0.75)\n",
        "\n",
        "# fig.show()"
      ],
      "metadata": {
        "id": "mTNBjYojj6xD"
      },
      "execution_count": 17,
      "outputs": []
    },
    {
      "cell_type": "code",
      "source": [
        "# all_proteins_disordered.groupby('idp_type').mean()"
      ],
      "metadata": {
        "id": "9v8n02Thj6vJ"
      },
      "execution_count": 18,
      "outputs": []
    },
    {
      "cell_type": "markdown",
      "source": [
        "## EDA for Overall IDP abundance ~ optimal temerature relationship"
      ],
      "metadata": {
        "id": "Dbaue63h_USL"
      }
    },
    {
      "cell_type": "code",
      "source": [
        "# fig, ax = plt.subplots(figsize=(15, 8))\n",
        "\n",
        "# sns.kdeplot(data=all_proteins_rapid[all_proteins_rapid['RAPID_fully_disordered']],\n",
        "#                 x='Length', y='RAPID_disorder', alpha=0.5, fill=True, ax=ax)\n",
        "# ax.set_xlim(0, 500)\n",
        "# fig.show()"
      ],
      "metadata": {
        "id": "RGNkxpaQ_gD0"
      },
      "execution_count": null,
      "outputs": []
    },
    {
      "cell_type": "code",
      "source": [
        "tempura = pd.read_csv('/content/tempura_filtered.csv', index_col=0)"
      ],
      "metadata": {
        "id": "a-urGX8diIUk"
      },
      "execution_count": null,
      "outputs": []
    },
    {
      "cell_type": "code",
      "source": [
        "species_rapid_disorder = all_proteins_rapid.groupby('Species').mean()[['RAPID_disorder']]\n",
        "tempura = tempura.join(species_rapid_disorder, how='inner', on='genus_and_species')\n",
        "\n",
        "species_rapid_idp_count = all_proteins_disordered.groupby('Species').count()[['RAPID_disorder']]\n",
        "species_rapid_idp_count.columns = ['IDP_count']\n",
        "tempura = tempura.join(species_rapid_idp_count, how='inner', on='genus_and_species')\n",
        "\n",
        "species_rapid_protein_count = all_proteins_rapid.groupby('Species').count()[['RAPID_disorder']]\n",
        "species_rapid_protein_count.columns = ['protein_count']\n",
        "tempura = tempura.join(species_rapid_protein_count, how='inner', on='genus_and_species')\n",
        "tempura['IDP_percentage'] = tempura['IDP_count'] / tempura['protein_count']"
      ],
      "metadata": {
        "id": "4rs-_UdBpOMf"
      },
      "execution_count": null,
      "outputs": []
    },
    {
      "cell_type": "code",
      "source": [
        "fig, ax = plt.subplots(figsize=(15, 8))\n",
        "\n",
        "sns.scatterplot(data=tempura, x='Topt_ave', y='RAPID_disorder', ax=ax)\n",
        "\n",
        "fig.show()"
      ],
      "metadata": {
        "id": "ApjehU2S_fiA"
      },
      "execution_count": null,
      "outputs": []
    },
    {
      "cell_type": "code",
      "source": [
        "fig, ax = plt.subplots(figsize=(15, 8))\n",
        "\n",
        "sns.scatterplot(data=tempura, x='Topt_ave', y='IDP_count', ax=ax)\n",
        "\n",
        "fig.show()"
      ],
      "metadata": {
        "id": "4dAw2BFiE_09"
      },
      "execution_count": null,
      "outputs": []
    },
    {
      "cell_type": "code",
      "source": [
        "fig, ax = plt.subplots(figsize=(15, 8))\n",
        "\n",
        "sns.scatterplot(data=tempura, x='Topt_ave', y='IDP_percentage', ax=ax)\n",
        "\n",
        "fig.show()"
      ],
      "metadata": {
        "id": "5oC7DFZ_E_uF"
      },
      "execution_count": null,
      "outputs": []
    },
    {
      "cell_type": "markdown",
      "source": [
        "## Clustering all proteins using CD-HIT"
      ],
      "metadata": {
        "id": "o4D-THTlkIX6"
      }
    },
    {
      "cell_type": "code",
      "source": [
        "# # saving all proteins to a single fasta file\n",
        "# with open('/content/all_proteins.fasta', 'w') as fasta_file:\n",
        "#   for _, row in all_proteins_rapid.iterrows():\n",
        "#     id = row['ID']\n",
        "#     seq = row['Sequence']\n",
        "#     fasta_file.write(f'>{id}\\n{seq}\\n')"
      ],
      "metadata": {
        "id": "MrP3cpo7kNi_"
      },
      "execution_count": null,
      "outputs": []
    },
    {
      "cell_type": "markdown",
      "source": [
        "CH-HIT ran on local system using command:\n",
        "```\n",
        "cd-hit -i all_proteins.fasta -o all_proteins_70 -c 0.7\n",
        "```"
      ],
      "metadata": {
        "id": "cqY2yc1VmvrU"
      }
    },
    {
      "cell_type": "code",
      "source": [
        "# importing CD-HIT results"
      ],
      "metadata": {
        "id": "ciSiSDZ1kNgh"
      },
      "execution_count": null,
      "outputs": []
    },
    {
      "cell_type": "code",
      "source": [
        "clustered_proteins_file = '/content/all_proteins_70.clstr'\n",
        "\n",
        "all_proteins_rapid['cluster'] = '0'\n",
        "clusters = {}\n",
        "\n",
        "# Read the clustered proteins file and store clusters\n",
        "with open(clustered_proteins_file ,'r') as f:\n",
        "  for line in f:\n",
        "    if line.startswith('>Cluster'):\n",
        "      cluster_id = line.strip().split()[1]\n",
        "      clusters[cluster_id] = []\n",
        "    else:\n",
        "      protein_id = line.strip().split('>')[1].split('...')[0]\n",
        "      clusters[cluster_id].append(protein_id)"
      ],
      "metadata": {
        "id": "5G2ZHCmGkNeH"
      },
      "execution_count": null,
      "outputs": []
    },
    {
      "cell_type": "code",
      "source": [
        "protein_cluster_mapping = {cid: proteins for cid, proteins in clusters.items()}\n",
        "# Reverse cluster dictionary to have ID:cluster\n",
        "protein_cluster_mapping = {protein_id: cluster for cluster, proteins in protein_cluster_mapping.items() for protein_id in proteins}\n",
        "# Map clusters to df\n",
        "all_proteins_rapid['cluster'] = all_proteins_rapid['ID'].map(protein_cluster_mapping)"
      ],
      "metadata": {
        "id": "OWdWoaAmKejS"
      },
      "execution_count": null,
      "outputs": []
    },
    {
      "cell_type": "markdown",
      "source": [
        "We will filter to find clusters that:\n",
        "\n",
        "1. Have at least 10 proteins\n",
        "2. Have at least 1 disordered protein\n",
        "2. Have at least 1 non-disordered protein\n",
        "\n",
        "We will call these clusters `interesting_clusters` because they are, well, interesting\n",
        "\n",
        "We will store clusters with only disordered proteins as `disordered_clusters`"
      ],
      "metadata": {
        "id": "avRdZytASCFi"
      }
    },
    {
      "cell_type": "code",
      "source": [
        "cluster_groups = all_proteins_rapid.groupby('cluster').agg({'disordered':['max', 'min'], 'ID':'count'})"
      ],
      "metadata": {
        "id": "veux-YI3PSs6"
      },
      "execution_count": null,
      "outputs": []
    },
    {
      "cell_type": "code",
      "source": [
        "min_cluster_size = 10\n",
        "\n",
        "only_disordered = cluster_groups[(cluster_groups['disordered']['min']) & (cluster_groups['ID']['count']>=min_cluster_size)].index\n",
        "mixed_clusters = cluster_groups[(cluster_groups['disordered']['max']) & (~cluster_groups['disordered']['min']) & \\\n",
        "                                (cluster_groups['ID']['count']>=min_cluster_size)].index"
      ],
      "metadata": {
        "id": "RRcMgIADPSrH"
      },
      "execution_count": null,
      "outputs": []
    },
    {
      "cell_type": "code",
      "source": [
        "len(only_disordered)"
      ],
      "metadata": {
        "colab": {
          "base_uri": "https://localhost:8080/"
        },
        "id": "3crf6g3ET7r6",
        "outputId": "4d38d160-0e10-4881-99ce-6626584dee0b"
      },
      "execution_count": null,
      "outputs": [
        {
          "output_type": "execute_result",
          "data": {
            "text/plain": [
              "95"
            ]
          },
          "metadata": {},
          "execution_count": 46
        }
      ]
    },
    {
      "cell_type": "code",
      "source": [
        "interesting_clusters = all_proteins_rapid[all_proteins_rapid['cluster'].isin(mixed_clusters)]"
      ],
      "metadata": {
        "id": "kUooZZMOPSnv"
      },
      "execution_count": null,
      "outputs": []
    },
    {
      "cell_type": "code",
      "source": [
        "# interesting_clusters.to_csv('interesting_clusters.csv')"
      ],
      "metadata": {
        "id": "YESlwCyRPSlW"
      },
      "execution_count": null,
      "outputs": []
    },
    {
      "cell_type": "code",
      "source": [
        "disordered_clusters = all_proteins_rapid[all_proteins_rapid['cluster'].isin(only_disordered)]\n",
        "# disordered_clusters.to_csv('disordered_clusters.csv')"
      ],
      "metadata": {
        "id": "9spxb-FqkMwx"
      },
      "execution_count": null,
      "outputs": []
    },
    {
      "cell_type": "markdown",
      "source": [
        "## Cluster vizualisations"
      ],
      "metadata": {
        "id": "KgGFuhbtjzBA"
      }
    },
    {
      "cell_type": "code",
      "source": [
        "interesting_clusters.groupby('cluster').std()['RAPID_disorder'].sort_values(ascending=False)[:10]"
      ],
      "metadata": {
        "id": "rfOQS1iAj3uz",
        "outputId": "babdc503-fc06-49e8-8d37-138f39344292",
        "colab": {
          "base_uri": "https://localhost:8080/"
        }
      },
      "execution_count": null,
      "outputs": [
        {
          "output_type": "stream",
          "name": "stderr",
          "text": [
            "<ipython-input-50-c9c9ae405284>:1: FutureWarning: The default value of numeric_only in DataFrameGroupBy.std is deprecated. In a future version, numeric_only will default to False. Either specify numeric_only or select only columns which should be valid for the function.\n",
            "  interesting_clusters.groupby('cluster').std()['RAPID_disorder'].sort_values(ascending=False)[:10]\n"
          ]
        },
        {
          "output_type": "execute_result",
          "data": {
            "text/plain": [
              "cluster\n",
              "207030    0.318319\n",
              "46504     0.294450\n",
              "900878    0.263818\n",
              "133217    0.254680\n",
              "316086    0.253645\n",
              "147816    0.250248\n",
              "426708    0.232290\n",
              "162959    0.223509\n",
              "849025    0.219221\n",
              "784912    0.217289\n",
              "Name: RAPID_disorder, dtype: float64"
            ]
          },
          "metadata": {},
          "execution_count": 50
        }
      ]
    },
    {
      "cell_type": "code",
      "source": [
        "def plot_cluster(cluster):\n",
        "  cluster_df = all_proteins_rapid[all_proteins_rapid['cluster']==cluster].sort_values('RAPID_disorder')\n",
        "\n",
        "  cluster_df_topt = cluster_df.join(tempura[['genus_and_species', 'Topt_ave']].set_index('genus_and_species'), on='Species')\n",
        "\n",
        "  sns.scatterplot(data=cluster_df_topt, x='Topt_ave', y='RAPID_disorder')\n",
        "  plt.show()"
      ],
      "metadata": {
        "id": "uH8f3VcAj3sc"
      },
      "execution_count": null,
      "outputs": []
    },
    {
      "cell_type": "code",
      "source": [
        "plot_cluster('125601')"
      ],
      "metadata": {
        "id": "GN4cyqpAj3qD",
        "outputId": "528d2d31-9cae-41fd-ab00-7bcaedddf78a",
        "colab": {
          "base_uri": "https://localhost:8080/",
          "height": 449
        }
      },
      "execution_count": null,
      "outputs": [
        {
          "output_type": "display_data",
          "data": {
            "text/plain": [
              "<Figure size 640x480 with 1 Axes>"
            ],
            "image/png": "[encoded data removed]"
          },
          "metadata": {}
        }
      ]
    },
    {
      "cell_type": "code",
      "source": [
        "all_proteins_rapid[all_proteins_rapid['cluster']=='125601']"
      ],
      "metadata": {
        "id": "3GunWLnHj3nx",
        "outputId": "13a9b102-bcc6-449f-c582-24cec025da71",
        "colab": {
          "base_uri": "https://localhost:8080/",
          "height": 1000
        }
      },
      "execution_count": null,
      "outputs": [
        {
          "output_type": "execute_result",
          "data": {
            "text/plain": [
              "                 ID                                           Sequence  \\\n",
              "21824    A0A0D8BQM5  MGSIIISALLALVIGAVVGFFVRKSIAEAKIGGAKAAAKQLIEEAK...   \n",
              "31098        M5QPR2  MGETIISALLALVVGAVVGFFVRKSIAEAKIGGAQAAAKQMIEEAK...   \n",
              "51458    A0A1U9K9S0  MIGSLGEILILLATAAVSAGIGYFVRKRLAEAKISSAEEAAERIID...   \n",
              "54640    A0A1D7QVT1  MDLIYQILALLLVAVIGILIGYFIRKSLAEAKISSAEALAKQTVEE...   \n",
              "91887    A0A0B5ALP4  MGAFEITFILAGIIVGVVVGYLIHKFMMDAKVGGAKGTVEQILANG...   \n",
              "99667    A0A3E0WKA5  MDSLMLISILLVILIVGIVVGYLIRKSIAEAKISSAETLAKQIVDE...   \n",
              "124667   A0A3S8RXC5  MHDGVWVALVAAALFFGFVIGYFIRKSLAEAKISSAEHAASQILES...   \n",
              "128854   A0A1W5ZVT3  MDLISSLIFILLALIVGSVVGYLIRKSIAEAKISSAEELAKQIVEE...   \n",
              "168788   A0A0U4F4D2  MDNPLIISILLAVILIVGIVVGYLIRKSIGEAKITSAENLAKQIVD...   \n",
              "204166   A0A223D2A0  MDSLLPILLSVIFLAVGLVGGYLVRRNIAEGKLAAAELRAEQILDT...   \n",
              "207998   A0A3Q9QY97  MDPITIISILLGLIVGAVVGYFVHKSIAEAKVTGAKNAAEQIIEDA...   \n",
              "213522   A0A0D5NNR7  MTPGLWILWILIVLVVGAVFFGIGYFIRKSIAEAKISSAEQAAVQI...   \n",
              "257122   A0A410X0P2  MNPIIWVLIILVVGVICLGIGYFIRKSLAEAKISSAETAAAQIVEN...   \n",
              "295329   A0A222WPM9  MMTAIWFVLVAVAALFFGFWIGYFIRKSIAEAKISSAEEAAAQIVE...   \n",
              "311600   A0A075LPM7  MELFYLIISILLALIVGGVVGYLVRKSIAEKKISSAEELAKQIVEE...   \n",
              "416333   A0A514LFZ6  MDGTLILTISILLVVVAVLSGFIGYVIRRKIAEAKISSAEYTAKKM...   \n",
              "461055   A0A248TCF3  MELGYIISILLGLIVAAFVGYFFRKSVTEAKIAGARGAADQILEDA...   \n",
              "477537   A0A0D7XA37  MMTAIWFVLVAVAALFFGFGIGYFIRKSIAEAKISSAEEAAAQIVE...   \n",
              "482475   A0A2X4WN27  MDSIHIISILLALIAGVVVGYFIFKKIAEVKVTGAKHAAEHIIEDA...   \n",
              "509154   A0A172ZG08  MGYLWVIILVVAALFFGFGIGYFIRKSLAEAKISSAETAAAQIVEN...   \n",
              "517567   A0A221MDB2  MDIITIIISALLALIVGIVVGYLIRKSIAEAKISSAEKLAKQIVDE...   \n",
              "635924   A0A1C7E6Y7  MGITEFIFALLGIIVGVVVGYFALKKANDSKMAGAKHSAEQVIEDA...   \n",
              "715524   A0A1R0YIX9  MVTAIWVIIVLVVAALFFGFGYFIRKSLAEAKISSAEKEAVVIVEN...   \n",
              "725673   A0A4Y6V2S2  MPNFWVAILVAAALFFGFVIGYFIRKSLAEAKISSAEQAAEQIVEN...   \n",
              "746244   A0A1C7DPT9  MGINEFIFALLGIIVGVVVGYFALKKANDSNIAGAKNSAEQIVEDA...   \n",
              "749734   A0A4Y7WQH7  MPSIELNLLVLSLIVLAFSVVFAVVGYLVRKSIAERKISSAEQAAK...   \n",
              "810765   A0A1C7EH00  MGINEFIFALLGIIVGVVVGYFALKKANDSNIAGAKNSAEQIVEDA...   \n",
              "846654   A0A160ILZ9  MPSLAVFISSLLVSLGVGAIVGYLVRKSIAEAKISSAERAAAQIVE...   \n",
              "972208   A0A168MZ57  MNTLIWVLIVLFVAVIFGFAGYFIRKSIAEAKISSAEEAAVQIVES...   \n",
              "979013   A0A220U5Q9  MDIITLIISILLTLIVGIVVGYLIRKSIAEAKISSAEKLAKQIVDE...   \n",
              "1005272  A0A172TLF1  MEWIITILVALVVGVLGFGIGYFIRKSIAEAKISSAEQAATQIVES...   \n",
              "1021652  A0A1B1S486  MDNVIIFTLLGIIVGVVVGYFVMKKSNESKMAGARNSAEQIIEDAK...   \n",
              "1027397  A0A3T1D8E6  MIDSWIWIVIILVVGVLCFGIGYVARKSIAEAKISSAEAAAIQIVE...   \n",
              "1142163  A0A2Z2K9S3  MEYLIWVLIILVVAALFFWLGYSIRKSIAEAKISSAEKEAVVIVDN...   \n",
              "\n",
              "         Length                          Species  RAPID_disorder    f_plus  \\\n",
              "21824       518         Geobacillus kaustophilus          0.1988  0.191120   \n",
              "31098       518           Anoxybacillus gonensis          0.1931  0.193050   \n",
              "51458       514        Novibacillus thermophilus          0.1809  0.188716   \n",
              "54640       520              Bacillus beveridgei          0.2096  0.188462   \n",
              "91887       519    Jeotgalibacillus malaysiensis          0.1657  0.184971   \n",
              "99667       520        Virgibacillus dokdonensis          0.1769  0.180769   \n",
              "124667      513             Paenibacillus lentus          0.1287  0.185185   \n",
              "128854      520            Halobacillus mangrovi          0.1827  0.173077   \n",
              "168788      521  Lentibacillus amyloliquefaciens          0.1766  0.166987   \n",
              "204166      513          Tumebacillus algifaecis          0.1988  0.189084   \n",
              "207998      519                 Bacillus mesonae          0.2139  0.188825   \n",
              "213522      516       Paenibacillus beijingensis          0.1240  0.182171   \n",
              "257122      513     Paenibacillus chitinolyticus          0.1423  0.187135   \n",
              "295329      514         Paenibacillus kribbensis          0.1732  0.182879   \n",
              "311600      520          Terribacillus goriensis          0.1712  0.180769   \n",
              "416333      523        Salicibibacter halophilus          0.1969  0.183556   \n",
              "461055      519                  Bacillus kochii          0.1753  0.192678   \n",
              "477537      514             Paenibacillus terrae          0.1732  0.182879   \n",
              "482475      519                  Bacillus lentus          0.1484  0.192678   \n",
              "509154      513              Paenibacillus bovis          0.1559  0.179337   \n",
              "517567      520         Virgibacillus necropolis          0.1788  0.182692   \n",
              "635924      519          Planococcus plakortidis          0.2062  0.183044   \n",
              "715524      513           Paenibacillus borealis          0.1501  0.183236   \n",
              "725673      513       Saccharibacillus brassicae          0.1852  0.185185   \n",
              "746244      519       Planococcus halocryophilus          0.1811  0.181118   \n",
              "749734      525                Bacillus lehensis          0.1657  0.188571   \n",
              "810765      519          Planococcus donghaensis          0.1908  0.181118   \n",
              "846654      521    Fictibacillus phosphorivorans          0.2092  0.188100   \n",
              "972208      513        Paenibacillus antarcticus          0.1813  0.183236   \n",
              "979013      520        Virgibacillus phasianinus          0.1577  0.182692   \n",
              "1005272     513           Paenibacillus swuensis          0.1306  0.181287   \n",
              "1021652     518             Planococcus versutus          0.1834  0.183398   \n",
              "1027397     514                 Cohnella abietis          0.1284  0.186770   \n",
              "1142163     513        Paenibacillus donghaensis          0.1832  0.187135   \n",
              "\n",
              "          f_minus      ncpr       fcr idp_type  disordered cluster  \n",
              "21824    0.193050  0.001931  0.384170        3        True  125601  \n",
              "31098    0.200772  0.007722  0.393822        3        True  125601  \n",
              "51458    0.198444  0.009728  0.387160        3        True  125601  \n",
              "54640    0.201923  0.013462  0.390385        3        True  125601  \n",
              "91887    0.192678  0.007707  0.377649        3        True  125601  \n",
              "99667    0.196154  0.015385  0.376923        3        True  125601  \n",
              "124667   0.189084  0.003899  0.374269        3        True  125601  \n",
              "128854   0.196154  0.023077  0.369231        3        True  125601  \n",
              "168788   0.195777  0.028791  0.362764        3        True  125601  \n",
              "204166   0.189084  0.000000  0.378168        3        True  125601  \n",
              "207998   0.194605  0.005780  0.383430        3        True  125601  \n",
              "213522   0.187984  0.005814  0.370155        3        True  125601  \n",
              "257122   0.187135  0.000000  0.374269        3        True  125601  \n",
              "295329   0.186770  0.003891  0.369650        3        True  125601  \n",
              "311600   0.194231  0.013462  0.375000        3        True  125601  \n",
              "416333   0.200765  0.017208  0.384321        3        True  125601  \n",
              "461055   0.198459  0.005780  0.391137        3        True  125601  \n",
              "477537   0.186770  0.003891  0.369650        3        True  125601  \n",
              "482475   0.198459  0.005780  0.391137        3        True  125601  \n",
              "509154   0.183236  0.003899  0.362573        3        True  125601  \n",
              "517567   0.192308  0.009615  0.375000        3        True  125601  \n",
              "635924   0.190751  0.007707  0.373796        3        True  125601  \n",
              "715524   0.189084  0.005848  0.372320        3        True  125601  \n",
              "725673   0.185185  0.000000  0.370370        3        True  125601  \n",
              "746244   0.194605  0.013487  0.375723        3        True  125601  \n",
              "749734   0.190476  0.001905  0.379048        3        True  125601  \n",
              "810765   0.194605  0.013487  0.375723        3        True  125601  \n",
              "846654   0.197697  0.009597  0.385797        3        True  125601  \n",
              "972208   0.187135  0.003899  0.370370        3        True  125601  \n",
              "979013   0.190385  0.007692  0.373077        3        True  125601  \n",
              "1005272  0.189084  0.007797  0.370370        3        True  125601  \n",
              "1021652  0.193050  0.009653  0.376448        3        True  125601  \n",
              "1027397  0.188716  0.001946  0.375486        3        True  125601  \n",
              "1142163  0.191033  0.003899  0.378168        3        True  125601  "
            ],
            "text/html": [
              "\n",
              "  <div id=\"df-826e1217-e2d0-48ed-b12a-9b7b055f32cb\" class=\"colab-df-container\">\n",
              "    <div>\n",
              "<style scoped>\n",
              "    .dataframe tbody tr th:only-of-type {\n",
              "        vertical-align: middle;\n",
              "    }\n",
              "\n",
              "    .dataframe tbody tr th {\n",
              "        vertical-align: top;\n",
              "    }\n",
              "\n",
              "    .dataframe thead th {\n",
              "        text-align: right;\n",
              "    }\n",
              "</style>\n",
              "<table border=\"1\" class=\"dataframe\">\n",
              "  <thead>\n",
              "    <tr style=\"text-align: right;\">\n",
              "      <th></th>\n",
              "      <th>ID</th>\n",
              "      <th>Sequence</th>\n",
              "      <th>Length</th>\n",
              "      <th>Species</th>\n",
              "      <th>RAPID_disorder</th>\n",
              "      <th>f_plus</th>\n",
              "      <th>f_minus</th>\n",
              "      <th>ncpr</th>\n",
              "      <th>fcr</th>\n",
              "      <th>idp_type</th>\n",
              "      <th>disordered</th>\n",
              "      <th>cluster</th>\n",
              "    </tr>\n",
              "  </thead>\n",
              "  <tbody>\n",
              "    <tr>\n",
              "      <th>21824</th>\n",
              "      <td>A0A0D8BQM5</td>\n",
              "      <td>MGSIIISALLALVIGAVVGFFVRKSIAEAKIGGAKAAAKQLIEEAK...</td>\n",
              "      <td>518</td>\n",
              "      <td>Geobacillus kaustophilus</td>\n",
              "      <td>0.1988</td>\n",
              "      <td>0.191120</td>\n",
              "      <td>0.193050</td>\n",
              "      <td>0.001931</td>\n",
              "      <td>0.384170</td>\n",
              "      <td>3</td>\n",
              "      <td>True</td>\n",
              "      <td>125601</td>\n",
              "    </tr>\n",
              "    <tr>\n",
              "      <th>31098</th>\n",
              "      <td>M5QPR2</td>\n",
              "      <td>MGETIISALLALVVGAVVGFFVRKSIAEAKIGGAQAAAKQMIEEAK...</td>\n",
              "      <td>518</td>\n",
              "      <td>Anoxybacillus gonensis</td>\n",
              "      <td>0.1931</td>\n",
              "      <td>0.193050</td>\n",
              "      <td>0.200772</td>\n",
              "      <td>0.007722</td>\n",
              "      <td>0.393822</td>\n",
              "      <td>3</td>\n",
              "      <td>True</td>\n",
              "      <td>125601</td>\n",
              "    </tr>\n",
              "    <tr>\n",
              "      <th>51458</th>\n",
              "      <td>A0A1U9K9S0</td>\n",
              "      <td>MIGSLGEILILLATAAVSAGIGYFVRKRLAEAKISSAEEAAERIID...</td>\n",
              "      <td>514</td>\n",
              "      <td>Novibacillus thermophilus</td>\n",
              "      <td>0.1809</td>\n",
              "      <td>0.188716</td>\n",
              "      <td>0.198444</td>\n",
              "      <td>0.009728</td>\n",
              "      <td>0.387160</td>\n",
              "      <td>3</td>\n",
              "      <td>True</td>\n",
              "      <td>125601</td>\n",
              "    </tr>\n",
              "    <tr>\n",
              "      <th>54640</th>\n",
              "      <td>A0A1D7QVT1</td>\n",
              "      <td>MDLIYQILALLLVAVIGILIGYFIRKSLAEAKISSAEALAKQTVEE...</td>\n",
              "      <td>520</td>\n",
              "      <td>Bacillus beveridgei</td>\n",
              "      <td>0.2096</td>\n",
              "      <td>0.188462</td>\n",
              "      <td>0.201923</td>\n",
              "      <td>0.013462</td>\n",
              "      <td>0.390385</td>\n",
              "      <td>3</td>\n",
              "      <td>True</td>\n",
              "      <td>125601</td>\n",
              "    </tr>\n",
              "    <tr>\n",
              "      <th>91887</th>\n",
              "      <td>A0A0B5ALP4</td>\n",
              "      <td>MGAFEITFILAGIIVGVVVGYLIHKFMMDAKVGGAKGTVEQILANG...</td>\n",
              "      <td>519</td>\n",
              "      <td>Jeotgalibacillus malaysiensis</td>\n",
              "      <td>0.1657</td>\n",
              "      <td>0.184971</td>\n",
              "      <td>0.192678</td>\n",
              "      <td>0.007707</td>\n",
              "      <td>0.377649</td>\n",
              "      <td>3</td>\n",
              "      <td>True</td>\n",
              "      <td>125601</td>\n",
              "    </tr>\n",
              "    <tr>\n",
              "      <th>99667</th>\n",
              "      <td>A0A3E0WKA5</td>\n",
              "      <td>MDSLMLISILLVILIVGIVVGYLIRKSIAEAKISSAETLAKQIVDE...</td>\n",
              "      <td>520</td>\n",
              "      <td>Virgibacillus dokdonensis</td>\n",
              "      <td>0.1769</td>\n",
              "      <td>0.180769</td>\n",
              "      <td>0.196154</td>\n",
              "      <td>0.015385</td>\n",
              "      <td>0.376923</td>\n",
              "      <td>3</td>\n",
              "      <td>True</td>\n",
              "      <td>125601</td>\n",
              "    </tr>\n",
              "    <tr>\n",
              "      <th>124667</th>\n",
              "      <td>A0A3S8RXC5</td>\n",
              "      <td>MHDGVWVALVAAALFFGFVIGYFIRKSLAEAKISSAEHAASQILES...</td>\n",
              "      <td>513</td>\n",
              "      <td>Paenibacillus lentus</td>\n",
              "      <td>0.1287</td>\n",
              "      <td>0.185185</td>\n",
              "      <td>0.189084</td>\n",
              "      <td>0.003899</td>\n",
              "      <td>0.374269</td>\n",
              "      <td>3</td>\n",
              "      <td>True</td>\n",
              "      <td>125601</td>\n",
              "    </tr>\n",
              "    <tr>\n",
              "      <th>128854</th>\n",
              "      <td>A0A1W5ZVT3</td>\n",
              "      <td>MDLISSLIFILLALIVGSVVGYLIRKSIAEAKISSAEELAKQIVEE...</td>\n",
              "      <td>520</td>\n",
              "      <td>Halobacillus mangrovi</td>\n",
              "      <td>0.1827</td>\n",
              "      <td>0.173077</td>\n",
              "      <td>0.196154</td>\n",
              "      <td>0.023077</td>\n",
              "      <td>0.369231</td>\n",
              "      <td>3</td>\n",
              "      <td>True</td>\n",
              "      <td>125601</td>\n",
              "    </tr>\n",
              "    <tr>\n",
              "      <th>168788</th>\n",
              "      <td>A0A0U4F4D2</td>\n",
              "      <td>MDNPLIISILLAVILIVGIVVGYLIRKSIGEAKITSAENLAKQIVD...</td>\n",
              "      <td>521</td>\n",
              "      <td>Lentibacillus amyloliquefaciens</td>\n",
              "      <td>0.1766</td>\n",
              "      <td>0.166987</td>\n",
              "      <td>0.195777</td>\n",
              "      <td>0.028791</td>\n",
              "      <td>0.362764</td>\n",
              "      <td>3</td>\n",
              "      <td>True</td>\n",
              "      <td>125601</td>\n",
              "    </tr>\n",
              "    <tr>\n",
              "      <th>204166</th>\n",
              "      <td>A0A223D2A0</td>\n",
              "      <td>MDSLLPILLSVIFLAVGLVGGYLVRRNIAEGKLAAAELRAEQILDT...</td>\n",
              "      <td>513</td>\n",
              "      <td>Tumebacillus algifaecis</td>\n",
              "      <td>0.1988</td>\n",
              "      <td>0.189084</td>\n",
              "      <td>0.189084</td>\n",
              "      <td>0.000000</td>\n",
              "      <td>0.378168</td>\n",
              "      <td>3</td>\n",
              "      <td>True</td>\n",
              "      <td>125601</td>\n",
              "    </tr>\n",
              "    <tr>\n",
              "      <th>207998</th>\n",
              "      <td>A0A3Q9QY97</td>\n",
              "      <td>MDPITIISILLGLIVGAVVGYFVHKSIAEAKVTGAKNAAEQIIEDA...</td>\n",
              "      <td>519</td>\n",
              "      <td>Bacillus mesonae</td>\n",
              "      <td>0.2139</td>\n",
              "      <td>0.188825</td>\n",
              "      <td>0.194605</td>\n",
              "      <td>0.005780</td>\n",
              "      <td>0.383430</td>\n",
              "      <td>3</td>\n",
              "      <td>True</td>\n",
              "      <td>125601</td>\n",
              "    </tr>\n",
              "    <tr>\n",
              "      <th>213522</th>\n",
              "      <td>A0A0D5NNR7</td>\n",
              "      <td>MTPGLWILWILIVLVVGAVFFGIGYFIRKSIAEAKISSAEQAAVQI...</td>\n",
              "      <td>516</td>\n",
              "      <td>Paenibacillus beijingensis</td>\n",
              "      <td>0.1240</td>\n",
              "      <td>0.182171</td>\n",
              "      <td>0.187984</td>\n",
              "      <td>0.005814</td>\n",
              "      <td>0.370155</td>\n",
              "      <td>3</td>\n",
              "      <td>True</td>\n",
              "      <td>125601</td>\n",
              "    </tr>\n",
              "    <tr>\n",
              "      <th>257122</th>\n",
              "      <td>A0A410X0P2</td>\n",
              "      <td>MNPIIWVLIILVVGVICLGIGYFIRKSLAEAKISSAETAAAQIVEN...</td>\n",
              "      <td>513</td>\n",
              "      <td>Paenibacillus chitinolyticus</td>\n",
              "      <td>0.1423</td>\n",
              "      <td>0.187135</td>\n",
              "      <td>0.187135</td>\n",
              "      <td>0.000000</td>\n",
              "      <td>0.374269</td>\n",
              "      <td>3</td>\n",
              "      <td>True</td>\n",
              "      <td>125601</td>\n",
              "    </tr>\n",
              "    <tr>\n",
              "      <th>295329</th>\n",
              "      <td>A0A222WPM9</td>\n",
              "      <td>MMTAIWFVLVAVAALFFGFWIGYFIRKSIAEAKISSAEEAAAQIVE...</td>\n",
              "      <td>514</td>\n",
              "      <td>Paenibacillus kribbensis</td>\n",
              "      <td>0.1732</td>\n",
              "      <td>0.182879</td>\n",
              "      <td>0.186770</td>\n",
              "      <td>0.003891</td>\n",
              "      <td>0.369650</td>\n",
              "      <td>3</td>\n",
              "      <td>True</td>\n",
              "      <td>125601</td>\n",
              "    </tr>\n",
              "    <tr>\n",
              "      <th>311600</th>\n",
              "      <td>A0A075LPM7</td>\n",
              "      <td>MELFYLIISILLALIVGGVVGYLVRKSIAEKKISSAEELAKQIVEE...</td>\n",
              "      <td>520</td>\n",
              "      <td>Terribacillus goriensis</td>\n",
              "      <td>0.1712</td>\n",
              "      <td>0.180769</td>\n",
              "      <td>0.194231</td>\n",
              "      <td>0.013462</td>\n",
              "      <td>0.375000</td>\n",
              "      <td>3</td>\n",
              "      <td>True</td>\n",
              "      <td>125601</td>\n",
              "    </tr>\n",
              "    <tr>\n",
              "      <th>416333</th>\n",
              "      <td>A0A514LFZ6</td>\n",
              "      <td>MDGTLILTISILLVVVAVLSGFIGYVIRRKIAEAKISSAEYTAKKM...</td>\n",
              "      <td>523</td>\n",
              "      <td>Salicibibacter halophilus</td>\n",
              "      <td>0.1969</td>\n",
              "      <td>0.183556</td>\n",
              "      <td>0.200765</td>\n",
              "      <td>0.017208</td>\n",
              "      <td>0.384321</td>\n",
              "      <td>3</td>\n",
              "      <td>True</td>\n",
              "      <td>125601</td>\n",
              "    </tr>\n",
              "    <tr>\n",
              "      <th>461055</th>\n",
              "      <td>A0A248TCF3</td>\n",
              "      <td>MELGYIISILLGLIVAAFVGYFFRKSVTEAKIAGARGAADQILEDA...</td>\n",
              "      <td>519</td>\n",
              "      <td>Bacillus kochii</td>\n",
              "      <td>0.1753</td>\n",
              "      <td>0.192678</td>\n",
              "      <td>0.198459</td>\n",
              "      <td>0.005780</td>\n",
              "      <td>0.391137</td>\n",
              "      <td>3</td>\n",
              "      <td>True</td>\n",
              "      <td>125601</td>\n",
              "    </tr>\n",
              "    <tr>\n",
              "      <th>477537</th>\n",
              "      <td>A0A0D7XA37</td>\n",
              "      <td>MMTAIWFVLVAVAALFFGFGIGYFIRKSIAEAKISSAEEAAAQIVE...</td>\n",
              "      <td>514</td>\n",
              "      <td>Paenibacillus terrae</td>\n",
              "      <td>0.1732</td>\n",
              "      <td>0.182879</td>\n",
              "      <td>0.186770</td>\n",
              "      <td>0.003891</td>\n",
              "      <td>0.369650</td>\n",
              "      <td>3</td>\n",
              "      <td>True</td>\n",
              "      <td>125601</td>\n",
              "    </tr>\n",
              "    <tr>\n",
              "      <th>482475</th>\n",
              "      <td>A0A2X4WN27</td>\n",
              "      <td>MDSIHIISILLALIAGVVVGYFIFKKIAEVKVTGAKHAAEHIIEDA...</td>\n",
              "      <td>519</td>\n",
              "      <td>Bacillus lentus</td>\n",
              "      <td>0.1484</td>\n",
              "      <td>0.192678</td>\n",
              "      <td>0.198459</td>\n",
              "      <td>0.005780</td>\n",
              "      <td>0.391137</td>\n",
              "      <td>3</td>\n",
              "      <td>True</td>\n",
              "      <td>125601</td>\n",
              "    </tr>\n",
              "    <tr>\n",
              "      <th>509154</th>\n",
              "      <td>A0A172ZG08</td>\n",
              "      <td>MGYLWVIILVVAALFFGFGIGYFIRKSLAEAKISSAETAAAQIVEN...</td>\n",
              "      <td>513</td>\n",
              "      <td>Paenibacillus bovis</td>\n",
              "      <td>0.1559</td>\n",
              "      <td>0.179337</td>\n",
              "      <td>0.183236</td>\n",
              "      <td>0.003899</td>\n",
              "      <td>0.362573</td>\n",
              "      <td>3</td>\n",
              "      <td>True</td>\n",
              "      <td>125601</td>\n",
              "    </tr>\n",
              "    <tr>\n",
              "      <th>517567</th>\n",
              "      <td>A0A221MDB2</td>\n",
              "      <td>MDIITIIISALLALIVGIVVGYLIRKSIAEAKISSAEKLAKQIVDE...</td>\n",
              "      <td>520</td>\n",
              "      <td>Virgibacillus necropolis</td>\n",
              "      <td>0.1788</td>\n",
              "      <td>0.182692</td>\n",
              "      <td>0.192308</td>\n",
              "      <td>0.009615</td>\n",
              "      <td>0.375000</td>\n",
              "      <td>3</td>\n",
              "      <td>True</td>\n",
              "      <td>125601</td>\n",
              "    </tr>\n",
              "    <tr>\n",
              "      <th>635924</th>\n",
              "      <td>A0A1C7E6Y7</td>\n",
              "      <td>MGITEFIFALLGIIVGVVVGYFALKKANDSKMAGAKHSAEQVIEDA...</td>\n",
              "      <td>519</td>\n",
              "      <td>Planococcus plakortidis</td>\n",
              "      <td>0.2062</td>\n",
              "      <td>0.183044</td>\n",
              "      <td>0.190751</td>\n",
              "      <td>0.007707</td>\n",
              "      <td>0.373796</td>\n",
              "      <td>3</td>\n",
              "      <td>True</td>\n",
              "      <td>125601</td>\n",
              "    </tr>\n",
              "    <tr>\n",
              "      <th>715524</th>\n",
              "      <td>A0A1R0YIX9</td>\n",
              "      <td>MVTAIWVIIVLVVAALFFGFGYFIRKSLAEAKISSAEKEAVVIVEN...</td>\n",
              "      <td>513</td>\n",
              "      <td>Paenibacillus borealis</td>\n",
              "      <td>0.1501</td>\n",
              "      <td>0.183236</td>\n",
              "      <td>0.189084</td>\n",
              "      <td>0.005848</td>\n",
              "      <td>0.372320</td>\n",
              "      <td>3</td>\n",
              "      <td>True</td>\n",
              "      <td>125601</td>\n",
              "    </tr>\n",
              "    <tr>\n",
              "      <th>725673</th>\n",
              "      <td>A0A4Y6V2S2</td>\n",
              "      <td>MPNFWVAILVAAALFFGFVIGYFIRKSLAEAKISSAEQAAEQIVEN...</td>\n",
              "      <td>513</td>\n",
              "      <td>Saccharibacillus brassicae</td>\n",
              "      <td>0.1852</td>\n",
              "      <td>0.185185</td>\n",
              "      <td>0.185185</td>\n",
              "      <td>0.000000</td>\n",
              "      <td>0.370370</td>\n",
              "      <td>3</td>\n",
              "      <td>True</td>\n",
              "      <td>125601</td>\n",
              "    </tr>\n",
              "    <tr>\n",
              "      <th>746244</th>\n",
              "      <td>A0A1C7DPT9</td>\n",
              "      <td>MGINEFIFALLGIIVGVVVGYFALKKANDSNIAGAKNSAEQIVEDA...</td>\n",
              "      <td>519</td>\n",
              "      <td>Planococcus halocryophilus</td>\n",
              "      <td>0.1811</td>\n",
              "      <td>0.181118</td>\n",
              "      <td>0.194605</td>\n",
              "      <td>0.013487</td>\n",
              "      <td>0.375723</td>\n",
              "      <td>3</td>\n",
              "      <td>True</td>\n",
              "      <td>125601</td>\n",
              "    </tr>\n",
              "    <tr>\n",
              "      <th>749734</th>\n",
              "      <td>A0A4Y7WQH7</td>\n",
              "      <td>MPSIELNLLVLSLIVLAFSVVFAVVGYLVRKSIAERKISSAEQAAK...</td>\n",
              "      <td>525</td>\n",
              "      <td>Bacillus lehensis</td>\n",
              "      <td>0.1657</td>\n",
              "      <td>0.188571</td>\n",
              "      <td>0.190476</td>\n",
              "      <td>0.001905</td>\n",
              "      <td>0.379048</td>\n",
              "      <td>3</td>\n",
              "      <td>True</td>\n",
              "      <td>125601</td>\n",
              "    </tr>\n",
              "    <tr>\n",
              "      <th>810765</th>\n",
              "      <td>A0A1C7EH00</td>\n",
              "      <td>MGINEFIFALLGIIVGVVVGYFALKKANDSNIAGAKNSAEQIVEDA...</td>\n",
              "      <td>519</td>\n",
              "      <td>Planococcus donghaensis</td>\n",
              "      <td>0.1908</td>\n",
              "      <td>0.181118</td>\n",
              "      <td>0.194605</td>\n",
              "      <td>0.013487</td>\n",
              "      <td>0.375723</td>\n",
              "      <td>3</td>\n",
              "      <td>True</td>\n",
              "      <td>125601</td>\n",
              "    </tr>\n",
              "    <tr>\n",
              "      <th>846654</th>\n",
              "      <td>A0A160ILZ9</td>\n",
              "      <td>MPSLAVFISSLLVSLGVGAIVGYLVRKSIAEAKISSAERAAAQIVE...</td>\n",
              "      <td>521</td>\n",
              "      <td>Fictibacillus phosphorivorans</td>\n",
              "      <td>0.2092</td>\n",
              "      <td>0.188100</td>\n",
              "      <td>0.197697</td>\n",
              "      <td>0.009597</td>\n",
              "      <td>0.385797</td>\n",
              "      <td>3</td>\n",
              "      <td>True</td>\n",
              "      <td>125601</td>\n",
              "    </tr>\n",
              "    <tr>\n",
              "      <th>972208</th>\n",
              "      <td>A0A168MZ57</td>\n",
              "      <td>MNTLIWVLIVLFVAVIFGFAGYFIRKSIAEAKISSAEEAAVQIVES...</td>\n",
              "      <td>513</td>\n",
              "      <td>Paenibacillus antarcticus</td>\n",
              "      <td>0.1813</td>\n",
              "      <td>0.183236</td>\n",
              "      <td>0.187135</td>\n",
              "      <td>0.003899</td>\n",
              "      <td>0.370370</td>\n",
              "      <td>3</td>\n",
              "      <td>True</td>\n",
              "      <td>125601</td>\n",
              "    </tr>\n",
              "    <tr>\n",
              "      <th>979013</th>\n",
              "      <td>A0A220U5Q9</td>\n",
              "      <td>MDIITLIISILLTLIVGIVVGYLIRKSIAEAKISSAEKLAKQIVDE...</td>\n",
              "      <td>520</td>\n",
              "      <td>Virgibacillus phasianinus</td>\n",
              "      <td>0.1577</td>\n",
              "      <td>0.182692</td>\n",
              "      <td>0.190385</td>\n",
              "      <td>0.007692</td>\n",
              "      <td>0.373077</td>\n",
              "      <td>3</td>\n",
              "      <td>True</td>\n",
              "      <td>125601</td>\n",
              "    </tr>\n",
              "    <tr>\n",
              "      <th>1005272</th>\n",
              "      <td>A0A172TLF1</td>\n",
              "      <td>MEWIITILVALVVGVLGFGIGYFIRKSIAEAKISSAEQAATQIVES...</td>\n",
              "      <td>513</td>\n",
              "      <td>Paenibacillus swuensis</td>\n",
              "      <td>0.1306</td>\n",
              "      <td>0.181287</td>\n",
              "      <td>0.189084</td>\n",
              "      <td>0.007797</td>\n",
              "      <td>0.370370</td>\n",
              "      <td>3</td>\n",
              "      <td>True</td>\n",
              "      <td>125601</td>\n",
              "    </tr>\n",
              "    <tr>\n",
              "      <th>1021652</th>\n",
              "      <td>A0A1B1S486</td>\n",
              "      <td>MDNVIIFTLLGIIVGVVVGYFVMKKSNESKMAGARNSAEQIIEDAK...</td>\n",
              "      <td>518</td>\n",
              "      <td>Planococcus versutus</td>\n",
              "      <td>0.1834</td>\n",
              "      <td>0.183398</td>\n",
              "      <td>0.193050</td>\n",
              "      <td>0.009653</td>\n",
              "      <td>0.376448</td>\n",
              "      <td>3</td>\n",
              "      <td>True</td>\n",
              "      <td>125601</td>\n",
              "    </tr>\n",
              "    <tr>\n",
              "      <th>1027397</th>\n",
              "      <td>A0A3T1D8E6</td>\n",
              "      <td>MIDSWIWIVIILVVGVLCFGIGYVARKSIAEAKISSAEAAAIQIVE...</td>\n",
              "      <td>514</td>\n",
              "      <td>Cohnella abietis</td>\n",
              "      <td>0.1284</td>\n",
              "      <td>0.186770</td>\n",
              "      <td>0.188716</td>\n",
              "      <td>0.001946</td>\n",
              "      <td>0.375486</td>\n",
              "      <td>3</td>\n",
              "      <td>True</td>\n",
              "      <td>125601</td>\n",
              "    </tr>\n",
              "    <tr>\n",
              "      <th>1142163</th>\n",
              "      <td>A0A2Z2K9S3</td>\n",
              "      <td>MEYLIWVLIILVVAALFFWLGYSIRKSIAEAKISSAEKEAVVIVDN...</td>\n",
              "      <td>513</td>\n",
              "      <td>Paenibacillus donghaensis</td>\n",
              "      <td>0.1832</td>\n",
              "      <td>0.187135</td>\n",
              "      <td>0.191033</td>\n",
              "      <td>0.003899</td>\n",
              "      <td>0.378168</td>\n",
              "      <td>3</td>\n",
              "      <td>True</td>\n",
              "      <td>125601</td>\n",
              "    </tr>\n",
              "  </tbody>\n",
              "</table>\n",
              "</div>\n",
              "    <div class=\"colab-df-buttons\">\n",
              "\n",
              "  <div class=\"colab-df-container\">\n",
              "    <button class=\"colab-df-convert\" onclick=\"convertToInteractive('df-826e1217-e2d0-48ed-b12a-9b7b055f32cb')\"\n",
              "            title=\"Convert this dataframe to an interactive table.\"\n",
              "            style=\"display:none;\">\n",
              "\n",
              "  <svg xmlns=\"http://www.w3.org/2000/svg\" height=\"24px\" viewBox=\"0 -960 960 960\">\n",
              "    <path d=\"M120-120v-720h720v720H120Zm60-500h600v-160H180v160Zm220 220h160v-160H400v160Zm0 220h160v-160H400v160ZM180-400h160v-160H180v160Zm440 0h160v-160H620v160ZM180-180h160v-160H180v160Zm440 0h160v-160H620v160Z\"/>\n",
              "  </svg>\n",
              "    </button>\n",
              "\n",
              "  <style>\n",
              "    .colab-df-container {\n",
              "      display:flex;\n",
              "      gap: 12px;\n",
              "    }\n",
              "\n",
              "    .colab-df-convert {\n",
              "      background-color: #E8F0FE;\n",
              "      border: none;\n",
              "      border-radius: 50%;\n",
              "      cursor: pointer;\n",
              "      display: none;\n",
              "      fill: #1967D2;\n",
              "      height: 32px;\n",
              "      padding: 0 0 0 0;\n",
              "      width: 32px;\n",
              "    }\n",
              "\n",
              "    .colab-df-convert:hover {\n",
              "      background-color: #E2EBFA;\n",
              "      box-shadow: 0px 1px 2px rgba(60, 64, 67, 0.3), 0px 1px 3px 1px rgba(60, 64, 67, 0.15);\n",
              "      fill: #174EA6;\n",
              "    }\n",
              "\n",
              "    .colab-df-buttons div {\n",
              "      margin-bottom: 4px;\n",
              "    }\n",
              "\n",
              "    [theme=dark] .colab-df-convert {\n",
              "      background-color: #3B4455;\n",
              "      fill: #D2E3FC;\n",
              "    }\n",
              "\n",
              "    [theme=dark] .colab-df-convert:hover {\n",
              "      background-color: #434B5C;\n",
              "      box-shadow: 0px 1px 3px 1px rgba(0, 0, 0, 0.15);\n",
              "      filter: drop-shadow(0px 1px 2px rgba(0, 0, 0, 0.3));\n",
              "      fill: #FFFFFF;\n",
              "    }\n",
              "  </style>\n",
              "\n",
              "    <script>\n",
              "      const buttonEl =\n",
              "        document.querySelector('#df-826e1217-e2d0-48ed-b12a-9b7b055f32cb button.colab-df-convert');\n",
              "      buttonEl.style.display =\n",
              "        google.colab.kernel.accessAllowed ? 'block' : 'none';\n",
              "\n",
              "      async function convertToInteractive(key) {\n",
              "        const element = document.querySelector('#df-826e1217-e2d0-48ed-b12a-9b7b055f32cb');\n",
              "        const dataTable =\n",
              "          await google.colab.kernel.invokeFunction('convertToInteractive',\n",
              "                                                    [key], {});\n",
              "        if (!dataTable) return;\n",
              "\n",
              "        const docLinkHtml = 'Like what you see? Visit the ' +\n",
              "          '<a target=\"_blank\" href=https://colab.research.google.com/notebooks/data_table.ipynb>data table notebook</a>'\n",
              "          + ' to learn more about interactive tables.';\n",
              "        element.innerHTML = '';\n",
              "        dataTable['output_type'] = 'display_data';\n",
              "        await google.colab.output.renderOutput(dataTable, element);\n",
              "        const docLink = document.createElement('div');\n",
              "        docLink.innerHTML = docLinkHtml;\n",
              "        element.appendChild(docLink);\n",
              "      }\n",
              "    </script>\n",
              "  </div>\n",
              "\n",
              "\n",
              "<div id=\"df-18a95357-fcf6-4a1f-9ec9-1fdaf2fea2c3\">\n",
              "  <button class=\"colab-df-quickchart\" onclick=\"quickchart('df-18a95357-fcf6-4a1f-9ec9-1fdaf2fea2c3')\"\n",
              "            title=\"Suggest charts\"\n",
              "            style=\"display:none;\">\n",
              "\n",
              "<svg xmlns=\"http://www.w3.org/2000/svg\" height=\"24px\"viewBox=\"0 0 24 24\"\n",
              "     width=\"24px\">\n",
              "    <g>\n",
              "        <path d=\"M19 3H5c-1.1 0-2 .9-2 2v14c0 1.1.9 2 2 2h14c1.1 0 2-.9 2-2V5c0-1.1-.9-2-2-2zM9 17H7v-7h2v7zm4 0h-2V7h2v10zm4 0h-2v-4h2v4z\"/>\n",
              "    </g>\n",
              "</svg>\n",
              "  </button>\n",
              "\n",
              "<style>\n",
              "  .colab-df-quickchart {\n",
              "      --bg-color: #E8F0FE;\n",
              "      --fill-color: #1967D2;\n",
              "      --hover-bg-color: #E2EBFA;\n",
              "      --hover-fill-color: #174EA6;\n",
              "      --disabled-fill-color: #AAA;\n",
              "      --disabled-bg-color: #DDD;\n",
              "  }\n",
              "\n",
              "  [theme=dark] .colab-df-quickchart {\n",
              "      --bg-color: #3B4455;\n",
              "      --fill-color: #D2E3FC;\n",
              "      --hover-bg-color: #434B5C;\n",
              "      --hover-fill-color: #FFFFFF;\n",
              "      --disabled-bg-color: #3B4455;\n",
              "      --disabled-fill-color: #666;\n",
              "  }\n",
              "\n",
              "  .colab-df-quickchart {\n",
              "    background-color: var(--bg-color);\n",
              "    border: none;\n",
              "    border-radius: 50%;\n",
              "    cursor: pointer;\n",
              "    display: none;\n",
              "    fill: var(--fill-color);\n",
              "    height: 32px;\n",
              "    padding: 0;\n",
              "    width: 32px;\n",
              "  }\n",
              "\n",
              "  .colab-df-quickchart:hover {\n",
              "    background-color: var(--hover-bg-color);\n",
              "    box-shadow: 0 1px 2px rgba(60, 64, 67, 0.3), 0 1px 3px 1px rgba(60, 64, 67, 0.15);\n",
              "    fill: var(--button-hover-fill-color);\n",
              "  }\n",
              "\n",
              "  .colab-df-quickchart-complete:disabled,\n",
              "  .colab-df-quickchart-complete:disabled:hover {\n",
              "    background-color: var(--disabled-bg-color);\n",
              "    fill: var(--disabled-fill-color);\n",
              "    box-shadow: none;\n",
              "  }\n",
              "\n",
              "  .colab-df-spinner {\n",
              "    border: 2px solid var(--fill-color);\n",
              "    border-color: transparent;\n",
              "    border-bottom-color: var(--fill-color);\n",
              "    animation:\n",
              "      spin 1s steps(1) infinite;\n",
              "  }\n",
              "\n",
              "  @keyframes spin {\n",
              "    0% {\n",
              "      border-color: transparent;\n",
              "      border-bottom-color: var(--fill-color);\n",
              "      border-left-color: var(--fill-color);\n",
              "    }\n",
              "    20% {\n",
              "      border-color: transparent;\n",
              "      border-left-color: var(--fill-color);\n",
              "      border-top-color: var(--fill-color);\n",
              "    }\n",
              "    30% {\n",
              "      border-color: transparent;\n",
              "      border-left-color: var(--fill-color);\n",
              "      border-top-color: var(--fill-color);\n",
              "      border-right-color: var(--fill-color);\n",
              "    }\n",
              "    40% {\n",
              "      border-color: transparent;\n",
              "      border-right-color: var(--fill-color);\n",
              "      border-top-color: var(--fill-color);\n",
              "    }\n",
              "    60% {\n",
              "      border-color: transparent;\n",
              "      border-right-color: var(--fill-color);\n",
              "    }\n",
              "    80% {\n",
              "      border-color: transparent;\n",
              "      border-right-color: var(--fill-color);\n",
              "      border-bottom-color: var(--fill-color);\n",
              "    }\n",
              "    90% {\n",
              "      border-color: transparent;\n",
              "      border-bottom-color: var(--fill-color);\n",
              "    }\n",
              "  }\n",
              "</style>\n",
              "\n",
              "  <script>\n",
              "    async function quickchart(key) {\n",
              "      const quickchartButtonEl =\n",
              "        document.querySelector('#' + key + ' button');\n",
              "      quickchartButtonEl.disabled = true;  // To prevent multiple clicks.\n",
              "      quickchartButtonEl.classList.add('colab-df-spinner');\n",
              "      try {\n",
              "        const charts = await google.colab.kernel.invokeFunction(\n",
              "            'suggestCharts', [key], {});\n",
              "      } catch (error) {\n",
              "        console.error('Error during call to suggestCharts:', error);\n",
              "      }\n",
              "      quickchartButtonEl.classList.remove('colab-df-spinner');\n",
              "      quickchartButtonEl.classList.add('colab-df-quickchart-complete');\n",
              "    }\n",
              "    (() => {\n",
              "      let quickchartButtonEl =\n",
              "        document.querySelector('#df-18a95357-fcf6-4a1f-9ec9-1fdaf2fea2c3 button');\n",
              "      quickchartButtonEl.style.display =\n",
              "        google.colab.kernel.accessAllowed ? 'block' : 'none';\n",
              "    })();\n",
              "  </script>\n",
              "</div>\n",
              "    </div>\n",
              "  </div>\n"
            ]
          },
          "metadata": {},
          "execution_count": 53
        }
      ]
    },
    {
      "cell_type": "code",
      "source": [
        "disordered_clusters"
      ],
      "metadata": {
        "id": "0PUPbbyoj3lO",
        "outputId": "840a4647-8204-4d62-c88c-8ab7d898f538",
        "colab": {
          "base_uri": "https://localhost:8080/",
          "height": 617
        }
      },
      "execution_count": null,
      "outputs": [
        {
          "output_type": "execute_result",
          "data": {
            "text/plain": [
              "                 ID                                           Sequence  \\\n",
              "425      A0A172T533       MKRTYQPSRIKRKRTHGFLARKSTPGGRRVLKNRRRTGRWRLTV   \n",
              "3714     A0A3T0D4R5  MEQKRGMRKTRIGVVVSDKMDKTVVVAVETLVQHPLYKKTIKRTTK...   \n",
              "3765     A0A3T0D579  MLTKEQKQEIIKKYQLHESDTGSPEVQIALLTERINRLNEHLQIHK...   \n",
              "3823     A0A3T0D5T9  MSEVRVGENESLDSALRRFKKKCAEAGVLAELRKREHYESPSVRRK...   \n",
              "4641     A0A3T0D4Q4              MKVRPSVKPICEKCKVIRRKGKIRIICENPKHKQRQG   \n",
              "...             ...                                                ...   \n",
              "1166761  A0A1J1E678             MKTRASIKKRSEECKIVKRKGRLYVINKKNPRFKQRQG   \n",
              "1167320  A0A1B1BMY6  MARLAGVDIPRDKRVEVALTYIFGVGRTRALKTLADVEIDGNIRVK...   \n",
              "1167328  A0A1B1BQ85  MAKAQDVRPIIKLRSTAGTGYTYVTKKNRRNNPDRLVLKKYDPVVR...   \n",
              "1167451  A0A317ZQ86  MAKTDETVVPAEALVRGYRKTLRGYVTSDKMDKTIVVEVEDRVKHP...   \n",
              "1167697  A0A317ZX75  MARAVGIDLGTTNSVVAVLEGGEPTVIANAEGFRTTPSVVAFTKDG...   \n",
              "\n",
              "         Length                             Species  RAPID_disorder    f_plus  \\\n",
              "425          44        Fervidobacterium pennivorans          1.0000  0.409091   \n",
              "3714         86  Caldicellulosiruptor changbaiensis          0.3140  0.279070   \n",
              "3765         88  Caldicellulosiruptor changbaiensis          0.3295  0.272727   \n",
              "3823         58  Caldicellulosiruptor changbaiensis          0.8793  0.362069   \n",
              "4641         37  Caldicellulosiruptor changbaiensis          0.7027  0.378378   \n",
              "...         ...                                 ...             ...       ...   \n",
              "1166761      38        Ichthyobacterium seriolicida          1.0000  0.394737   \n",
              "1167320     124              Cryobacterium arcticum          0.2661  0.258065   \n",
              "1167328      55              Cryobacterium arcticum          0.4364  0.290909   \n",
              "1167451      97              Cryobacterium arcticum          0.2165  0.226804   \n",
              "1167697     621              Cryobacterium arcticum          0.2448  0.135266   \n",
              "\n",
              "          f_minus      ncpr       fcr idp_type  disordered cluster  \n",
              "425      0.000000  0.409091  0.409091        5        True  941189  \n",
              "3714     0.127907  0.151163  0.406977        3        True  841942  \n",
              "3765     0.136364  0.136364  0.409091        3        True  877979  \n",
              "3823     0.155172  0.206897  0.517241        3        True  929392  \n",
              "4641     0.054054  0.324324  0.432432        3        True  941621  \n",
              "...           ...       ...       ...      ...         ...     ...  \n",
              "1166761  0.052632  0.342105  0.447368        3        True  946903  \n",
              "1167320  0.137097  0.120968  0.395161        3        True  809653  \n",
              "1167328  0.109091  0.181818  0.400000        3        True  936233  \n",
              "1167451  0.144330  0.082474  0.371134        3        True  801625  \n",
              "1167697  0.188406  0.053140  0.323671        2        True   75175  \n",
              "\n",
              "[1719 rows x 12 columns]"
            ],
            "text/html": [
              "\n",
              "  <div id=\"df-5f27d355-79b8-4e9f-9f94-d3a99bc083d3\" class=\"colab-df-container\">\n",
              "    <div>\n",
              "<style scoped>\n",
              "    .dataframe tbody tr th:only-of-type {\n",
              "        vertical-align: middle;\n",
              "    }\n",
              "\n",
              "    .dataframe tbody tr th {\n",
              "        vertical-align: top;\n",
              "    }\n",
              "\n",
              "    .dataframe thead th {\n",
              "        text-align: right;\n",
              "    }\n",
              "</style>\n",
              "<table border=\"1\" class=\"dataframe\">\n",
              "  <thead>\n",
              "    <tr style=\"text-align: right;\">\n",
              "      <th></th>\n",
              "      <th>ID</th>\n",
              "      <th>Sequence</th>\n",
              "      <th>Length</th>\n",
              "      <th>Species</th>\n",
              "      <th>RAPID_disorder</th>\n",
              "      <th>f_plus</th>\n",
              "      <th>f_minus</th>\n",
              "      <th>ncpr</th>\n",
              "      <th>fcr</th>\n",
              "      <th>idp_type</th>\n",
              "      <th>disordered</th>\n",
              "      <th>cluster</th>\n",
              "    </tr>\n",
              "  </thead>\n",
              "  <tbody>\n",
              "    <tr>\n",
              "      <th>425</th>\n",
              "      <td>A0A172T533</td>\n",
              "      <td>MKRTYQPSRIKRKRTHGFLARKSTPGGRRVLKNRRRTGRWRLTV</td>\n",
              "      <td>44</td>\n",
              "      <td>Fervidobacterium pennivorans</td>\n",
              "      <td>1.0000</td>\n",
              "      <td>0.409091</td>\n",
              "      <td>0.000000</td>\n",
              "      <td>0.409091</td>\n",
              "      <td>0.409091</td>\n",
              "      <td>5</td>\n",
              "      <td>True</td>\n",
              "      <td>941189</td>\n",
              "    </tr>\n",
              "    <tr>\n",
              "      <th>3714</th>\n",
              "      <td>A0A3T0D4R5</td>\n",
              "      <td>MEQKRGMRKTRIGVVVSDKMDKTVVVAVETLVQHPLYKKTIKRTTK...</td>\n",
              "      <td>86</td>\n",
              "      <td>Caldicellulosiruptor changbaiensis</td>\n",
              "      <td>0.3140</td>\n",
              "      <td>0.279070</td>\n",
              "      <td>0.127907</td>\n",
              "      <td>0.151163</td>\n",
              "      <td>0.406977</td>\n",
              "      <td>3</td>\n",
              "      <td>True</td>\n",
              "      <td>841942</td>\n",
              "    </tr>\n",
              "    <tr>\n",
              "      <th>3765</th>\n",
              "      <td>A0A3T0D579</td>\n",
              "      <td>MLTKEQKQEIIKKYQLHESDTGSPEVQIALLTERINRLNEHLQIHK...</td>\n",
              "      <td>88</td>\n",
              "      <td>Caldicellulosiruptor changbaiensis</td>\n",
              "      <td>0.3295</td>\n",
              "      <td>0.272727</td>\n",
              "      <td>0.136364</td>\n",
              "      <td>0.136364</td>\n",
              "      <td>0.409091</td>\n",
              "      <td>3</td>\n",
              "      <td>True</td>\n",
              "      <td>877979</td>\n",
              "    </tr>\n",
              "    <tr>\n",
              "      <th>3823</th>\n",
              "      <td>A0A3T0D5T9</td>\n",
              "      <td>MSEVRVGENESLDSALRRFKKKCAEAGVLAELRKREHYESPSVRRK...</td>\n",
              "      <td>58</td>\n",
              "      <td>Caldicellulosiruptor changbaiensis</td>\n",
              "      <td>0.8793</td>\n",
              "      <td>0.362069</td>\n",
              "      <td>0.155172</td>\n",
              "      <td>0.206897</td>\n",
              "      <td>0.517241</td>\n",
              "      <td>3</td>\n",
              "      <td>True</td>\n",
              "      <td>929392</td>\n",
              "    </tr>\n",
              "    <tr>\n",
              "      <th>4641</th>\n",
              "      <td>A0A3T0D4Q4</td>\n",
              "      <td>MKVRPSVKPICEKCKVIRRKGKIRIICENPKHKQRQG</td>\n",
              "      <td>37</td>\n",
              "      <td>Caldicellulosiruptor changbaiensis</td>\n",
              "      <td>0.7027</td>\n",
              "      <td>0.378378</td>\n",
              "      <td>0.054054</td>\n",
              "      <td>0.324324</td>\n",
              "      <td>0.432432</td>\n",
              "      <td>3</td>\n",
              "      <td>True</td>\n",
              "      <td>941621</td>\n",
              "    </tr>\n",
              "    <tr>\n",
              "      <th>...</th>\n",
              "      <td>...</td>\n",
              "      <td>...</td>\n",
              "      <td>...</td>\n",
              "      <td>...</td>\n",
              "      <td>...</td>\n",
              "      <td>...</td>\n",
              "      <td>...</td>\n",
              "      <td>...</td>\n",
              "      <td>...</td>\n",
              "      <td>...</td>\n",
              "      <td>...</td>\n",
              "      <td>...</td>\n",
              "    </tr>\n",
              "    <tr>\n",
              "      <th>1166761</th>\n",
              "      <td>A0A1J1E678</td>\n",
              "      <td>MKTRASIKKRSEECKIVKRKGRLYVINKKNPRFKQRQG</td>\n",
              "      <td>38</td>\n",
              "      <td>Ichthyobacterium seriolicida</td>\n",
              "      <td>1.0000</td>\n",
              "      <td>0.394737</td>\n",
              "      <td>0.052632</td>\n",
              "      <td>0.342105</td>\n",
              "      <td>0.447368</td>\n",
              "      <td>3</td>\n",
              "      <td>True</td>\n",
              "      <td>946903</td>\n",
              "    </tr>\n",
              "    <tr>\n",
              "      <th>1167320</th>\n",
              "      <td>A0A1B1BMY6</td>\n",
              "      <td>MARLAGVDIPRDKRVEVALTYIFGVGRTRALKTLADVEIDGNIRVK...</td>\n",
              "      <td>124</td>\n",
              "      <td>Cryobacterium arcticum</td>\n",
              "      <td>0.2661</td>\n",
              "      <td>0.258065</td>\n",
              "      <td>0.137097</td>\n",
              "      <td>0.120968</td>\n",
              "      <td>0.395161</td>\n",
              "      <td>3</td>\n",
              "      <td>True</td>\n",
              "      <td>809653</td>\n",
              "    </tr>\n",
              "    <tr>\n",
              "      <th>1167328</th>\n",
              "      <td>A0A1B1BQ85</td>\n",
              "      <td>MAKAQDVRPIIKLRSTAGTGYTYVTKKNRRNNPDRLVLKKYDPVVR...</td>\n",
              "      <td>55</td>\n",
              "      <td>Cryobacterium arcticum</td>\n",
              "      <td>0.4364</td>\n",
              "      <td>0.290909</td>\n",
              "      <td>0.109091</td>\n",
              "      <td>0.181818</td>\n",
              "      <td>0.400000</td>\n",
              "      <td>3</td>\n",
              "      <td>True</td>\n",
              "      <td>936233</td>\n",
              "    </tr>\n",
              "    <tr>\n",
              "      <th>1167451</th>\n",
              "      <td>A0A317ZQ86</td>\n",
              "      <td>MAKTDETVVPAEALVRGYRKTLRGYVTSDKMDKTIVVEVEDRVKHP...</td>\n",
              "      <td>97</td>\n",
              "      <td>Cryobacterium arcticum</td>\n",
              "      <td>0.2165</td>\n",
              "      <td>0.226804</td>\n",
              "      <td>0.144330</td>\n",
              "      <td>0.082474</td>\n",
              "      <td>0.371134</td>\n",
              "      <td>3</td>\n",
              "      <td>True</td>\n",
              "      <td>801625</td>\n",
              "    </tr>\n",
              "    <tr>\n",
              "      <th>1167697</th>\n",
              "      <td>A0A317ZX75</td>\n",
              "      <td>MARAVGIDLGTTNSVVAVLEGGEPTVIANAEGFRTTPSVVAFTKDG...</td>\n",
              "      <td>621</td>\n",
              "      <td>Cryobacterium arcticum</td>\n",
              "      <td>0.2448</td>\n",
              "      <td>0.135266</td>\n",
              "      <td>0.188406</td>\n",
              "      <td>0.053140</td>\n",
              "      <td>0.323671</td>\n",
              "      <td>2</td>\n",
              "      <td>True</td>\n",
              "      <td>75175</td>\n",
              "    </tr>\n",
              "  </tbody>\n",
              "</table>\n",
              "<p>1719 rows × 12 columns</p>\n",
              "</div>\n",
              "    <div class=\"colab-df-buttons\">\n",
              "\n",
              "  <div class=\"colab-df-container\">\n",
              "    <button class=\"colab-df-convert\" onclick=\"convertToInteractive('df-5f27d355-79b8-4e9f-9f94-d3a99bc083d3')\"\n",
              "            title=\"Convert this dataframe to an interactive table.\"\n",
              "            style=\"display:none;\">\n",
              "\n",
              "  <svg xmlns=\"http://www.w3.org/2000/svg\" height=\"24px\" viewBox=\"0 -960 960 960\">\n",
              "    <path d=\"M120-120v-720h720v720H120Zm60-500h600v-160H180v160Zm220 220h160v-160H400v160Zm0 220h160v-160H400v160ZM180-400h160v-160H180v160Zm440 0h160v-160H620v160ZM180-180h160v-160H180v160Zm440 0h160v-160H620v160Z\"/>\n",
              "  </svg>\n",
              "    </button>\n",
              "\n",
              "  <style>\n",
              "    .colab-df-container {\n",
              "      display:flex;\n",
              "      gap: 12px;\n",
              "    }\n",
              "\n",
              "    .colab-df-convert {\n",
              "      background-color: #E8F0FE;\n",
              "      border: none;\n",
              "      border-radius: 50%;\n",
              "      cursor: pointer;\n",
              "      display: none;\n",
              "      fill: #1967D2;\n",
              "      height: 32px;\n",
              "      padding: 0 0 0 0;\n",
              "      width: 32px;\n",
              "    }\n",
              "\n",
              "    .colab-df-convert:hover {\n",
              "      background-color: #E2EBFA;\n",
              "      box-shadow: 0px 1px 2px rgba(60, 64, 67, 0.3), 0px 1px 3px 1px rgba(60, 64, 67, 0.15);\n",
              "      fill: #174EA6;\n",
              "    }\n",
              "\n",
              "    .colab-df-buttons div {\n",
              "      margin-bottom: 4px;\n",
              "    }\n",
              "\n",
              "    [theme=dark] .colab-df-convert {\n",
              "      background-color: #3B4455;\n",
              "      fill: #D2E3FC;\n",
              "    }\n",
              "\n",
              "    [theme=dark] .colab-df-convert:hover {\n",
              "      background-color: #434B5C;\n",
              "      box-shadow: 0px 1px 3px 1px rgba(0, 0, 0, 0.15);\n",
              "      filter: drop-shadow(0px 1px 2px rgba(0, 0, 0, 0.3));\n",
              "      fill: #FFFFFF;\n",
              "    }\n",
              "  </style>\n",
              "\n",
              "    <script>\n",
              "      const buttonEl =\n",
              "        document.querySelector('#df-5f27d355-79b8-4e9f-9f94-d3a99bc083d3 button.colab-df-convert');\n",
              "      buttonEl.style.display =\n",
              "        google.colab.kernel.accessAllowed ? 'block' : 'none';\n",
              "\n",
              "      async function convertToInteractive(key) {\n",
              "        const element = document.querySelector('#df-5f27d355-79b8-4e9f-9f94-d3a99bc083d3');\n",
              "        const dataTable =\n",
              "          await google.colab.kernel.invokeFunction('convertToInteractive',\n",
              "                                                    [key], {});\n",
              "        if (!dataTable) return;\n",
              "\n",
              "        const docLinkHtml = 'Like what you see? Visit the ' +\n",
              "          '<a target=\"_blank\" href=https://colab.research.google.com/notebooks/data_table.ipynb>data table notebook</a>'\n",
              "          + ' to learn more about interactive tables.';\n",
              "        element.innerHTML = '';\n",
              "        dataTable['output_type'] = 'display_data';\n",
              "        await google.colab.output.renderOutput(dataTable, element);\n",
              "        const docLink = document.createElement('div');\n",
              "        docLink.innerHTML = docLinkHtml;\n",
              "        element.appendChild(docLink);\n",
              "      }\n",
              "    </script>\n",
              "  </div>\n",
              "\n",
              "\n",
              "<div id=\"df-a78bc043-7516-45c8-ab56-8011be0377d7\">\n",
              "  <button class=\"colab-df-quickchart\" onclick=\"quickchart('df-a78bc043-7516-45c8-ab56-8011be0377d7')\"\n",
              "            title=\"Suggest charts\"\n",
              "            style=\"display:none;\">\n",
              "\n",
              "<svg xmlns=\"http://www.w3.org/2000/svg\" height=\"24px\"viewBox=\"0 0 24 24\"\n",
              "     width=\"24px\">\n",
              "    <g>\n",
              "        <path d=\"M19 3H5c-1.1 0-2 .9-2 2v14c0 1.1.9 2 2 2h14c1.1 0 2-.9 2-2V5c0-1.1-.9-2-2-2zM9 17H7v-7h2v7zm4 0h-2V7h2v10zm4 0h-2v-4h2v4z\"/>\n",
              "    </g>\n",
              "</svg>\n",
              "  </button>\n",
              "\n",
              "<style>\n",
              "  .colab-df-quickchart {\n",
              "      --bg-color: #E8F0FE;\n",
              "      --fill-color: #1967D2;\n",
              "      --hover-bg-color: #E2EBFA;\n",
              "      --hover-fill-color: #174EA6;\n",
              "      --disabled-fill-color: #AAA;\n",
              "      --disabled-bg-color: #DDD;\n",
              "  }\n",
              "\n",
              "  [theme=dark] .colab-df-quickchart {\n",
              "      --bg-color: #3B4455;\n",
              "      --fill-color: #D2E3FC;\n",
              "      --hover-bg-color: #434B5C;\n",
              "      --hover-fill-color: #FFFFFF;\n",
              "      --disabled-bg-color: #3B4455;\n",
              "      --disabled-fill-color: #666;\n",
              "  }\n",
              "\n",
              "  .colab-df-quickchart {\n",
              "    background-color: var(--bg-color);\n",
              "    border: none;\n",
              "    border-radius: 50%;\n",
              "    cursor: pointer;\n",
              "    display: none;\n",
              "    fill: var(--fill-color);\n",
              "    height: 32px;\n",
              "    padding: 0;\n",
              "    width: 32px;\n",
              "  }\n",
              "\n",
              "  .colab-df-quickchart:hover {\n",
              "    background-color: var(--hover-bg-color);\n",
              "    box-shadow: 0 1px 2px rgba(60, 64, 67, 0.3), 0 1px 3px 1px rgba(60, 64, 67, 0.15);\n",
              "    fill: var(--button-hover-fill-color);\n",
              "  }\n",
              "\n",
              "  .colab-df-quickchart-complete:disabled,\n",
              "  .colab-df-quickchart-complete:disabled:hover {\n",
              "    background-color: var(--disabled-bg-color);\n",
              "    fill: var(--disabled-fill-color);\n",
              "    box-shadow: none;\n",
              "  }\n",
              "\n",
              "  .colab-df-spinner {\n",
              "    border: 2px solid var(--fill-color);\n",
              "    border-color: transparent;\n",
              "    border-bottom-color: var(--fill-color);\n",
              "    animation:\n",
              "      spin 1s steps(1) infinite;\n",
              "  }\n",
              "\n",
              "  @keyframes spin {\n",
              "    0% {\n",
              "      border-color: transparent;\n",
              "      border-bottom-color: var(--fill-color);\n",
              "      border-left-color: var(--fill-color);\n",
              "    }\n",
              "    20% {\n",
              "      border-color: transparent;\n",
              "      border-left-color: var(--fill-color);\n",
              "      border-top-color: var(--fill-color);\n",
              "    }\n",
              "    30% {\n",
              "      border-color: transparent;\n",
              "      border-left-color: var(--fill-color);\n",
              "      border-top-color: var(--fill-color);\n",
              "      border-right-color: var(--fill-color);\n",
              "    }\n",
              "    40% {\n",
              "      border-color: transparent;\n",
              "      border-right-color: var(--fill-color);\n",
              "      border-top-color: var(--fill-color);\n",
              "    }\n",
              "    60% {\n",
              "      border-color: transparent;\n",
              "      border-right-color: var(--fill-color);\n",
              "    }\n",
              "    80% {\n",
              "      border-color: transparent;\n",
              "      border-right-color: var(--fill-color);\n",
              "      border-bottom-color: var(--fill-color);\n",
              "    }\n",
              "    90% {\n",
              "      border-color: transparent;\n",
              "      border-bottom-color: var(--fill-color);\n",
              "    }\n",
              "  }\n",
              "</style>\n",
              "\n",
              "  <script>\n",
              "    async function quickchart(key) {\n",
              "      const quickchartButtonEl =\n",
              "        document.querySelector('#' + key + ' button');\n",
              "      quickchartButtonEl.disabled = true;  // To prevent multiple clicks.\n",
              "      quickchartButtonEl.classList.add('colab-df-spinner');\n",
              "      try {\n",
              "        const charts = await google.colab.kernel.invokeFunction(\n",
              "            'suggestCharts', [key], {});\n",
              "      } catch (error) {\n",
              "        console.error('Error during call to suggestCharts:', error);\n",
              "      }\n",
              "      quickchartButtonEl.classList.remove('colab-df-spinner');\n",
              "      quickchartButtonEl.classList.add('colab-df-quickchart-complete');\n",
              "    }\n",
              "    (() => {\n",
              "      let quickchartButtonEl =\n",
              "        document.querySelector('#df-a78bc043-7516-45c8-ab56-8011be0377d7 button');\n",
              "      quickchartButtonEl.style.display =\n",
              "        google.colab.kernel.accessAllowed ? 'block' : 'none';\n",
              "    })();\n",
              "  </script>\n",
              "</div>\n",
              "    </div>\n",
              "  </div>\n"
            ]
          },
          "metadata": {},
          "execution_count": 54
        }
      ]
    },
    {
      "cell_type": "markdown",
      "source": [
        "Saving all proteins from `interesting_clusters` as `fasta` to predict their disorder using **fIDPnn**\n"
      ],
      "metadata": {
        "id": "uH6xhrBxkhfQ"
      }
    },
    {
      "cell_type": "code",
      "source": [
        "interesting_clusters = interesting_clusters[interesting_clusters['Length'] >= 20]"
      ],
      "metadata": {
        "id": "yOOOPgevot2i"
      },
      "execution_count": null,
      "outputs": []
    },
    {
      "cell_type": "code",
      "source": [
        "!mkdir /content/clustered_fastas/"
      ],
      "metadata": {
        "id": "8Z597iSVo8TY"
      },
      "execution_count": null,
      "outputs": []
    },
    {
      "cell_type": "code",
      "source": [
        "# define the maximum sequences per file\n",
        "max_sequences_per_file = 500\n",
        "\n",
        "# split the DataFrame into chunks of max_sequences_per_file and save as FASTA files\n",
        "for i, chunk in enumerate(range(0, len(interesting_clusters), max_sequences_per_file)):\n",
        "  chunk_df = interesting_clusters.iloc[chunk:chunk + max_sequences_per_file]\n",
        "  # create a FASTA file for the chunk\n",
        "  fasta_file_path = f'/content/clustered_fastas/clustered_proteins_{i+1}.fasta'\n",
        "  with open(fasta_file_path, 'w') as fasta_file:\n",
        "    for _, row in chunk_df.iterrows():\n",
        "      id = row['ID']\n",
        "      seq = row['Sequence']\n",
        "      fasta_file.write(f'>{id}\\n{seq}\\n')"
      ],
      "metadata": {
        "id": "znSaUA0Sj_In"
      },
      "execution_count": null,
      "outputs": []
    },
    {
      "cell_type": "code",
      "source": [
        "!zip -r /content/clustered_fastas.zip /content/clustered_fastas -i '*.fasta'\n",
        "from google.colab import files\n",
        "files.download('/content/clustered_fastas.zip')"
      ],
      "metadata": {
        "id": "5b4Nh581j_GF",
        "colab": {
          "base_uri": "https://localhost:8080/",
          "height": 416
        },
        "outputId": "ed286b01-b2c3-4a5f-a5e1-525d53c50c54"
      },
      "execution_count": null,
      "outputs": [
        {
          "output_type": "stream",
          "name": "stdout",
          "text": [
            "  adding: content/clustered_fastas/clustered_proteins_11.fasta (deflated 46%)\n",
            "  adding: content/clustered_fastas/clustered_proteins_3.fasta (deflated 47%)\n",
            "  adding: content/clustered_fastas/clustered_proteins_12.fasta (deflated 46%)\n",
            "  adding: content/clustered_fastas/clustered_proteins_18.fasta (deflated 48%)\n",
            "  adding: content/clustered_fastas/clustered_proteins_23.fasta (deflated 52%)\n",
            "  adding: content/clustered_fastas/clustered_proteins_4.fasta (deflated 49%)\n",
            "  adding: content/clustered_fastas/clustered_proteins_6.fasta (deflated 45%)\n",
            "  adding: content/clustered_fastas/clustered_proteins_1.fasta (deflated 59%)\n",
            "  adding: content/clustered_fastas/clustered_proteins_19.fasta (deflated 46%)\n",
            "  adding: content/clustered_fastas/clustered_proteins_2.fasta (deflated 44%)\n",
            "  adding: content/clustered_fastas/clustered_proteins_9.fasta (deflated 47%)\n",
            "  adding: content/clustered_fastas/clustered_proteins_7.fasta (deflated 48%)\n",
            "  adding: content/clustered_fastas/clustered_proteins_21.fasta (deflated 47%)\n",
            "  adding: content/clustered_fastas/clustered_proteins_8.fasta (deflated 48%)\n",
            "  adding: content/clustered_fastas/clustered_proteins_14.fasta (deflated 46%)\n",
            "  adding: content/clustered_fastas/clustered_proteins_17.fasta (deflated 46%)\n",
            "  adding: content/clustered_fastas/clustered_proteins_5.fasta (deflated 48%)\n",
            "  adding: content/clustered_fastas/clustered_proteins_10.fasta (deflated 47%)\n",
            "  adding: content/clustered_fastas/clustered_proteins_16.fasta (deflated 48%)\n",
            "  adding: content/clustered_fastas/clustered_proteins_20.fasta (deflated 44%)\n",
            "  adding: content/clustered_fastas/clustered_proteins_22.fasta (deflated 46%)\n",
            "  adding: content/clustered_fastas/clustered_proteins_15.fasta (deflated 47%)\n",
            "  adding: content/clustered_fastas/clustered_proteins_13.fasta (deflated 46%)\n"
          ]
        },
        {
          "output_type": "display_data",
          "data": {
            "text/plain": [
              "<IPython.core.display.Javascript object>"
            ],
            "application/javascript": [
              "\n",
              "    async function download(id, filename, size) {\n",
              "      if (!google.colab.kernel.accessAllowed) {\n",
              "        return;\n",
              "      }\n",
              "      const div = document.createElement('div');\n",
              "      const label = document.createElement('label');\n",
              "      label.textContent = `Downloading \"${filename}\": `;\n",
              "      div.appendChild(label);\n",
              "      const progress = document.createElement('progress');\n",
              "      progress.max = size;\n",
              "      div.appendChild(progress);\n",
              "      document.body.appendChild(div);\n",
              "\n",
              "      const buffers = [];\n",
              "      let downloaded = 0;\n",
              "\n",
              "      const channel = await google.colab.kernel.comms.open(id);\n",
              "      // Send a message to notify the kernel that we're ready.\n",
              "      channel.send({})\n",
              "\n",
              "      for await (const message of channel.messages) {\n",
              "        // Send a message to notify the kernel that we're ready.\n",
              "        channel.send({})\n",
              "        if (message.buffers) {\n",
              "          for (const buffer of message.buffers) {\n",
              "            buffers.push(buffer);\n",
              "            downloaded += buffer.byteLength;\n",
              "            progress.value = downloaded;\n",
              "          }\n",
              "        }\n",
              "      }\n",
              "      const blob = new Blob(buffers, {type: 'application/binary'});\n",
              "      const a = document.createElement('a');\n",
              "      a.href = window.URL.createObjectURL(blob);\n",
              "      a.download = filename;\n",
              "      div.appendChild(a);\n",
              "      a.click();\n",
              "      div.remove();\n",
              "    }\n",
              "  "
            ]
          },
          "metadata": {}
        },
        {
          "output_type": "display_data",
          "data": {
            "text/plain": [
              "<IPython.core.display.Javascript object>"
            ],
            "application/javascript": [
              "download(\"download_d439f850-dde7-4c9c-bf42-90d0d21e18fd\", \"clustered_fastas.zip\", 2258835)"
            ]
          },
          "metadata": {}
        }
      ]
    },
    {
      "cell_type": "code",
      "source": [],
      "metadata": {
        "id": "QpxoHnt0j3Ps"
      },
      "execution_count": null,
      "outputs": []
    },
    {
      "cell_type": "markdown",
      "source": [
        "## Cluster analysis"
      ],
      "metadata": {
        "id": "p5uUl8AKMwA1"
      }
    },
    {
      "cell_type": "code",
      "source": [
        "fIDPnn_dfs = {}\n",
        "df_lines = []\n",
        "\n",
        "with open('/content/fIDPnn_ALL.csv', 'rb') as f:\n",
        "  for i, line in enumerate(tqdm(f.readlines())):\n",
        "    line_decoded = line.decode('utf-8')\n",
        "    if line_decoded[0] == '>':\n",
        "      if df_lines != []:\n",
        "        current_df = pd.DataFrame(np.array(df_lines)[1:, :], columns=np.array(df_lines)[0])\n",
        "        fIDPnn_dfs[protein_id] = current_df.apply(pd.to_numeric, errors='ignore')\n",
        "      protein_id = line_decoded[1:-1]\n",
        "      df_lines = []\n",
        "    else:\n",
        "      df_lines.append(line_decoded.strip().split(','))"
      ],
      "metadata": {
        "id": "0AgxeS3SkAkR",
        "colab": {
          "base_uri": "https://localhost:8080/"
        },
        "outputId": "411c95f4-8a37-40b0-c74b-66095aa4c525"
      },
      "execution_count": 10,
      "outputs": [
        {
          "output_type": "stream",
          "name": "stderr",
          "text": [
            "100%|██████████| 4142502/4142502 [01:21<00:00, 50783.63it/s]\n"
          ]
        }
      ]
    },
    {
      "cell_type": "code",
      "source": [
        "RAPID_calcs = {}\n",
        "fIDPnn_calcs = {}\n",
        "\n",
        "for protein_id in tqdm(fIDPnn_dfs.keys()):\n",
        "  try:\n",
        "    RAPID_calcs[protein_id] = all_proteins_rapid[all_proteins_rapid['ID']==protein_id]['RAPID_disorder'].iloc[0]\n",
        "    fIDPnn_calcs[protein_id] = fIDPnn_dfs[protein_id]['Predicted Score for Disorder'].mean()\n",
        "  except:\n",
        "    print(protein_id)\n",
        "    continue"
      ],
      "metadata": {
        "colab": {
          "base_uri": "https://localhost:8080/"
        },
        "id": "HYBmtIrsr39p",
        "outputId": "57dba86e-84b2-4ca5-ab81-b4e23ac9a322"
      },
      "execution_count": 11,
      "outputs": [
        {
          "output_type": "stream",
          "name": "stderr",
          "text": [
            "  0%|          | 28/11311 [00:03<29:00,  6.48it/s]"
          ]
        },
        {
          "output_type": "stream",
          "name": "stdout",
          "text": [
            "A0A0M9ACC1[WARNING]\n"
          ]
        },
        {
          "output_type": "stream",
          "name": "stderr",
          "text": [
            "100%|██████████| 11311/11311 [20:48<00:00,  9.06it/s]\n"
          ]
        }
      ]
    },
    {
      "cell_type": "code",
      "source": [
        "sns.scatterplot(x=RAPID_calcs.values(), y=fIDPnn_calcs.values(), alpha=0.05)"
      ],
      "metadata": {
        "colab": {
          "base_uri": "https://localhost:8080/",
          "height": 447
        },
        "id": "TeE-MbGpoYm9",
        "outputId": "65c3a0da-4788-4301-9989-658574d4080b"
      },
      "execution_count": 17,
      "outputs": [
        {
          "output_type": "execute_result",
          "data": {
            "text/plain": [
              "<Axes: >"
            ]
          },
          "metadata": {},
          "execution_count": 17
        },
        {
          "output_type": "display_data",
          "data": {
            "text/plain": [
              "<Figure size 640x480 with 1 Axes>"
            ],
            "image/png": "[encoded data removed]"
          },
          "metadata": {}
        }
      ]
    },
    {
      "cell_type": "code",
      "source": [
        "X = np.array(list(RAPID_calcs.values()))\n",
        "y = np.array(list(fIDPnn_calcs.values()))\n",
        "\n",
        "model_comparison_ols = OLS(y, X).fit()"
      ],
      "metadata": {
        "id": "tLfDIroZoYhv"
      },
      "execution_count": 29,
      "outputs": []
    },
    {
      "cell_type": "code",
      "source": [
        "print(model_comparison_ols.summary())"
      ],
      "metadata": {
        "id": "vq8Qqq_PkAco",
        "colab": {
          "base_uri": "https://localhost:8080/"
        },
        "outputId": "3a8580a8-f067-49d4-f150-cd3659c108ca"
      },
      "execution_count": 32,
      "outputs": [
        {
          "output_type": "stream",
          "name": "stdout",
          "text": [
            "                                 OLS Regression Results                                \n",
            "=======================================================================================\n",
            "Dep. Variable:                      y   R-squared (uncentered):                   0.854\n",
            "Model:                            OLS   Adj. R-squared (uncentered):              0.854\n",
            "Method:                 Least Squares   F-statistic:                          6.636e+04\n",
            "Date:                Tue, 28 Nov 2023   Prob (F-statistic):                        0.00\n",
            "Time:                        21:49:28   Log-Likelihood:                          11295.\n",
            "No. Observations:               11310   AIC:                                 -2.259e+04\n",
            "Df Residuals:                   11309   BIC:                                 -2.258e+04\n",
            "Df Model:                           1                                                  \n",
            "Covariance Type:            nonrobust                                                  \n",
            "==============================================================================\n",
            "                 coef    std err          t      P>|t|      [0.025      0.975]\n",
            "------------------------------------------------------------------------------\n",
            "x1             0.7780      0.003    257.610      0.000       0.772       0.784\n",
            "==============================================================================\n",
            "Omnibus:                     1632.566   Durbin-Watson:                   1.839\n",
            "Prob(Omnibus):                  0.000   Jarque-Bera (JB):             9911.623\n",
            "Skew:                           0.547   Prob(JB):                         0.00\n",
            "Kurtosis:                       7.454   Cond. No.                         1.00\n",
            "==============================================================================\n",
            "\n",
            "Notes:\n",
            "[1] R² is computed without centering (uncentered) since the model does not contain a constant.\n",
            "[2] Standard Errors assume that the covariance matrix of the errors is correctly specified.\n"
          ]
        }
      ]
    },
    {
      "cell_type": "markdown",
      "source": [
        "RAPID seems to be an adequate model when compared with fIDPnn, even though it generally does **underpredict** disorder based on coefficient"
      ],
      "metadata": {
        "id": "IS_IMfS96dFt"
      }
    },
    {
      "cell_type": "code",
      "source": [
        "def plot_cluster(cluster_df):\n",
        "\n",
        "  fIDP_disorder_dict = {}\n",
        "\n",
        "  for id in cluster_df['ID']:\n",
        "    try:\n",
        "      df = fIDPnn_dfs[id]\n",
        "      df['Predicted Score for Disorder'].plot()\n",
        "    except:\n",
        "      continue"
      ],
      "metadata": {
        "id": "m3BQlkWj9HFf"
      },
      "execution_count": 63,
      "outputs": []
    },
    {
      "cell_type": "code",
      "source": [
        "interesting_clusters['cluster'].unique()[:10]"
      ],
      "metadata": {
        "id": "bSsPH_M37-3D",
        "outputId": "fd03c916-f3cf-4b1f-faa1-4a9385227780",
        "colab": {
          "base_uri": "https://localhost:8080/"
        }
      },
      "execution_count": 71,
      "outputs": [
        {
          "output_type": "execute_result",
          "data": {
            "text/plain": [
              "array([239905, 739489, 864394, 896643, 865740, 845716, 730795, 891615,\n",
              "       713553, 773025])"
            ]
          },
          "metadata": {},
          "execution_count": 71
        }
      ]
    },
    {
      "cell_type": "code",
      "source": [
        "plot_cluster(interesting_clusters[interesting_clusters['cluster']==864394])"
      ],
      "metadata": {
        "id": "Z5012DsR99dg",
        "outputId": "bd9ef7ae-d0af-46c6-98c5-d29d852bde8f",
        "colab": {
          "base_uri": "https://localhost:8080/",
          "height": 430
        }
      },
      "execution_count": 74,
      "outputs": [
        {
          "output_type": "display_data",
          "data": {
            "text/plain": [
              "<Figure size 640x480 with 1 Axes>"
            ],
            "image/png": "[encoded data removed]"
          },
          "metadata": {}
        }
      ]
    },
    {
      "cell_type": "code",
      "source": [],
      "metadata": {
        "id": "8V3h__tn8GO8"
      },
      "execution_count": null,
      "outputs": []
    },
    {
      "cell_type": "code",
      "source": [],
      "metadata": {
        "id": "jaByMnQn8GM0"
      },
      "execution_count": null,
      "outputs": []
    },
    {
      "cell_type": "code",
      "source": [],
      "metadata": {
        "id": "ghW7L-1f8GKW"
      },
      "execution_count": null,
      "outputs": []
    },
    {
      "cell_type": "code",
      "source": [],
      "metadata": {
        "id": "VxbZIs6bJmoM"
      },
      "execution_count": null,
      "outputs": []
    },
    {
      "cell_type": "markdown",
      "source": [
        "## Contrast study"
      ],
      "metadata": {
        "id": "fNrpgxW7DYwQ"
      }
    },
    {
      "cell_type": "code",
      "source": [
        "from Bio import Entrez, SeqIO\n",
        "from Bio.Align import MultipleSeqAlignment\n",
        "from Bio import Phylo\n",
        "from Bio.Phylo.TreeConstruction import DistanceCalculator, DistanceTreeConstructor\n",
        "\n",
        "import toytree\n",
        "import toyplot.svg\n",
        "import toyplot"
      ],
      "metadata": {
        "id": "PAyZn51I-9N0"
      },
      "execution_count": null,
      "outputs": []
    },
    {
      "cell_type": "markdown",
      "source": [
        "Download nt sequences for 16s genes of all species and save as `fasta` files"
      ],
      "metadata": {
        "id": "hGtSCAMO_Gll"
      }
    },
    {
      "cell_type": "code",
      "source": [
        "# # Set your email address\n",
        "# Entrez.email = 'akrug104@uottawa.ca'\n",
        "\n",
        "# # Get the list of accession numbers and species names\n",
        "# accession_list = tempura['16S_accssion'].tolist()\n",
        "# species_list = tempura['genus_and_species'].tolist()\n",
        "\n",
        "# # Add outgroup\n",
        "# accession_list.append('NG_046384.1')\n",
        "# species_list.append('Pyrobaculum ferrireducens')\n",
        "\n",
        "# # Fetch the sequences from NCBI\n",
        "# handle = Entrez.efetch(db='nucleotide', id=accession_list, rettype='fasta', retmode='text')\n",
        "# records = list(SeqIO.parse(handle, 'fasta'))\n",
        "\n",
        "# # Filter the records to only allow sequences up to 5000 nt long\n",
        "# records = [r for r in  records if len(r.seq) <= 5000]\n",
        "\n",
        "# # Save the sequences to a single fasta file\n",
        "# with open('16S_all.fasta', 'w') as output_handle:\n",
        "#     SeqIO.write(records, output_handle, 'fasta')"
      ],
      "metadata": {
        "id": "RpVW9erFDkc7"
      },
      "execution_count": null,
      "outputs": []
    },
    {
      "cell_type": "markdown",
      "source": [
        "A sequence from an archaea was added as outgroup (NG_046384.1 of *Pyrobaculum ferrireducens*)\n",
        "\n",
        "Alignment of sequences was done externally using MAFFT with default parameters except for specification for nucleotide sequences"
      ],
      "metadata": {
        "id": "TeRb5cOA_X9C"
      }
    },
    {
      "cell_type": "code",
      "source": [
        "# # Read the fasta file\n",
        "# records = SeqIO.parse('/content/16S_aligned.fasta', 'fasta')\n",
        "\n",
        "# # Create a multiple sequence alignment object\n",
        "# alignment = MultipleSeqAlignment(records)\n",
        "\n",
        "# # Calculate the p-distance matrix\n",
        "# calculator = DistanceCalculator('identity')\n",
        "# distance_matrix = calculator.get_distance(alignment)\n",
        "\n",
        "# with open('distance_matrix.txt', 'w') as f:\n",
        "#   distance_matrix.format_phylip(f)"
      ],
      "metadata": {
        "id": "U9NiAAcgpE85"
      },
      "execution_count": null,
      "outputs": []
    },
    {
      "cell_type": "markdown",
      "source": [
        "Tree has been constructed using UPGMA and saved in `Newick` format"
      ],
      "metadata": {
        "id": "k4kKzxoyAZpD"
      }
    },
    {
      "cell_type": "code",
      "source": [
        "# # Construct the tree\n",
        "# constructor = DistanceTreeConstructor()\n",
        "# tree = constructor.upgma(distance_matrix)\n",
        "# # Reroot the tree\n",
        "# tree.root_with_outgroup({'name':'NG_046384.1'})\n",
        "# # Save the tree in Newick format\n",
        "# Phylo.write(tree, 'tree.nwk', format='newick')"
      ],
      "metadata": {
        "id": "O-pR9yDXpE5g",
        "colab": {
          "base_uri": "https://localhost:8080/"
        },
        "outputId": "ff569771-0a67-4049-c27c-5fb580101ccf"
      },
      "execution_count": null,
      "outputs": [
        {
          "output_type": "execute_result",
          "data": {
            "text/plain": [
              "1"
            ]
          },
          "metadata": {},
          "execution_count": 329
        }
      ]
    },
    {
      "cell_type": "markdown",
      "source": [
        "Reading the tree if it has been created before"
      ],
      "metadata": {
        "id": "uUIfTI1XCRYk"
      }
    },
    {
      "cell_type": "code",
      "source": [
        "# Load the tree from a file\n",
        "tree = Phylo.read('tree.nwk', 'newick')"
      ],
      "metadata": {
        "id": "-dnNyCiIdc74"
      },
      "execution_count": null,
      "outputs": []
    },
    {
      "cell_type": "code",
      "source": [
        "tree.root_with_outgroup({'name':'NG_046384.1'})"
      ],
      "metadata": {
        "id": "7L4piCqhCh8T"
      },
      "execution_count": null,
      "outputs": []
    },
    {
      "cell_type": "code",
      "source": [
        "for t in tqdm(tree.get_terminals()):\n",
        "  accession = t.name.split('.')[0]\n",
        "  tempura_data = tempura[tempura['16S_accssion']==accession]\n",
        "  t.OGT_contrast = 0\n",
        "  t.FOD_contrast = 0\n",
        "  t.is_leaf = True\n",
        "  try:\n",
        "    t.species = tempura_data['genus_and_species'].iloc[0]\n",
        "    disorder_data = all_proteins_rapid[all_proteins_rapid['Species']==t.species]\n",
        "    t.OGT = tempura_data['Topt_ave'].iloc[0]\n",
        "    t.FOD = disorder_data['RAPID_disorder'].mean()\n",
        "    if t.FOD == np.nan:\n",
        "      print(t)\n",
        "  except:\n",
        "    t.species = 'OUTGROUP (Pyrobaculum ferrireducens)'\n",
        "    t.OGT = 100\n",
        "    t.FOD = 0.1184798938"
      ],
      "metadata": {
        "colab": {
          "base_uri": "https://localhost:8080/"
        },
        "id": "fNIlzrHsDV0d",
        "outputId": "42ac50a4-cfc4-4f66-cf9b-a52c19fb9bec"
      },
      "execution_count": null,
      "outputs": [
        {
          "output_type": "stream",
          "name": "stderr",
          "text": [
            "100%|██████████| 311/311 [00:33<00:00,  9.16it/s]\n"
          ]
        }
      ]
    },
    {
      "cell_type": "code",
      "source": [
        "for n in tqdm(tree.get_nonterminals()):\n",
        "  n.species = n.name\n",
        "  n.OGT = tempura['Topt_ave'].mean()\n",
        "  n.FOD = all_proteins_rapid['RAPID_disorder'].mean()\n",
        "  n.OGT_contrast = 0\n",
        "  n.FOD_contrast = 0\n",
        "  n.is_leaf = False"
      ],
      "metadata": {
        "colab": {
          "base_uri": "https://localhost:8080/"
        },
        "id": "nza2lxEiT-1n",
        "outputId": "f1bba01c-f9ba-483a-920a-a982efbd10e2"
      },
      "execution_count": null,
      "outputs": [
        {
          "output_type": "stream",
          "name": "stderr",
          "text": [
            "100%|██████████| 310/310 [00:00<00:00, 379.89it/s]\n"
          ]
        }
      ]
    },
    {
      "cell_type": "markdown",
      "source": [
        "We will use LS minimization for quazi-independent contrasts to estimate OGT and MDS of internal nodes"
      ],
      "metadata": {
        "id": "NWrSxZgmdtTw"
      }
    },
    {
      "cell_type": "code",
      "source": [
        "def RSS_single(node, attribute, m=1):\n",
        "  rss = 0.0\n",
        "  distances = [c.branch_length for c in node.clades]\n",
        "  for child, distance in zip(node.clades, distances):\n",
        "    value_p = getattr(node, attribute)\n",
        "    value_c = getattr(child, attribute)\n",
        "    rss += ((value_p - value_c)**2) / distance**m\n",
        "  return rss\n",
        "\n",
        "def RSS_sum(nodes, attribute, m=1):\n",
        "  return sum(RSS_single(node, attribute, m) for node in nodes)\n",
        "\n",
        "def node_optimization(x0, nodes, attribute, m=1):\n",
        "  # Assign values from the optimization parameters to internal nodes\n",
        "  for i, node in enumerate(nodes):\n",
        "    if not node.is_leaf:\n",
        "      setattr(node, attribute, x0[i])\n",
        "\n",
        "  # Calculate the total RSS for the tree\n",
        "  total_rss = RSS_sum(nodes, attribute, m=m)\n",
        "\n",
        "  return total_rss"
      ],
      "metadata": {
        "id": "QAqcroqKImVJ"
      },
      "execution_count": null,
      "outputs": []
    },
    {
      "cell_type": "code",
      "source": [
        "nodes = [node for node in tree.get_nonterminals() + tree.get_terminals()][1:]\n",
        "\n",
        "initial_guesses_OGT = [node.OGT for node in nodes]\n",
        "initial_guesses_FOD = [node.FOD for node in nodes]"
      ],
      "metadata": {
        "id": "Qz-HL6yaTw0S"
      },
      "execution_count": null,
      "outputs": []
    },
    {
      "cell_type": "code",
      "source": [
        "import scipy"
      ],
      "metadata": {
        "id": "Gbz5iBnoWT1B"
      },
      "execution_count": null,
      "outputs": []
    },
    {
      "cell_type": "code",
      "source": [
        "node_optimization(initial_guesses_OGT, nodes, 'OGT', m=1)\n",
        "OGT_result = scipy.optimize.minimize(node_optimization, initial_guesses_OGT, args=(nodes, 'OGT', 1))\n",
        "print(f'RSS = {OGT_result.fun} with OGT:\\n{OGT_result.x}')"
      ],
      "metadata": {
        "id": "Saou9zyXdrS_"
      },
      "execution_count": null,
      "outputs": []
    },
    {
      "cell_type": "code",
      "source": [
        "node_optimization(initial_guesses_FOD, nodes, 'FOD', m=1)\n",
        "FOD_result = scipy.optimize.minimize(node_optimization, initial_guesses_FOD, args=(nodes, 'FOD', 1))\n",
        "print(f'RSS = {FOD_result.fun} with FOD:\\n{FOD_result.x}')"
      ],
      "metadata": {
        "id": "3R6eo-OcdrQa"
      },
      "execution_count": null,
      "outputs": []
    },
    {
      "cell_type": "code",
      "source": [
        "def calc_contrast(child_values:list):\n",
        "  total_difference = sum(child_values[j] - child_values[i] for i in range(len(child_values)) \\\n",
        "                         for j in range(i+1, len(child_values)))\n",
        "  contrast = total_difference/(len(child_values)*(len(child_values) - 1)/2)\n",
        "  return contrast"
      ],
      "metadata": {
        "id": "D71fybIrTwjs"
      },
      "execution_count": null,
      "outputs": []
    },
    {
      "cell_type": "code",
      "source": [
        "# contrast calculation\n",
        "for node in nodes:\n",
        "  if not node.is_leaf:\n",
        "    node.OGT_contrast = calc_contrast([child.OGT for child in node.clades])\n",
        "    node.FOD_contrast = calc_contrast([child.FOD for child in node.clades])"
      ],
      "metadata": {
        "id": "UF1xvJKbd2Ji"
      },
      "execution_count": null,
      "outputs": []
    },
    {
      "cell_type": "code",
      "source": [
        "OGTvsFOD = pd.DataFrame({'FOD':[node.FOD for node in nodes if not node.is_leaf],\n",
        "                         'OGT':[node.OGT for node in nodes if not node.is_leaf],\n",
        "                         'FOD_contrast':[node.FOD_contrast for node in nodes if not node.is_leaf],\n",
        "                         'OGT_contrast':[node.OGT_contrast for node in nodes if not node.is_leaf]},\n",
        "                        index=[node.name for node in nodes if not node.is_leaf])"
      ],
      "metadata": {
        "id": "Juhg5cyGd2G3"
      },
      "execution_count": null,
      "outputs": []
    },
    {
      "cell_type": "code",
      "source": [
        "sns.histplot(data=OGTvsFOD, x='OGT_contrast', y='FOD_contrast')"
      ],
      "metadata": {
        "colab": {
          "base_uri": "https://localhost:8080/",
          "height": 466
        },
        "id": "WFY7YzwBccgB",
        "outputId": "651eb5e3-da22-4d05-a1b1-38202b9d6b72"
      },
      "execution_count": null,
      "outputs": [
        {
          "output_type": "execute_result",
          "data": {
            "text/plain": [
              "<Axes: xlabel='OGT_contrast', ylabel='FOD_contrast'>"
            ]
          },
          "metadata": {},
          "execution_count": 354
        },
        {
          "output_type": "display_data",
          "data": {
            "text/plain": [
              "<Figure size 640x480 with 1 Axes>"
            ],
            "image/png": "[encoded data removed]"
          },
          "metadata": {}
        }
      ]
    },
    {
      "cell_type": "code",
      "source": [
        "sns.kdeplot(data=OGTvsFOD, x='OGT_contrast', y='FOD_contrast', fill=True)"
      ],
      "metadata": {
        "colab": {
          "base_uri": "https://localhost:8080/",
          "height": 466
        },
        "id": "F2TbQQD_ImR7",
        "outputId": "d8ab47f3-6b17-4ad5-bfe3-354f8fb8b047"
      },
      "execution_count": null,
      "outputs": [
        {
          "output_type": "execute_result",
          "data": {
            "text/plain": [
              "<Axes: xlabel='OGT_contrast', ylabel='FOD_contrast'>"
            ]
          },
          "metadata": {},
          "execution_count": 367
        },
        {
          "output_type": "display_data",
          "data": {
            "text/plain": [
              "<Figure size 640x480 with 1 Axes>"
            ],
            "image/png": "[encoded data removed]"
          },
          "metadata": {}
        }
      ]
    },
    {
      "cell_type": "code",
      "source": [
        "sns.scatterplot(data=OGTvsFOD, x='OGT_contrast', y='FOD_contrast', alpha=0.25)"
      ],
      "metadata": {
        "colab": {
          "base_uri": "https://localhost:8080/",
          "height": 466
        },
        "id": "AF__DbTH23hz",
        "outputId": "235af16a-8f25-44eb-af8c-3468240786a1"
      },
      "execution_count": null,
      "outputs": [
        {
          "output_type": "execute_result",
          "data": {
            "text/plain": [
              "<Axes: xlabel='OGT_contrast', ylabel='FOD_contrast'>"
            ]
          },
          "metadata": {},
          "execution_count": 370
        },
        {
          "output_type": "display_data",
          "data": {
            "text/plain": [
              "<Figure size 640x480 with 1 Axes>"
            ],
            "image/png": "[encoded data removed]"
          },
          "metadata": {}
        }
      ]
    },
    {
      "cell_type": "code",
      "source": [
        "OGTvsFOD_stats = scipy.stats.linregress(OGTvsFOD['OGT_contrast'], OGTvsFOD['FOD_contrast'])\n",
        "OGTvsFOD_stats, OGTvsFOD_stats.rvalue**2"
      ],
      "metadata": {
        "id": "IHR-Ic6Ldc4o",
        "colab": {
          "base_uri": "https://localhost:8080/"
        },
        "outputId": "2de9907a-3cbe-420b-ce83-2857da25f461"
      },
      "execution_count": null,
      "outputs": [
        {
          "output_type": "execute_result",
          "data": {
            "text/plain": [
              "(LinregressResult(slope=-1.0671287189634963e-05, intercept=0.0016655250847412001, rvalue=-0.004512412360666884, pvalue=0.937032705730869, stderr=0.00013496912067150727, intercept_stderr=0.0009373177254303604),\n",
              " 2.036186531269928e-05)"
            ]
          },
          "metadata": {},
          "execution_count": 428
        }
      ]
    },
    {
      "cell_type": "markdown",
      "source": [
        "Seems like when phylogeny is controlled for, there is no relationship between OGT and FOD"
      ],
      "metadata": {
        "id": "T7pQPl835JXt"
      }
    },
    {
      "cell_type": "code",
      "source": [
        "df = pd.DataFrame({'X':OGTvsFOD['OGT_contrast'],\n",
        "                  'Y':OGTvsFOD['FOD_contrast']})\n",
        "\n",
        "num_iterations = 10000\n",
        "observed_corr, _ = scipy.stats.spearmanr(df['X'], df['Y'])\n",
        "\n",
        "# Initialize an array to store resampled correlations\n",
        "resampled_correlations = []\n",
        "\n",
        "# Perform permutation testing (resampling)\n",
        "for i in range(num_iterations):\n",
        "    permuted_Y = np.random.permutation(df['Y'])  # Permute the Y values\n",
        "    resampled_corr, _ = scipy.stats.spearmanr(df['X'], permuted_Y)\n",
        "    resampled_correlations.append(resampled_corr)\n",
        "\n",
        "# Calculate the p-value based on the resampled correlations\n",
        "p_value = (np.abs(resampled_correlations) >= np.abs(observed_corr)).mean()\n",
        "print(\"p-value:\", p_value)"
      ],
      "metadata": {
        "id": "fq7Kj90T3N9G"
      },
      "execution_count": null,
      "outputs": []
    },
    {
      "cell_type": "code",
      "source": [
        "from statsmodels.api import OLS"
      ],
      "metadata": {
        "id": "MW9tYIvG-s8x"
      },
      "execution_count": 19,
      "outputs": []
    },
    {
      "cell_type": "code",
      "source": [
        "X = OGTvsFOD['OGT_contrast']\n",
        "y = OGTvsFOD['FOD_contrast']\n",
        "\n",
        "linear_model = OLS(y, X).fit()"
      ],
      "metadata": {
        "id": "1qSRuO9H-xBj"
      },
      "execution_count": null,
      "outputs": []
    },
    {
      "cell_type": "code",
      "source": [
        "print(linear_model.summary())"
      ],
      "metadata": {
        "colab": {
          "base_uri": "https://localhost:8080/"
        },
        "id": "cPaeM-Mv_XrB",
        "outputId": "32ca20c1-61fb-4630-ca11-aa53a14570e4"
      },
      "execution_count": null,
      "outputs": [
        {
          "output_type": "stream",
          "name": "stdout",
          "text": [
            "                                 OLS Regression Results                                \n",
            "=======================================================================================\n",
            "Dep. Variable:           FOD_contrast   R-squared (uncentered):                   0.002\n",
            "Model:                            OLS   Adj. R-squared (uncentered):             -0.002\n",
            "Method:                 Least Squares   F-statistic:                             0.4751\n",
            "Date:                Mon, 27 Nov 2023   Prob (F-statistic):                       0.491\n",
            "Time:                        18:14:40   Log-Likelihood:                          856.76\n",
            "No. Observations:                 309   AIC:                                     -1712.\n",
            "Df Residuals:                     308   BIC:                                     -1708.\n",
            "Df Model:                           1                                                  \n",
            "Covariance Type:            nonrobust                                                  \n",
            "================================================================================\n",
            "                   coef    std err          t      P>|t|      [0.025      0.975]\n",
            "--------------------------------------------------------------------------------\n",
            "OGT_contrast  8.552e-05      0.000      0.689      0.491      -0.000       0.000\n",
            "==============================================================================\n",
            "Omnibus:                       31.113   Durbin-Watson:                   2.091\n",
            "Prob(Omnibus):                  0.000   Jarque-Bera (JB):              109.732\n",
            "Skew:                           0.328   Prob(JB):                     1.49e-24\n",
            "Kurtosis:                       5.845   Cond. No.                         1.00\n",
            "==============================================================================\n",
            "\n",
            "Notes:\n",
            "[1] R² is computed without centering (uncentered) since the model does not contain a constant.\n",
            "[2] Standard Errors assume that the covariance matrix of the errors is correctly specified.\n"
          ]
        }
      ]
    },
    {
      "cell_type": "code",
      "source": [
        "predictions = linear_model.predict([-30, 50])\n",
        "sns.scatterplot(data=OGTvsFOD, x='OGT_contrast', y='FOD_contrast', alpha=0.25)\n",
        "sns.lineplot(x=[-30, 50], y=predictions)"
      ],
      "metadata": {
        "colab": {
          "base_uri": "https://localhost:8080/",
          "height": 466
        },
        "id": "23tpfQAa7E_N",
        "outputId": "46270ed7-0aaf-4899-f449-043d8a7ac07e"
      },
      "execution_count": null,
      "outputs": [
        {
          "output_type": "execute_result",
          "data": {
            "text/plain": [
              "<Axes: xlabel='OGT_contrast', ylabel='FOD_contrast'>"
            ]
          },
          "metadata": {},
          "execution_count": 442
        },
        {
          "output_type": "display_data",
          "data": {
            "text/plain": [
              "<Figure size 640x480 with 1 Axes>"
            ],
            "image/png": "[encoded data removed]"
          },
          "metadata": {}
        }
      ]
    },
    {
      "cell_type": "code",
      "source": [
        "polynomial_model = OLS(y, X**2).fit()\n",
        "print(polynomial_model.summary())"
      ],
      "metadata": {
        "colab": {
          "base_uri": "https://localhost:8080/"
        },
        "id": "gHPNsy4a-w--",
        "outputId": "e9538874-c365-4ce2-a85b-d5ded65d34bc"
      },
      "execution_count": null,
      "outputs": [
        {
          "output_type": "stream",
          "name": "stdout",
          "text": [
            "                                 OLS Regression Results                                \n",
            "=======================================================================================\n",
            "Dep. Variable:           FOD_contrast   R-squared (uncentered):                   0.007\n",
            "Model:                            OLS   Adj. R-squared (uncentered):              0.004\n",
            "Method:                 Least Squares   F-statistic:                              2.139\n",
            "Date:                Mon, 27 Nov 2023   Prob (F-statistic):                       0.145\n",
            "Time:                        18:14:02   Log-Likelihood:                          857.60\n",
            "No. Observations:                 309   AIC:                                     -1713.\n",
            "Df Residuals:                     308   BIC:                                     -1709.\n",
            "Df Model:                           1                                                  \n",
            "Covariance Type:            nonrobust                                                  \n",
            "================================================================================\n",
            "                   coef    std err          t      P>|t|      [0.025      0.975]\n",
            "--------------------------------------------------------------------------------\n",
            "OGT_contrast  7.284e-06   4.98e-06      1.462      0.145   -2.52e-06    1.71e-05\n",
            "==============================================================================\n",
            "Omnibus:                       30.517   Durbin-Watson:                   2.079\n",
            "Prob(Omnibus):                  0.000   Jarque-Bera (JB):              109.697\n",
            "Skew:                           0.307   Prob(JB):                     1.51e-24\n",
            "Kurtosis:                       5.854   Cond. No.                         1.00\n",
            "==============================================================================\n",
            "\n",
            "Notes:\n",
            "[1] R² is computed without centering (uncentered) since the model does not contain a constant.\n",
            "[2] Standard Errors assume that the covariance matrix of the errors is correctly specified.\n"
          ]
        }
      ]
    },
    {
      "cell_type": "code",
      "source": [
        "predictions = polynomial_model.predict([-30, 50])\n",
        "sns.scatterplot(data=OGTvsFOD, x='OGT_contrast', y='FOD_contrast', alpha=0.25)\n",
        "sns.lineplot(x=[-30, 50], y=predictions)"
      ],
      "metadata": {
        "colab": {
          "base_uri": "https://localhost:8080/",
          "height": 466
        },
        "id": "0L8wm968_-hK",
        "outputId": "4b9df842-ef41-4637-9105-6bf4526847a8"
      },
      "execution_count": null,
      "outputs": [
        {
          "output_type": "execute_result",
          "data": {
            "text/plain": [
              "<Axes: xlabel='OGT_contrast', ylabel='FOD_contrast'>"
            ]
          },
          "metadata": {},
          "execution_count": 443
        },
        {
          "output_type": "display_data",
          "data": {
            "text/plain": [
              "<Figure size 640x480 with 1 Axes>"
            ],
            "image/png": "[encoded data removed]"
          },
          "metadata": {}
        }
      ]
    },
    {
      "cell_type": "code",
      "source": [
        "sns.set_theme(palette='colorblind')"
      ],
      "metadata": {
        "id": "Q4-vv3QID_13"
      },
      "execution_count": null,
      "outputs": []
    },
    {
      "cell_type": "code",
      "source": [
        "predictions = linear_model.predict([-30, 50])\n",
        "\n",
        "fig, ax = plt.subplots(figsize=(8, 5))\n",
        "\n",
        "plt.ylabel('FOD contrast')\n",
        "plt.xlabel('OGT contrast')\n",
        "sns.scatterplot(data=OGTvsFOD, x='OGT_contrast', y='FOD_contrast', alpha=0.35, color='black')\n",
        "sns.lineplot(x=[-30, 50], y=predictions, color='black')\n",
        "plt.show()"
      ],
      "metadata": {
        "colab": {
          "base_uri": "https://localhost:8080/",
          "height": 473
        },
        "id": "GQZG0gpz_-et",
        "outputId": "8d3b77be-1366-4ef0-c359-1057322187de"
      },
      "execution_count": null,
      "outputs": [
        {
          "output_type": "display_data",
          "data": {
            "text/plain": [
              "<Figure size 800x500 with 1 Axes>"
            ],
            "image/png": "[encoded data removed]"
          },
          "metadata": {}
        }
      ]
    },
    {
      "cell_type": "code",
      "source": [
        "# fig.savefig('contrast.svg')"
      ],
      "metadata": {
        "id": "3-nn9uEA_-cR"
      },
      "execution_count": null,
      "outputs": []
    },
    {
      "cell_type": "code",
      "source": [],
      "metadata": {
        "id": "tVEqqvK5_-Ty"
      },
      "execution_count": null,
      "outputs": []
    }
  ]
}