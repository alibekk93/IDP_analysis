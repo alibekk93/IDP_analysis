{
  "nbformat": 4,
  "nbformat_minor": 0,
  "metadata": {
    "colab": {
      "name": "IDP_analysis.ipynb",
      "provenance": [],
      "collapsed_sections": [],
      "include_colab_link": true
    },
    "kernelspec": {
      "name": "python3",
      "display_name": "Python 3"
    },
    "language_info": {
      "name": "python"
    }
  },
  "cells": [
    {
      "cell_type": "markdown",
      "metadata": {
        "id": "view-in-github",
        "colab_type": "text"
      },
      "source": [
        "<a href=\"https://colab.research.google.com/github/alibekk93/IDP_analysis/blob/main/IDP_analysis.ipynb\" target=\"_parent\"><img src=\"https://colab.research.google.com/assets/colab-badge.svg\" alt=\"Open In Colab\"/></a>"
      ]
    },
    {
      "cell_type": "markdown",
      "source": [
        "# Intrinsically disordered proteins in thermophilic bacteria"
      ],
      "metadata": {
        "id": "mPqxkKhaN417"
      }
    },
    {
      "cell_type": "markdown",
      "source": [
        "In this notebook we go through IDR prediction of various protein datasets and compare the IDR content of these datasets."
      ],
      "metadata": {
        "id": "SqbqyAxKo9Ll"
      }
    },
    {
      "cell_type": "markdown",
      "source": [
        "## Setup"
      ],
      "metadata": {
        "id": "8k2w8vUwo9zT"
      }
    },
    {
      "cell_type": "markdown",
      "source": [
        "[Biopython](https://biopython.org/) package is used to read .fasta files and work with sequences. Other packages are used to process the data, connect with API services to predict IDR, download results, etc."
      ],
      "metadata": {
        "id": "UBQGxfuQpjVB"
      }
    },
    {
      "cell_type": "code",
      "source": [
        "# installation of Biopython\n",
        "!pip install BIO"
      ],
      "metadata": {
        "id": "Up-aE96hwSP3",
        "colab": {
          "base_uri": "https://localhost:8080/"
        },
        "outputId": "4556205e-3505-46a2-f012-2e3e2f11c808"
      },
      "execution_count": 1,
      "outputs": [
        {
          "output_type": "stream",
          "name": "stdout",
          "text": [
            "Collecting BIO\n",
            "  Downloading bio-1.3.8-py3-none-any.whl (269 kB)\n",
            "\u001b[?25l\r\u001b[K     |█▏                              | 10 kB 20.7 MB/s eta 0:00:01\r\u001b[K     |██▍                             | 20 kB 10.7 MB/s eta 0:00:01\r\u001b[K     |███▋                            | 30 kB 8.3 MB/s eta 0:00:01\r\u001b[K     |████▉                           | 40 kB 8.5 MB/s eta 0:00:01\r\u001b[K     |██████                          | 51 kB 4.6 MB/s eta 0:00:01\r\u001b[K     |███████▎                        | 61 kB 5.4 MB/s eta 0:00:01\r\u001b[K     |████████▌                       | 71 kB 5.1 MB/s eta 0:00:01\r\u001b[K     |█████████▊                      | 81 kB 4.2 MB/s eta 0:00:01\r\u001b[K     |███████████                     | 92 kB 4.6 MB/s eta 0:00:01\r\u001b[K     |████████████▏                   | 102 kB 5.1 MB/s eta 0:00:01\r\u001b[K     |█████████████▍                  | 112 kB 5.1 MB/s eta 0:00:01\r\u001b[K     |██████████████▋                 | 122 kB 5.1 MB/s eta 0:00:01\r\u001b[K     |███████████████▉                | 133 kB 5.1 MB/s eta 0:00:01\r\u001b[K     |█████████████████               | 143 kB 5.1 MB/s eta 0:00:01\r\u001b[K     |██████████████████▏             | 153 kB 5.1 MB/s eta 0:00:01\r\u001b[K     |███████████████████▍            | 163 kB 5.1 MB/s eta 0:00:01\r\u001b[K     |████████████████████▋           | 174 kB 5.1 MB/s eta 0:00:01\r\u001b[K     |█████████████████████▉          | 184 kB 5.1 MB/s eta 0:00:01\r\u001b[K     |███████████████████████         | 194 kB 5.1 MB/s eta 0:00:01\r\u001b[K     |████████████████████████▎       | 204 kB 5.1 MB/s eta 0:00:01\r\u001b[K     |█████████████████████████▌      | 215 kB 5.1 MB/s eta 0:00:01\r\u001b[K     |██████████████████████████▊     | 225 kB 5.1 MB/s eta 0:00:01\r\u001b[K     |████████████████████████████    | 235 kB 5.1 MB/s eta 0:00:01\r\u001b[K     |█████████████████████████████▏  | 245 kB 5.1 MB/s eta 0:00:01\r\u001b[K     |██████████████████████████████▍ | 256 kB 5.1 MB/s eta 0:00:01\r\u001b[K     |███████████████████████████████▋| 266 kB 5.1 MB/s eta 0:00:01\r\u001b[K     |████████████████████████████████| 269 kB 5.1 MB/s \n",
            "\u001b[?25hRequirement already satisfied: requests in /usr/local/lib/python3.7/dist-packages (from BIO) (2.23.0)\n",
            "Requirement already satisfied: tqdm in /usr/local/lib/python3.7/dist-packages (from BIO) (4.64.0)\n",
            "Collecting biopython>=1.79\n",
            "  Downloading biopython-1.79-cp37-cp37m-manylinux_2_5_x86_64.manylinux1_x86_64.whl (2.3 MB)\n",
            "\u001b[K     |████████████████████████████████| 2.3 MB 44.4 MB/s \n",
            "\u001b[?25hCollecting mygene\n",
            "  Downloading mygene-3.2.2-py2.py3-none-any.whl (5.4 kB)\n",
            "Requirement already satisfied: numpy in /usr/local/lib/python3.7/dist-packages (from biopython>=1.79->BIO) (1.21.6)\n",
            "Collecting biothings-client>=0.2.6\n",
            "  Downloading biothings_client-0.2.6-py2.py3-none-any.whl (37 kB)\n",
            "Requirement already satisfied: idna<3,>=2.5 in /usr/local/lib/python3.7/dist-packages (from requests->BIO) (2.10)\n",
            "Requirement already satisfied: certifi>=2017.4.17 in /usr/local/lib/python3.7/dist-packages (from requests->BIO) (2021.10.8)\n",
            "Requirement already satisfied: urllib3!=1.25.0,!=1.25.1,<1.26,>=1.21.1 in /usr/local/lib/python3.7/dist-packages (from requests->BIO) (1.24.3)\n",
            "Requirement already satisfied: chardet<4,>=3.0.2 in /usr/local/lib/python3.7/dist-packages (from requests->BIO) (3.0.4)\n",
            "Installing collected packages: biothings-client, mygene, biopython, BIO\n",
            "Successfully installed BIO-1.3.8 biopython-1.79 biothings-client-0.2.6 mygene-3.2.2\n"
          ]
        }
      ]
    },
    {
      "cell_type": "code",
      "source": [
        "# Biopython\n",
        "from Bio import SeqIO\n",
        "\n",
        "# connecting with API\n",
        "import urllib.request\n",
        "import json\n",
        "\n",
        "# files uploading / dowmloading\n",
        "from google.colab import files\n",
        "import pickle\n",
        "\n",
        "# other packages\n",
        "import matplotlib.pyplot as plt\n",
        "import seaborn as sns\n",
        "import numpy as np\n",
        "import pandas as pd\n",
        "from tqdm import tqdm"
      ],
      "metadata": {
        "id": "RieAgZhnmmNQ"
      },
      "execution_count": 2,
      "outputs": []
    },
    {
      "cell_type": "markdown",
      "source": [
        "## Functions"
      ],
      "metadata": {
        "id": "0mDC6_e9q7g-"
      }
    },
    {
      "cell_type": "code",
      "source": [
        "def read_fasta(fasta_file: str) -> pd.DataFrame:\n",
        "  \"\"\"Processes raw .fasta files\n",
        "\n",
        "  Opens a .fasta file, parses the sequences and their IDs into a\n",
        "  dataframe and returns the dataframe.\n",
        "\n",
        "  Parameters\n",
        "  ----------\n",
        "  fasta_file : str\n",
        "    the raw .fasta file directory.\n",
        "  \n",
        "  Returns\n",
        "  -------\n",
        "  pd.DataFrame\n",
        "    a dataframe with ID, Sequence and Length columns.\n",
        "\n",
        "  \"\"\"\n",
        "\n",
        "  # open the file\n",
        "  handle = open(fasta_file, 'r')\n",
        "  seq_list = list(SeqIO.parse(handle, 'fasta'))\n",
        "  handle.close()\n",
        "\n",
        "  # parse data into lists\n",
        "  ids = [seq_record.id.split('|')[1] for seq_record in seq_list]\n",
        "  seqs = [str(seq_record.seq) for seq_record in seq_list]\n",
        "  lens = [len(seq) for seq in seqs]\n",
        "\n",
        "  # save data into a dataframe\n",
        "  df = pd.DataFrame({'ID':ids, 'Sequence':seqs, 'Length':lens})\n",
        "\n",
        "  return df"
      ],
      "metadata": {
        "id": "TZic9yeRqiT8"
      },
      "execution_count": 3,
      "outputs": []
    },
    {
      "cell_type": "code",
      "source": [
        "def calculate_iupred(proteinID_list: list, score_only=True) -> list:\n",
        "  \"\"\"Calculate protein IDR profile using IUPred3 REST API\n",
        "\n",
        "  Creates URL based on protein UniProt accession numbers\n",
        "  (from a list). Each IDR profile is saved as a JSON file\n",
        "  and put into a list. The JSON files are then unpacked,\n",
        "  either all data or only IUPred3 score are saved.\n",
        "\n",
        "  Parameters\n",
        "  ----------\n",
        "  proteinID_list : list\n",
        "    a list of protein accessions for which to predict IDR\n",
        "  score_only : bool (default=True)\n",
        "    whether the return should only contain IUPRed3 score.\n",
        "    Other data are AA sequence, and a binary disorder\n",
        "    prediction.\n",
        "\n",
        "  Returns\n",
        "  -------\n",
        "  list\n",
        "    a list of either IUPred3 scores or of all data from\n",
        "    each JSON as a dictionary.\n",
        "\n",
        "  \"\"\"\n",
        "\n",
        "  # make a list of URLs\n",
        "  iupredURL_list = ['http://iupred3.elte.hu/iupred3/' + proteinID + '.json' \\\n",
        "                    for proteinID in proteinID_list]\n",
        "\n",
        "  # download JSON files\n",
        "  print('Retrieving disorder values from server...')\n",
        "  protein_files = [urllib.request.urlretrieve(iupredURL, proteinID  + '.json')\\\n",
        "                   for iupredURL, proteinID in zip(tqdm(iupredURL_list),\\\n",
        "                                                        proteinID_list)]\n",
        "  \n",
        "  # empty list for unpacked JSON data\n",
        "  proteins = []\n",
        "  \n",
        "  # populate the empty list\n",
        "  print('Unpacking json files...')\n",
        "  for proteinID in tqdm(proteinID_list):\n",
        "    with open('/content/{}.json'.format(proteinID), 'r') as f:\n",
        "      d = json.load(f)\n",
        "      # check if only scores need to be saved\n",
        "      if score_only == True:\n",
        "        d = d['iupred2']\n",
        "      proteins.append(d)\n",
        "  \n",
        "  return proteins"
      ],
      "metadata": {
        "id": "Lm4lDyGjqiQn"
      },
      "execution_count": 4,
      "outputs": []
    },
    {
      "cell_type": "code",
      "source": [
        "def read_pickle_file(file_name: str):\n",
        "  \"\"\"A simple function to read pickle files\n",
        "\n",
        "  Parameters\n",
        "  ----------\n",
        "  file_name : srt\n",
        "    location of the pickle file\n",
        "  \n",
        "  Returns\n",
        "  -------\n",
        "  any format, but best with pd.DataFrames or lists\n",
        "  \n",
        "  \"\"\"\n",
        "\n",
        "  print(file_name + ' loading...')\n",
        "  with open(file_name, 'rb') as f:\n",
        "    result = pickle.load(f)\n",
        "  print(file_name + ' loaded!')\n",
        "  return result"
      ],
      "metadata": {
        "id": "zORthEtMnSFO"
      },
      "execution_count": 5,
      "outputs": []
    },
    {
      "cell_type": "code",
      "source": [
        "def binary_disorder(disorder_list: list, threshold=0.5) -> list:\n",
        "  \"\"\"Returns a list of binary values for disordered\n",
        "  residues given a threshold\n",
        "\n",
        "  Parameters\n",
        "  ----------\n",
        "  disorder_list : list\n",
        "    a list of disorder values\n",
        "  threshold : float\n",
        "    a binary threshold, 0.5 by default. Disorder score\n",
        "    above the threshold means that the residue is\n",
        "    considered to be disordered\n",
        "  \n",
        "  \"\"\"\n",
        "\n",
        "  return [1 if dis > threshold else 0 for dis in disorder_list]"
      ],
      "metadata": {
        "id": "vsQz2FxWN6Cf"
      },
      "execution_count": 50,
      "outputs": []
    },
    {
      "cell_type": "markdown",
      "source": [
        "## Obtaining IUPred3 predictions for *E. coli* and *T. thermophilus* proteins"
      ],
      "metadata": {
        "id": "fBdsAmoa9VLP"
      }
    },
    {
      "cell_type": "markdown",
      "source": [
        "IUPred3 REST API works great for almost all proteins, however there are a couple exceptions.\n",
        "\n",
        "First, IUPred3 only can predict IDR for proteins that are at least 20 AA long. For that reason we will filter out short proteins from our databases.\n",
        "\n",
        "A more unfortunate issue is that in some rare cases the REST API does not return a JSON file due to server error 500. This happened with two protein accessions from our *E. coli* database (out of more than 4,000 accessions) - P76335 and P77650. The API still can provide results in text format, but those data cannot be downloaded as easily as JSON. To solve the issue, we obtain the results for the two accessions manually and concatenate the manual results with the automatic results in the same order as the data were in the original dataframe."
      ],
      "metadata": {
        "id": "Kp_Y8xHG9tSh"
      }
    },
    {
      "cell_type": "code",
      "source": [
        "# read two .fasta files\n",
        "EC_proteome = read_fasta('/content/EscherichiaColiK12_allProteins.fasta')\n",
        "TT_proteome = read_fasta('/content/ThermusThermophilusHB8_allProteins.fasta')\n",
        "\n",
        "# filter out short sequences (under 20 AA)\n",
        "# short sequences do not get processed by IDR predictors\n",
        "EC_proteome = EC_proteome[EC_proteome.Length > 19]\n",
        "TT_proteome = TT_proteome[TT_proteome.Length > 19]"
      ],
      "metadata": {
        "id": "DL0trNelwfci"
      },
      "execution_count": 6,
      "outputs": []
    },
    {
      "cell_type": "markdown",
      "source": [
        ""
      ],
      "metadata": {
        "id": "h-R_ZzL2iEBf"
      }
    },
    {
      "cell_type": "code",
      "source": [
        "#@title # Which of TT files do you have already?\n",
        "\n",
        "#@markdown These files take a long time to be made,\n",
        "#@markdown so it is better to upload them if you have\n",
        "#@markdown them already.\n",
        "#@markdown Please, input file names for those files\n",
        "#@markdown that you already have. If you do not have\n",
        "#@markdown a file, leave the string empty.\n",
        "\n",
        "TT_proteome_filename = 'TT_proteome.pkl' #@param {type: 'string'}\n",
        "\n",
        "#@markdown If the file from above is available, there\n",
        "#@markdown is no need to upload other files in this cell\n",
        "\n",
        "TT_disorder_iupred3_filename = '' #@param {type: 'string'}\n",
        "\n",
        "# working on TT files\n",
        "if (TT_disorder_iupred3_filename == '') and (TT_proteome_filename == ''):\n",
        "  print('TT data are not available, loading from API...')\n",
        "  # calcuate disorder\n",
        "  TT_disorder_iupred3 = calculate_iupred(TT_proteome.ID)\n",
        "  # add disorder values to the dataframe\n",
        "  TT_proteome['disorder_iupred3'] = TT_disorder_iupred3\n",
        "  # save the dataframe and the disorder list for future\n",
        "  TT_proteome.to_pickle('TT_proteome.pkl')\n",
        "  files.download('TT_proteome.pkl')\n",
        "  with open('TT_disorder_iupred3.pkl', 'wb') as f:\n",
        "    pickle.dump(TT_disorder_iupred3, f)\n",
        "  files.download('TT_disorder_iupred3.pkl')\n",
        "elif TT_proteome_filename == '':\n",
        "  # load disorder values list\n",
        "  TT_disorder_iupred3 = read_pickle_file(TT_disorder_iupred3_filename)\n",
        "  # add disorder values to the dataframe\n",
        "  TT_proteome['disorder_iupred3'] = TT_disorder_iupred3\n",
        "  # save the dataframe for future\n",
        "  TT_proteome.to_pickle('TT_proteome.pkl')\n",
        "  files.download('TT_proteome.pkl')\n",
        "else:\n",
        "  # load the dataframe with disorder values\n",
        "  TT_proteome = read_pickle_file(TT_proteome_filename)"
      ],
      "metadata": {
        "id": "4UP_tKeXwveG",
        "cellView": "form",
        "colab": {
          "base_uri": "https://localhost:8080/"
        },
        "outputId": "b8465880-9b91-4c6e-a709-aa35d64f43d8"
      },
      "execution_count": 7,
      "outputs": [
        {
          "output_type": "stream",
          "name": "stdout",
          "text": [
            "TT_proteome.pkl loading...\n",
            "TT_proteome.pkl loaded!\n"
          ]
        }
      ]
    },
    {
      "cell_type": "markdown",
      "source": [
        "With *E. coli* the process is more complex because of 500 error on the server.\n",
        "\n",
        "We have to save the data in parts, and two of these are manual."
      ],
      "metadata": {
        "id": "wdWhvnZBl8dw"
      }
    },
    {
      "cell_type": "code",
      "source": [
        "from pandas.errors import EmptyDataError\n",
        "#@title # Which of EC files do you have already?\n",
        "\n",
        "#@markdown These files take a long time to be made,\n",
        "#@markdown so it is better to upload them if you have\n",
        "#@markdown them already.\n",
        "#@markdown Please, input file names for those files\n",
        "#@markdown that you already have. If you do not have\n",
        "#@markdown a file, leave the string empty.\n",
        "\n",
        "EC_proteome_filename = '' #@param {type: 'string'}\n",
        "\n",
        "#@markdown If the file from above is available, there\n",
        "#@markdown is no need to upload other files in this cell\n",
        "#@markdown or do the manual input\n",
        "\n",
        "EC_disorder_iupred3_filename = '' #@param {type: 'string'}\n",
        "EC_disorder_iupred3_1_filename = 'EC_disorder_iupred3_1.pkl' #@param {type: 'string'}\n",
        "EC_disorder_iupred3_2_filename = 'EC_disorder_iupred3_2.pkl' #@param {type: 'string'}\n",
        "EC_disorder_iupred3_3_filename = 'EC_disorder_iupred3_3.pkl' #@param {type: 'string'}\n",
        "\n",
        "#@markdown Use these links to manually get the data:\n",
        "#@markdown [P76335](https://iupred3.elte.hu/iupred3/P76335),\n",
        "#@markdown [P77650](https://iupred3.elte.hu/iupred3/P77650)\n",
        "\n",
        "#@markdown Copy and paste all the output below:\n",
        "\n",
        "EC_disorder_iupred3_P76335 = '# IUPred3 - improved prediction of protein disorder with a focus on specific user applications  # G\\xE1bor Erd\\u0151s, M\\xE1ty\\xE1s Pajkos, Zsuzsanna Doszt\\xE1nyi # Nucleic Acids Research 2021, Submitted # IUPred2A: context-dependent prediction of protein disorder as a function of redox state and protein binding # Balint Meszaros, Gabor Erdos, Zsuzsanna Dosztanyi # Nucleic Acids Research 2018;46(W1):W329-W337. # IUPred2 type: long # POS\\tAMINO ACID\\tIUPRED SCORE\\tEXP DIS 1\\tM\\t0.0832\\t? 2\\tK\\t0.0644\\t? 3\\tR\\t0.0489\\t? 4\\tK\\t0.0382\\t? 5\\tV\\t0.0330\\t? 6\\tL\\t0.0328\\t? 7\\tA\\t0.0366\\t? 8\\tM\\t0.0429\\t? 9\\tL\\t0.0500\\t? 10\\tV\\t0.0565\\t? 11\\tP\\t0.0611\\t? 12\\tA\\t0.0590\\t? 13\\tL\\t0.0469\\t? 14\\tL\\t0.0477\\t? 15\\tV\\t0.0547\\t? 16\\tA\\t0.0679\\t? 17\\tG\\t0.0894\\t? 18\\tA\\t0.1120\\t? 19\\tA\\t0.1313\\t? 20\\tN\\t0.1513\\t? 21\\tA\\t0.1734\\t? 22\\tA\\t0.1863\\t? 23\\tE\\t0.1956\\t? 24\\tV\\t0.1966\\t? 25\\tY\\t0.1941\\t? 26\\tN\\t0.1948\\t? 27\\tK\\t0.1950\\t0 28\\tD\\t0.1883\\t0 29\\tG\\t0.1796\\t0 30\\tN\\t0.1633\\t0 31\\tK\\t0.1362\\t0 32\\tL\\t0.1187\\t0 33\\tD\\t0.1035\\t0 34\\tL\\t0.0984\\t0 35\\tY\\t0.0961\\t0 36\\tG\\t0.1031\\t0 37\\tK\\t0.1061\\t0 38\\tV\\t0.1117\\t0 39\\tV\\t0.1248\\t0 40\\tG\\t0.1329\\t0 41\\tL\\t0.1496\\t0 42\\tH\\t0.1528\\t0 43\\tY\\t0.1620\\t0 44\\tF\\t0.1740\\t0 45\\tS\\t0.1923\\t0 46\\tD\\t0.2007\\t0 47\\tD\\t0.1953\\t0 48\\tS\\t0.1785\\t0 49\\tG\\t0.1715\\t0 50\\tS\\t0.1805\\t0 51\\tD\\t0.2025\\t0 52\\tG\\t0.2295\\t0 53\\tD\\t0.2611\\t0 54\\tM\\t0.3026\\t0 55\\tS\\t0.3309\\t0 56\\tY\\t0.3543\\t0 57\\tA\\t0.3642\\t0 58\\tR\\t0.3538\\t0 59\\tI\\t0.3315\\t0 60\\tG\\t0.2807\\t0 61\\tF\\t0.2450\\t0 62\\tK\\t0.2060\\t0 63\\tG\\t0.1945\\t0 64\\tE\\t0.1879\\t0 65\\tT\\t0.1832\\t0 66\\tQ\\t0.1739\\t0 67\\tI\\t0.1770\\t0 68\\tA\\t0.1878\\t0 69\\tD\\t0.2029\\t0 70\\tQ\\t0.2060\\t0 71\\tF\\t0.2075\\t0 72\\tT\\t0.2074\\t0 73\\tG\\t0.2137\\t0 74\\tY\\t0.2241\\t0 75\\tG\\t0.2351\\t0 76\\tQ\\t0.2586\\t0 77\\tW\\t0.2819\\t0 78\\tE\\t0.2930\\t0 79\\tF\\t0.3281\\t0 80\\tN\\t0.3520\\t0 81\\tI\\t0.3981\\t0 82\\tG\\t0.4303\\t0 83\\tA\\t0.4563\\t0 84\\tN\\t0.4690\\t0 85\\tG\\t0.4713\\t0 86\\tP\\t0.4702\\t0 87\\tE\\t0.4715\\t0 88\\tS\\t0.4615\\t0 89\\tD\\t0.4413\\t0 90\\tK\\t0.4215\\t0 91\\tG\\t0.4050\\t0 92\\tN\\t0.3914\\t0 93\\tT\\t0.3769\\t0 94\\tA\\t0.3755\\t0 95\\tT\\t0.3662\\t0 96\\tR\\t0.3457\\t0 97\\tL\\t0.3199\\t0 98\\tA\\t0.2829\\t0 99\\tF\\t0.2582\\t0 100\\tA\\t0.2278\\t0 101\\tG\\t0.2008\\t0 102\\tL\\t0.1745\\t0 103\\tG\\t0.1426\\t0 104\\tF\\t0.1259\\t0 105\\tG\\t0.1124\\t0 106\\tQ\\t0.1046\\t0 107\\tN\\t0.1025\\t0 108\\tG\\t0.1049\\t0 109\\tT\\t0.1021\\t0 110\\tF\\t0.1106\\t0 111\\tD\\t0.1218\\t0 112\\tY\\t0.1412\\t0 113\\tG\\t0.1482\\t0 114\\tR\\t0.1590\\t0 115\\tN\\t0.1557\\t0 116\\tY\\t0.1507\\t0 117\\tG\\t0.1429\\t0 118\\tV\\t0.1330\\t0 119\\tV\\t0.1259\\t0 120\\tY\\t0.1266\\t0 121\\tD\\t0.1269\\t0 122\\tV\\t0.1391\\t0 123\\tE\\t0.1410\\t0 124\\tA\\t0.1443\\t0 125\\tW\\t0.1492\\t0 126\\tT\\t0.1642\\t0 127\\tD\\t0.1804\\t0 128\\tM\\t0.1907\\t0 129\\tL\\t0.2025\\t0 130\\tP\\t0.2243\\t0 131\\tE\\t0.2361\\t0 132\\tF\\t0.2445\\t0 133\\tG\\t0.2523\\t0 134\\tG\\t0.2716\\t0 135\\tD\\t0.2782\\t0 136\\tT\\t0.2868\\t0 137\\tY\\t0.2953\\t0 138\\tA\\t0.3092\\t0 139\\tG\\t0.3261\\t0 140\\tA\\t0.3343\\t0 141\\tD\\t0.3288\\t0 142\\tN\\t0.3234\\t0 143\\tF\\t0.3114\\t0 144\\tM\\t0.3078\\t0 145\\tN\\t0.3138\\t0 146\\tG\\t0.3088\\t0 147\\tR\\t0.2939\\t0 148\\tA\\t0.2858\\t0 149\\tN\\t0.2792\\t0 150\\tG\\t0.2649\\t0 151\\tV\\t0.2526\\t0 152\\tA\\t0.2519\\t0 153\\tT\\t0.2427\\t0 154\\tY\\t0.2357\\t0 155\\tR\\t0.2314\\t0 156\\tN\\t0.2288\\t0 157\\tN\\t0.2260\\t0 158\\tG\\t0.2187\\t0 159\\tF\\t0.2006\\t0 160\\tF\\t0.1626\\t0 161\\tG\\t0.0927\\t0' #@param {type: 'string'}\n",
        "EC_disorder_iupred3_P77650 = '# IUPred3 - improved prediction of protein disorder with a focus on specific user applications  # G\\xE1bor Erd\\u0151s, M\\xE1ty\\xE1s Pajkos, Zsuzsanna Doszt\\xE1nyi # Nucleic Acids Research 2021, Submitted # IUPred2A: context-dependent prediction of protein disorder as a function of redox state and protein binding # Balint Meszaros, Gabor Erdos, Zsuzsanna Dosztanyi # Nucleic Acids Research 2018;46(W1):W329-W337. # IUPred2 type: long # POS\\tAMINO ACID\\tIUPRED SCORE\\tEXP DIS 1\\tM\\t0.1753\\t? 2\\tK\\t0.2426\\t? 3\\tE\\t0.2756\\t? 4\\tK\\t0.2882\\t? 5\\tT\\t0.2902\\t? 6\\tI\\t0.2881\\t? 7\\tI\\t0.2854\\t? 8\\tI\\t0.2835\\t? 9\\tV\\t0.2820\\t? 10\\tG\\t0.2800\\t? 11\\tG\\t0.2703\\t? 12\\tG\\t0.2513\\t? 13\\tQ\\t0.2393\\t? 14\\tA\\t0.2352\\t? 15\\tA\\t0.2440\\t? 16\\tA\\t0.2729\\t? 17\\tM\\t0.3107\\t? 18\\tA\\t0.3464\\t? 19\\tA\\t0.3714\\t? 20\\tA\\t0.3820\\t? 21\\tS\\t0.3685\\t? 22\\tL\\t0.3522\\t? 23\\tR\\t0.3216\\t? 24\\tQ\\t0.2998\\t? 25\\tQ\\t0.2742\\t? 26\\tG\\t0.2561\\t? 27\\tF\\t0.2583\\t? 28\\tT\\t0.2687\\t? 29\\tG\\t0.2976\\t? 30\\tE\\t0.3133\\t? 31\\tL\\t0.3280\\t? 32\\tH\\t0.3296\\t? 33\\tL\\t0.3303\\t? 34\\tF\\t0.3368\\t? 35\\tS\\t0.3577\\t? 36\\tD\\t0.3801\\t? 37\\tE\\t0.3871\\t? 38\\tR\\t0.3853\\t? 39\\tH\\t0.3718\\t? 40\\tL\\t0.3606\\t? 41\\tP\\t0.3543\\t? 42\\tY\\t0.3731\\t? 43\\tE\\t0.3809\\t? 44\\tR\\t0.4000\\t? 45\\tP\\t0.4227\\t? 46\\tP\\t0.4379\\t? 47\\tL\\t0.4620\\t? 48\\tS\\t0.4704\\t? 49\\tK\\t0.4791\\t? 50\\tS\\t0.4789\\t? 51\\tM\\t0.4690\\t? 52\\tL\\t0.4452\\t? 53\\tL\\t0.4285\\t? 54\\tE\\t0.4082\\t? 55\\tD\\t0.3812\\t? 56\\tS\\t0.3425\\t? 57\\tP\\t0.3091\\t? 58\\tQ\\t0.2822\\t? 59\\tL\\t0.2733\\t? 60\\tQ\\t0.2799\\t? 61\\tQ\\t0.2950\\t? 62\\tV\\t0.3126\\t? 63\\tL\\t0.3365\\t? 64\\tP\\t0.3579\\t? 65\\tA\\t0.3601\\t? 66\\tN\\t0.3379\\t? 67\\tW\\t0.3160\\t? 68\\tW\\t0.2908\\t? 69\\tQ\\t0.2711\\t? 70\\tE\\t0.2526\\t? 71\\tN\\t0.2339\\t? 72\\tN\\t0.2177\\t? 73\\tV\\t0.2216\\t? 74\\tH\\t0.2312\\t? 75\\tL\\t0.2703\\t? 76\\tH\\t0.3107\\t? 77\\tS\\t0.3462\\t? 78\\tG\\t0.3643\\t? 79\\tV\\t0.3765\\t? 80\\tT\\t0.3608\\t? 81\\tI\\t0.3558\\t? 82\\tK\\t0.3441\\t? 83\\tT\\t0.3360\\t? 84\\tL\\t0.3198\\t? 85\\tG\\t0.3035\\t? 86\\tR\\t0.3009\\t? 87\\tD\\t0.3162\\t? 88\\tT\\t0.3438\\t? 89\\tR\\t0.3643\\t? 90\\tE\\t0.3650\\t? 91\\tL\\t0.3497\\t? 92\\tV\\t0.3216\\t? 93\\tL\\t0.3007\\t? 94\\tT\\t0.2743\\t? 95\\tN\\t0.2511\\t? 96\\tG\\t0.2085\\t? 97\\tE\\t0.1710\\t? 98\\tS\\t0.1334\\t? 99\\tW\\t0.1212\\t? 100\\tH\\t0.1226\\t? 101\\tW\\t0.1522\\t? 102\\tD\\t0.1740\\t? 103\\tQ\\t0.1928\\t? 104\\tL\\t0.2025\\t? 105\\tF\\t0.1966\\t? 106\\tI\\t0.1870\\t? 107\\tA\\t0.1717\\t? 108\\tT\\t0.1563\\t? 109\\tG\\t0.1295\\t? 110\\tA\\t0.1087\\t? 111\\tA\\t0.1053\\t? 112\\tA\\t0.1177\\t? 113\\tR\\t0.1426\\t? 114\\tP\\t0.1587\\t? 115\\tL\\t0.1735\\t? 116\\tP\\t0.1765\\t? 117\\tL\\t0.1853\\t? 118\\tL\\t0.1885\\t? 119\\tD\\t0.2018\\t? 120\\tA\\t0.2095\\t? 121\\tL\\t0.2095\\t? 122\\tG\\t0.2044\\t? 123\\tE\\t0.2080\\t? 124\\tR\\t0.2106\\t? 125\\tC\\t0.2114\\t? 126\\tF\\t0.2163\\t? 127\\tT\\t0.2160\\t? 128\\tL\\t0.2155\\t? 129\\tR\\t0.2112\\t? 130\\tH\\t0.2171\\t? 131\\tA\\t0.2307\\t? 132\\tG\\t0.2564\\t? 133\\tD\\t0.2812\\t? 134\\tA\\t0.3009\\t? 135\\tA\\t0.3196\\t? 136\\tR\\t0.3176\\t? 137\\tL\\t0.3234\\t? 138\\tR\\t0.3175\\t? 139\\tE\\t0.2972\\t? 140\\tV\\t0.2634\\t? 141\\tL\\t0.2368\\t? 142\\tQ\\t0.2124\\t? 143\\tP\\t0.1916\\t? 144\\tE\\t0.1702\\t? 145\\tR\\t0.1590\\t? 146\\tS\\t0.1519\\t? 147\\tV\\t0.1419\\t? 148\\tV\\t0.1363\\t? 149\\tI\\t0.1281\\t? 150\\tI\\t0.1298\\t? 151\\tG\\t0.1318\\t? 152\\tA\\t0.1362\\t? 153\\tG\\t0.1284\\t? 154\\tT\\t0.1187\\t? 155\\tI\\t0.1224\\t? 156\\tG\\t0.1250\\t? 157\\tL\\t0.1441\\t? 158\\tE\\t0.1523\\t? 159\\tL\\t0.1656\\t? 160\\tA\\t0.1727\\t? 161\\tA\\t0.1835\\t? 162\\tS\\t0.1826\\t? 163\\tA\\t0.1745\\t? 164\\tT\\t0.1611\\t? 165\\tQ\\t0.1451\\t? 166\\tR\\t0.1327\\t? 167\\tR\\t0.1266\\t? 168\\tC\\t0.1325\\t? 169\\tK\\t0.1411\\t? 170\\tV\\t0.1682\\t? 171\\tT\\t0.1825\\t? 172\\tV\\t0.1953\\t? 173\\tI\\t0.2086\\t? 174\\tE\\t0.2259\\t? 175\\tL\\t0.2573\\t? 176\\tA\\t0.2758\\t? 177\\tA\\t0.2960\\t? 178\\tT\\t0.2967\\t? 179\\tV\\t0.2948\\t? 180\\tM\\t0.2840\\t? 181\\tG\\t0.2798\\t? 182\\tR\\t0.2730\\t? 183\\tN\\t0.2746\\t? 184\\tA\\t0.2851\\t? 185\\tP\\t0.3088\\t? 186\\tP\\t0.3459\\t? 187\\tP\\t0.3853\\t? 188\\tV\\t0.4296\\t? 189\\tQ\\t0.4526\\t? 190\\tR\\t0.4537\\t? 191\\tY\\t0.4289\\t? 192\\tL\\t0.3898\\t? 193\\tL\\t0.3432\\t? 194\\tQ\\t0.2833\\t? 195\\tR\\t0.2328\\t? 196\\tH\\t0.1788\\t? 197\\tQ\\t0.1353\\t? 198\\tQ\\t0.1027\\t? 199\\tA\\t0.0920\\t? 200\\tG\\t0.0987\\t? 201\\tV\\t0.1177\\t? 202\\tR\\t0.1408\\t? 203\\tI\\t0.1632\\t? 204\\tL\\t0.1851\\t? 205\\tL\\t0.2048\\t? 206\\tN\\t0.2122\\t? 207\\tN\\t0.2038\\t? 208\\tA\\t0.1799\\t? 209\\tI\\t0.1493\\t? 210\\tE\\t0.1349\\t? 211\\tH\\t0.1368\\t? 212\\tV\\t0.1499\\t? 213\\tV\\t0.1761\\t? 214\\tD\\t0.2141\\t? 215\\tG\\t0.2603\\t? 216\\tE\\t0.3001\\t? 217\\tK\\t0.3367\\t? 218\\tV\\t0.3630\\t? 219\\tE\\t0.3759\\t? 220\\tL\\t0.3741\\t? 221\\tT\\t0.3540\\t? 222\\tL\\t0.3246\\t? 223\\tQ\\t0.2900\\t? 224\\tS\\t0.2570\\t? 225\\tG\\t0.2175\\t? 226\\tE\\t0.1667\\t? 227\\tT\\t0.1216\\t? 228\\tL\\t0.1015\\t? 229\\tQ\\t0.1007\\t? 230\\tA\\t0.1085\\t? 231\\tD\\t0.1155\\t? 232\\tV\\t0.1270\\t? 233\\tV\\t0.1379\\t? 234\\tI\\t0.1441\\t? 235\\tY\\t0.1473\\t? 236\\tG\\t0.1408\\t? 237\\tI\\t0.1308\\t? 238\\tG\\t0.1072\\t? 239\\tI\\t0.0962\\t? 240\\tS\\t0.0963\\t? 241\\tA\\t0.1218\\t? 242\\tN\\t0.1584\\t? 243\\tE\\t0.1912\\t? 244\\tQ\\t0.2142\\t? 245\\tL\\t0.2450\\t? 246\\tA\\t0.2783\\t? 247\\tR\\t0.3087\\t? 248\\tE\\t0.3335\\t? 249\\tA\\t0.3398\\t? 250\\tN\\t0.3244\\t? 251\\tL\\t0.3028\\t? 252\\tD\\t0.2852\\t? 253\\tT\\t0.2811\\t? 254\\tA\\t0.2837\\t? 255\\tN\\t0.2837\\t? 256\\tG\\t0.2711\\t? 257\\tI\\t0.2537\\t? 258\\tV\\t0.2327\\t? 259\\tI\\t0.2269\\t? 260\\tD\\t0.2189\\t? 261\\tE\\t0.2048\\t? 262\\tA\\t0.1694\\t? 263\\tC\\t0.1438\\t? 264\\tR\\t0.1294\\t? 265\\tT\\t0.1271\\t? 266\\tC\\t0.1290\\t? 267\\tD\\t0.1309\\t? 268\\tP\\t0.1407\\t? 269\\tA\\t0.1451\\t? 270\\tI\\t0.1458\\t? 271\\tF\\t0.1642\\t? 272\\tA\\t0.1836\\t? 273\\tG\\t0.1958\\t? 274\\tG\\t0.2028\\t? 275\\tD\\t0.1942\\t? 276\\tV\\t0.1820\\t? 277\\tA\\t0.1752\\t? 278\\tI\\t0.1826\\t? 279\\tT\\t0.1909\\t? 280\\tR\\t0.1914\\t? 281\\tL\\t0.1971\\t? 282\\tD\\t0.2084\\t? 283\\tN\\t0.2398\\t? 284\\tG\\t0.2642\\t? 285\\tA\\t0.2878\\t? 286\\tL\\t0.3212\\t? 287\\tH\\t0.3455\\t? 288\\tR\\t0.3590\\t? 289\\tC\\t0.3732\\t? 290\\tE\\t0.3789\\t? 291\\tS\\t0.3847\\t? 292\\tW\\t0.3705\\t? 293\\tE\\t0.3513\\t? 294\\tN\\t0.3221\\t? 295\\tA\\t0.2889\\t? 296\\tN\\t0.2728\\t? 297\\tN\\t0.2639\\t? 298\\tQ\\t0.2570\\t? 299\\tA\\t0.2393\\t? 300\\tQ\\t0.2207\\t? 301\\tI\\t0.2187\\t? 302\\tA\\t0.2146\\t? 303\\tA\\t0.2124\\t? 304\\tA\\t0.2044\\t? 305\\tA\\t0.1882\\t? 306\\tM\\t0.1720\\t? 307\\tL\\t0.1548\\t? 308\\tG\\t0.1342\\t? 309\\tL\\t0.1226\\t? 310\\tP\\t0.1021\\t? 311\\tL\\t0.0932\\t? 312\\tP\\t0.0844\\t? 313\\tL\\t0.0877\\t? 314\\tL\\t0.1041\\t? 315\\tP\\t0.1301\\t? 316\\tP\\t0.1528\\t? 317\\tP\\t0.1536\\t? 318\\tW\\t0.1476\\t0 319\\tF\\t0.1425\\t0 320\\tW\\t0.1421\\t0 321\\tS\\t0.1482\\t0 322\\tD\\t0.1525\\t0 323\\tQ\\t0.1529\\t0 324\\tY\\t0.1578\\t0 325\\tS\\t0.1667\\t0 326\\tD\\t0.1825\\t0 327\\tN\\t0.1858\\t0 328\\tL\\t0.1808\\t0 329\\tQ\\t0.1706\\t0 330\\tF\\t0.1620\\t0 331\\tI\\t0.1579\\t0 332\\tG\\t0.1611\\t0 333\\tD\\t0.1788\\t0 334\\tM\\t0.2020\\t0 335\\tR\\t0.2315\\t0 336\\tG\\t0.2634\\t0 337\\tD\\t0.2980\\t0 338\\tD\\t0.3269\\t0 339\\tW\\t0.3438\\t0 340\\tL\\t0.3431\\t0 341\\tC\\t0.3339\\t0 342\\tR\\t0.3155\\t0 343\\tG\\t0.2963\\t0 344\\tN\\t0.2740\\t0 345\\tP\\t0.2410\\t0 346\\tE\\t0.2130\\t0 347\\tT\\t0.1912\\t0 348\\tQ\\t0.1876\\t0 349\\tK\\t0.1845\\t0 350\\tA\\t0.1864\\t0 351\\tI\\t0.1850\\t0 352\\tW\\t0.1734\\t0 353\\tF\\t0.1602\\t0 354\\tN\\t0.1432\\t0 355\\tL\\t0.1309\\t0 356\\tQ\\t0.1038\\t0 357\\tN\\t0.0838\\t0 358\\tG\\t0.0619\\t0 359\\tV\\t0.0506\\t0 360\\tL\\t0.0588\\t0 361\\tI\\t0.0920\\t0 362\\tG\\t0.1259\\t0 363\\tA\\t0.1534\\t0 364\\tV\\t0.1682\\t0 365\\tT\\t0.1704\\t0 366\\tL\\t0.1666\\t0 367\\tN\\t0.1639\\t0 368\\tQ\\t0.1649\\t0 369\\tG\\t0.1640\\t0 370\\tR\\t0.1642\\t0 371\\tE\\t0.1765\\t0 372\\tI\\t0.2079\\t0 373\\tR\\t0.2530\\t0 374\\tP\\t0.2881\\t0 375\\tI\\t0.3143\\t0 376\\tR\\t0.3080\\t0 377\\tK\\t0.2851\\t0 378\\tW\\t0.2480\\t0 379\\tI\\t0.2154\\t0 380\\tQ\\t0.1891\\t0 381\\tS\\t0.1632\\t0 382\\tG\\t0.1348\\t0 383\\tK\\t0.1156\\t0 384\\tT\\t0.1021\\t0 385\\tF\\t0.1026\\t0 386\\tD\\t0.1136\\t0 387\\tA\\t0.1214\\t0 388\\tK\\t0.1147\\t0 389\\tL\\t0.1033\\t0 390\\tL\\t0.0903\\t0 391\\tI\\t0.0829\\t0 392\\tD\\t0.0779\\t0 393\\tE\\t0.0716\\t0 394\\tN\\t0.0632\\t0 395\\tI\\t0.0523\\t0 396\\tA\\t0.0397\\t0 397\\tL\\t0.0274\\t0 398\\tK\\t0.0190\\t0 399\\tS\\t0.0197\\t0 400\\tL\\t0.0374\\t0' #@param {type: 'string'}\n",
        "\n",
        "# working on EC files\n",
        "if (EC_disorder_iupred3_filename == '') and (EC_proteome_filename == ''):\n",
        "  print('Looking at partial files...')\n",
        "  # check that manual input was given\n",
        "  if EC_disorder_iupred3_P76335 == '' or EC_disorder_iupred3_P77650 == '':\n",
        "    print('Please provide the namual input!')\n",
        "    raise EmptyDataError()\n",
        "  # calcuate disorder in three separate runs unless available as pickle\n",
        "  dis_fns = [EC_disorder_iupred3_1_filename, EC_disorder_iupred3_2_filename, EC_disorder_iupred3_3_filename]\n",
        "  for i in range(3):\n",
        "    if dis_fns[i] == '':\n",
        "      print(dis_fns[i] + ' not available, loading from API...')\n",
        "      if i == 0:\n",
        "        EC_disorder_iupred3_1 = calculate_iupred(EC_proteome.ID.iloc[:2700])\n",
        "        # save the disorder values\n",
        "        with open('EC_disorder_iupred3_1.pkl', 'wb') as f:\n",
        "          pickle.dump(EC_disorder_iupred3_1, f)\n",
        "        files.download('EC_disorder_iupred3_1.pkl')\n",
        "      elif i == 1:\n",
        "        EC_disorder_iupred3_2 = calculate_iupred(EC_proteome.ID.iloc[2701:3882])\n",
        "        # save the disorder values\n",
        "        with open('EC_disorder_iupred3_2.pkl', 'wb') as f:\n",
        "          pickle.dump(EC_disorder_iupred3_2, f)\n",
        "        files.download('EC_disorder_iupred3_2.pkl')\n",
        "      elif i == 2:\n",
        "        EC_disorder_iupred3_3 = calculate_iupred(EC_proteome.ID.iloc[3883:])\n",
        "        # save the disorder values\n",
        "        with open('EC_disorder_iupred3_3.pkl', 'wb') as f:\n",
        "          pickle.dump(EC_disorder_iupred3_3, f)\n",
        "        files.download('EC_disorder_iupred3_3.pkl')\n",
        "    else:\n",
        "      print(dis_fns[i] + ' available, loading...')\n",
        "      if i == 0:\n",
        "        EC_disorder_iupred3_1 = read_pickle_file(dis_fns[i])\n",
        "      elif i == 1:\n",
        "        EC_disorder_iupred3_2 = read_pickle_file(dis_fns[i])\n",
        "      elif i == 2:\n",
        "        EC_disorder_iupred3_3 = read_pickle_file(dis_fns[i])\n",
        "  # processing manual output strings\n",
        "  EC_disorder_iupred3_P76335 = [float(EC_disorder_iupred3_P76335.split('\\t')[i])\\\n",
        "        for i in range(5, len(EC_disorder_iupred3_P76335.split('\\t')), 3)]\n",
        "  EC_disorder_iupred3_P77650 = [float(EC_disorder_iupred3_P77650.split('\\t')[i])\\\n",
        "        for i in range(5, len(EC_disorder_iupred3_P77650.split('\\t')), 3)]\n",
        "  print('Manual data loaded')\n",
        "  # merging the lists together\n",
        "  EC_disorder_iupred3 = [*EC_disorder_iupred3_1, EC_disorder_iupred3_P76335,\n",
        "                         *EC_disorder_iupred3_2, EC_disorder_iupred3_P77650,\n",
        "                         *EC_disorder_iupred3_3]\n",
        "  # add disorder values to the dataframe\n",
        "  EC_proteome['disorder_iupred3'] = EC_disorder_iupred3\n",
        "  # save the dataframe and the disorder list for future\n",
        "  EC_proteome.to_pickle('EC_proteome.pkl')\n",
        "  files.download('EC_proteome.pkl')\n",
        "  # save the disorder values\n",
        "  with open('EC_disorder_iupred3.pkl', 'wb') as f:\n",
        "    pickle.dump(EC_disorder_iupred3, f)\n",
        "  files.download('EC_disorder_iupred3.pkl')\n",
        "elif EC_proteome_filename == '':\n",
        "  # load disorder values list\n",
        "  EC_disorder_iupred3 = read_pickle_file(EC_disorder_iupred3_filename)\n",
        "  # add disorder values to the dataframe\n",
        "  EC_proteome['disorder_iupred3'] = EC_disorder_iupred3\n",
        "  # save the dataframe for future\n",
        "  EC_proteome.to_pickle('EC_proteome.pkl')\n",
        "  files.download('EC_proteome.pkl')\n",
        "else:\n",
        "  # load the dataframe with disorder values\n",
        "  EC_proteome = read_pickle_file(EC_proteome_filename)"
      ],
      "metadata": {
        "cellView": "form",
        "id": "c2ROM_mycUAx",
        "colab": {
          "base_uri": "https://localhost:8080/",
          "height": 208
        },
        "outputId": "67d04b94-860e-493d-c7f6-206ace7024a6"
      },
      "execution_count": 33,
      "outputs": [
        {
          "output_type": "stream",
          "name": "stdout",
          "text": [
            "Looking at partial files...\n",
            "EC_disorder_iupred3_1.pkl available, loading...\n",
            "EC_disorder_iupred3_1.pkl loading...\n",
            "EC_disorder_iupred3_1.pkl loaded!\n",
            "EC_disorder_iupred3_2.pkl available, loading...\n",
            "EC_disorder_iupred3_2.pkl loading...\n",
            "EC_disorder_iupred3_2.pkl loaded!\n",
            "EC_disorder_iupred3_3.pkl available, loading...\n",
            "EC_disorder_iupred3_3.pkl loading...\n",
            "EC_disorder_iupred3_3.pkl loaded!\n",
            "Manual data loaded\n"
          ]
        },
        {
          "output_type": "display_data",
          "data": {
            "text/plain": [
              "<IPython.core.display.Javascript object>"
            ],
            "application/javascript": [
              "\n",
              "    async function download(id, filename, size) {\n",
              "      if (!google.colab.kernel.accessAllowed) {\n",
              "        return;\n",
              "      }\n",
              "      const div = document.createElement('div');\n",
              "      const label = document.createElement('label');\n",
              "      label.textContent = `Downloading \"${filename}\": `;\n",
              "      div.appendChild(label);\n",
              "      const progress = document.createElement('progress');\n",
              "      progress.max = size;\n",
              "      div.appendChild(progress);\n",
              "      document.body.appendChild(div);\n",
              "\n",
              "      const buffers = [];\n",
              "      let downloaded = 0;\n",
              "\n",
              "      const channel = await google.colab.kernel.comms.open(id);\n",
              "      // Send a message to notify the kernel that we're ready.\n",
              "      channel.send({})\n",
              "\n",
              "      for await (const message of channel.messages) {\n",
              "        // Send a message to notify the kernel that we're ready.\n",
              "        channel.send({})\n",
              "        if (message.buffers) {\n",
              "          for (const buffer of message.buffers) {\n",
              "            buffers.push(buffer);\n",
              "            downloaded += buffer.byteLength;\n",
              "            progress.value = downloaded;\n",
              "          }\n",
              "        }\n",
              "      }\n",
              "      const blob = new Blob(buffers, {type: 'application/binary'});\n",
              "      const a = document.createElement('a');\n",
              "      a.href = window.URL.createObjectURL(blob);\n",
              "      a.download = filename;\n",
              "      div.appendChild(a);\n",
              "      a.click();\n",
              "      div.remove();\n",
              "    }\n",
              "  "
            ]
          },
          "metadata": {}
        },
        {
          "output_type": "display_data",
          "data": {
            "text/plain": [
              "<IPython.core.display.Javascript object>"
            ],
            "application/javascript": [
              "download(\"download_a9151cde-9d85-4cd4-aae3-d59ac4acb583\", \"EC_proteome.pkl\", 13722464)"
            ]
          },
          "metadata": {}
        },
        {
          "output_type": "display_data",
          "data": {
            "text/plain": [
              "<IPython.core.display.Javascript object>"
            ],
            "application/javascript": [
              "\n",
              "    async function download(id, filename, size) {\n",
              "      if (!google.colab.kernel.accessAllowed) {\n",
              "        return;\n",
              "      }\n",
              "      const div = document.createElement('div');\n",
              "      const label = document.createElement('label');\n",
              "      label.textContent = `Downloading \"${filename}\": `;\n",
              "      div.appendChild(label);\n",
              "      const progress = document.createElement('progress');\n",
              "      progress.max = size;\n",
              "      div.appendChild(progress);\n",
              "      document.body.appendChild(div);\n",
              "\n",
              "      const buffers = [];\n",
              "      let downloaded = 0;\n",
              "\n",
              "      const channel = await google.colab.kernel.comms.open(id);\n",
              "      // Send a message to notify the kernel that we're ready.\n",
              "      channel.send({})\n",
              "\n",
              "      for await (const message of channel.messages) {\n",
              "        // Send a message to notify the kernel that we're ready.\n",
              "        channel.send({})\n",
              "        if (message.buffers) {\n",
              "          for (const buffer of message.buffers) {\n",
              "            buffers.push(buffer);\n",
              "            downloaded += buffer.byteLength;\n",
              "            progress.value = downloaded;\n",
              "          }\n",
              "        }\n",
              "      }\n",
              "      const blob = new Blob(buffers, {type: 'application/binary'});\n",
              "      const a = document.createElement('a');\n",
              "      a.href = window.URL.createObjectURL(blob);\n",
              "      a.download = filename;\n",
              "      div.appendChild(a);\n",
              "      a.click();\n",
              "      div.remove();\n",
              "    }\n",
              "  "
            ]
          },
          "metadata": {}
        },
        {
          "output_type": "display_data",
          "data": {
            "text/plain": [
              "<IPython.core.display.Javascript object>"
            ],
            "application/javascript": [
              "download(\"download_baa30a81-ef51-4e91-91aa-ca8e10031812\", \"EC_disorder_iupred3.pkl\", 12249236)"
            ]
          },
          "metadata": {}
        }
      ]
    },
    {
      "cell_type": "code",
      "source": [
        "EC_proteome.iloc[2700:3883]"
      ],
      "metadata": {
        "colab": {
          "base_uri": "https://localhost:8080/",
          "height": 424
        },
        "id": "EQgd4NAAVOkb",
        "outputId": "b91e8084-7af7-4608-e50e-b02af8e7e262"
      },
      "execution_count": 35,
      "outputs": [
        {
          "output_type": "execute_result",
          "data": {
            "text/plain": [
              "          ID                                           Sequence  Length  \\\n",
              "2722  P76335  MKRKVLAMLVPALLVAGAANAAEVYNKDGNKLDLYGKVVGLHYFSD...     161   \n",
              "2723  P39293  MSGFFQRLFGKDNKPAIARGPLGLHLNSGFTLDTLAFRLLEDELLI...     219   \n",
              "2724  P65807  MAKNIPFKLILEKAKDYQADMTRFLRDMVAIPSESCDEKRVVHRIK...     403   \n",
              "2725  Q46789  MTNPIGINNLSQSSNIANATGDEVVSLDKHINTSATDTDQIQAFIV...      72   \n",
              "2726  P0ACX9  MRYTDSRKLTPETDANHKTASPQPIRRISSQTLLGPDGKLIIDHDG...      63   \n",
              "...      ...                                                ...     ...   \n",
              "3918  Q47718  MPFYFRKECPLNSGYLRKNRPEKPDGRRAVLRSQVLELHGISHGSA...     198   \n",
              "3919  P75796  MPHSDELDAGNVLAVENLNIAFMQDQQKIAAVRNLSFSLQRGETLA...     623   \n",
              "3920  P64578  MHLITQKALKDAAEKYPQHKTELVALGNTIAKGYFKKPESLKAVFP...     104   \n",
              "3921  P67701  MIAIADILQAGEKLTAVAPFLAGIQNEEQYTQALELVDHLLLNDPE...     138   \n",
              "3922  P77650  MKEKTIIIVGGGQAAAMAAASLRQQGFTGELHLFSDERHLPYERPP...     400   \n",
              "\n",
              "                                       disorder_iupred3  \n",
              "2722  [0.0832, 0.0644, 0.0489, 0.0382, 0.033, 0.0328...  \n",
              "2723  [0.009816185562720027, 0.04790413854795131, 0....  \n",
              "2724  [0.030013703973370415, 0.0624510972886752, 0.0...  \n",
              "2725  [0.352025438215099, 0.4400474476804666, 0.4675...  \n",
              "2726  [0.606837808300394, 0.6499296254073926, 0.6738...  \n",
              "...                                                 ...  \n",
              "3918  [0.09019037705429342, 0.13678602822273048, 0.1...  \n",
              "3919  [0.796565016226348, 0.5828395931627507, 0.4780...  \n",
              "3920  [0.1489149914707702, 0.16358170154635598, 0.16...  \n",
              "3921  [0.020546612024130877, 0.03865416982178747, 0....  \n",
              "3922  [0.1753, 0.2426, 0.2756, 0.2882, 0.2902, 0.288...  \n",
              "\n",
              "[1183 rows x 4 columns]"
            ],
            "text/html": [
              "\n",
              "  <div id=\"df-1b832131-5352-4d82-9ab9-bb6f28a0c243\">\n",
              "    <div class=\"colab-df-container\">\n",
              "      <div>\n",
              "<style scoped>\n",
              "    .dataframe tbody tr th:only-of-type {\n",
              "        vertical-align: middle;\n",
              "    }\n",
              "\n",
              "    .dataframe tbody tr th {\n",
              "        vertical-align: top;\n",
              "    }\n",
              "\n",
              "    .dataframe thead th {\n",
              "        text-align: right;\n",
              "    }\n",
              "</style>\n",
              "<table border=\"1\" class=\"dataframe\">\n",
              "  <thead>\n",
              "    <tr style=\"text-align: right;\">\n",
              "      <th></th>\n",
              "      <th>ID</th>\n",
              "      <th>Sequence</th>\n",
              "      <th>Length</th>\n",
              "      <th>disorder_iupred3</th>\n",
              "    </tr>\n",
              "  </thead>\n",
              "  <tbody>\n",
              "    <tr>\n",
              "      <th>2722</th>\n",
              "      <td>P76335</td>\n",
              "      <td>MKRKVLAMLVPALLVAGAANAAEVYNKDGNKLDLYGKVVGLHYFSD...</td>\n",
              "      <td>161</td>\n",
              "      <td>[0.0832, 0.0644, 0.0489, 0.0382, 0.033, 0.0328...</td>\n",
              "    </tr>\n",
              "    <tr>\n",
              "      <th>2723</th>\n",
              "      <td>P39293</td>\n",
              "      <td>MSGFFQRLFGKDNKPAIARGPLGLHLNSGFTLDTLAFRLLEDELLI...</td>\n",
              "      <td>219</td>\n",
              "      <td>[0.009816185562720027, 0.04790413854795131, 0....</td>\n",
              "    </tr>\n",
              "    <tr>\n",
              "      <th>2724</th>\n",
              "      <td>P65807</td>\n",
              "      <td>MAKNIPFKLILEKAKDYQADMTRFLRDMVAIPSESCDEKRVVHRIK...</td>\n",
              "      <td>403</td>\n",
              "      <td>[0.030013703973370415, 0.0624510972886752, 0.0...</td>\n",
              "    </tr>\n",
              "    <tr>\n",
              "      <th>2725</th>\n",
              "      <td>Q46789</td>\n",
              "      <td>MTNPIGINNLSQSSNIANATGDEVVSLDKHINTSATDTDQIQAFIV...</td>\n",
              "      <td>72</td>\n",
              "      <td>[0.352025438215099, 0.4400474476804666, 0.4675...</td>\n",
              "    </tr>\n",
              "    <tr>\n",
              "      <th>2726</th>\n",
              "      <td>P0ACX9</td>\n",
              "      <td>MRYTDSRKLTPETDANHKTASPQPIRRISSQTLLGPDGKLIIDHDG...</td>\n",
              "      <td>63</td>\n",
              "      <td>[0.606837808300394, 0.6499296254073926, 0.6738...</td>\n",
              "    </tr>\n",
              "    <tr>\n",
              "      <th>...</th>\n",
              "      <td>...</td>\n",
              "      <td>...</td>\n",
              "      <td>...</td>\n",
              "      <td>...</td>\n",
              "    </tr>\n",
              "    <tr>\n",
              "      <th>3918</th>\n",
              "      <td>Q47718</td>\n",
              "      <td>MPFYFRKECPLNSGYLRKNRPEKPDGRRAVLRSQVLELHGISHGSA...</td>\n",
              "      <td>198</td>\n",
              "      <td>[0.09019037705429342, 0.13678602822273048, 0.1...</td>\n",
              "    </tr>\n",
              "    <tr>\n",
              "      <th>3919</th>\n",
              "      <td>P75796</td>\n",
              "      <td>MPHSDELDAGNVLAVENLNIAFMQDQQKIAAVRNLSFSLQRGETLA...</td>\n",
              "      <td>623</td>\n",
              "      <td>[0.796565016226348, 0.5828395931627507, 0.4780...</td>\n",
              "    </tr>\n",
              "    <tr>\n",
              "      <th>3920</th>\n",
              "      <td>P64578</td>\n",
              "      <td>MHLITQKALKDAAEKYPQHKTELVALGNTIAKGYFKKPESLKAVFP...</td>\n",
              "      <td>104</td>\n",
              "      <td>[0.1489149914707702, 0.16358170154635598, 0.16...</td>\n",
              "    </tr>\n",
              "    <tr>\n",
              "      <th>3921</th>\n",
              "      <td>P67701</td>\n",
              "      <td>MIAIADILQAGEKLTAVAPFLAGIQNEEQYTQALELVDHLLLNDPE...</td>\n",
              "      <td>138</td>\n",
              "      <td>[0.020546612024130877, 0.03865416982178747, 0....</td>\n",
              "    </tr>\n",
              "    <tr>\n",
              "      <th>3922</th>\n",
              "      <td>P77650</td>\n",
              "      <td>MKEKTIIIVGGGQAAAMAAASLRQQGFTGELHLFSDERHLPYERPP...</td>\n",
              "      <td>400</td>\n",
              "      <td>[0.1753, 0.2426, 0.2756, 0.2882, 0.2902, 0.288...</td>\n",
              "    </tr>\n",
              "  </tbody>\n",
              "</table>\n",
              "<p>1183 rows × 4 columns</p>\n",
              "</div>\n",
              "      <button class=\"colab-df-convert\" onclick=\"convertToInteractive('df-1b832131-5352-4d82-9ab9-bb6f28a0c243')\"\n",
              "              title=\"Convert this dataframe to an interactive table.\"\n",
              "              style=\"display:none;\">\n",
              "        \n",
              "  <svg xmlns=\"http://www.w3.org/2000/svg\" height=\"24px\"viewBox=\"0 0 24 24\"\n",
              "       width=\"24px\">\n",
              "    <path d=\"M0 0h24v24H0V0z\" fill=\"none\"/>\n",
              "    <path d=\"M18.56 5.44l.94 2.06.94-2.06 2.06-.94-2.06-.94-.94-2.06-.94 2.06-2.06.94zm-11 1L8.5 8.5l.94-2.06 2.06-.94-2.06-.94L8.5 2.5l-.94 2.06-2.06.94zm10 10l.94 2.06.94-2.06 2.06-.94-2.06-.94-.94-2.06-.94 2.06-2.06.94z\"/><path d=\"M17.41 7.96l-1.37-1.37c-.4-.4-.92-.59-1.43-.59-.52 0-1.04.2-1.43.59L10.3 9.45l-7.72 7.72c-.78.78-.78 2.05 0 2.83L4 21.41c.39.39.9.59 1.41.59.51 0 1.02-.2 1.41-.59l7.78-7.78 2.81-2.81c.8-.78.8-2.07 0-2.86zM5.41 20L4 18.59l7.72-7.72 1.47 1.35L5.41 20z\"/>\n",
              "  </svg>\n",
              "      </button>\n",
              "      \n",
              "  <style>\n",
              "    .colab-df-container {\n",
              "      display:flex;\n",
              "      flex-wrap:wrap;\n",
              "      gap: 12px;\n",
              "    }\n",
              "\n",
              "    .colab-df-convert {\n",
              "      background-color: #E8F0FE;\n",
              "      border: none;\n",
              "      border-radius: 50%;\n",
              "      cursor: pointer;\n",
              "      display: none;\n",
              "      fill: #1967D2;\n",
              "      height: 32px;\n",
              "      padding: 0 0 0 0;\n",
              "      width: 32px;\n",
              "    }\n",
              "\n",
              "    .colab-df-convert:hover {\n",
              "      background-color: #E2EBFA;\n",
              "      box-shadow: 0px 1px 2px rgba(60, 64, 67, 0.3), 0px 1px 3px 1px rgba(60, 64, 67, 0.15);\n",
              "      fill: #174EA6;\n",
              "    }\n",
              "\n",
              "    [theme=dark] .colab-df-convert {\n",
              "      background-color: #3B4455;\n",
              "      fill: #D2E3FC;\n",
              "    }\n",
              "\n",
              "    [theme=dark] .colab-df-convert:hover {\n",
              "      background-color: #434B5C;\n",
              "      box-shadow: 0px 1px 3px 1px rgba(0, 0, 0, 0.15);\n",
              "      filter: drop-shadow(0px 1px 2px rgba(0, 0, 0, 0.3));\n",
              "      fill: #FFFFFF;\n",
              "    }\n",
              "  </style>\n",
              "\n",
              "      <script>\n",
              "        const buttonEl =\n",
              "          document.querySelector('#df-1b832131-5352-4d82-9ab9-bb6f28a0c243 button.colab-df-convert');\n",
              "        buttonEl.style.display =\n",
              "          google.colab.kernel.accessAllowed ? 'block' : 'none';\n",
              "\n",
              "        async function convertToInteractive(key) {\n",
              "          const element = document.querySelector('#df-1b832131-5352-4d82-9ab9-bb6f28a0c243');\n",
              "          const dataTable =\n",
              "            await google.colab.kernel.invokeFunction('convertToInteractive',\n",
              "                                                     [key], {});\n",
              "          if (!dataTable) return;\n",
              "\n",
              "          const docLinkHtml = 'Like what you see? Visit the ' +\n",
              "            '<a target=\"_blank\" href=https://colab.research.google.com/notebooks/data_table.ipynb>data table notebook</a>'\n",
              "            + ' to learn more about interactive tables.';\n",
              "          element.innerHTML = '';\n",
              "          dataTable['output_type'] = 'display_data';\n",
              "          await google.colab.output.renderOutput(dataTable, element);\n",
              "          const docLink = document.createElement('div');\n",
              "          docLink.innerHTML = docLinkHtml;\n",
              "          element.appendChild(docLink);\n",
              "        }\n",
              "      </script>\n",
              "    </div>\n",
              "  </div>\n",
              "  "
            ]
          },
          "metadata": {},
          "execution_count": 35
        }
      ]
    },
    {
      "cell_type": "code",
      "source": [
        "TT_proteome['disorder_iupred3_binary'] = TT_proteome.disorder_iupred3.apply(binary_disorder, threshold=0.5)\n",
        "EC_proteome['disorder_iupred3_binary'] = EC_proteome.disorder_iupred3.apply(binary_disorder, threshold=0.5)"
      ],
      "metadata": {
        "id": "5buhbprzItFx"
      },
      "execution_count": 65,
      "outputs": []
    },
    {
      "cell_type": "code",
      "source": [
        "fig, axs = plt.subplots(1,2,figsize=(10,5))\n",
        "axs[0].boxplot(TT_proteome.disorder_iupred3_binary.apply(np.mean))\n",
        "axs[1].boxplot(EC_proteome.disorder_iupred3_binary.apply(np.mean))"
      ],
      "metadata": {
        "colab": {
          "base_uri": "https://localhost:8080/",
          "height": 459
        },
        "id": "NmNVx3EYItCB",
        "outputId": "e47ef3eb-51a3-4764-9072-09e3aa033ad4"
      },
      "execution_count": 76,
      "outputs": [
        {
          "output_type": "execute_result",
          "data": {
            "text/plain": [
              "{'boxes': [<matplotlib.lines.Line2D at 0x7ff79b77ca50>],\n",
              " 'caps': [<matplotlib.lines.Line2D at 0x7ff79b721210>,\n",
              "  <matplotlib.lines.Line2D at 0x7ff79b721750>],\n",
              " 'fliers': [<matplotlib.lines.Line2D at 0x7ff79b719250>],\n",
              " 'means': [],\n",
              " 'medians': [<matplotlib.lines.Line2D at 0x7ff79b721cd0>],\n",
              " 'whiskers': [<matplotlib.lines.Line2D at 0x7ff79b77cf90>,\n",
              "  <matplotlib.lines.Line2D at 0x7ff79b763790>]}"
            ]
          },
          "metadata": {},
          "execution_count": 76
        },
        {
          "output_type": "display_data",
          "data": {
            "text/plain": [
              "<Figure size 720x360 with 2 Axes>"
            ],
            "image/png": "[encoded data removed]"
          },
          "metadata": {
            "needs_background": "light"
          }
        }
      ]
    },
    {
      "cell_type": "code",
      "source": [
        "EC_proteome.disorder_iupred3_binary.apply(np.mean)"
      ],
      "metadata": {
        "colab": {
          "base_uri": "https://localhost:8080/"
        },
        "id": "EEY6vYP8Is_q",
        "outputId": "165f2dd1-5dcf-4722-bcb9-b87f42ac7759"
      },
      "execution_count": 73,
      "outputs": [
        {
          "output_type": "execute_result",
          "data": {
            "text/plain": [
              "0       0.170732\n",
              "1       0.051948\n",
              "2       0.644737\n",
              "3       0.050167\n",
              "4       0.000000\n",
              "          ...   \n",
              "4439    0.125000\n",
              "4440    0.000000\n",
              "4442    0.000000\n",
              "4444    0.000000\n",
              "4447    0.000000\n",
              "Name: disorder_iupred3_binary, Length: 4387, dtype: float64"
            ]
          },
          "metadata": {},
          "execution_count": 73
        }
      ]
    },
    {
      "cell_type": "code",
      "source": [
        ""
      ],
      "metadata": {
        "id": "Ox-erqvnIsu6"
      },
      "execution_count": null,
      "outputs": []
    },
    {
      "cell_type": "code",
      "source": [
        "fig, axs = plt.subplots(1,2,figsize=(10,5))\n",
        "axs[0].boxplot([np.median(dis) for dis in EC_proteome.disorder_iupred3])\n",
        "axs[1].boxplot([np.median(dis) for dis in TT_proteome.disorder_iupred3])"
      ],
      "metadata": {
        "colab": {
          "base_uri": "https://localhost:8080/",
          "height": 460
        },
        "id": "jpJeyBvRgzpX",
        "outputId": "4412cab3-def3-42d2-dffe-ada58081ae7c"
      },
      "execution_count": 37,
      "outputs": [
        {
          "output_type": "execute_result",
          "data": {
            "text/plain": [
              "{'boxes': [<matplotlib.lines.Line2D at 0x7ff79c193b50>],\n",
              " 'caps': [<matplotlib.lines.Line2D at 0x7ff79c10d910>,\n",
              "  <matplotlib.lines.Line2D at 0x7ff79c10d490>],\n",
              " 'fliers': [<matplotlib.lines.Line2D at 0x7ff79c605b50>],\n",
              " 'means': [],\n",
              " 'medians': [<matplotlib.lines.Line2D at 0x7ff79c6b90d0>],\n",
              " 'whiskers': [<matplotlib.lines.Line2D at 0x7ff79e4af810>,\n",
              "  <matplotlib.lines.Line2D at 0x7ff79c132dd0>]}"
            ]
          },
          "metadata": {},
          "execution_count": 37
        },
        {
          "output_type": "display_data",
          "data": {
            "text/plain": [
              "<Figure size 720x360 with 2 Axes>"
            ],
            "image/png": "[encoded data removed]"
          },
          "metadata": {
            "needs_background": "light"
          }
        }
      ]
    },
    {
      "cell_type": "code",
      "source": [
        "sns.kdeplot([np.mean(dis) for dis in EC_proteome.disorder_iupred3], color='blue')\n",
        "sns.kdeplot([np.mean(dis) for dis in TT_proteome.disorder_iupred3], color='red')"
      ],
      "metadata": {
        "colab": {
          "base_uri": "https://localhost:8080/",
          "height": 282
        },
        "id": "_hv44jxMgziM",
        "outputId": "d87ebcbf-4c20-4a13-e764-84211b2330eb"
      },
      "execution_count": 48,
      "outputs": [
        {
          "output_type": "execute_result",
          "data": {
            "text/plain": [
              "<matplotlib.axes._subplots.AxesSubplot at 0x7ff79c9729d0>"
            ]
          },
          "metadata": {},
          "execution_count": 48
        },
        {
          "output_type": "display_data",
          "data": {
            "text/plain": [
              "<Figure size 432x288 with 1 Axes>"
            ],
            "image/png": "[encoded data removed]"
          },
          "metadata": {
            "needs_background": "light"
          }
        }
      ]
    },
    {
      "cell_type": "code",
      "source": [
        ""
      ],
      "metadata": {
        "id": "4OqvYwC5wj6F"
      },
      "execution_count": null,
      "outputs": []
    },
    {
      "cell_type": "code",
      "source": [
        ""
      ],
      "metadata": {
        "id": "ciKcmIORqiNW"
      },
      "execution_count": null,
      "outputs": []
    },
    {
      "cell_type": "code",
      "source": [
        ""
      ],
      "metadata": {
        "id": "ve_S9Qk6vFsW"
      },
      "execution_count": null,
      "outputs": []
    },
    {
      "cell_type": "code",
      "source": [
        ""
      ],
      "metadata": {
        "id": "LPYmolVSvFoz"
      },
      "execution_count": null,
      "outputs": []
    },
    {
      "cell_type": "code",
      "source": [
        ""
      ],
      "metadata": {
        "id": "kMH6TGDRFHbs"
      },
      "execution_count": null,
      "outputs": []
    },
    {
      "cell_type": "code",
      "source": [
        ""
      ],
      "metadata": {
        "id": "P0SZdhpPFHYk"
      },
      "execution_count": null,
      "outputs": []
    },
    {
      "cell_type": "code",
      "source": [
        ""
      ],
      "metadata": {
        "id": "dCgFIVirFHVb"
      },
      "execution_count": null,
      "outputs": []
    },
    {
      "cell_type": "code",
      "source": [
        ""
      ],
      "metadata": {
        "id": "s-Gtf7MfFHRE"
      },
      "execution_count": null,
      "outputs": []
    },
    {
      "cell_type": "code",
      "source": [
        ""
      ],
      "metadata": {
        "id": "IjmAYR4BFHM-"
      },
      "execution_count": null,
      "outputs": []
    }
  ]
}