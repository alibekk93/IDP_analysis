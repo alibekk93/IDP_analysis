{
  "nbformat": 4,
  "nbformat_minor": 0,
  "metadata": {
    "colab": {
      "provenance": [],
      "authorship_tag": "ABX9TyPgmZ+0Zdoy4cH1S7TH5sct",
      "include_colab_link": true
    },
    "kernelspec": {
      "name": "python3",
      "display_name": "Python 3"
    },
    "language_info": {
      "name": "python"
    }
  },
  "cells": [
    {
      "cell_type": "markdown",
      "metadata": {
        "id": "view-in-github",
        "colab_type": "text"
      },
      "source": [
        "<a href=\"https://colab.research.google.com/github/alibekk93/IDP_analysis/blob/RAPID/notebooks/04_clustering_and_fIDPnn.ipynb\" target=\"_parent\"><img src=\"https://colab.research.google.com/assets/colab-badge.svg\" alt=\"Open In Colab\"/></a>"
      ]
    },
    {
      "cell_type": "markdown",
      "source": [
        "# Getting UniProt proteomes for Tempura species"
      ],
      "metadata": {
        "id": "gCrzBW06JRvI"
      }
    },
    {
      "cell_type": "markdown",
      "source": [
        "## Setup"
      ],
      "metadata": {
        "id": "W0xJmhROJXUu"
      }
    },
    {
      "cell_type": "code",
      "source": [
        "!pip install BIO\n",
        "!sudo apt install clustalw\n",
        "# !pip install toytree toyplot\n",
        "!git clone -b RAPID https://github.com/alibekk93/IDP_analysis\n",
        "!cd /content/IDP_analysis"
      ],
      "metadata": {
        "colab": {
          "base_uri": "https://localhost:8080/"
        },
        "id": "-LqXxeeZXAti",
        "outputId": "b8165cc2-a4dd-4bf8-9fd0-e9663aa80f36"
      },
      "execution_count": null,
      "outputs": [
        {
          "output_type": "stream",
          "name": "stdout",
          "text": [
            "Requirement already satisfied: BIO in /usr/local/lib/python3.10/dist-packages (1.6.0)\n",
            "Requirement already satisfied: biopython>=1.80 in /usr/local/lib/python3.10/dist-packages (from BIO) (1.81)\n",
            "Requirement already satisfied: requests in /usr/local/lib/python3.10/dist-packages (from BIO) (2.31.0)\n",
            "Requirement already satisfied: tqdm in /usr/local/lib/python3.10/dist-packages (from BIO) (4.66.1)\n",
            "Requirement already satisfied: mygene in /usr/local/lib/python3.10/dist-packages (from BIO) (3.2.2)\n",
            "Requirement already satisfied: pandas in /usr/local/lib/python3.10/dist-packages (from BIO) (1.5.3)\n",
            "Requirement already satisfied: pooch in /usr/local/lib/python3.10/dist-packages (from BIO) (1.8.0)\n",
            "Requirement already satisfied: gprofiler-official in /usr/local/lib/python3.10/dist-packages (from BIO) (1.0.0)\n",
            "Requirement already satisfied: numpy in /usr/local/lib/python3.10/dist-packages (from biopython>=1.80->BIO) (1.23.5)\n",
            "Requirement already satisfied: biothings-client>=0.2.6 in /usr/local/lib/python3.10/dist-packages (from mygene->BIO) (0.3.1)\n",
            "Requirement already satisfied: python-dateutil>=2.8.1 in /usr/local/lib/python3.10/dist-packages (from pandas->BIO) (2.8.2)\n",
            "Requirement already satisfied: pytz>=2020.1 in /usr/local/lib/python3.10/dist-packages (from pandas->BIO) (2023.3.post1)\n",
            "Requirement already satisfied: platformdirs>=2.5.0 in /usr/local/lib/python3.10/dist-packages (from pooch->BIO) (4.1.0)\n",
            "Requirement already satisfied: packaging>=20.0 in /usr/local/lib/python3.10/dist-packages (from pooch->BIO) (23.2)\n",
            "Requirement already satisfied: charset-normalizer<4,>=2 in /usr/local/lib/python3.10/dist-packages (from requests->BIO) (3.3.2)\n",
            "Requirement already satisfied: idna<4,>=2.5 in /usr/local/lib/python3.10/dist-packages (from requests->BIO) (3.6)\n",
            "Requirement already satisfied: urllib3<3,>=1.21.1 in /usr/local/lib/python3.10/dist-packages (from requests->BIO) (2.0.7)\n",
            "Requirement already satisfied: certifi>=2017.4.17 in /usr/local/lib/python3.10/dist-packages (from requests->BIO) (2023.11.17)\n",
            "Requirement already satisfied: six>=1.5 in /usr/local/lib/python3.10/dist-packages (from python-dateutil>=2.8.1->pandas->BIO) (1.16.0)\n",
            "Reading package lists... Done\n",
            "Building dependency tree... Done\n",
            "Reading state information... Done\n",
            "clustalw is already the newest version (2.1+lgpl-7).\n",
            "0 upgraded, 0 newly installed, 0 to remove and 24 not upgraded.\n",
            "Cloning into 'IDP_analysis'...\n",
            "remote: Enumerating objects: 2586, done.\u001b[K\n",
            "remote: Counting objects: 100% (1002/1002), done.\u001b[K\n",
            "remote: Compressing objects: 100% (744/744), done.\u001b[K\n",
            "remote: Total 2586 (delta 336), reused 831 (delta 254), pack-reused 1584\u001b[K\n",
            "Receiving objects: 100% (2586/2586), 2.12 GiB | 21.56 MiB/s, done.\n",
            "Resolving deltas: 100% (1128/1128), done.\n",
            "Updating files: 100% (734/734), done.\n"
          ]
        }
      ]
    },
    {
      "cell_type": "code",
      "source": [
        "from IDP_analysis.packages_import import *\n",
        "from IDP_analysis.idp_in_bacteria_functions import *"
      ],
      "metadata": {
        "id": "5AZxlNK-YbZV"
      },
      "execution_count": null,
      "outputs": []
    },
    {
      "cell_type": "code",
      "source": [
        "sns.set_theme(context='paper', style='white',  palette='colorblind')"
      ],
      "metadata": {
        "id": "6e9O71S8kgv0"
      },
      "execution_count": null,
      "outputs": []
    },
    {
      "cell_type": "markdown",
      "source": [
        "Loading Tempura dataset"
      ],
      "metadata": {
        "id": "OrTQK2xtJqDQ"
      }
    },
    {
      "cell_type": "code",
      "source": [
        "# tempura = pd.read_csv('/content/IDP_analysis/datafiles/tempura/200617_TEMPURA.csv', index_col=0)\n",
        "# tempura = pd.read_csv('/content/IDP_analysis/datafiles/tempura/tempura_bacteria_uniprot.csv', index_col=0)\n",
        "tempura = pd.read_csv('/content/IDP_analysis/datafiles/tempura/tempura_filtered.csv', index_col=0)"
      ],
      "metadata": {
        "id": "HBbhsf-WxBFD"
      },
      "execution_count": null,
      "outputs": []
    },
    {
      "cell_type": "markdown",
      "source": [
        "Only keeping bacteria with available assembly or accession numbers"
      ],
      "metadata": {
        "id": "f74pkmUeJfVT"
      }
    },
    {
      "cell_type": "code",
      "source": [
        "# tempura = tempura[tempura['superkingdom']=='Bacteria']\n",
        "# tempura.dropna(subset='assembly_or_accession', inplace=True)\n",
        "# tempura.reset_index(drop=True, inplace=True)"
      ],
      "metadata": {
        "id": "Z8qouNgexBbA"
      },
      "execution_count": null,
      "outputs": []
    },
    {
      "cell_type": "markdown",
      "source": [
        "Classifying bacteria into groups:\n",
        "1. Psychrophile: OGT <= 20\n",
        "2. Mesophile: 20 < OGT <= 40\n",
        "2. Thermophile: 40 < OGT\n",
        "\n",
        "While this may be quite liberal, some \"psychrohiles\" with OGT = 20 have *antarctica* in their species name, so it should be fair enough"
      ],
      "metadata": {
        "id": "-VBPFVr-NIO9"
      }
    },
    {
      "cell_type": "markdown",
      "source": [
        "Psychrophiles would be dropped from this version"
      ],
      "metadata": {
        "id": "OOtvl7i1BBYd"
      }
    },
    {
      "cell_type": "code",
      "source": [
        "tempura = tempura[tempura['Topt_ave'] > 20]\n",
        "tempura['group'] = ['thermophilic' if t >= 40 else 'mesophilic' for t in tempura['Topt_ave']]"
      ],
      "metadata": {
        "id": "ta_imc92bbhR"
      },
      "execution_count": null,
      "outputs": []
    },
    {
      "cell_type": "markdown",
      "source": [
        "Loading all_proteins"
      ],
      "metadata": {
        "id": "y1xM1RNNbbhR"
      }
    },
    {
      "cell_type": "code",
      "source": [
        "%cd /content/IDP_analysis/datafiles/split_files/\n",
        "!cat all_proteins.zip.001 all_proteins.zip.002 all_proteins.zip.003 > all_proteins.zip\n",
        "!unzip all_proteins.zip\n",
        "!cat all_proteins_filtered.zip.001 all_proteins_filtered.zip.002 all_proteins_filtered.zip.003 > all_proteins_filtered.zip\n",
        "!unzip all_proteins_filtered.zip\n",
        "!cat all_proteins_rapid.zip.001 all_proteins_rapid.zip.002 all_proteins_rapid.zip.003 > all_proteins_rapid.zip\n",
        "!unzip all_proteins_rapid.zip\n",
        "!cat all_proteins_types.zip.001 all_proteins_types.zip.002 all_proteins_types.zip.003 > all_proteins_types.zip\n",
        "!unzip all_proteins_types.zip\n",
        "%cd ../../.."
      ],
      "metadata": {
        "id": "Q104UtoMmb1t"
      },
      "execution_count": null,
      "outputs": []
    },
    {
      "cell_type": "code",
      "source": [
        "# all_proteins = pd.read_csv('IDP_analysis/datafiles/split_files/all_proteins.csv', index_col=0)\n",
        "# all_proteins = pd.read_csv('IDP_analysis/datafiles/split_files/all_proteins_filtered.csv', index_col=0)\n",
        "# all_proteins = pd.read_csv('IDP_analysis/datafiles/split_files/all_proteins_rapid.csv', index_col=0)\n",
        "all_proteins = pd.read_csv('IDP_analysis/datafiles/split_files/all_proteins_types.csv', index_col=0)"
      ],
      "metadata": {
        "id": "B1TuroqNbbhR"
      },
      "execution_count": null,
      "outputs": []
    },
    {
      "cell_type": "markdown",
      "source": [
        "Merging all_proteins with temura"
      ],
      "metadata": {
        "id": "2BLEvbQYbbhS"
      }
    },
    {
      "cell_type": "code",
      "source": [
        "all_proteins = all_proteins.merge(tempura, left_on='Species', right_on='genus_and_species')"
      ],
      "metadata": {
        "id": "7wzU-gA5bbhS"
      },
      "execution_count": null,
      "outputs": []
    },
    {
      "cell_type": "markdown",
      "source": [
        "setting colors"
      ],
      "metadata": {
        "id": "kAR3XqVuOJiv"
      }
    },
    {
      "cell_type": "code",
      "source": [
        "green = '#1BE434'\n",
        "red = '#E4341B'"
      ],
      "metadata": {
        "id": "ffuNn-GUOITi"
      },
      "execution_count": null,
      "outputs": []
    },
    {
      "cell_type": "markdown",
      "source": [
        "## Clustering all proteins using CD-HIT"
      ],
      "metadata": {
        "id": "o4D-THTlkIX6"
      }
    },
    {
      "cell_type": "code",
      "source": [
        "# # saving all proteins to a single fasta file\n",
        "# with open('/content/all_proteins.fasta', 'w') as fasta_file:\n",
        "#   for _, row in all_proteins_rapid.iterrows():\n",
        "#     id = row['ID']\n",
        "#     seq = row['Sequence']\n",
        "#     fasta_file.write(f'>{id}\\n{seq}\\n')"
      ],
      "metadata": {
        "id": "MrP3cpo7kNi_"
      },
      "execution_count": null,
      "outputs": []
    },
    {
      "cell_type": "markdown",
      "source": [
        "CH-HIT ran on local system using command:\n",
        "```\n",
        "cd-hit -i all_proteins.fasta -o all_proteins_70 -c 0.7\n",
        "```"
      ],
      "metadata": {
        "id": "cqY2yc1VmvrU"
      }
    },
    {
      "cell_type": "markdown",
      "source": [
        "Importing CD-HIT results"
      ],
      "metadata": {
        "id": "dk4t4yZyhqQq"
      }
    },
    {
      "cell_type": "code",
      "source": [
        "clustered_proteins_file = '/content/IDP_analysis/datafiles/CD-HIT/all_proteins_70.clstr'\n",
        "\n",
        "all_proteins['cluster'] = 0\n",
        "clusters = {}\n",
        "\n",
        "# Read the clustered proteins file and store clusters\n",
        "with open(clustered_proteins_file ,'r') as f:\n",
        "  for line in f:\n",
        "    if line.startswith('>Cluster'):\n",
        "      cluster_id = int(line.strip().split()[1])\n",
        "      clusters[cluster_id] = []\n",
        "    else:\n",
        "      protein_id = line.strip().split('>')[1].split('...')[0]\n",
        "      clusters[cluster_id].append(protein_id)"
      ],
      "metadata": {
        "id": "5G2ZHCmGkNeH"
      },
      "execution_count": null,
      "outputs": []
    },
    {
      "cell_type": "code",
      "source": [
        "protein_cluster_mapping = {cid: proteins for cid, proteins in clusters.items()}\n",
        "# Reverse cluster dictionary to have ID:cluster\n",
        "protein_cluster_mapping = {protein_id: cluster for cluster, proteins in protein_cluster_mapping.items() for protein_id in proteins}\n",
        "# Map clusters to df\n",
        "all_proteins['cluster'] = all_proteins['ID'].map(protein_cluster_mapping)"
      ],
      "metadata": {
        "id": "OWdWoaAmKejS"
      },
      "execution_count": null,
      "outputs": []
    },
    {
      "cell_type": "markdown",
      "source": [
        "We will filter to find clusters that:\n",
        "\n",
        "1. Have at least 10 different species\n",
        "2. Have at least 1 disordered protein\n",
        "\n",
        "We will call these clusters `interesting_clusters` because they are, well, interesting"
      ],
      "metadata": {
        "id": "avRdZytASCFi"
      }
    },
    {
      "cell_type": "code",
      "source": [
        "cluster_groups = all_proteins.groupby('cluster', as_index=False).agg({'candidate_idp':'max', 'Species':'nunique'})"
      ],
      "metadata": {
        "id": "veux-YI3PSs6"
      },
      "execution_count": null,
      "outputs": []
    },
    {
      "cell_type": "code",
      "source": [
        "min_cluster_size = 10\n",
        "\n",
        "interesting_cluster_ids = cluster_groups[(cluster_groups['candidate_idp']) & (cluster_groups['Species']>=min_cluster_size)]['cluster']"
      ],
      "metadata": {
        "id": "RRcMgIADPSrH"
      },
      "execution_count": null,
      "outputs": []
    },
    {
      "cell_type": "code",
      "source": [
        "len(interesting_clusters)"
      ],
      "metadata": {
        "colab": {
          "base_uri": "https://localhost:8080/"
        },
        "id": "3crf6g3ET7r6",
        "outputId": "1c71b7db-2df8-4f54-d490-e4cf6fb56d3b"
      },
      "execution_count": null,
      "outputs": [
        {
          "output_type": "execute_result",
          "data": {
            "text/plain": [
              "726"
            ]
          },
          "metadata": {},
          "execution_count": 27
        }
      ]
    },
    {
      "cell_type": "code",
      "source": [
        "interesting_clusters = all_proteins[all_proteins['cluster'].isin(interesting_cluster_ids)]\n",
        "interesting_clusters = interesting_clusters[interesting_clusters['Length'] >= 20]\n",
        "interesting_clusters.to_csv('interesting_clusters.csv')"
      ],
      "metadata": {
        "id": "kUooZZMOPSnv"
      },
      "execution_count": null,
      "outputs": []
    },
    {
      "cell_type": "markdown",
      "source": [
        "Saving all proteins from `interesting_clusters` as `fasta` to predict their disorder using **fIDPnn**\n"
      ],
      "metadata": {
        "id": "uH6xhrBxkhfQ"
      }
    },
    {
      "cell_type": "code",
      "source": [
        "# !mkdir /content/IDP_analysis/clustered_fastas/"
      ],
      "metadata": {
        "id": "8Z597iSVo8TY",
        "outputId": "8156353a-4a1b-415a-d3eb-7f03d3875ff3",
        "colab": {
          "base_uri": "https://localhost:8080/"
        }
      },
      "execution_count": null,
      "outputs": [
        {
          "output_type": "stream",
          "name": "stdout",
          "text": [
            "mkdir: cannot create directory ‘/content/IDP_analysis/clustered_fastas/’: File exists\n"
          ]
        }
      ]
    },
    {
      "cell_type": "code",
      "source": [
        "# # define the maximum sequences per file\n",
        "# max_sequences_per_file = 430\n",
        "\n",
        "# # split the DataFrame into chunks of max_sequences_per_file and save as FASTA files\n",
        "# for i, chunk in enumerate(range(0, len(disordered_clusters), max_sequences_per_file)):\n",
        "#   chunk_df = disordered_clusters.iloc[chunk:chunk + max_sequences_per_file]\n",
        "#   # create a FASTA file for the chunk\n",
        "#   fasta_file_path = f'/content/IDP_analysis/clustered_fastas/clustered_proteins_{i+1}.fasta'\n",
        "#   with open(fasta_file_path, 'w') as fasta_file:\n",
        "#     for _, row in chunk_df.iterrows():\n",
        "#       id = row['ID']\n",
        "#       seq = row['Sequence']\n",
        "#       fasta_file.write(f'>{id}\\n{seq}\\n')"
      ],
      "metadata": {
        "id": "znSaUA0Sj_In"
      },
      "execution_count": null,
      "outputs": []
    },
    {
      "cell_type": "code",
      "source": [
        "# !zip -r /content/clustered_fastas.zip /content/IDP_analysis/clustered_fastas -i '*.fasta'\n",
        "# from google.colab import files\n",
        "# files.download('/content/clustered_fastas.zip')"
      ],
      "metadata": {
        "id": "5b4Nh581j_GF",
        "outputId": "b21021ce-9d79-4367-a89a-8567a59572b4",
        "colab": {
          "base_uri": "https://localhost:8080/",
          "height": 86
        }
      },
      "execution_count": null,
      "outputs": [
        {
          "output_type": "stream",
          "name": "stdout",
          "text": [
            "  adding: content/IDP_analysis/clustered_fastas/clustered_proteins_4.fasta (deflated 59%)\n",
            "  adding: content/IDP_analysis/clustered_fastas/clustered_proteins_3.fasta (deflated 62%)\n",
            "  adding: content/IDP_analysis/clustered_fastas/clustered_proteins_2.fasta (deflated 59%)\n",
            "  adding: content/IDP_analysis/clustered_fastas/clustered_proteins_1.fasta (deflated 61%)\n"
          ]
        },
        {
          "output_type": "display_data",
          "data": {
            "text/plain": [
              "<IPython.core.display.Javascript object>"
            ],
            "application/javascript": [
              "\n",
              "    async function download(id, filename, size) {\n",
              "      if (!google.colab.kernel.accessAllowed) {\n",
              "        return;\n",
              "      }\n",
              "      const div = document.createElement('div');\n",
              "      const label = document.createElement('label');\n",
              "      label.textContent = `Downloading \"${filename}\": `;\n",
              "      div.appendChild(label);\n",
              "      const progress = document.createElement('progress');\n",
              "      progress.max = size;\n",
              "      div.appendChild(progress);\n",
              "      document.body.appendChild(div);\n",
              "\n",
              "      const buffers = [];\n",
              "      let downloaded = 0;\n",
              "\n",
              "      const channel = await google.colab.kernel.comms.open(id);\n",
              "      // Send a message to notify the kernel that we're ready.\n",
              "      channel.send({})\n",
              "\n",
              "      for await (const message of channel.messages) {\n",
              "        // Send a message to notify the kernel that we're ready.\n",
              "        channel.send({})\n",
              "        if (message.buffers) {\n",
              "          for (const buffer of message.buffers) {\n",
              "            buffers.push(buffer);\n",
              "            downloaded += buffer.byteLength;\n",
              "            progress.value = downloaded;\n",
              "          }\n",
              "        }\n",
              "      }\n",
              "      const blob = new Blob(buffers, {type: 'application/binary'});\n",
              "      const a = document.createElement('a');\n",
              "      a.href = window.URL.createObjectURL(blob);\n",
              "      a.download = filename;\n",
              "      div.appendChild(a);\n",
              "      a.click();\n",
              "      div.remove();\n",
              "    }\n",
              "  "
            ]
          },
          "metadata": {}
        },
        {
          "output_type": "display_data",
          "data": {
            "text/plain": [
              "<IPython.core.display.Javascript object>"
            ],
            "application/javascript": [
              "download(\"download_7e1a2b47-c472-4bab-88f8-36b96aafd890\", \"clustered_fastas.zip\", 127494)"
            ]
          },
          "metadata": {}
        }
      ]
    },
    {
      "cell_type": "markdown",
      "source": [
        "## Load fIDPnn results"
      ],
      "metadata": {
        "id": "Dx55dKfOrrZL"
      }
    },
    {
      "cell_type": "code",
      "source": [
        "interesting_clusters = pd.read_csv('/content/IDP_analysis/datafiles/clusters/interesting_clusters.csv', index_col=0)"
      ],
      "metadata": {
        "id": "qNLLTvIz8TZl"
      },
      "execution_count": null,
      "outputs": []
    },
    {
      "cell_type": "code",
      "source": [
        "fIDPnn_dfs = {}\n",
        "df_lines = []\n",
        "\n",
        "with open('/content/fIDPnn_ALL.csv', 'rb') as f:\n",
        "  for i, line in enumerate(tqdm(f.readlines())):\n",
        "    line_decoded = line.decode('utf-8')\n",
        "    if line_decoded[0] == '>':\n",
        "      if df_lines != []:\n",
        "        current_df = pd.DataFrame(np.array(df_lines)[1:, :], columns=np.array(df_lines)[0])\n",
        "        fIDPnn_dfs[protein_id] = current_df.apply(pd.to_numeric, errors='ignore')\n",
        "      protein_id = line_decoded[1:-1]\n",
        "      df_lines = []\n",
        "    else:\n",
        "      df_lines.append(line_decoded.strip().split(','))"
      ],
      "metadata": {
        "id": "0AgxeS3SkAkR",
        "colab": {
          "base_uri": "https://localhost:8080/"
        },
        "outputId": "27d2a251-86b9-49a0-9736-4504726172a0"
      },
      "execution_count": null,
      "outputs": [
        {
          "output_type": "stream",
          "name": "stderr",
          "text": [
            "100%|██████████| 4443230/4443230 [01:31<00:00, 48746.25it/s]\n"
          ]
        }
      ]
    },
    {
      "cell_type": "code",
      "source": [
        "len(fIDPnn_dfs)"
      ],
      "metadata": {
        "colab": {
          "base_uri": "https://localhost:8080/"
        },
        "id": "3OxE_078VmZ9",
        "outputId": "fa64fc02-d5ce-4668-e440-b90a578aa9f8"
      },
      "execution_count": null,
      "outputs": [
        {
          "output_type": "execute_result",
          "data": {
            "text/plain": [
              "13031"
            ]
          },
          "metadata": {},
          "execution_count": 165
        }
      ]
    },
    {
      "cell_type": "code",
      "source": [
        "interesting_clusters.groupby('cluster').size()"
      ],
      "metadata": {
        "colab": {
          "base_uri": "https://localhost:8080/"
        },
        "id": "gElYayPuV6I8",
        "outputId": "50c7310b-d6f6-42b5-d0da-d5160bb23e17"
      },
      "execution_count": null,
      "outputs": [
        {
          "output_type": "execute_result",
          "data": {
            "text/plain": [
              "cluster\n",
              "508.0       18\n",
              "2834.0      11\n",
              "2865.0      11\n",
              "3668.0      11\n",
              "3937.0      11\n",
              "            ..\n",
              "946899.0    38\n",
              "946903.0    16\n",
              "946977.0    13\n",
              "947413.0    35\n",
              "948341.0    17\n",
              "Length: 616, dtype: int64"
            ]
          },
          "metadata": {},
          "execution_count": 166
        }
      ]
    },
    {
      "cell_type": "code",
      "source": [
        "fIDPnn_disorder_list = []\n",
        "failures = []\n",
        "interesting_clusters_fIDPnn = interesting_clusters.copy()\n",
        "\n",
        "for id in tqdm(interesting_clusters['ID']):\n",
        "  try:\n",
        "    fIDPnn_disorder_list.append(fIDPnn_dfs[id]['Predicted Score for Disorder'])\n",
        "  except:\n",
        "    fIDPnn_disorder_list.append(None)\n",
        "    failures.append(id)\n",
        "\n",
        "interesting_clusters['fIDPnn_disorder'] = fIDPnn_disorder_list"
      ],
      "metadata": {
        "colab": {
          "base_uri": "https://localhost:8080/"
        },
        "id": "FqoEk4hbg3Wk",
        "outputId": "f7202bd9-6b2c-4a4a-b544-73c590c4e0e4"
      },
      "execution_count": null,
      "outputs": [
        {
          "output_type": "stream",
          "name": "stderr",
          "text": [
            "100%|██████████| 11476/11476 [00:00<00:00, 68708.34it/s]\n"
          ]
        }
      ]
    },
    {
      "cell_type": "code",
      "source": [
        "failures"
      ],
      "metadata": {
        "colab": {
          "base_uri": "https://localhost:8080/"
        },
        "id": "OCU2jWyQKuVU",
        "outputId": "3f8e5533-1e03-439d-b931-c05210be7c47"
      },
      "execution_count": null,
      "outputs": [
        {
          "output_type": "execute_result",
          "data": {
            "text/plain": [
              "[]"
            ]
          },
          "metadata": {},
          "execution_count": 206
        }
      ]
    },
    {
      "cell_type": "code",
      "source": [
        "interesting_clusters_fIDPnn.to_pickle('/content/IDP_analysis/IDP_analysis/datafiles/clusters/interesting_clusters_fIDPnn.pkl')"
      ],
      "metadata": {
        "id": "yuDeHcyIyLGI"
      },
      "execution_count": null,
      "outputs": []
    },
    {
      "cell_type": "code",
      "source": [
        "# files.download('/content/IDP_analysis/IDP_analysis/datafiles/clusters/interesting_clusters_fIDPnn.pkl')"
      ],
      "metadata": {
        "id": "7FPXm6YJcnVQ",
        "outputId": "355091d3-b479-463e-b1e7-0a1002d3d2bd",
        "colab": {
          "base_uri": "https://localhost:8080/",
          "height": 17
        }
      },
      "execution_count": null,
      "outputs": [
        {
          "output_type": "display_data",
          "data": {
            "text/plain": [
              "<IPython.core.display.Javascript object>"
            ],
            "application/javascript": [
              "\n",
              "    async function download(id, filename, size) {\n",
              "      if (!google.colab.kernel.accessAllowed) {\n",
              "        return;\n",
              "      }\n",
              "      const div = document.createElement('div');\n",
              "      const label = document.createElement('label');\n",
              "      label.textContent = `Downloading \"${filename}\": `;\n",
              "      div.appendChild(label);\n",
              "      const progress = document.createElement('progress');\n",
              "      progress.max = size;\n",
              "      div.appendChild(progress);\n",
              "      document.body.appendChild(div);\n",
              "\n",
              "      const buffers = [];\n",
              "      let downloaded = 0;\n",
              "\n",
              "      const channel = await google.colab.kernel.comms.open(id);\n",
              "      // Send a message to notify the kernel that we're ready.\n",
              "      channel.send({})\n",
              "\n",
              "      for await (const message of channel.messages) {\n",
              "        // Send a message to notify the kernel that we're ready.\n",
              "        channel.send({})\n",
              "        if (message.buffers) {\n",
              "          for (const buffer of message.buffers) {\n",
              "            buffers.push(buffer);\n",
              "            downloaded += buffer.byteLength;\n",
              "            progress.value = downloaded;\n",
              "          }\n",
              "        }\n",
              "      }\n",
              "      const blob = new Blob(buffers, {type: 'application/binary'});\n",
              "      const a = document.createElement('a');\n",
              "      a.href = window.URL.createObjectURL(blob);\n",
              "      a.download = filename;\n",
              "      div.appendChild(a);\n",
              "      a.click();\n",
              "      div.remove();\n",
              "    }\n",
              "  "
            ]
          },
          "metadata": {}
        },
        {
          "output_type": "display_data",
          "data": {
            "text/plain": [
              "<IPython.core.display.Javascript object>"
            ],
            "application/javascript": [
              "download(\"download_d01ebd2b-3f44-4343-a374-83761ac0b34b\", \"interesting_clusters_fIDPnn.pkl\", 40757373)"
            ]
          },
          "metadata": {}
        }
      ]
    },
    {
      "cell_type": "markdown",
      "source": [
        "## Compare RAPID and fIDPnn"
      ],
      "metadata": {
        "id": "kcLtFCO9wBwG"
      }
    },
    {
      "cell_type": "code",
      "source": [
        "interesting_clusters_fIDPnn = pd.read_pickle('/content/IDP_analysis/IDP_analysis/datafiles/clusters/interesting_clusters_fIDPnn.pkl')"
      ],
      "metadata": {
        "id": "sTNk79ypzaqn"
      },
      "execution_count": null,
      "outputs": []
    },
    {
      "cell_type": "code",
      "source": [
        "X = interesting_clusters['RAPID_disorder']\n",
        "y = [s.mean() for s in interesting_clusters['fIDPnn_disorder']]\n",
        "\n",
        "model_comparison_ols = sm.OLS(y, sm.add_constant(X)).fit()"
      ],
      "metadata": {
        "id": "tLfDIroZoYhv"
      },
      "execution_count": null,
      "outputs": []
    },
    {
      "cell_type": "code",
      "source": [
        "print(model_comparison_ols.summary())"
      ],
      "metadata": {
        "id": "vq8Qqq_PkAco",
        "colab": {
          "base_uri": "https://localhost:8080/"
        },
        "outputId": "890d69a0-2a28-43fe-a1e5-fb4ab97d11d2"
      },
      "execution_count": null,
      "outputs": [
        {
          "output_type": "stream",
          "name": "stdout",
          "text": [
            "                            OLS Regression Results                            \n",
            "==============================================================================\n",
            "Dep. Variable:                      y   R-squared:                       0.702\n",
            "Model:                            OLS   Adj. R-squared:                  0.702\n",
            "Method:                 Least Squares   F-statistic:                 2.704e+04\n",
            "Date:                Sat, 16 Dec 2023   Prob (F-statistic):               0.00\n",
            "Time:                        21:03:51   Log-Likelihood:                 10345.\n",
            "No. Observations:               11476   AIC:                        -2.069e+04\n",
            "Df Residuals:                   11474   BIC:                        -2.067e+04\n",
            "Df Model:                           1                                         \n",
            "Covariance Type:            nonrobust                                         \n",
            "==================================================================================\n",
            "                     coef    std err          t      P>|t|      [0.025      0.975]\n",
            "----------------------------------------------------------------------------------\n",
            "const              0.0402      0.001     27.576      0.000       0.037       0.043\n",
            "RAPID_disorder     0.6541      0.004    164.426      0.000       0.646       0.662\n",
            "==============================================================================\n",
            "Omnibus:                     2023.738   Durbin-Watson:                   1.826\n",
            "Prob(Omnibus):                  0.000   Jarque-Bera (JB):             6191.188\n",
            "Skew:                           0.914   Prob(JB):                         0.00\n",
            "Kurtosis:                       6.099   Cond. No.                         4.71\n",
            "==============================================================================\n",
            "\n",
            "Notes:\n",
            "[1] Standard Errors assume that the covariance matrix of the errors is correctly specified.\n"
          ]
        }
      ]
    },
    {
      "cell_type": "code",
      "source": [
        "fig, ax = plt.subplots(figsize=(8, 5))\n",
        "\n",
        "sns.scatterplot(x=X, y=y, alpha=0.05, color='black')\n",
        "ax.plot(model_comparison_ols.predict(sm.add_constant([0, 1])), color='red')\n",
        "\n",
        "plt.ylabel('fIDPnn FOD')\n",
        "plt.xlabel('RAPID FOD')\n",
        "plt.ylim(0, 1)\n",
        "plt.xlim(0, 1)\n",
        "\n",
        "plt.tight_layout()\n",
        "fig.show()\n",
        "# fig.savefig('RAPID_vs_fIDPnn.svg')"
      ],
      "metadata": {
        "id": "TeE-MbGpoYm9",
        "colab": {
          "base_uri": "https://localhost:8080/",
          "height": 508
        },
        "outputId": "62f10697-8ea7-40ed-ee95-19d12a7280b1"
      },
      "execution_count": null,
      "outputs": [
        {
          "output_type": "display_data",
          "data": {
            "text/plain": [
              "<Figure size 800x500 with 1 Axes>"
            ],
            "image/png": "[encoded data removed]"
          },
          "metadata": {}
        }
      ]
    },
    {
      "cell_type": "markdown",
      "source": [
        "RAPID seems to be an adequate model when compared with fIDPnn, even though it generally does **underpredict** disorder based on coefficient"
      ],
      "metadata": {
        "id": "IS_IMfS96dFt"
      }
    }
  ]
}