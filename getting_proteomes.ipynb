{
  "nbformat": 4,
  "nbformat_minor": 0,
  "metadata": {
    "colab": {
      "provenance": [],
      "authorship_tag": "ABX9TyNvXPolcaMskDvsm1xsoZ2K",
      "include_colab_link": true
    },
    "kernelspec": {
      "name": "python3",
      "display_name": "Python 3"
    },
    "language_info": {
      "name": "python"
    }
  },
  "cells": [
    {
      "cell_type": "markdown",
      "metadata": {
        "id": "view-in-github",
        "colab_type": "text"
      },
      "source": [
        "<a href=\"https://colab.research.google.com/github/alibekk93/IDP_analysis/blob/RAPID/getting_proteomes.ipynb\" target=\"_parent\"><img src=\"https://colab.research.google.com/assets/colab-badge.svg\" alt=\"Open In Colab\"/></a>"
      ]
    },
    {
      "cell_type": "markdown",
      "source": [
        "# Getting UniProt proteomes for Tempura species"
      ],
      "metadata": {
        "id": "gCrzBW06JRvI"
      }
    },
    {
      "cell_type": "markdown",
      "source": [
        "## Setup"
      ],
      "metadata": {
        "id": "W0xJmhROJXUu"
      }
    },
    {
      "cell_type": "code",
      "execution_count": 2,
      "metadata": {
        "id": "qwA-LYi0wMXn"
      },
      "outputs": [],
      "source": [
        "import pandas as pd\n",
        "import numpy as np\n",
        "\n",
        "from tqdm import tqdm\n",
        "\n",
        "import matplotlib.pyplot as plt\n",
        "import seaborn as sns"
      ]
    },
    {
      "cell_type": "code",
      "source": [
        "### Read fasta ###\n",
        "\n",
        "def read_fasta(fasta_file: str) -> pd.DataFrame:\n",
        "  \"\"\"Processes raw .fasta files\n",
        "\n",
        "  Opens a .fasta file, parses the sequences and their IDs into a\n",
        "  dataframe and returns the dataframe.\n",
        "\n",
        "  Parameters\n",
        "  ----------\n",
        "  fasta_file : str\n",
        "    the raw .fasta file directory.\n",
        "\n",
        "  Returns\n",
        "  -------\n",
        "  pd.DataFrame\n",
        "    a dataframe with ID, Sequence and Length columns.\n",
        "\n",
        "  \"\"\"\n",
        "\n",
        "  # open the file\n",
        "  handle = open(fasta_file, 'r')\n",
        "  seq_list = list(SeqIO.parse(handle, 'fasta'))\n",
        "  handle.close()\n",
        "\n",
        "  # parse data into lists\n",
        "  ids = [seq_record.id.split('|')[1] for seq_record in seq_list]\n",
        "  seqs = [str(seq_record.seq) for seq_record in seq_list]\n",
        "  lens = [len(seq) for seq in seqs]\n",
        "\n",
        "  # save data into a dataframe\n",
        "  df = pd.DataFrame({'ID':ids, 'Sequence':seqs, 'Length':lens})\n",
        "\n",
        "  return df"
      ],
      "metadata": {
        "id": "M5CWrRK1yd2b"
      },
      "execution_count": 3,
      "outputs": []
    },
    {
      "cell_type": "markdown",
      "source": [
        "Loading Tempura dataset"
      ],
      "metadata": {
        "id": "OrTQK2xtJqDQ"
      }
    },
    {
      "cell_type": "code",
      "source": [
        "# tempura = pd.read_csv('/content/200617_TEMPURA.csv')\n",
        "# tempura = pd.read_csv('/content/tempura_bacteria_uniprot.csv', index_col=0)\n",
        "tempura = pd.read_csv('/content/tempura_filtered.csv', index_col=0)"
      ],
      "metadata": {
        "id": "HBbhsf-WxBFD"
      },
      "execution_count": 4,
      "outputs": []
    },
    {
      "cell_type": "markdown",
      "source": [
        "Only keeping bacteria with available assembly or accession numbers"
      ],
      "metadata": {
        "id": "f74pkmUeJfVT"
      }
    },
    {
      "cell_type": "code",
      "source": [
        "# tempura = tempura[tempura['superkingdom']=='Bacteria']\n",
        "# tempura.dropna(subset='assembly_or_accession', inplace=True)\n",
        "# tempura.reset_index(drop=True, inplace=True)"
      ],
      "metadata": {
        "id": "Z8qouNgexBbA"
      },
      "execution_count": 5,
      "outputs": []
    },
    {
      "cell_type": "markdown",
      "source": [
        "Loading all_proteins"
      ],
      "metadata": {
        "id": "GWPvkryzFMaN"
      }
    },
    {
      "cell_type": "code",
      "source": [
        "# all_proteins = pd.read_csv('/content/all_proteins.csv', index_col=0)\n",
        "# all_proteins_filtered = pd.read_csv('/content/all_proteins_filtered.csv', index_col=0)\n",
        "all_proteins_rapid = pd.read_csv('/content/all_proteins_rapid.csv', index_col=0)\n",
        "all_proteins_disordered = pd.read_csv('/content/all_proteins_disordered.csv', index_col=0)\n",
        "interesting_clusters = pd.read_csv('/content/interesting_clusters.csv', index_col=0)"
      ],
      "metadata": {
        "id": "-i89P51dFOnU"
      },
      "execution_count": 124,
      "outputs": []
    },
    {
      "cell_type": "markdown",
      "source": [
        "Loading RAPID_disorder values"
      ],
      "metadata": {
        "id": "1ycexCSdJGh8"
      }
    },
    {
      "cell_type": "code",
      "source": [
        "# rapid_disorder_values = pd.read_csv('RAPID_disorder_values.csv', index_col=0)"
      ],
      "metadata": {
        "id": "9BGAYQdRJLEA"
      },
      "execution_count": 7,
      "outputs": []
    },
    {
      "cell_type": "markdown",
      "source": [
        "## Getting UniProt IDs"
      ],
      "metadata": {
        "id": "RhKK8S_2JazH"
      }
    },
    {
      "cell_type": "markdown",
      "source": [
        "Tepura has NCBI taxonomy IDs, but we need UniProt proteome IDs. We can get them using UniProt REST API search"
      ],
      "metadata": {
        "id": "eRusyqinJwYo"
      }
    },
    {
      "cell_type": "code",
      "source": [
        "uniprot_jsons = []\n",
        "failures = []\n",
        "\n",
        "# loop through the taxonomy IDs and retrieve proteome data\n",
        "for tax_id in tqdm(tempura['taxonomy_id']):\n",
        "  # define the UniProt API URL\n",
        "  url = f'https://rest.uniprot.org/proteomes/stream?format=json&query=%28%28taxonomy_id%3A{tax_id}%29%29'\n",
        "  # send an HTTP GET request to the UniProt API\n",
        "  response = requests.get(url)\n",
        "  # Check if the request was successful\n",
        "  if response.status_code == 200:\n",
        "    # save JSON\n",
        "    uniprot_jsons.append(response.json())\n",
        "  else:\n",
        "    failures.append(tax_id)\n",
        "    uniprot_jsons.append({})"
      ],
      "metadata": {
        "colab": {
          "base_uri": "https://localhost:8080/"
        },
        "id": "YUv2C0fB74hi",
        "outputId": "cde8bcff-694e-43c4-f4ea-859c06e2b47a"
      },
      "execution_count": null,
      "outputs": [
        {
          "output_type": "stream",
          "name": "stderr",
          "text": [
            "100%|██████████| 893/893 [08:24<00:00,  1.77it/s]\n"
          ]
        }
      ]
    },
    {
      "cell_type": "markdown",
      "source": [
        "In many cases we get mre than one search result for one taxonomy ID. We need to check each search result and only keep the UniProt ID that has the same taxonomy ID as Tempura"
      ],
      "metadata": {
        "id": "Mhqi7sv7KBIH"
      }
    },
    {
      "cell_type": "code",
      "source": [
        "# initiate empty list to save UniProt IDs\n",
        "uniprot_ids = []\n",
        "\n",
        "# iterate through JSON results\n",
        "for i, jsn in enumerate(uniprot_jsons):\n",
        "  # get results\n",
        "  results = jsn['results']\n",
        "  # get candidate UniProt IDs and corresponding taxonomy IDs\n",
        "  u_ids = [r['id'] for r in results]\n",
        "  t_ids = [r['taxonomy']['taxonId'] for r in results]\n",
        "  # make a dictionary of candidate IDs\n",
        "  results_dict = {k:v for k, v in zip(t_ids, u_ids)}\n",
        "  # get actual taxonomy ID\n",
        "  taxonomy_id = tempura.loc[i, 'taxonomy_id']\n",
        "  # save correct UniProt ID\n",
        "  try:\n",
        "    uniprot_ids.append(results_dict[taxonomy_id])\n",
        "  except:\n",
        "    # no correct ID found\n",
        "    uniprot_ids.append(None)"
      ],
      "metadata": {
        "id": "IfXFBMziEcq3"
      },
      "execution_count": null,
      "outputs": []
    },
    {
      "cell_type": "markdown",
      "source": [
        "We can now drop any Tempura rows with no available UniProt IDs and store the result"
      ],
      "metadata": {
        "id": "1nRNvH05KPdn"
      }
    },
    {
      "cell_type": "code",
      "source": [
        "tempura['uniprot_id'] = uniprot_ids"
      ],
      "metadata": {
        "id": "Ee6rRDqIGjXL"
      },
      "execution_count": null,
      "outputs": []
    },
    {
      "cell_type": "code",
      "source": [
        "tempura.dropna(subset='uniprot_id', inplace=True)"
      ],
      "metadata": {
        "id": "ISs1RefSGjUd"
      },
      "execution_count": null,
      "outputs": []
    },
    {
      "cell_type": "code",
      "source": [
        "tempura.reset_index(drop=True, inplace=True)"
      ],
      "metadata": {
        "id": "TC3ydi-fIc3I"
      },
      "execution_count": null,
      "outputs": []
    },
    {
      "cell_type": "code",
      "source": [
        "tempura.to_csv('tempura_bacteria_uniprot.csv')"
      ],
      "metadata": {
        "id": "R009ua3BIc09"
      },
      "execution_count": null,
      "outputs": []
    },
    {
      "cell_type": "markdown",
      "source": [
        "## Downloading UniProt proteomes"
      ],
      "metadata": {
        "id": "F2yc99UUKY7y"
      }
    },
    {
      "cell_type": "code",
      "source": [
        "!mkdir proteomes"
      ],
      "metadata": {
        "id": "4THt0_CpLwBW"
      },
      "execution_count": null,
      "outputs": []
    },
    {
      "cell_type": "code",
      "source": [
        "tempura.info()"
      ],
      "metadata": {
        "colab": {
          "base_uri": "https://localhost:8080/"
        },
        "id": "sVyK87LaIcy4",
        "outputId": "927f0ac4-9441-4025-e360-53546f963949"
      },
      "execution_count": null,
      "outputs": [
        {
          "output_type": "stream",
          "name": "stdout",
          "text": [
            "<class 'pandas.core.frame.DataFrame'>\n",
            "RangeIndex: 680 entries, 0 to 679\n",
            "Data columns (total 21 columns):\n",
            " #   Column                 Non-Null Count  Dtype  \n",
            "---  ------                 --------------  -----  \n",
            " 0   genus_and_species      680 non-null    object \n",
            " 1   taxonomy_id            680 non-null    int64  \n",
            " 2   strain                 680 non-null    object \n",
            " 3   superkingdom           680 non-null    object \n",
            " 4   phylum                 680 non-null    object \n",
            " 5   class                  678 non-null    object \n",
            " 6   order                  673 non-null    object \n",
            " 7   family                 662 non-null    object \n",
            " 8   genus                  675 non-null    object \n",
            " 9   assembly_or_accession  680 non-null    object \n",
            " 10  Genome_GC              651 non-null    float64\n",
            " 11  Genome_size            680 non-null    float64\n",
            " 12  16S_accssion           680 non-null    object \n",
            " 13  16S_GC                 680 non-null    float64\n",
            " 14  Tmin                   680 non-null    float64\n",
            " 15  Topt_ave               680 non-null    float64\n",
            " 16  Topt_low               258 non-null    float64\n",
            " 17  Topt_high              258 non-null    float64\n",
            " 18  Tmax                   680 non-null    float64\n",
            " 19  Tmax_Tmin              680 non-null    float64\n",
            " 20  uniprot_id             680 non-null    object \n",
            "dtypes: float64(9), int64(1), object(11)\n",
            "memory usage: 111.7+ KB\n"
          ]
        }
      ]
    },
    {
      "cell_type": "code",
      "source": [
        "failures = []\n",
        "\n",
        "for i in tqdm(tempura.index):\n",
        "  # make file path and get UniProt ID\n",
        "  species = tempura.loc[i, 'genus_and_species'].replace(' ', '_')\n",
        "  fasta_file_path = f'/content/proteomes/{species}.fasta'\n",
        "  id = tempura.loc[i, 'uniprot_id']\n",
        "  # define the UniProt API URL to retrieve FASTA data\n",
        "  url = f'https://rest.uniprot.org/uniprotkb/stream?format=fasta&query=%28%28proteome%3A{id}%29%29'\n",
        "  # send an HTTP GET request to the UniProt API to get FASTA data\n",
        "  response = requests.get(url)\n",
        "  # check if the request was successful\n",
        "  if response.status_code == 200:\n",
        "    # save the FASTA data to a file\n",
        "    with open(fasta_file_path, 'w') as fasta_file:\n",
        "      fasta_file.write(response.text)\n",
        "  else:\n",
        "    failures.append(id)"
      ],
      "metadata": {
        "colab": {
          "base_uri": "https://localhost:8080/"
        },
        "id": "wLhoQR5MLTNR",
        "outputId": "b22356ae-b178-4e8f-ab71-d258be86fd61"
      },
      "execution_count": null,
      "outputs": [
        {
          "output_type": "stream",
          "name": "stderr",
          "text": [
            "100%|██████████| 680/680 [56:33<00:00,  4.99s/it]\n"
          ]
        }
      ]
    },
    {
      "cell_type": "code",
      "source": [
        "failures"
      ],
      "metadata": {
        "colab": {
          "base_uri": "https://localhost:8080/"
        },
        "id": "RTXxlgftLTJ5",
        "outputId": "92cda7ed-462b-4960-97fe-e42aff9bc618"
      },
      "execution_count": null,
      "outputs": [
        {
          "output_type": "execute_result",
          "data": {
            "text/plain": [
              "[]"
            ]
          },
          "metadata": {},
          "execution_count": 166
        }
      ]
    },
    {
      "cell_type": "code",
      "source": [
        "!zip -r /content/proteomes.zip /content/proteomes -i '*.fasta'\n",
        "from google.colab import files\n",
        "files.download('/content/proteomes.zip')"
      ],
      "metadata": {
        "id": "2d0ec6lWzU5P"
      },
      "execution_count": null,
      "outputs": []
    },
    {
      "cell_type": "markdown",
      "source": [
        "## Creating a DataFrame with all sequences"
      ],
      "metadata": {
        "id": "y1SgrhJ7y4Vy"
      }
    },
    {
      "cell_type": "code",
      "source": [
        "all_proteins = pd.DataFrame(columns=['ID', 'Sequence', 'Length', 'Species'])"
      ],
      "metadata": {
        "id": "24wNr5uoy_GV"
      },
      "execution_count": null,
      "outputs": []
    },
    {
      "cell_type": "code",
      "source": [
        "for species in tqdm(tempura['genus_and_species']):\n",
        "  filename = species.replace(' ', '_') + '.fasta'\n",
        "  df = read_fasta(f'/content/proteomes/{filename}')\n",
        "  df['Species'] = species\n",
        "  all_proteins = pd.concat([all_proteins, df], ignore_index=True)"
      ],
      "metadata": {
        "colab": {
          "base_uri": "https://localhost:8080/"
        },
        "id": "aNo-CGEpwClO",
        "outputId": "752799ed-3ccc-4545-fcb4-4295e82f0182"
      },
      "execution_count": null,
      "outputs": [
        {
          "output_type": "stream",
          "name": "stderr",
          "text": [
            "100%|██████████| 680/680 [01:02<00:00, 10.87it/s]\n"
          ]
        }
      ]
    },
    {
      "cell_type": "code",
      "source": [
        "all_proteins.to_csv('all_proteins.csv')"
      ],
      "metadata": {
        "id": "av-YifuThIyl"
      },
      "execution_count": null,
      "outputs": []
    },
    {
      "cell_type": "markdown",
      "source": [
        "Filtering to only keep species with at least 1000 proteins"
      ],
      "metadata": {
        "id": "-TYts9fc1MlG"
      }
    },
    {
      "cell_type": "code",
      "source": [
        "# group the DataFrame by the 'species' column and count the number of records for each species\n",
        "species_counts = all_proteins['Species'].value_counts()\n",
        "# filter the species with more than 1000 records\n",
        "selected_species = species_counts[species_counts >= 1000].index\n",
        "# create a new DataFrame that only includes the selected species\n",
        "all_proteins_filtered = all_proteins[all_proteins['Species'].isin(selected_species)].reset_index(drop=True)"
      ],
      "metadata": {
        "id": "fJr_obyrhIwA"
      },
      "execution_count": null,
      "outputs": []
    },
    {
      "cell_type": "markdown",
      "source": [
        "Remove species that don't have 1000 records from Tempura"
      ],
      "metadata": {
        "id": "l-z2s0h38P95"
      }
    },
    {
      "cell_type": "code",
      "source": [
        "tempura = tempura[tempura['genus_and_species'].isin(selected_species)].reset_index(drop=True)"
      ],
      "metadata": {
        "id": "Isi8KdohhItV"
      },
      "execution_count": null,
      "outputs": []
    },
    {
      "cell_type": "code",
      "source": [
        "tempura.to_csv('tempura_filtered.csv')"
      ],
      "metadata": {
        "id": "yB_1pNdrGjSN"
      },
      "execution_count": null,
      "outputs": []
    },
    {
      "cell_type": "markdown",
      "source": [
        "Saving combined FASTA files for disorder calculations"
      ],
      "metadata": {
        "id": "qqW8x4sh82ZL"
      }
    },
    {
      "cell_type": "code",
      "source": [
        "!mkdir /content/combined_fastas"
      ],
      "metadata": {
        "id": "XOinz6NpNVU6"
      },
      "execution_count": null,
      "outputs": []
    },
    {
      "cell_type": "code",
      "source": [
        "# define the maximum sequences per file\n",
        "max_sequences_per_file = 75000\n",
        "\n",
        "# split the DataFrame into chunks of max_sequences_per_file and save as FASTA files\n",
        "for i, chunk in enumerate(range(0, len(all_proteins_filtered), max_sequences_per_file)):\n",
        "  chunk_df = all_proteins_filtered.iloc[chunk:chunk + max_sequences_per_file]\n",
        "  # create a FASTA file for the chunk\n",
        "  fasta_file_path = f'/content/combined_fastas/output_{i+1}.fasta'\n",
        "  with open(fasta_file_path, 'w') as fasta_file:\n",
        "    for _, row in chunk_df.iterrows():\n",
        "      id = row['ID']\n",
        "      seq = row['Sequence']\n",
        "      fasta_file.write(f'>{id}\\n{seq}\\n')"
      ],
      "metadata": {
        "id": "Zgr25_d38xA5"
      },
      "execution_count": null,
      "outputs": []
    },
    {
      "cell_type": "code",
      "source": [
        "!zip -r /content/combined_fastas.zip /content/combined_fastas -i '*.fasta'\n",
        "from google.colab import files\n",
        "files.download('/content/combined_fastas.zip')"
      ],
      "metadata": {
        "colab": {
          "base_uri": "https://localhost:8080/",
          "height": 312
        },
        "id": "xhAyELGINZpB",
        "outputId": "7104042e-0649-4dd1-dae1-0de17f4f8197"
      },
      "execution_count": null,
      "outputs": [
        {
          "output_type": "stream",
          "name": "stdout",
          "text": [
            "  adding: content/combined_fastas/output_9.fasta (deflated 43%)\n",
            "  adding: content/combined_fastas/output_12.fasta (deflated 43%)\n",
            "  adding: content/combined_fastas/output_10.fasta (deflated 43%)\n",
            "  adding: content/combined_fastas/output_4.fasta (deflated 43%)\n",
            "  adding: content/combined_fastas/output_2.fasta (deflated 43%)\n",
            "  adding: content/combined_fastas/output_5.fasta (deflated 43%)\n",
            "  adding: content/combined_fastas/output_3.fasta (deflated 43%)\n",
            "  adding: content/combined_fastas/output_8.fasta (deflated 43%)\n",
            "  adding: content/combined_fastas/output_1.fasta (deflated 43%)\n",
            "  adding: content/combined_fastas/output_6.fasta (deflated 43%)\n",
            "  adding: content/combined_fastas/output_16.fasta (deflated 43%)\n",
            "  adding: content/combined_fastas/output_7.fasta (deflated 43%)\n",
            "  adding: content/combined_fastas/output_13.fasta (deflated 43%)\n",
            "  adding: content/combined_fastas/output_17.fasta (deflated 43%)\n",
            "  adding: content/combined_fastas/output_11.fasta (deflated 43%)\n",
            "  adding: content/combined_fastas/output_15.fasta (deflated 43%)\n",
            "  adding: content/combined_fastas/output_14.fasta (deflated 43%)\n"
          ]
        },
        {
          "output_type": "display_data",
          "data": {
            "text/plain": [
              "<IPython.core.display.Javascript object>"
            ],
            "application/javascript": [
              "\n",
              "    async function download(id, filename, size) {\n",
              "      if (!google.colab.kernel.accessAllowed) {\n",
              "        return;\n",
              "      }\n",
              "      const div = document.createElement('div');\n",
              "      const label = document.createElement('label');\n",
              "      label.textContent = `Downloading \"${filename}\": `;\n",
              "      div.appendChild(label);\n",
              "      const progress = document.createElement('progress');\n",
              "      progress.max = size;\n",
              "      div.appendChild(progress);\n",
              "      document.body.appendChild(div);\n",
              "\n",
              "      const buffers = [];\n",
              "      let downloaded = 0;\n",
              "\n",
              "      const channel = await google.colab.kernel.comms.open(id);\n",
              "      // Send a message to notify the kernel that we're ready.\n",
              "      channel.send({})\n",
              "\n",
              "      for await (const message of channel.messages) {\n",
              "        // Send a message to notify the kernel that we're ready.\n",
              "        channel.send({})\n",
              "        if (message.buffers) {\n",
              "          for (const buffer of message.buffers) {\n",
              "            buffers.push(buffer);\n",
              "            downloaded += buffer.byteLength;\n",
              "            progress.value = downloaded;\n",
              "          }\n",
              "        }\n",
              "      }\n",
              "      const blob = new Blob(buffers, {type: 'application/binary'});\n",
              "      const a = document.createElement('a');\n",
              "      a.href = window.URL.createObjectURL(blob);\n",
              "      a.download = filename;\n",
              "      div.appendChild(a);\n",
              "      a.click();\n",
              "      div.remove();\n",
              "    }\n",
              "  "
            ]
          },
          "metadata": {}
        },
        {
          "output_type": "display_data",
          "data": {
            "text/plain": [
              "<IPython.core.display.Javascript object>"
            ],
            "application/javascript": [
              "download(\"download_552fd38d-0acf-4559-bb62-d3173f316719\", \"combined_fastas.zip\", 232911944)"
            ]
          },
          "metadata": {}
        }
      ]
    },
    {
      "cell_type": "markdown",
      "source": [
        "## Combining partial RAPID results and loading into all_proteins"
      ],
      "metadata": {
        "id": "n5YcoFWRFb7l"
      }
    },
    {
      "cell_type": "code",
      "source": [
        "rapid_disorder_values = pd.DataFrame(columns = ['Prot. ID', 'Disorder Content %'])"
      ],
      "metadata": {
        "id": "vZ9qVCZTGV1B"
      },
      "execution_count": null,
      "outputs": []
    },
    {
      "cell_type": "code",
      "source": [
        "# set number of csv files with partial RAPID calculation results\n",
        "n = 17\n",
        "# iterate through each file and concatenate to all_proteins_filtered\n",
        "for i in tqdm(range(n)):\n",
        "  # make filename with addition of '0' if 1-9\n",
        "  if i+1 < 10:\n",
        "    filename = f'0{i+1}.csv'\n",
        "  else:\n",
        "    filename = f'{i+1}.csv'\n",
        "  # read csv with RAPID result\n",
        "  rapid_result = pd.read_csv(filename)\n",
        "  rapid_result = rapid_result[['Prot. ID', 'Disorder Content %']]\n",
        "  # append RAPID disorder prediciton to overall dataframe\n",
        "  rapid_disorder_values = pd.concat([rapid_disorder_values, rapid_result], axis=0)"
      ],
      "metadata": {
        "id": "JTisiPs8FhoP",
        "outputId": "a2a941f0-da01-4e00-df17-a951fe581f28",
        "colab": {
          "base_uri": "https://localhost:8080/",
          "height": 425
        }
      },
      "execution_count": null,
      "outputs": [
        {
          "output_type": "stream",
          "name": "stderr",
          "text": [
            "  0%|          | 0/17 [00:00<?, ?it/s]\n"
          ]
        },
        {
          "output_type": "error",
          "ename": "FileNotFoundError",
          "evalue": "ignored",
          "traceback": [
            "\u001b[0;31m---------------------------------------------------------------------------\u001b[0m",
            "\u001b[0;31mFileNotFoundError\u001b[0m                         Traceback (most recent call last)",
            "\u001b[0;32m<ipython-input-30-da1fe66b4f87>\u001b[0m in \u001b[0;36m<cell line: 4>\u001b[0;34m()\u001b[0m\n\u001b[1;32m      9\u001b[0m     \u001b[0mfilename\u001b[0m \u001b[0;34m=\u001b[0m \u001b[0;34mf'{i+1}.csv'\u001b[0m\u001b[0;34m\u001b[0m\u001b[0;34m\u001b[0m\u001b[0m\n\u001b[1;32m     10\u001b[0m   \u001b[0;31m# read csv with RAPID result\u001b[0m\u001b[0;34m\u001b[0m\u001b[0;34m\u001b[0m\u001b[0m\n\u001b[0;32m---> 11\u001b[0;31m   \u001b[0mrapid_result\u001b[0m \u001b[0;34m=\u001b[0m \u001b[0mpd\u001b[0m\u001b[0;34m.\u001b[0m\u001b[0mread_csv\u001b[0m\u001b[0;34m(\u001b[0m\u001b[0mfilename\u001b[0m\u001b[0;34m)\u001b[0m\u001b[0;34m\u001b[0m\u001b[0;34m\u001b[0m\u001b[0m\n\u001b[0m\u001b[1;32m     12\u001b[0m   \u001b[0mrapid_result\u001b[0m \u001b[0;34m=\u001b[0m \u001b[0mrapid_result\u001b[0m\u001b[0;34m[\u001b[0m\u001b[0;34m[\u001b[0m\u001b[0;34m'Prot. ID'\u001b[0m\u001b[0;34m,\u001b[0m \u001b[0;34m'Disorder Content %'\u001b[0m\u001b[0;34m]\u001b[0m\u001b[0;34m]\u001b[0m\u001b[0;34m\u001b[0m\u001b[0;34m\u001b[0m\u001b[0m\n\u001b[1;32m     13\u001b[0m   \u001b[0;31m# append RAPID disorder prediciton to overall dataframe\u001b[0m\u001b[0;34m\u001b[0m\u001b[0;34m\u001b[0m\u001b[0m\n",
            "\u001b[0;32m/usr/local/lib/python3.10/dist-packages/pandas/util/_decorators.py\u001b[0m in \u001b[0;36mwrapper\u001b[0;34m(*args, **kwargs)\u001b[0m\n\u001b[1;32m    209\u001b[0m                 \u001b[0;32melse\u001b[0m\u001b[0;34m:\u001b[0m\u001b[0;34m\u001b[0m\u001b[0;34m\u001b[0m\u001b[0m\n\u001b[1;32m    210\u001b[0m                     \u001b[0mkwargs\u001b[0m\u001b[0;34m[\u001b[0m\u001b[0mnew_arg_name\u001b[0m\u001b[0;34m]\u001b[0m \u001b[0;34m=\u001b[0m \u001b[0mnew_arg_value\u001b[0m\u001b[0;34m\u001b[0m\u001b[0;34m\u001b[0m\u001b[0m\n\u001b[0;32m--> 211\u001b[0;31m             \u001b[0;32mreturn\u001b[0m \u001b[0mfunc\u001b[0m\u001b[0;34m(\u001b[0m\u001b[0;34m*\u001b[0m\u001b[0margs\u001b[0m\u001b[0;34m,\u001b[0m \u001b[0;34m**\u001b[0m\u001b[0mkwargs\u001b[0m\u001b[0;34m)\u001b[0m\u001b[0;34m\u001b[0m\u001b[0;34m\u001b[0m\u001b[0m\n\u001b[0m\u001b[1;32m    212\u001b[0m \u001b[0;34m\u001b[0m\u001b[0m\n\u001b[1;32m    213\u001b[0m         \u001b[0;32mreturn\u001b[0m \u001b[0mcast\u001b[0m\u001b[0;34m(\u001b[0m\u001b[0mF\u001b[0m\u001b[0;34m,\u001b[0m \u001b[0mwrapper\u001b[0m\u001b[0;34m)\u001b[0m\u001b[0;34m\u001b[0m\u001b[0;34m\u001b[0m\u001b[0m\n",
            "\u001b[0;32m/usr/local/lib/python3.10/dist-packages/pandas/util/_decorators.py\u001b[0m in \u001b[0;36mwrapper\u001b[0;34m(*args, **kwargs)\u001b[0m\n\u001b[1;32m    329\u001b[0m                     \u001b[0mstacklevel\u001b[0m\u001b[0;34m=\u001b[0m\u001b[0mfind_stack_level\u001b[0m\u001b[0;34m(\u001b[0m\u001b[0;34m)\u001b[0m\u001b[0;34m,\u001b[0m\u001b[0;34m\u001b[0m\u001b[0;34m\u001b[0m\u001b[0m\n\u001b[1;32m    330\u001b[0m                 )\n\u001b[0;32m--> 331\u001b[0;31m             \u001b[0;32mreturn\u001b[0m \u001b[0mfunc\u001b[0m\u001b[0;34m(\u001b[0m\u001b[0;34m*\u001b[0m\u001b[0margs\u001b[0m\u001b[0;34m,\u001b[0m \u001b[0;34m**\u001b[0m\u001b[0mkwargs\u001b[0m\u001b[0;34m)\u001b[0m\u001b[0;34m\u001b[0m\u001b[0;34m\u001b[0m\u001b[0m\n\u001b[0m\u001b[1;32m    332\u001b[0m \u001b[0;34m\u001b[0m\u001b[0m\n\u001b[1;32m    333\u001b[0m         \u001b[0;31m# error: \"Callable[[VarArg(Any), KwArg(Any)], Any]\" has no\u001b[0m\u001b[0;34m\u001b[0m\u001b[0;34m\u001b[0m\u001b[0m\n",
            "\u001b[0;32m/usr/local/lib/python3.10/dist-packages/pandas/io/parsers/readers.py\u001b[0m in \u001b[0;36mread_csv\u001b[0;34m(filepath_or_buffer, sep, delimiter, header, names, index_col, usecols, squeeze, prefix, mangle_dupe_cols, dtype, engine, converters, true_values, false_values, skipinitialspace, skiprows, skipfooter, nrows, na_values, keep_default_na, na_filter, verbose, skip_blank_lines, parse_dates, infer_datetime_format, keep_date_col, date_parser, dayfirst, cache_dates, iterator, chunksize, compression, thousands, decimal, lineterminator, quotechar, quoting, doublequote, escapechar, comment, encoding, encoding_errors, dialect, error_bad_lines, warn_bad_lines, on_bad_lines, delim_whitespace, low_memory, memory_map, float_precision, storage_options)\u001b[0m\n\u001b[1;32m    948\u001b[0m     \u001b[0mkwds\u001b[0m\u001b[0;34m.\u001b[0m\u001b[0mupdate\u001b[0m\u001b[0;34m(\u001b[0m\u001b[0mkwds_defaults\u001b[0m\u001b[0;34m)\u001b[0m\u001b[0;34m\u001b[0m\u001b[0;34m\u001b[0m\u001b[0m\n\u001b[1;32m    949\u001b[0m \u001b[0;34m\u001b[0m\u001b[0m\n\u001b[0;32m--> 950\u001b[0;31m     \u001b[0;32mreturn\u001b[0m \u001b[0m_read\u001b[0m\u001b[0;34m(\u001b[0m\u001b[0mfilepath_or_buffer\u001b[0m\u001b[0;34m,\u001b[0m \u001b[0mkwds\u001b[0m\u001b[0;34m)\u001b[0m\u001b[0;34m\u001b[0m\u001b[0;34m\u001b[0m\u001b[0m\n\u001b[0m\u001b[1;32m    951\u001b[0m \u001b[0;34m\u001b[0m\u001b[0m\n\u001b[1;32m    952\u001b[0m \u001b[0;34m\u001b[0m\u001b[0m\n",
            "\u001b[0;32m/usr/local/lib/python3.10/dist-packages/pandas/io/parsers/readers.py\u001b[0m in \u001b[0;36m_read\u001b[0;34m(filepath_or_buffer, kwds)\u001b[0m\n\u001b[1;32m    603\u001b[0m \u001b[0;34m\u001b[0m\u001b[0m\n\u001b[1;32m    604\u001b[0m     \u001b[0;31m# Create the parser.\u001b[0m\u001b[0;34m\u001b[0m\u001b[0;34m\u001b[0m\u001b[0m\n\u001b[0;32m--> 605\u001b[0;31m     \u001b[0mparser\u001b[0m \u001b[0;34m=\u001b[0m \u001b[0mTextFileReader\u001b[0m\u001b[0;34m(\u001b[0m\u001b[0mfilepath_or_buffer\u001b[0m\u001b[0;34m,\u001b[0m \u001b[0;34m**\u001b[0m\u001b[0mkwds\u001b[0m\u001b[0;34m)\u001b[0m\u001b[0;34m\u001b[0m\u001b[0;34m\u001b[0m\u001b[0m\n\u001b[0m\u001b[1;32m    606\u001b[0m \u001b[0;34m\u001b[0m\u001b[0m\n\u001b[1;32m    607\u001b[0m     \u001b[0;32mif\u001b[0m \u001b[0mchunksize\u001b[0m \u001b[0;32mor\u001b[0m \u001b[0miterator\u001b[0m\u001b[0;34m:\u001b[0m\u001b[0;34m\u001b[0m\u001b[0;34m\u001b[0m\u001b[0m\n",
            "\u001b[0;32m/usr/local/lib/python3.10/dist-packages/pandas/io/parsers/readers.py\u001b[0m in \u001b[0;36m__init__\u001b[0;34m(self, f, engine, **kwds)\u001b[0m\n\u001b[1;32m   1440\u001b[0m \u001b[0;34m\u001b[0m\u001b[0m\n\u001b[1;32m   1441\u001b[0m         \u001b[0mself\u001b[0m\u001b[0;34m.\u001b[0m\u001b[0mhandles\u001b[0m\u001b[0;34m:\u001b[0m \u001b[0mIOHandles\u001b[0m \u001b[0;34m|\u001b[0m \u001b[0;32mNone\u001b[0m \u001b[0;34m=\u001b[0m \u001b[0;32mNone\u001b[0m\u001b[0;34m\u001b[0m\u001b[0;34m\u001b[0m\u001b[0m\n\u001b[0;32m-> 1442\u001b[0;31m         \u001b[0mself\u001b[0m\u001b[0;34m.\u001b[0m\u001b[0m_engine\u001b[0m \u001b[0;34m=\u001b[0m \u001b[0mself\u001b[0m\u001b[0;34m.\u001b[0m\u001b[0m_make_engine\u001b[0m\u001b[0;34m(\u001b[0m\u001b[0mf\u001b[0m\u001b[0;34m,\u001b[0m \u001b[0mself\u001b[0m\u001b[0;34m.\u001b[0m\u001b[0mengine\u001b[0m\u001b[0;34m)\u001b[0m\u001b[0;34m\u001b[0m\u001b[0;34m\u001b[0m\u001b[0m\n\u001b[0m\u001b[1;32m   1443\u001b[0m \u001b[0;34m\u001b[0m\u001b[0m\n\u001b[1;32m   1444\u001b[0m     \u001b[0;32mdef\u001b[0m \u001b[0mclose\u001b[0m\u001b[0;34m(\u001b[0m\u001b[0mself\u001b[0m\u001b[0;34m)\u001b[0m \u001b[0;34m->\u001b[0m \u001b[0;32mNone\u001b[0m\u001b[0;34m:\u001b[0m\u001b[0;34m\u001b[0m\u001b[0;34m\u001b[0m\u001b[0m\n",
            "\u001b[0;32m/usr/local/lib/python3.10/dist-packages/pandas/io/parsers/readers.py\u001b[0m in \u001b[0;36m_make_engine\u001b[0;34m(self, f, engine)\u001b[0m\n\u001b[1;32m   1733\u001b[0m                 \u001b[0;32mif\u001b[0m \u001b[0;34m\"b\"\u001b[0m \u001b[0;32mnot\u001b[0m \u001b[0;32min\u001b[0m \u001b[0mmode\u001b[0m\u001b[0;34m:\u001b[0m\u001b[0;34m\u001b[0m\u001b[0;34m\u001b[0m\u001b[0m\n\u001b[1;32m   1734\u001b[0m                     \u001b[0mmode\u001b[0m \u001b[0;34m+=\u001b[0m \u001b[0;34m\"b\"\u001b[0m\u001b[0;34m\u001b[0m\u001b[0;34m\u001b[0m\u001b[0m\n\u001b[0;32m-> 1735\u001b[0;31m             self.handles = get_handle(\n\u001b[0m\u001b[1;32m   1736\u001b[0m                 \u001b[0mf\u001b[0m\u001b[0;34m,\u001b[0m\u001b[0;34m\u001b[0m\u001b[0;34m\u001b[0m\u001b[0m\n\u001b[1;32m   1737\u001b[0m                 \u001b[0mmode\u001b[0m\u001b[0;34m,\u001b[0m\u001b[0;34m\u001b[0m\u001b[0;34m\u001b[0m\u001b[0m\n",
            "\u001b[0;32m/usr/local/lib/python3.10/dist-packages/pandas/io/common.py\u001b[0m in \u001b[0;36mget_handle\u001b[0;34m(path_or_buf, mode, encoding, compression, memory_map, is_text, errors, storage_options)\u001b[0m\n\u001b[1;32m    854\u001b[0m         \u001b[0;32mif\u001b[0m \u001b[0mioargs\u001b[0m\u001b[0;34m.\u001b[0m\u001b[0mencoding\u001b[0m \u001b[0;32mand\u001b[0m \u001b[0;34m\"b\"\u001b[0m \u001b[0;32mnot\u001b[0m \u001b[0;32min\u001b[0m \u001b[0mioargs\u001b[0m\u001b[0;34m.\u001b[0m\u001b[0mmode\u001b[0m\u001b[0;34m:\u001b[0m\u001b[0;34m\u001b[0m\u001b[0;34m\u001b[0m\u001b[0m\n\u001b[1;32m    855\u001b[0m             \u001b[0;31m# Encoding\u001b[0m\u001b[0;34m\u001b[0m\u001b[0;34m\u001b[0m\u001b[0m\n\u001b[0;32m--> 856\u001b[0;31m             handle = open(\n\u001b[0m\u001b[1;32m    857\u001b[0m                 \u001b[0mhandle\u001b[0m\u001b[0;34m,\u001b[0m\u001b[0;34m\u001b[0m\u001b[0;34m\u001b[0m\u001b[0m\n\u001b[1;32m    858\u001b[0m                 \u001b[0mioargs\u001b[0m\u001b[0;34m.\u001b[0m\u001b[0mmode\u001b[0m\u001b[0;34m,\u001b[0m\u001b[0;34m\u001b[0m\u001b[0;34m\u001b[0m\u001b[0m\n",
            "\u001b[0;31mFileNotFoundError\u001b[0m: [Errno 2] No such file or directory: '01.csv'"
          ]
        }
      ]
    },
    {
      "cell_type": "code",
      "source": [
        "rapid_disorder_values.to_csv('RAPID_disorder_values.csv')"
      ],
      "metadata": {
        "id": "CXn9ZJbgNZmt"
      },
      "execution_count": null,
      "outputs": []
    },
    {
      "cell_type": "markdown",
      "source": [
        "Appending RAPID disorder values to all_proteins_filtered"
      ],
      "metadata": {
        "id": "NdrwY57XIv8T"
      }
    },
    {
      "cell_type": "code",
      "source": [
        "rapid_disorder_values"
      ],
      "metadata": {
        "id": "fKKnYb8HK5lx"
      },
      "execution_count": null,
      "outputs": []
    },
    {
      "cell_type": "code",
      "source": [
        "all_proteins_rapid = all_proteins_filtered.join(rapid_disorder_values.set_index('Prot. ID'),\n",
        "                                                   on='ID', how='inner')"
      ],
      "metadata": {
        "id": "OI_ZUj2EI-pN"
      },
      "execution_count": null,
      "outputs": []
    },
    {
      "cell_type": "code",
      "source": [
        "all_proteins_rapid['RAPID_disorder'] = all_proteins_rapid['Disorder Content %'] / 100\n",
        "all_proteins_rapid.drop('Disorder Content %', axis=1, inplace=True)\n",
        "\n",
        "# all_proteins_rapid['RAPID_fully_disordered'] = all_proteins_rapid['RAPID_disorder'] >= 0.5\n",
        "# all_proteins_rapid['RAPID_n_disordered_residues'] = all_proteins_rapid['RAPID_disorder'] * all_proteins_rapid['Length']"
      ],
      "metadata": {
        "id": "dqhlrXOWI-mj"
      },
      "execution_count": null,
      "outputs": []
    },
    {
      "cell_type": "code",
      "source": [
        "all_proteins_rapid.to_csv('all_proteins_rapid.csv')"
      ],
      "metadata": {
        "id": "MKSh5wftI-kX"
      },
      "execution_count": null,
      "outputs": []
    },
    {
      "cell_type": "markdown",
      "source": [
        "## FCR / NCPR filtering"
      ],
      "metadata": {
        "id": "EBvQOtBDczJx"
      }
    },
    {
      "cell_type": "code",
      "source": [
        "def compute_fcr(row):\n",
        "    aa_seq = row['Sequence']\n",
        "    n = len(aa_seq)\n",
        "    f_plus = sum(aa_seq.count(char) for char in ['R', 'K', 'H']) / n # Histidine?\n",
        "    f_minus = sum(aa_seq.count(char) for char in ['D', 'E']) / n\n",
        "    ncpr = abs(f_plus - f_minus)\n",
        "    fcr = (f_plus + f_minus)\n",
        "    return pd.Series([f_plus, f_minus, ncpr, fcr])"
      ],
      "metadata": {
        "id": "KT-Rk5iFc9lc"
      },
      "execution_count": 8,
      "outputs": []
    },
    {
      "cell_type": "code",
      "source": [
        "all_proteins_rapid[['f_plus', 'f_minus', 'ncpr', 'fcr']] = all_proteins_rapid.apply(compute_fcr, axis=1)"
      ],
      "metadata": {
        "id": "MeS5Mzwnc-MU"
      },
      "execution_count": 9,
      "outputs": []
    },
    {
      "cell_type": "code",
      "source": [
        "all_proteins_rapid['idp_type'] = None"
      ],
      "metadata": {
        "id": "A-wTIUGxc-KI"
      },
      "execution_count": 10,
      "outputs": []
    },
    {
      "cell_type": "code",
      "source": [
        "all_proteins_rapid.loc[(all_proteins_rapid['fcr'] < 0.25) & (all_proteins_rapid['ncpr'] < 0.25), 'idp_type'] = 1\n",
        "all_proteins_rapid.loc[(all_proteins_rapid['fcr'] >= 0.25) & (all_proteins_rapid['fcr'] <= 0.35) &\\\n",
        "                      (all_proteins_rapid['ncpr'] <= 0.35), 'idp_type'] = 2\n",
        "all_proteins_rapid.loc[(all_proteins_rapid['fcr'] > 0.35) & (all_proteins_rapid['ncpr'] <= 0.35), 'idp_type'] = 3\n",
        "all_proteins_rapid.loc[(all_proteins_rapid['fcr'] > 0.35) & (all_proteins_rapid['ncpr'] > 0.35) &\\\n",
        "                      (all_proteins_rapid['f_minus'] > 0.35), 'idp_type'] = 4\n",
        "all_proteins_rapid.loc[(all_proteins_rapid['fcr'] > 0.35) & (all_proteins_rapid['ncpr'] > 0.35) &\\\n",
        "                      (all_proteins_rapid['f_plus'] > 0.35), 'idp_type'] = 5"
      ],
      "metadata": {
        "id": "hEiR5YUac-H3"
      },
      "execution_count": 11,
      "outputs": []
    },
    {
      "cell_type": "markdown",
      "source": [
        "Filter out \"disordered\" proteins - these are either:\n",
        "1. IDP type 3, 4 or 5\n",
        "2. RAPID_disorder >= 0.5\n",
        "3. Have at least 100 disordered residues as predicted by RAPID\n",
        "\n",
        "The last point is to include longer proteins that just have a section of IDR. RAPID does not provide disorder at residue level, so it's as good as we can get to having a filter for 30 consecutive disordered residues"
      ],
      "metadata": {
        "id": "2CJ31dekdiUq"
      }
    },
    {
      "cell_type": "code",
      "source": [
        "disordered_filter = (all_proteins_rapid['idp_type'] > 2) | \\\n",
        "                    (all_proteins_rapid['RAPID_disorder'] >= 0.5) | \\\n",
        "                    (all_proteins_rapid['RAPID_disorder'] * all_proteins_rapid['Length'] >= 100)\n",
        "all_proteins_rapid['disordered'] = disordered_filter\n",
        "all_proteins_disordered = all_proteins_rapid[disordered_filter]"
      ],
      "metadata": {
        "id": "fGuAptcxc-Ds"
      },
      "execution_count": 12,
      "outputs": []
    },
    {
      "cell_type": "code",
      "source": [
        "# all_proteins_disordered.to_csv('all_proteins_disordered.csv')"
      ],
      "metadata": {
        "id": "FjEuWskKc-Bj"
      },
      "execution_count": 13,
      "outputs": []
    },
    {
      "cell_type": "code",
      "source": [
        "# fig, ax = plt.subplots(figsize=(8,8))\n",
        "\n",
        "# sns.scatterplot(data=all_proteins_rapid, x='f_plus', y='f_minus',\n",
        "#                 hue='idp_type', palette='colorblind')\n",
        "\n",
        "# ax.set_xlim(0, 0.75)\n",
        "# ax.set_ylim(0, 0.75)\n",
        "\n",
        "# fig.show()"
      ],
      "metadata": {
        "id": "mTNBjYojj6xD"
      },
      "execution_count": 14,
      "outputs": []
    },
    {
      "cell_type": "code",
      "source": [
        "# all_proteins_disordered.groupby('idp_type').mean()"
      ],
      "metadata": {
        "id": "9v8n02Thj6vJ"
      },
      "execution_count": 15,
      "outputs": []
    },
    {
      "cell_type": "markdown",
      "source": [
        "## EDA for Overall IDP abundance ~ optimal temerature relationship"
      ],
      "metadata": {
        "id": "Dbaue63h_USL"
      }
    },
    {
      "cell_type": "code",
      "source": [
        "# fig, ax = plt.subplots(figsize=(15, 8))\n",
        "\n",
        "# sns.kdeplot(data=all_proteins_rapid[all_proteins_rapid['RAPID_fully_disordered']],\n",
        "#                 x='Length', y='RAPID_disorder', alpha=0.5, fill=True, ax=ax)\n",
        "# ax.set_xlim(0, 500)\n",
        "# fig.show()"
      ],
      "metadata": {
        "id": "RGNkxpaQ_gD0"
      },
      "execution_count": 16,
      "outputs": []
    },
    {
      "cell_type": "code",
      "source": [
        "tempura = pd.read_csv('/content/tempura_filtered.csv', index_col=0)"
      ],
      "metadata": {
        "id": "a-urGX8diIUk"
      },
      "execution_count": 17,
      "outputs": []
    },
    {
      "cell_type": "code",
      "source": [
        "species_rapid_disorder = all_proteins_rapid.groupby('Species').mean()[['RAPID_disorder']]\n",
        "tempura = tempura.join(species_rapid_disorder, how='inner', on='genus_and_species')\n",
        "\n",
        "species_rapid_idp_count = all_proteins_disordered.groupby('Species').count()[['RAPID_disorder']]\n",
        "species_rapid_idp_count.columns = ['IDP_count']\n",
        "tempura = tempura.join(species_rapid_idp_count, how='inner', on='genus_and_species')\n",
        "\n",
        "species_rapid_protein_count = all_proteins_rapid.groupby('Species').count()[['RAPID_disorder']]\n",
        "species_rapid_protein_count.columns = ['protein_count']\n",
        "tempura = tempura.join(species_rapid_protein_count, how='inner', on='genus_and_species')\n",
        "tempura['IDP_percentage'] = tempura['IDP_count'] / tempura['protein_count']"
      ],
      "metadata": {
        "id": "4rs-_UdBpOMf",
        "outputId": "2e64d163-c3c8-4064-a7b7-ae5425be8794",
        "colab": {
          "base_uri": "https://localhost:8080/"
        }
      },
      "execution_count": 18,
      "outputs": [
        {
          "output_type": "stream",
          "name": "stderr",
          "text": [
            "<ipython-input-18-1d0640aecf3f>:1: FutureWarning: The default value of numeric_only in DataFrameGroupBy.mean is deprecated. In a future version, numeric_only will default to False. Either specify numeric_only or select only columns which should be valid for the function.\n",
            "  species_rapid_disorder = all_proteins_rapid.groupby('Species').mean()[['RAPID_disorder']]\n"
          ]
        }
      ]
    },
    {
      "cell_type": "code",
      "source": [
        "fig, ax = plt.subplots(figsize=(15, 8))\n",
        "\n",
        "sns.scatterplot(data=tempura, x='Topt_ave', y='RAPID_disorder', ax=ax)\n",
        "\n",
        "fig.show()"
      ],
      "metadata": {
        "id": "ApjehU2S_fiA",
        "colab": {
          "base_uri": "https://localhost:8080/",
          "height": 0
        },
        "outputId": "bd313e5b-1c55-4fd4-ec4f-43649bb8c2b6"
      },
      "execution_count": 19,
      "outputs": [
        {
          "output_type": "display_data",
          "data": {
            "text/plain": [
              "<Figure size 1500x800 with 1 Axes>"
            ],
            "image/png": "[encoded data removed]"
          },
          "metadata": {}
        }
      ]
    },
    {
      "cell_type": "code",
      "source": [
        "fig, ax = plt.subplots(figsize=(15, 8))\n",
        "\n",
        "sns.scatterplot(data=tempura, x='Topt_ave', y='IDP_count', ax=ax)\n",
        "\n",
        "fig.show()"
      ],
      "metadata": {
        "id": "4dAw2BFiE_09",
        "colab": {
          "base_uri": "https://localhost:8080/",
          "height": 0
        },
        "outputId": "54cbdea9-96a0-4b98-b9e0-2b1b4d4201c3"
      },
      "execution_count": 20,
      "outputs": [
        {
          "output_type": "display_data",
          "data": {
            "text/plain": [
              "<Figure size 1500x800 with 1 Axes>"
            ],
            "image/png": "[encoded data removed]"
          },
          "metadata": {}
        }
      ]
    },
    {
      "cell_type": "code",
      "source": [
        "fig, ax = plt.subplots(figsize=(15, 8))\n",
        "\n",
        "sns.scatterplot(data=tempura, x='Topt_ave', y='IDP_percentage', ax=ax)\n",
        "\n",
        "fig.show()"
      ],
      "metadata": {
        "id": "5oC7DFZ_E_uF",
        "colab": {
          "base_uri": "https://localhost:8080/",
          "height": 0
        },
        "outputId": "a88a30aa-972a-4795-a9de-e91161c9ab5d"
      },
      "execution_count": 21,
      "outputs": [
        {
          "output_type": "display_data",
          "data": {
            "text/plain": [
              "<Figure size 1500x800 with 1 Axes>"
            ],
            "image/png": "[encoded data removed]"
          },
          "metadata": {}
        }
      ]
    },
    {
      "cell_type": "markdown",
      "source": [
        "## Clustering all proteins using CD-HIT"
      ],
      "metadata": {
        "id": "o4D-THTlkIX6"
      }
    },
    {
      "cell_type": "code",
      "source": [
        "# # saving all proteins to a single fasta file\n",
        "# with open('/content/all_proteins.fasta', 'w') as fasta_file:\n",
        "#   for _, row in all_proteins_rapid.iterrows():\n",
        "#     id = row['ID']\n",
        "#     seq = row['Sequence']\n",
        "#     fasta_file.write(f'>{id}\\n{seq}\\n')"
      ],
      "metadata": {
        "id": "MrP3cpo7kNi_"
      },
      "execution_count": 100,
      "outputs": []
    },
    {
      "cell_type": "markdown",
      "source": [
        "CH-HIT ran on local system using command:\n",
        "```\n",
        "cd-hit -i all_proteins.fasta -o all_proteins_70 -c 0.7\n",
        "```"
      ],
      "metadata": {
        "id": "cqY2yc1VmvrU"
      }
    },
    {
      "cell_type": "code",
      "source": [
        "# importing CD-HIT results"
      ],
      "metadata": {
        "id": "ciSiSDZ1kNgh"
      },
      "execution_count": 101,
      "outputs": []
    },
    {
      "cell_type": "code",
      "source": [
        "clustered_proteins_file = '/content/all_proteins_70.clstr'\n",
        "\n",
        "all_proteins_rapid['cluster'] = '0'\n",
        "clusters = {}\n",
        "\n",
        "# Read the clustered proteins file and store clusters\n",
        "with open(clustered_proteins_file ,'r') as f:\n",
        "  for line in f:\n",
        "    if line.startswith('>Cluster'):\n",
        "      cluster_id = line.strip().split()[1]\n",
        "      clusters[cluster_id] = []\n",
        "    else:\n",
        "      protein_id = line.strip().split('>')[1].split('...')[0]\n",
        "      clusters[cluster_id].append(protein_id)"
      ],
      "metadata": {
        "id": "5G2ZHCmGkNeH"
      },
      "execution_count": 22,
      "outputs": []
    },
    {
      "cell_type": "code",
      "source": [
        "protein_cluster_mapping = {cid: proteins for cid, proteins in clusters.items()}\n",
        "# Reverse cluster dictionary to have ID:cluster\n",
        "protein_cluster_mapping = {protein_id: cluster for cluster, proteins in protein_cluster_mapping.items() for protein_id in proteins}\n",
        "# Map clusters to df\n",
        "all_proteins_rapid['cluster'] = all_proteins_rapid['ID'].map(protein_cluster_mapping)"
      ],
      "metadata": {
        "id": "OWdWoaAmKejS"
      },
      "execution_count": 23,
      "outputs": []
    },
    {
      "cell_type": "markdown",
      "source": [
        "We will filter to find clusters that:\n",
        "\n",
        "1. Have at least 10 proteins\n",
        "2. Have at least 1 disordered protein"
      ],
      "metadata": {
        "id": "avRdZytASCFi"
      }
    },
    {
      "cell_type": "code",
      "source": [
        "cluster_groups = all_proteins_rapid.groupby('cluster').agg({'disordered':['max', 'min'], 'ID':'count'})"
      ],
      "metadata": {
        "id": "veux-YI3PSs6"
      },
      "execution_count": 24,
      "outputs": []
    },
    {
      "cell_type": "code",
      "source": [
        "min_cluster_size = 10\n",
        "\n",
        "disordered_clusters = cluster_groups[(cluster_groups['disordered']['max']) & (cluster_groups['ID']['count']>=min_cluster_size)].index\n",
        "mixed_clusters = cluster_groups[(cluster_groups['disordered']['max']) & (~cluster_groups['disordered']['min']) & \\\n",
        "                                (cluster_groups['ID']['count']>=min_cluster_size)].index"
      ],
      "metadata": {
        "id": "RRcMgIADPSrH"
      },
      "execution_count": 44,
      "outputs": []
    },
    {
      "cell_type": "code",
      "source": [
        "len(mixed_clusters)"
      ],
      "metadata": {
        "colab": {
          "base_uri": "https://localhost:8080/"
        },
        "id": "3crf6g3ET7r6",
        "outputId": "296b25fb-0696-4e12-8493-8a448dba7cdb"
      },
      "execution_count": 48,
      "outputs": [
        {
          "output_type": "execute_result",
          "data": {
            "text/plain": [
              "607"
            ]
          },
          "metadata": {},
          "execution_count": 48
        }
      ]
    },
    {
      "cell_type": "code",
      "source": [
        "interesting_clusters = all_proteins_rapid[all_proteins_rapid['cluster'].isin(mixed_clusters)]"
      ],
      "metadata": {
        "id": "kUooZZMOPSnv"
      },
      "execution_count": 52,
      "outputs": []
    },
    {
      "cell_type": "code",
      "source": [
        "# interesting_clusters.to_csv('interesting_clusters.csv')"
      ],
      "metadata": {
        "id": "YESlwCyRPSlW"
      },
      "execution_count": 54,
      "outputs": []
    },
    {
      "cell_type": "markdown",
      "source": [
        "## NEXT"
      ],
      "metadata": {
        "id": "p5uUl8AKMwA1"
      }
    },
    {
      "cell_type": "code",
      "source": [
        "interesting_clusters.groupby('cluster').std()['RAPID_disorder'].sort_values(ascending=False)[:10]"
      ],
      "metadata": {
        "colab": {
          "base_uri": "https://localhost:8080/"
        },
        "id": "INvrcRATZfA4",
        "outputId": "58a3f9fd-a0ff-4616-8361-ef0821553f2d"
      },
      "execution_count": 68,
      "outputs": [
        {
          "output_type": "stream",
          "name": "stderr",
          "text": [
            "<ipython-input-68-c9c9ae405284>:1: FutureWarning: The default value of numeric_only in DataFrameGroupBy.std is deprecated. In a future version, numeric_only will default to False. Either specify numeric_only or select only columns which should be valid for the function.\n",
            "  interesting_clusters.groupby('cluster').std()['RAPID_disorder'].sort_values(ascending=False)[:10]\n"
          ]
        },
        {
          "output_type": "execute_result",
          "data": {
            "text/plain": [
              "cluster\n",
              "207030    0.318319\n",
              "46504     0.294450\n",
              "900878    0.263818\n",
              "133217    0.254680\n",
              "316086    0.253645\n",
              "147816    0.250248\n",
              "426708    0.232290\n",
              "162959    0.223509\n",
              "849025    0.219221\n",
              "784912    0.217289\n",
              "Name: RAPID_disorder, dtype: float64"
            ]
          },
          "metadata": {},
          "execution_count": 68
        }
      ]
    },
    {
      "cell_type": "code",
      "source": [
        "def plot_cluster(cluster):\n",
        "  cluster_df = interesting_clusters[interesting_clusters['cluster']==cluster].sort_values('RAPID_disorder')\n",
        "\n",
        "  cluster_df_topt = cluster_df.join(tempura[['genus_and_species', 'Topt_ave']].set_index('genus_and_species'), on='Species')\n",
        "\n",
        "  sns.scatterplot(data=cluster_df_topt, x='Topt_ave', y='RAPID_disorder')\n",
        "  plt.show()"
      ],
      "metadata": {
        "id": "vWfLCYM4dMPg"
      },
      "execution_count": 115,
      "outputs": []
    },
    {
      "cell_type": "code",
      "source": [
        "plot_cluster('162959')"
      ],
      "metadata": {
        "id": "k-VWmGZMQ8Wv",
        "outputId": "968d5f04-e4e2-417f-cc8a-cbb818f568a7",
        "colab": {
          "base_uri": "https://localhost:8080/",
          "height": 449
        }
      },
      "execution_count": 123,
      "outputs": [
        {
          "output_type": "display_data",
          "data": {
            "text/plain": [
              "<Figure size 640x480 with 1 Axes>"
            ],
            "image/png": "[encoded data removed]"
          },
          "metadata": {}
        }
      ]
    },
    {
      "cell_type": "code",
      "source": [
        "interesting_clusters[interesting_clusters['cluster']=='133217']"
      ],
      "metadata": {
        "id": "pSZRDT2IxCFi",
        "colab": {
          "base_uri": "https://localhost:8080/",
          "height": 605
        },
        "outputId": "a394a78e-6502-490b-e124-a362bb255f1b"
      },
      "execution_count": 119,
      "outputs": [
        {
          "output_type": "execute_result",
          "data": {
            "text/plain": [
              "                 ID                                           Sequence  \\\n",
              "1166045  A0A1J1DWA0            MSEQLENMWQYAQSIADEEDLDSTPQDFSKNKYYQPEFD   \n",
              "1166053  A0A1J1DWC3           MPVSVVKKLKTIFKDIFKQVVLLLADEGLLTLKEVFYRWG   \n",
              "1166216  A0A1J1DY04  MNTNFRDYNQGQNWLYPPSIEELIPADHPVRVVNGVIEQLNLNLLI...   \n",
              "1166268  A0A1J1DYK0  MRNRLKSNEGQNRRKKRTSDVEPVFGHIKSNRNFKRFTHKGIKKAE...   \n",
              "1166576  A0A1J1E319  MWLSAQQVVDHNTIARFRSKKLKTIFKDIFKQVVLLLADEALLTLK...   \n",
              "1166642  A0A1J1E4C1  MNTNFRDYNQGQNWLFPPSIEELIPADHPVRVVNGVIEQLNLNLLI...   \n",
              "1166702  A0A1J1E579  MNTNFRDYNQQQNWLFPPSIEELIPADHPVRVVNGVIEQLNLNLLI...   \n",
              "1166748  A0A1J1E5X3  MNTNFRDYNQGQNWLFPPSIEELIPADHPVRVVNGVIEQLNLNLLI...   \n",
              "1166835  A0A1J1E879  MWLSAQQVVDHNTIVRFRSKKLKTIFKDIFKQVVLLLADEGLLTQI...   \n",
              "1166885  A0A1J1E9G1  MAGRYTFVWGNVIKTRKEKMSEQLENMWQYAQSIADEEDIDPTPQD...   \n",
              "1167042  A0A1J1EBY9  MEKNFPINLEKYQQQEQILSGRNSYSKTDPDATFMRMKEDHMLNGQ...   \n",
              "\n",
              "         Length                       Species  RAPID_disorder    f_plus  \\\n",
              "1166045      39  Ichthyobacterium seriolicida          0.8718  0.051282   \n",
              "1166053      40  Ichthyobacterium seriolicida          0.1750  0.175000   \n",
              "1166216     513  Ichthyobacterium seriolicida          0.3177  0.198830   \n",
              "1166268      63  Ichthyobacterium seriolicida          0.6508  0.349206   \n",
              "1166576     159  Ichthyobacterium seriolicida          0.3459  0.182390   \n",
              "1166642      97  Ichthyobacterium seriolicida          0.1340  0.134021   \n",
              "1166702     513  Ichthyobacterium seriolicida          0.2593  0.202729   \n",
              "1166748     178  Ichthyobacterium seriolicida          0.0899  0.151685   \n",
              "1166835      64  Ichthyobacterium seriolicida          0.1094  0.187500   \n",
              "1166885      87  Ichthyobacterium seriolicida          0.4253  0.172414   \n",
              "1167042     166  Ichthyobacterium seriolicida          0.6145  0.156627   \n",
              "\n",
              "          f_minus      ncpr       fcr idp_type  disordered cluster  \n",
              "1166045  0.256410  0.205128  0.307692        2        True  133217  \n",
              "1166053  0.100000  0.075000  0.275000        2       False  133217  \n",
              "1166216  0.116959  0.081871  0.315789        2        True  133217  \n",
              "1166268  0.079365  0.269841  0.428571        3        True  133217  \n",
              "1166576  0.138365  0.044025  0.320755        2       False  133217  \n",
              "1166642  0.103093  0.030928  0.237113        1       False  133217  \n",
              "1166702  0.116959  0.085770  0.319688        2        True  133217  \n",
              "1166748  0.112360  0.039326  0.264045        2       False  133217  \n",
              "1166835  0.078125  0.109375  0.265625        2       False  133217  \n",
              "1166885  0.149425  0.022989  0.321839        2       False  133217  \n",
              "1167042  0.138554  0.018072  0.295181        2        True  133217  "
            ],
            "text/html": [
              "\n",
              "  <div id=\"df-8c308aed-d293-41f5-aa19-765a18d65129\" class=\"colab-df-container\">\n",
              "    <div>\n",
              "<style scoped>\n",
              "    .dataframe tbody tr th:only-of-type {\n",
              "        vertical-align: middle;\n",
              "    }\n",
              "\n",
              "    .dataframe tbody tr th {\n",
              "        vertical-align: top;\n",
              "    }\n",
              "\n",
              "    .dataframe thead th {\n",
              "        text-align: right;\n",
              "    }\n",
              "</style>\n",
              "<table border=\"1\" class=\"dataframe\">\n",
              "  <thead>\n",
              "    <tr style=\"text-align: right;\">\n",
              "      <th></th>\n",
              "      <th>ID</th>\n",
              "      <th>Sequence</th>\n",
              "      <th>Length</th>\n",
              "      <th>Species</th>\n",
              "      <th>RAPID_disorder</th>\n",
              "      <th>f_plus</th>\n",
              "      <th>f_minus</th>\n",
              "      <th>ncpr</th>\n",
              "      <th>fcr</th>\n",
              "      <th>idp_type</th>\n",
              "      <th>disordered</th>\n",
              "      <th>cluster</th>\n",
              "    </tr>\n",
              "  </thead>\n",
              "  <tbody>\n",
              "    <tr>\n",
              "      <th>1166045</th>\n",
              "      <td>A0A1J1DWA0</td>\n",
              "      <td>MSEQLENMWQYAQSIADEEDLDSTPQDFSKNKYYQPEFD</td>\n",
              "      <td>39</td>\n",
              "      <td>Ichthyobacterium seriolicida</td>\n",
              "      <td>0.8718</td>\n",
              "      <td>0.051282</td>\n",
              "      <td>0.256410</td>\n",
              "      <td>0.205128</td>\n",
              "      <td>0.307692</td>\n",
              "      <td>2</td>\n",
              "      <td>True</td>\n",
              "      <td>133217</td>\n",
              "    </tr>\n",
              "    <tr>\n",
              "      <th>1166053</th>\n",
              "      <td>A0A1J1DWC3</td>\n",
              "      <td>MPVSVVKKLKTIFKDIFKQVVLLLADEGLLTLKEVFYRWG</td>\n",
              "      <td>40</td>\n",
              "      <td>Ichthyobacterium seriolicida</td>\n",
              "      <td>0.1750</td>\n",
              "      <td>0.175000</td>\n",
              "      <td>0.100000</td>\n",
              "      <td>0.075000</td>\n",
              "      <td>0.275000</td>\n",
              "      <td>2</td>\n",
              "      <td>False</td>\n",
              "      <td>133217</td>\n",
              "    </tr>\n",
              "    <tr>\n",
              "      <th>1166216</th>\n",
              "      <td>A0A1J1DY04</td>\n",
              "      <td>MNTNFRDYNQGQNWLYPPSIEELIPADHPVRVVNGVIEQLNLNLLI...</td>\n",
              "      <td>513</td>\n",
              "      <td>Ichthyobacterium seriolicida</td>\n",
              "      <td>0.3177</td>\n",
              "      <td>0.198830</td>\n",
              "      <td>0.116959</td>\n",
              "      <td>0.081871</td>\n",
              "      <td>0.315789</td>\n",
              "      <td>2</td>\n",
              "      <td>True</td>\n",
              "      <td>133217</td>\n",
              "    </tr>\n",
              "    <tr>\n",
              "      <th>1166268</th>\n",
              "      <td>A0A1J1DYK0</td>\n",
              "      <td>MRNRLKSNEGQNRRKKRTSDVEPVFGHIKSNRNFKRFTHKGIKKAE...</td>\n",
              "      <td>63</td>\n",
              "      <td>Ichthyobacterium seriolicida</td>\n",
              "      <td>0.6508</td>\n",
              "      <td>0.349206</td>\n",
              "      <td>0.079365</td>\n",
              "      <td>0.269841</td>\n",
              "      <td>0.428571</td>\n",
              "      <td>3</td>\n",
              "      <td>True</td>\n",
              "      <td>133217</td>\n",
              "    </tr>\n",
              "    <tr>\n",
              "      <th>1166576</th>\n",
              "      <td>A0A1J1E319</td>\n",
              "      <td>MWLSAQQVVDHNTIARFRSKKLKTIFKDIFKQVVLLLADEALLTLK...</td>\n",
              "      <td>159</td>\n",
              "      <td>Ichthyobacterium seriolicida</td>\n",
              "      <td>0.3459</td>\n",
              "      <td>0.182390</td>\n",
              "      <td>0.138365</td>\n",
              "      <td>0.044025</td>\n",
              "      <td>0.320755</td>\n",
              "      <td>2</td>\n",
              "      <td>False</td>\n",
              "      <td>133217</td>\n",
              "    </tr>\n",
              "    <tr>\n",
              "      <th>1166642</th>\n",
              "      <td>A0A1J1E4C1</td>\n",
              "      <td>MNTNFRDYNQGQNWLFPPSIEELIPADHPVRVVNGVIEQLNLNLLI...</td>\n",
              "      <td>97</td>\n",
              "      <td>Ichthyobacterium seriolicida</td>\n",
              "      <td>0.1340</td>\n",
              "      <td>0.134021</td>\n",
              "      <td>0.103093</td>\n",
              "      <td>0.030928</td>\n",
              "      <td>0.237113</td>\n",
              "      <td>1</td>\n",
              "      <td>False</td>\n",
              "      <td>133217</td>\n",
              "    </tr>\n",
              "    <tr>\n",
              "      <th>1166702</th>\n",
              "      <td>A0A1J1E579</td>\n",
              "      <td>MNTNFRDYNQQQNWLFPPSIEELIPADHPVRVVNGVIEQLNLNLLI...</td>\n",
              "      <td>513</td>\n",
              "      <td>Ichthyobacterium seriolicida</td>\n",
              "      <td>0.2593</td>\n",
              "      <td>0.202729</td>\n",
              "      <td>0.116959</td>\n",
              "      <td>0.085770</td>\n",
              "      <td>0.319688</td>\n",
              "      <td>2</td>\n",
              "      <td>True</td>\n",
              "      <td>133217</td>\n",
              "    </tr>\n",
              "    <tr>\n",
              "      <th>1166748</th>\n",
              "      <td>A0A1J1E5X3</td>\n",
              "      <td>MNTNFRDYNQGQNWLFPPSIEELIPADHPVRVVNGVIEQLNLNLLI...</td>\n",
              "      <td>178</td>\n",
              "      <td>Ichthyobacterium seriolicida</td>\n",
              "      <td>0.0899</td>\n",
              "      <td>0.151685</td>\n",
              "      <td>0.112360</td>\n",
              "      <td>0.039326</td>\n",
              "      <td>0.264045</td>\n",
              "      <td>2</td>\n",
              "      <td>False</td>\n",
              "      <td>133217</td>\n",
              "    </tr>\n",
              "    <tr>\n",
              "      <th>1166835</th>\n",
              "      <td>A0A1J1E879</td>\n",
              "      <td>MWLSAQQVVDHNTIVRFRSKKLKTIFKDIFKQVVLLLADEGLLTQI...</td>\n",
              "      <td>64</td>\n",
              "      <td>Ichthyobacterium seriolicida</td>\n",
              "      <td>0.1094</td>\n",
              "      <td>0.187500</td>\n",
              "      <td>0.078125</td>\n",
              "      <td>0.109375</td>\n",
              "      <td>0.265625</td>\n",
              "      <td>2</td>\n",
              "      <td>False</td>\n",
              "      <td>133217</td>\n",
              "    </tr>\n",
              "    <tr>\n",
              "      <th>1166885</th>\n",
              "      <td>A0A1J1E9G1</td>\n",
              "      <td>MAGRYTFVWGNVIKTRKEKMSEQLENMWQYAQSIADEEDIDPTPQD...</td>\n",
              "      <td>87</td>\n",
              "      <td>Ichthyobacterium seriolicida</td>\n",
              "      <td>0.4253</td>\n",
              "      <td>0.172414</td>\n",
              "      <td>0.149425</td>\n",
              "      <td>0.022989</td>\n",
              "      <td>0.321839</td>\n",
              "      <td>2</td>\n",
              "      <td>False</td>\n",
              "      <td>133217</td>\n",
              "    </tr>\n",
              "    <tr>\n",
              "      <th>1167042</th>\n",
              "      <td>A0A1J1EBY9</td>\n",
              "      <td>MEKNFPINLEKYQQQEQILSGRNSYSKTDPDATFMRMKEDHMLNGQ...</td>\n",
              "      <td>166</td>\n",
              "      <td>Ichthyobacterium seriolicida</td>\n",
              "      <td>0.6145</td>\n",
              "      <td>0.156627</td>\n",
              "      <td>0.138554</td>\n",
              "      <td>0.018072</td>\n",
              "      <td>0.295181</td>\n",
              "      <td>2</td>\n",
              "      <td>True</td>\n",
              "      <td>133217</td>\n",
              "    </tr>\n",
              "  </tbody>\n",
              "</table>\n",
              "</div>\n",
              "    <div class=\"colab-df-buttons\">\n",
              "\n",
              "  <div class=\"colab-df-container\">\n",
              "    <button class=\"colab-df-convert\" onclick=\"convertToInteractive('df-8c308aed-d293-41f5-aa19-765a18d65129')\"\n",
              "            title=\"Convert this dataframe to an interactive table.\"\n",
              "            style=\"display:none;\">\n",
              "\n",
              "  <svg xmlns=\"http://www.w3.org/2000/svg\" height=\"24px\" viewBox=\"0 -960 960 960\">\n",
              "    <path d=\"M120-120v-720h720v720H120Zm60-500h600v-160H180v160Zm220 220h160v-160H400v160Zm0 220h160v-160H400v160ZM180-400h160v-160H180v160Zm440 0h160v-160H620v160ZM180-180h160v-160H180v160Zm440 0h160v-160H620v160Z\"/>\n",
              "  </svg>\n",
              "    </button>\n",
              "\n",
              "  <style>\n",
              "    .colab-df-container {\n",
              "      display:flex;\n",
              "      gap: 12px;\n",
              "    }\n",
              "\n",
              "    .colab-df-convert {\n",
              "      background-color: #E8F0FE;\n",
              "      border: none;\n",
              "      border-radius: 50%;\n",
              "      cursor: pointer;\n",
              "      display: none;\n",
              "      fill: #1967D2;\n",
              "      height: 32px;\n",
              "      padding: 0 0 0 0;\n",
              "      width: 32px;\n",
              "    }\n",
              "\n",
              "    .colab-df-convert:hover {\n",
              "      background-color: #E2EBFA;\n",
              "      box-shadow: 0px 1px 2px rgba(60, 64, 67, 0.3), 0px 1px 3px 1px rgba(60, 64, 67, 0.15);\n",
              "      fill: #174EA6;\n",
              "    }\n",
              "\n",
              "    .colab-df-buttons div {\n",
              "      margin-bottom: 4px;\n",
              "    }\n",
              "\n",
              "    [theme=dark] .colab-df-convert {\n",
              "      background-color: #3B4455;\n",
              "      fill: #D2E3FC;\n",
              "    }\n",
              "\n",
              "    [theme=dark] .colab-df-convert:hover {\n",
              "      background-color: #434B5C;\n",
              "      box-shadow: 0px 1px 3px 1px rgba(0, 0, 0, 0.15);\n",
              "      filter: drop-shadow(0px 1px 2px rgba(0, 0, 0, 0.3));\n",
              "      fill: #FFFFFF;\n",
              "    }\n",
              "  </style>\n",
              "\n",
              "    <script>\n",
              "      const buttonEl =\n",
              "        document.querySelector('#df-8c308aed-d293-41f5-aa19-765a18d65129 button.colab-df-convert');\n",
              "      buttonEl.style.display =\n",
              "        google.colab.kernel.accessAllowed ? 'block' : 'none';\n",
              "\n",
              "      async function convertToInteractive(key) {\n",
              "        const element = document.querySelector('#df-8c308aed-d293-41f5-aa19-765a18d65129');\n",
              "        const dataTable =\n",
              "          await google.colab.kernel.invokeFunction('convertToInteractive',\n",
              "                                                    [key], {});\n",
              "        if (!dataTable) return;\n",
              "\n",
              "        const docLinkHtml = 'Like what you see? Visit the ' +\n",
              "          '<a target=\"_blank\" href=https://colab.research.google.com/notebooks/data_table.ipynb>data table notebook</a>'\n",
              "          + ' to learn more about interactive tables.';\n",
              "        element.innerHTML = '';\n",
              "        dataTable['output_type'] = 'display_data';\n",
              "        await google.colab.output.renderOutput(dataTable, element);\n",
              "        const docLink = document.createElement('div');\n",
              "        docLink.innerHTML = docLinkHtml;\n",
              "        element.appendChild(docLink);\n",
              "      }\n",
              "    </script>\n",
              "  </div>\n",
              "\n",
              "\n",
              "<div id=\"df-2d0750e5-2624-4376-a8c5-62651feac2e7\">\n",
              "  <button class=\"colab-df-quickchart\" onclick=\"quickchart('df-2d0750e5-2624-4376-a8c5-62651feac2e7')\"\n",
              "            title=\"Suggest charts\"\n",
              "            style=\"display:none;\">\n",
              "\n",
              "<svg xmlns=\"http://www.w3.org/2000/svg\" height=\"24px\"viewBox=\"0 0 24 24\"\n",
              "     width=\"24px\">\n",
              "    <g>\n",
              "        <path d=\"M19 3H5c-1.1 0-2 .9-2 2v14c0 1.1.9 2 2 2h14c1.1 0 2-.9 2-2V5c0-1.1-.9-2-2-2zM9 17H7v-7h2v7zm4 0h-2V7h2v10zm4 0h-2v-4h2v4z\"/>\n",
              "    </g>\n",
              "</svg>\n",
              "  </button>\n",
              "\n",
              "<style>\n",
              "  .colab-df-quickchart {\n",
              "      --bg-color: #E8F0FE;\n",
              "      --fill-color: #1967D2;\n",
              "      --hover-bg-color: #E2EBFA;\n",
              "      --hover-fill-color: #174EA6;\n",
              "      --disabled-fill-color: #AAA;\n",
              "      --disabled-bg-color: #DDD;\n",
              "  }\n",
              "\n",
              "  [theme=dark] .colab-df-quickchart {\n",
              "      --bg-color: #3B4455;\n",
              "      --fill-color: #D2E3FC;\n",
              "      --hover-bg-color: #434B5C;\n",
              "      --hover-fill-color: #FFFFFF;\n",
              "      --disabled-bg-color: #3B4455;\n",
              "      --disabled-fill-color: #666;\n",
              "  }\n",
              "\n",
              "  .colab-df-quickchart {\n",
              "    background-color: var(--bg-color);\n",
              "    border: none;\n",
              "    border-radius: 50%;\n",
              "    cursor: pointer;\n",
              "    display: none;\n",
              "    fill: var(--fill-color);\n",
              "    height: 32px;\n",
              "    padding: 0;\n",
              "    width: 32px;\n",
              "  }\n",
              "\n",
              "  .colab-df-quickchart:hover {\n",
              "    background-color: var(--hover-bg-color);\n",
              "    box-shadow: 0 1px 2px rgba(60, 64, 67, 0.3), 0 1px 3px 1px rgba(60, 64, 67, 0.15);\n",
              "    fill: var(--button-hover-fill-color);\n",
              "  }\n",
              "\n",
              "  .colab-df-quickchart-complete:disabled,\n",
              "  .colab-df-quickchart-complete:disabled:hover {\n",
              "    background-color: var(--disabled-bg-color);\n",
              "    fill: var(--disabled-fill-color);\n",
              "    box-shadow: none;\n",
              "  }\n",
              "\n",
              "  .colab-df-spinner {\n",
              "    border: 2px solid var(--fill-color);\n",
              "    border-color: transparent;\n",
              "    border-bottom-color: var(--fill-color);\n",
              "    animation:\n",
              "      spin 1s steps(1) infinite;\n",
              "  }\n",
              "\n",
              "  @keyframes spin {\n",
              "    0% {\n",
              "      border-color: transparent;\n",
              "      border-bottom-color: var(--fill-color);\n",
              "      border-left-color: var(--fill-color);\n",
              "    }\n",
              "    20% {\n",
              "      border-color: transparent;\n",
              "      border-left-color: var(--fill-color);\n",
              "      border-top-color: var(--fill-color);\n",
              "    }\n",
              "    30% {\n",
              "      border-color: transparent;\n",
              "      border-left-color: var(--fill-color);\n",
              "      border-top-color: var(--fill-color);\n",
              "      border-right-color: var(--fill-color);\n",
              "    }\n",
              "    40% {\n",
              "      border-color: transparent;\n",
              "      border-right-color: var(--fill-color);\n",
              "      border-top-color: var(--fill-color);\n",
              "    }\n",
              "    60% {\n",
              "      border-color: transparent;\n",
              "      border-right-color: var(--fill-color);\n",
              "    }\n",
              "    80% {\n",
              "      border-color: transparent;\n",
              "      border-right-color: var(--fill-color);\n",
              "      border-bottom-color: var(--fill-color);\n",
              "    }\n",
              "    90% {\n",
              "      border-color: transparent;\n",
              "      border-bottom-color: var(--fill-color);\n",
              "    }\n",
              "  }\n",
              "</style>\n",
              "\n",
              "  <script>\n",
              "    async function quickchart(key) {\n",
              "      const quickchartButtonEl =\n",
              "        document.querySelector('#' + key + ' button');\n",
              "      quickchartButtonEl.disabled = true;  // To prevent multiple clicks.\n",
              "      quickchartButtonEl.classList.add('colab-df-spinner');\n",
              "      try {\n",
              "        const charts = await google.colab.kernel.invokeFunction(\n",
              "            'suggestCharts', [key], {});\n",
              "      } catch (error) {\n",
              "        console.error('Error during call to suggestCharts:', error);\n",
              "      }\n",
              "      quickchartButtonEl.classList.remove('colab-df-spinner');\n",
              "      quickchartButtonEl.classList.add('colab-df-quickchart-complete');\n",
              "    }\n",
              "    (() => {\n",
              "      let quickchartButtonEl =\n",
              "        document.querySelector('#df-2d0750e5-2624-4376-a8c5-62651feac2e7 button');\n",
              "      quickchartButtonEl.style.display =\n",
              "        google.colab.kernel.accessAllowed ? 'block' : 'none';\n",
              "    })();\n",
              "  </script>\n",
              "</div>\n",
              "    </div>\n",
              "  </div>\n"
            ]
          },
          "metadata": {},
          "execution_count": 119
        }
      ]
    },
    {
      "cell_type": "code",
      "source": [],
      "metadata": {
        "id": "o8eaDqVKJmtD"
      },
      "execution_count": null,
      "outputs": []
    },
    {
      "cell_type": "code",
      "source": [],
      "metadata": {
        "id": "nTroFV-LJmqc"
      },
      "execution_count": null,
      "outputs": []
    },
    {
      "cell_type": "code",
      "source": [],
      "metadata": {
        "id": "VxbZIs6bJmoM"
      },
      "execution_count": null,
      "outputs": []
    }
  ]
}