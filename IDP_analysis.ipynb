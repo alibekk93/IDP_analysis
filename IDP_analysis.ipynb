{
  "nbformat": 4,
  "nbformat_minor": 0,
  "metadata": {
    "colab": {
      "name": "IDP_analysis.ipynb",
      "provenance": [],
      "collapsed_sections": [],
      "include_colab_link": true
    },
    "kernelspec": {
      "name": "python3",
      "display_name": "Python 3"
    },
    "language_info": {
      "name": "python"
    }
  },
  "cells": [
    {
      "cell_type": "markdown",
      "metadata": {
        "id": "view-in-github",
        "colab_type": "text"
      },
      "source": [
        "<a href=\"https://colab.research.google.com/github/alibekk93/IDP_analysis/blob/main/IDP_analysis.ipynb\" target=\"_parent\"><img src=\"https://colab.research.google.com/assets/colab-badge.svg\" alt=\"Open In Colab\"/></a>"
      ]
    },
    {
      "cell_type": "markdown",
      "source": [
        "Intrinsically disordered proteins in thermophilic bacteria"
      ],
      "metadata": {
        "id": "mPqxkKhaN417"
      }
    },
    {
      "cell_type": "code",
      "source": [
        "import urllib.request\n",
        "import json\n",
        "import matplotlib.pyplot as plt"
      ],
      "metadata": {
        "id": "RieAgZhnmmNQ"
      },
      "execution_count": 25,
      "outputs": []
    },
    {
      "cell_type": "code",
      "source": [
        "proteinID_list = ['P0AG63', 'P0ABQ4']\n",
        "\n",
        "iupredURL_list = ['http://iupred3.elte.hu/iupred3/' + proteinID + '.json' for proteinID in proteinID_list]\n",
        "\n",
        "protein_files = [urllib.request.urlretrieve(iupredURL, proteinID  + '.json') \\\n",
        "            for iupredURL, proteinID in zip(iupredURL_list, proteinID_list)]\n",
        "\n",
        "proteins = []\n",
        "\n",
        "for proteinID in proteinID_list:\n",
        "  with open('/content/{}.json'.format(proteinID), 'r') as f:\n",
        "    d = json.load(f)\n",
        "    proteins.append(d)"
      ],
      "metadata": {
        "id": "aTEIu-XAQ_z-"
      },
      "execution_count": 44,
      "outputs": []
    },
    {
      "cell_type": "code",
      "source": [
        "plt.ylim(0, 1)\n",
        "plt.plot(proteins[1]['iupred2'])"
      ],
      "metadata": {
        "id": "qyseF1xgQ_k-",
        "outputId": "abb986f7-6a3b-4350-fbaa-b43a72cd495a",
        "colab": {
          "base_uri": "https://localhost:8080/",
          "height": 286
        }
      },
      "execution_count": 46,
      "outputs": [
        {
          "output_type": "execute_result",
          "data": {
            "text/plain": [
              "[<matplotlib.lines.Line2D at 0x7f3f9e586910>]"
            ]
          },
          "metadata": {},
          "execution_count": 46
        },
        {
          "output_type": "display_data",
          "data": {
            "text/plain": [
              "<Figure size 432x288 with 1 Axes>"
            ],
            "image/png": "[encoded data removed]"
          },
          "metadata": {
            "needs_background": "light"
          }
        }
      ]
    },
    {
      "cell_type": "code",
      "source": [
        ""
      ],
      "metadata": {
        "id": "vfLpQ7Flm8KU"
      },
      "execution_count": null,
      "outputs": []
    },
    {
      "cell_type": "code",
      "source": [
        ""
      ],
      "metadata": {
        "id": "vKxIvkYRm8Ib"
      },
      "execution_count": null,
      "outputs": []
    },
    {
      "cell_type": "code",
      "source": [
        ""
      ],
      "metadata": {
        "id": "FaRfx7HWm8Dq"
      },
      "execution_count": null,
      "outputs": []
    }
  ]
}