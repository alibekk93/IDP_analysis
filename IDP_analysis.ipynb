{
  "nbformat": 4,
  "nbformat_minor": 0,
  "metadata": {
    "colab": {
      "name": "IDP_analysis.ipynb",
      "provenance": [],
      "collapsed_sections": [],
      "include_colab_link": true
    },
    "kernelspec": {
      "name": "python3",
      "display_name": "Python 3"
    },
    "language_info": {
      "name": "python"
    }
  },
  "cells": [
    {
      "cell_type": "markdown",
      "metadata": {
        "id": "view-in-github",
        "colab_type": "text"
      },
      "source": [
        "<a href=\"https://colab.research.google.com/github/alibekk93/IDP_analysis/blob/main/IDP_analysis.ipynb\" target=\"_parent\"><img src=\"https://colab.research.google.com/assets/colab-badge.svg\" alt=\"Open In Colab\"/></a>"
      ]
    },
    {
      "cell_type": "markdown",
      "source": [
        "# Intrinsically disordered proteins in thermophilic bacteria"
      ],
      "metadata": {
        "id": "mPqxkKhaN417"
      }
    },
    {
      "cell_type": "markdown",
      "source": [
        "In this notebook we go through IDR prediction of various protein datasets and compare the IDR content of these datasets"
      ],
      "metadata": {
        "id": "SqbqyAxKo9Ll"
      }
    },
    {
      "cell_type": "markdown",
      "source": [
        "## Setup"
      ],
      "metadata": {
        "id": "8k2w8vUwo9zT"
      }
    },
    {
      "cell_type": "markdown",
      "source": [
        "[Biopython](https://biopython.org/) package is used to read .fasta files and work with sequences. Other packages are used to process the data, connect with API services to predict IDR, download results, etc."
      ],
      "metadata": {
        "id": "UBQGxfuQpjVB"
      }
    },
    {
      "cell_type": "code",
      "source": [
        "# installation of Biopython\n",
        "!pip install BIO"
      ],
      "metadata": {
        "id": "Up-aE96hwSP3"
      },
      "execution_count": null,
      "outputs": []
    },
    {
      "cell_type": "code",
      "source": [
        "# Biopython\n",
        "from Bio import SeqIO\n",
        "\n",
        "# connecting with API\n",
        "import urllib.request\n",
        "import json\n",
        "\n",
        "# files uploading / dowmloading\n",
        "from google.colab import files\n",
        "import pickle\n",
        "\n",
        "# other packages\n",
        "import matplotlib.pyplot as plt\n",
        "import seaborn as sns\n",
        "import numpy as np\n",
        "import pandas as pd\n",
        "from tqdm import tqdm"
      ],
      "metadata": {
        "id": "RieAgZhnmmNQ"
      },
      "execution_count": null,
      "outputs": []
    },
    {
      "cell_type": "markdown",
      "source": [
        "## Functions"
      ],
      "metadata": {
        "id": "0mDC6_e9q7g-"
      }
    },
    {
      "cell_type": "code",
      "source": [
        "def read_fasta(fasta_file):\n",
        "  \"\"\"\n",
        "  \n",
        "  \"\"\"\n",
        "  handle = open(fasta_file, 'r')\n",
        "  seq_list = list(SeqIO.parse(handle, 'fasta'))\n",
        "  handle.close()\n",
        "\n",
        "  ids = [seq_record.id.split('|')[1] for seq_record in seq_list]\n",
        "  seqs = [str(seq_record.seq) for seq_record in seq_list]\n",
        "  lens = [len(seq) for seq in seqs]\n",
        "  df = pd.DataFrame({'ID':ids, 'Sequence':seqs, 'Length':lens})\n",
        "\n",
        "  return df"
      ],
      "metadata": {
        "id": "TZic9yeRqiT8"
      },
      "execution_count": null,
      "outputs": []
    },
    {
      "cell_type": "code",
      "source": [
        "EC_proteome = read_fasta('/content/EscherichiaColiK12_allProteins.fasta')\n",
        "TT_proteome = read_fasta('/content/ThermusThermophilusHB8_allProteins.fasta')\n",
        "\n",
        "EC_proteome = EC_proteome[EC_proteome.Length > 19]\n",
        "TT_proteome = TT_proteome[TT_proteome.Length > 19]"
      ],
      "metadata": {
        "id": "DL0trNelwfci"
      },
      "execution_count": null,
      "outputs": []
    },
    {
      "cell_type": "code",
      "source": [
        "def calculate_iupred(proteinID_list, score_only=True):\n",
        "  iupredURL_list = ['http://iupred3.elte.hu/iupred3/' + proteinID + '.json' for proteinID in proteinID_list]\n",
        "  print('Retrieving disorder values from server...')\n",
        "  protein_files = [urllib.request.urlretrieve(iupredURL, proteinID  + '.json')             for iupredURL, proteinID in zip(tqdm(iupredURL_list), proteinID_list)]\n",
        "  proteins = []\n",
        "\n",
        "  print('Unpacking json files...')\n",
        "  for proteinID in tqdm(proteinID_list):\n",
        "    with open('/content/{}.json'.format(proteinID), 'r') as f:\n",
        "      d = json.load(f)\n",
        "      if score_only == True:\n",
        "        d = d['iupred2']\n",
        "      proteins.append(d)\n",
        "  \n",
        "  return proteins"
      ],
      "metadata": {
        "id": "Lm4lDyGjqiQn"
      },
      "execution_count": null,
      "outputs": []
    },
    {
      "cell_type": "code",
      "source": [
        "TT_disorder_Iupred3 = calculate_iupred(TT_proteome.ID)"
      ],
      "metadata": {
        "id": "4UP_tKeXwveG"
      },
      "execution_count": null,
      "outputs": []
    },
    {
      "cell_type": "code",
      "source": [
        "EC_disorder_Iupred3_1 = calculate_iupred(EC_proteome.ID[:2700])"
      ],
      "metadata": {
        "id": "FyRrIEOhwngg"
      },
      "execution_count": null,
      "outputs": []
    },
    {
      "cell_type": "code",
      "source": [
        "EC_disorder_Iupred3_2 = calculate_iupred(EC_proteome.ID[2700:3882])"
      ],
      "metadata": {
        "id": "5tGw-h3SwkF4"
      },
      "execution_count": null,
      "outputs": []
    },
    {
      "cell_type": "code",
      "source": [
        "EC_disorder_Iupred3_3 = calculate_iupred(EC_proteome.ID[3882:])"
      ],
      "metadata": {
        "id": "hsIoINrQwkCq"
      },
      "execution_count": null,
      "outputs": []
    },
    {
      "cell_type": "code",
      "source": [
        "with open('TT_proteome.pkl', 'wb') as f:\n",
        "  pickle.dump(TT_disorder_Iupred3, f)\n",
        "files.download('TT_proteome.pkl')\n",
        "\n",
        "with open('EC_proteome_1.pkl', 'wb') as f:\n",
        "  pickle.dump(EC_disorder_Iupred3_1, f)\n",
        "files.download('EC_proteome_1.pkl')\n",
        "\n",
        "with open('EC_proteome_2.pkl', 'wb') as f:\n",
        "  pickle.dump(EC_disorder_Iupred3_2, f)\n",
        "files.download('EC_proteome_2.pkl')\n",
        "\n",
        "with open('EC_proteome_3.pkl', 'wb') as f:\n",
        "  pickle.dump(EC_disorder_Iupred3_3, f)\n",
        "files.download('EC_proteome_3.pkl')"
      ],
      "metadata": {
        "id": "zToReBWtwj_n"
      },
      "execution_count": null,
      "outputs": []
    },
    {
      "cell_type": "code",
      "source": [
        ""
      ],
      "metadata": {
        "id": "4OqvYwC5wj6F"
      },
      "execution_count": null,
      "outputs": []
    },
    {
      "cell_type": "code",
      "source": [
        ""
      ],
      "metadata": {
        "id": "ciKcmIORqiNW"
      },
      "execution_count": null,
      "outputs": []
    },
    {
      "cell_type": "code",
      "source": [
        "!ls -all '/content/.ipynb_checkpoints'"
      ],
      "metadata": {
        "colab": {
          "base_uri": "https://localhost:8080/"
        },
        "id": "jbNif4H-qiKy",
        "outputId": "b2072557-33c2-4c35-e637-a534084c6a61"
      },
      "execution_count": null,
      "outputs": [
        {
          "output_type": "stream",
          "name": "stdout",
          "text": [
            "total 140\n",
            "drwxr-xr-x 2 root root   4096 May 11 01:26 .\n",
            "drwxr-xr-x 1 root root 135168 May 11 01:26 ..\n"
          ]
        }
      ]
    },
    {
      "cell_type": "code",
      "source": [
        "!zip -r /content/ipynb_checkpoints.zip /content/.ipynb_checkpoints"
      ],
      "metadata": {
        "colab": {
          "base_uri": "https://localhost:8080/"
        },
        "id": "es3b7tf2qiFv",
        "outputId": "ae952ff8-e9cb-40f2-a68b-229a67c7e857"
      },
      "execution_count": null,
      "outputs": [
        {
          "output_type": "stream",
          "name": "stdout",
          "text": [
            "  adding: content/.ipynb_checkpoints/ (stored 0%)\n"
          ]
        }
      ]
    },
    {
      "cell_type": "code",
      "source": [
        "files.download('ipunb_checkpoints.zip')"
      ],
      "metadata": {
        "colab": {
          "base_uri": "https://localhost:8080/",
          "height": 288
        },
        "id": "Qnmj4WSvvFv8",
        "outputId": "c3e54489-09e3-4010-a5ad-dc3a3bf906eb"
      },
      "execution_count": null,
      "outputs": [
        {
          "output_type": "error",
          "ename": "FileNotFoundError",
          "evalue": "ignored",
          "traceback": [
            "\u001b[0;31m---------------------------------------------------------------------------\u001b[0m",
            "\u001b[0;31mFileNotFoundError\u001b[0m                         Traceback (most recent call last)",
            "\u001b[0;32m<ipython-input-24-d8c4c080fac3>\u001b[0m in \u001b[0;36m<module>\u001b[0;34m()\u001b[0m\n\u001b[0;32m----> 1\u001b[0;31m \u001b[0mfiles\u001b[0m\u001b[0;34m.\u001b[0m\u001b[0mdownload\u001b[0m\u001b[0;34m(\u001b[0m\u001b[0;34m'ipunb_checkpoints.zip'\u001b[0m\u001b[0;34m)\u001b[0m\u001b[0;34m\u001b[0m\u001b[0;34m\u001b[0m\u001b[0m\n\u001b[0m",
            "\u001b[0;32m/usr/local/lib/python3.7/dist-packages/google/colab/files.py\u001b[0m in \u001b[0;36mdownload\u001b[0;34m(filename)\u001b[0m\n\u001b[1;32m    187\u001b[0m       \u001b[0;32mraise\u001b[0m \u001b[0mOSError\u001b[0m\u001b[0;34m(\u001b[0m\u001b[0mmsg\u001b[0m\u001b[0;34m)\u001b[0m\u001b[0;34m\u001b[0m\u001b[0;34m\u001b[0m\u001b[0m\n\u001b[1;32m    188\u001b[0m     \u001b[0;32melse\u001b[0m\u001b[0;34m:\u001b[0m\u001b[0;34m\u001b[0m\u001b[0;34m\u001b[0m\u001b[0m\n\u001b[0;32m--> 189\u001b[0;31m       \u001b[0;32mraise\u001b[0m \u001b[0mFileNotFoundError\u001b[0m\u001b[0;34m(\u001b[0m\u001b[0mmsg\u001b[0m\u001b[0;34m)\u001b[0m  \u001b[0;31m# pylint: disable=undefined-variable\u001b[0m\u001b[0;34m\u001b[0m\u001b[0;34m\u001b[0m\u001b[0m\n\u001b[0m\u001b[1;32m    190\u001b[0m \u001b[0;34m\u001b[0m\u001b[0m\n\u001b[1;32m    191\u001b[0m   \u001b[0mcomm_manager\u001b[0m \u001b[0;34m=\u001b[0m \u001b[0m_IPython\u001b[0m\u001b[0;34m.\u001b[0m\u001b[0mget_ipython\u001b[0m\u001b[0;34m(\u001b[0m\u001b[0;34m)\u001b[0m\u001b[0;34m.\u001b[0m\u001b[0mkernel\u001b[0m\u001b[0;34m.\u001b[0m\u001b[0mcomm_manager\u001b[0m\u001b[0;34m\u001b[0m\u001b[0;34m\u001b[0m\u001b[0m\n",
            "\u001b[0;31mFileNotFoundError\u001b[0m: Cannot find file: ipunb_checkpoints.zip"
          ]
        }
      ]
    },
    {
      "cell_type": "code",
      "source": [
        ""
      ],
      "metadata": {
        "id": "ve_S9Qk6vFsW"
      },
      "execution_count": null,
      "outputs": []
    },
    {
      "cell_type": "code",
      "source": [
        ""
      ],
      "metadata": {
        "id": "LPYmolVSvFoz"
      },
      "execution_count": null,
      "outputs": []
    },
    {
      "cell_type": "code",
      "source": [
        "proteinID_list = ['P0AG63', 'P0DOY9']\n",
        "\n",
        "iupredURL_list = ['http://iupred3.elte.hu/iupred3/' + proteinID + '.json' for proteinID in proteinID_list]\n",
        "\n",
        "protein_files = [urllib.request.urlretrieve(iupredURL, proteinID  + '.json') \\\n",
        "            for iupredURL, proteinID in zip(iupredURL_list, proteinID_list)]\n",
        "\n",
        "proteins = []\n",
        "\n",
        "for proteinID in proteinID_list:\n",
        "  with open('/content/{}.json'.format(proteinID), 'r') as f:\n",
        "    d = json.load(f)\n",
        "    proteins.append(d)"
      ],
      "metadata": {
        "id": "aTEIu-XAQ_z-"
      },
      "execution_count": null,
      "outputs": []
    },
    {
      "cell_type": "code",
      "source": [
        "plt.subplots(figsize=(12,6))\n",
        "plt.ylim(0, 1)\n",
        "for p in proteins:\n",
        "  plt.plot(p['iupred2'])"
      ],
      "metadata": {
        "colab": {
          "base_uri": "https://localhost:8080/",
          "height": 378
        },
        "id": "qyseF1xgQ_k-",
        "outputId": "2e976f39-88f8-41d6-e3e9-1d57e7584cb6"
      },
      "execution_count": null,
      "outputs": [
        {
          "output_type": "display_data",
          "data": {
            "text/plain": [
              "<Figure size 864x432 with 1 Axes>"
            ],
            "image/png": "[encoded data removed]"
          },
          "metadata": {
            "needs_background": "light"
          }
        }
      ]
    },
    {
      "cell_type": "code",
      "source": [
        "proteins[1]['sequence']"
      ],
      "metadata": {
        "id": "D7UlbJlZDbOK",
        "outputId": "884d0208-f245-45fc-a8fb-b18302851a8b",
        "colab": {
          "base_uri": "https://localhost:8080/",
          "height": 53
        }
      },
      "execution_count": null,
      "outputs": [
        {
          "output_type": "execute_result",
          "data": {
            "text/plain": [
              "'MISLIAALAVDRVIGMENAMPWNLPADLAWFKRNTLNKPVIMGRHTWESIGRPLPGRKNIILSSQPGTDDRVTWVKSVDEAIAACGDVPEIMVIGGGRVYEQFLPKAQKLYLTHIDAEVEGDTHFPDYEPDDWESVFSEFHDADAQNSHSYCFEILERR'"
            ],
            "application/vnd.google.colaboratory.intrinsic+json": {
              "type": "string"
            }
          },
          "metadata": {},
          "execution_count": 87
        }
      ]
    },
    {
      "cell_type": "code",
      "source": [
        ""
      ],
      "metadata": {
        "id": "kMH6TGDRFHbs"
      },
      "execution_count": null,
      "outputs": []
    },
    {
      "cell_type": "code",
      "source": [
        ""
      ],
      "metadata": {
        "id": "P0SZdhpPFHYk"
      },
      "execution_count": null,
      "outputs": []
    },
    {
      "cell_type": "code",
      "source": [
        ""
      ],
      "metadata": {
        "id": "dCgFIVirFHVb"
      },
      "execution_count": null,
      "outputs": []
    },
    {
      "cell_type": "code",
      "source": [
        ""
      ],
      "metadata": {
        "id": "s-Gtf7MfFHRE"
      },
      "execution_count": null,
      "outputs": []
    },
    {
      "cell_type": "code",
      "source": [
        ""
      ],
      "metadata": {
        "id": "IjmAYR4BFHM-"
      },
      "execution_count": null,
      "outputs": []
    }
  ]
}