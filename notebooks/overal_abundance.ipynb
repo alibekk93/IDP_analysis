{
  "nbformat": 4,
  "nbformat_minor": 0,
  "metadata": {
    "colab": {
      "provenance": [],
      "authorship_tag": "ABX9TyPx4Y6fr9LGh4D3jxnajYjV",
      "include_colab_link": true
    },
    "kernelspec": {
      "name": "python3",
      "display_name": "Python 3"
    },
    "language_info": {
      "name": "python"
    }
  },
  "cells": [
    {
      "cell_type": "markdown",
      "metadata": {
        "id": "view-in-github",
        "colab_type": "text"
      },
      "source": [
        "<a href=\"https://colab.research.google.com/github/alibekk93/IDP_analysis/blob/RAPID/notebooks/overal_abundance.ipynb\" target=\"_parent\"><img src=\"https://colab.research.google.com/assets/colab-badge.svg\" alt=\"Open In Colab\"/></a>"
      ]
    },
    {
      "cell_type": "markdown",
      "source": [
        "# Getting UniProt proteomes for Tempura species"
      ],
      "metadata": {
        "id": "gCrzBW06JRvI"
      }
    },
    {
      "cell_type": "markdown",
      "source": [
        "## Setup"
      ],
      "metadata": {
        "id": "W0xJmhROJXUu"
      }
    },
    {
      "cell_type": "code",
      "source": [
        "sns.set_theme(context='paper', style='white',  palette='colorblind')"
      ],
      "metadata": {
        "id": "6e9O71S8kgv0"
      },
      "execution_count": null,
      "outputs": []
    },
    {
      "cell_type": "markdown",
      "source": [
        "Loading Tempura dataset"
      ],
      "metadata": {
        "id": "OrTQK2xtJqDQ"
      }
    },
    {
      "cell_type": "code",
      "source": [
        "# tempura = pd.read_csv('/content/IDP_analysis/datafiles/tempura/200617_TEMPURA.csv', index_col=0)\n",
        "# tempura = pd.read_csv('/content/IDP_analysis/datafiles/tempura/tempura_bacteria_uniprot.csv', index_col=0)\n",
        "tempura = pd.read_csv('/content/IDP_analysis/datafiles/tempura/tempura_filtered.csv', index_col=0)"
      ],
      "metadata": {
        "id": "HBbhsf-WxBFD"
      },
      "execution_count": null,
      "outputs": []
    },
    {
      "cell_type": "markdown",
      "source": [
        "Only keeping bacteria with available assembly or accession numbers"
      ],
      "metadata": {
        "id": "f74pkmUeJfVT"
      }
    },
    {
      "cell_type": "code",
      "source": [
        "# tempura = tempura[tempura['superkingdom']=='Bacteria']\n",
        "# tempura.dropna(subset='assembly_or_accession', inplace=True)\n",
        "# tempura.reset_index(drop=True, inplace=True)"
      ],
      "metadata": {
        "id": "Z8qouNgexBbA"
      },
      "execution_count": null,
      "outputs": []
    },
    {
      "cell_type": "markdown",
      "source": [
        "Classifying bacteria into groups:\n",
        "1. Psychrophile: OGT <= 20\n",
        "2. Mesophile: 20 < OGT <= 40\n",
        "2. Thermophile: 40 < OGT\n",
        "\n",
        "While this may be quite liberal, some \"psychrohiles\" with OGT = 20 have *antarctica* in their species name, so it should be fair enough"
      ],
      "metadata": {
        "id": "-VBPFVr-NIO9"
      }
    },
    {
      "cell_type": "code",
      "source": [
        "tempura['group'] = pd.cut(tempura['Topt_ave'], bins=[-float('inf'), 20, 40, float('inf')],\n",
        "                          labels=['psychrophilic', 'mesophilic', 'thermophilic'])"
      ],
      "metadata": {
        "id": "BtsjnG03fjjE"
      },
      "execution_count": null,
      "outputs": []
    },
    {
      "cell_type": "code",
      "source": [
        "# psychrophiles will be removed from further analysis\n",
        "tempura = tempura[tempura['group'] != 'psychrophilic']"
      ],
      "metadata": {
        "id": "S3FpTSVhu9N3"
      },
      "execution_count": null,
      "outputs": []
    },
    {
      "cell_type": "markdown",
      "source": [
        "Loading all_proteins"
      ],
      "metadata": {
        "id": "GWPvkryzFMaN"
      }
    },
    {
      "cell_type": "code",
      "source": [
        "# all_proteins = pd.read_csv('/content/all_proteins.csv', index_col=0)\n",
        "# all_proteins = pd.read_csv('/content/all_proteins_filtered.csv', index_col=0)\n",
        "# all_proteins = pd.read_csv('/content/all_proteins_rapid.csv', index_col=0)\n",
        "all_proteins = pd.read_csv('/content/all_proteins_types.csv', index_col=0)"
      ],
      "metadata": {
        "id": "-i89P51dFOnU"
      },
      "execution_count": null,
      "outputs": []
    },
    {
      "cell_type": "markdown",
      "source": [
        "Merging all_proteins with temura"
      ],
      "metadata": {
        "id": "wA9HaDCVArUJ"
      }
    },
    {
      "cell_type": "code",
      "source": [
        "all_proteins = all_proteins.merge(tempura, left_on='Species', right_on='genus_and_species')"
      ],
      "metadata": {
        "id": "a-NdcizdAuZR"
      },
      "execution_count": null,
      "outputs": []
    }
  ]
}